{
 "cells": [
  {
   "cell_type": "code",
   "execution_count": null,
   "metadata": {},
   "outputs": [],
   "source": [
    "#gradient descent 梯度下降 = 根據斜率改變參數 \n",
    "# (y-y_pred)^2 ->(y-(w*x+b))^2 因為b預設為0 -> (y-w*x)^2 ->微分後 -2x(y-w*x)  為切線斜率\n"
   ]
  }
 ],
 "metadata": {
  "language_info": {
   "name": "python"
  }
 },
 "nbformat": 4,
 "nbformat_minor": 2
}
