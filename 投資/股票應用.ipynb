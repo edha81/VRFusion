{
 "cells": [
  {
   "cell_type": "code",
   "execution_count": 1,
   "metadata": {},
   "outputs": [
    {
     "name": "stdout",
     "output_type": "stream",
     "text": [
      "Requirement already satisfied: cufflinks in c:\\users\\81\\anaconda3\\lib\\site-packages (0.17.3)\n",
      "Requirement already satisfied: setuptools>=34.4.1 in c:\\users\\81\\anaconda3\\lib\\site-packages (from cufflinks) (65.6.3)\n",
      "Requirement already satisfied: numpy>=1.9.2 in c:\\users\\81\\anaconda3\\lib\\site-packages (from cufflinks) (1.23.5)\n",
      "Requirement already satisfied: ipywidgets>=7.0.0 in c:\\users\\81\\anaconda3\\lib\\site-packages (from cufflinks) (7.6.5)\n",
      "Requirement already satisfied: ipython>=5.3.0 in c:\\users\\81\\anaconda3\\lib\\site-packages (from cufflinks) (8.10.0)\n",
      "Requirement already satisfied: six>=1.9.0 in c:\\users\\81\\anaconda3\\lib\\site-packages (from cufflinks) (1.16.0)\n",
      "Requirement already satisfied: plotly>=4.1.1 in c:\\users\\81\\anaconda3\\lib\\site-packages (from cufflinks) (5.9.0)\n",
      "Requirement already satisfied: pandas>=0.19.2 in c:\\users\\81\\anaconda3\\lib\\site-packages (from cufflinks) (1.5.3)\n",
      "Requirement already satisfied: colorlover>=0.2.1 in c:\\users\\81\\anaconda3\\lib\\site-packages (from cufflinks) (0.3.0)\n",
      "Requirement already satisfied: matplotlib-inline in c:\\users\\81\\anaconda3\\lib\\site-packages (from ipython>=5.3.0->cufflinks) (0.1.6)\n",
      "Requirement already satisfied: pygments>=2.4.0 in c:\\users\\81\\anaconda3\\lib\\site-packages (from ipython>=5.3.0->cufflinks) (2.11.2)\n",
      "Requirement already satisfied: colorama in c:\\users\\81\\anaconda3\\lib\\site-packages (from ipython>=5.3.0->cufflinks) (0.4.6)\n",
      "Requirement already satisfied: decorator in c:\\users\\81\\anaconda3\\lib\\site-packages (from ipython>=5.3.0->cufflinks) (5.1.1)\n",
      "Requirement already satisfied: backcall in c:\\users\\81\\anaconda3\\lib\\site-packages (from ipython>=5.3.0->cufflinks) (0.2.0)\n",
      "Requirement already satisfied: stack-data in c:\\users\\81\\anaconda3\\lib\\site-packages (from ipython>=5.3.0->cufflinks) (0.2.0)\n",
      "Requirement already satisfied: jedi>=0.16 in c:\\users\\81\\anaconda3\\lib\\site-packages (from ipython>=5.3.0->cufflinks) (0.18.1)\n",
      "Requirement already satisfied: prompt-toolkit<3.1.0,>=3.0.30 in c:\\users\\81\\anaconda3\\lib\\site-packages (from ipython>=5.3.0->cufflinks) (3.0.36)\n",
      "Requirement already satisfied: pickleshare in c:\\users\\81\\anaconda3\\lib\\site-packages (from ipython>=5.3.0->cufflinks) (0.7.5)\n",
      "Requirement already satisfied: traitlets>=5 in c:\\users\\81\\anaconda3\\lib\\site-packages (from ipython>=5.3.0->cufflinks) (5.7.1)\n",
      "Requirement already satisfied: widgetsnbextension~=3.5.0 in c:\\users\\81\\anaconda3\\lib\\site-packages (from ipywidgets>=7.0.0->cufflinks) (3.5.2)\n",
      "Requirement already satisfied: ipython-genutils~=0.2.0 in c:\\users\\81\\anaconda3\\lib\\site-packages (from ipywidgets>=7.0.0->cufflinks) (0.2.0)\n",
      "Requirement already satisfied: nbformat>=4.2.0 in c:\\users\\81\\anaconda3\\lib\\site-packages (from ipywidgets>=7.0.0->cufflinks) (5.7.0)\n",
      "Requirement already satisfied: jupyterlab-widgets>=1.0.0 in c:\\users\\81\\anaconda3\\lib\\site-packages (from ipywidgets>=7.0.0->cufflinks) (1.0.0)\n",
      "Requirement already satisfied: ipykernel>=4.5.1 in c:\\users\\81\\anaconda3\\lib\\site-packages (from ipywidgets>=7.0.0->cufflinks) (6.19.2)\n",
      "Requirement already satisfied: pytz>=2020.1 in c:\\users\\81\\anaconda3\\lib\\site-packages (from pandas>=0.19.2->cufflinks) (2022.7)\n",
      "Requirement already satisfied: python-dateutil>=2.8.1 in c:\\users\\81\\anaconda3\\lib\\site-packages (from pandas>=0.19.2->cufflinks) (2.8.2)\n",
      "Requirement already satisfied: tenacity>=6.2.0 in c:\\users\\81\\anaconda3\\lib\\site-packages (from plotly>=4.1.1->cufflinks) (8.0.1)\n",
      "Requirement already satisfied: debugpy>=1.0 in c:\\users\\81\\anaconda3\\lib\\site-packages (from ipykernel>=4.5.1->ipywidgets>=7.0.0->cufflinks) (1.5.1)\n",
      "Requirement already satisfied: jupyter-client>=6.1.12 in c:\\users\\81\\anaconda3\\lib\\site-packages (from ipykernel>=4.5.1->ipywidgets>=7.0.0->cufflinks) (7.3.4)\n",
      "Requirement already satisfied: packaging in c:\\users\\81\\anaconda3\\lib\\site-packages (from ipykernel>=4.5.1->ipywidgets>=7.0.0->cufflinks) (22.0)\n",
      "Requirement already satisfied: pyzmq>=17 in c:\\users\\81\\anaconda3\\lib\\site-packages (from ipykernel>=4.5.1->ipywidgets>=7.0.0->cufflinks) (23.2.0)\n",
      "Requirement already satisfied: tornado>=6.1 in c:\\users\\81\\anaconda3\\lib\\site-packages (from ipykernel>=4.5.1->ipywidgets>=7.0.0->cufflinks) (6.1)\n",
      "Requirement already satisfied: nest-asyncio in c:\\users\\81\\anaconda3\\lib\\site-packages (from ipykernel>=4.5.1->ipywidgets>=7.0.0->cufflinks) (1.5.6)\n",
      "Requirement already satisfied: psutil in c:\\users\\81\\anaconda3\\lib\\site-packages (from ipykernel>=4.5.1->ipywidgets>=7.0.0->cufflinks) (5.9.0)\n",
      "Requirement already satisfied: comm>=0.1.1 in c:\\users\\81\\anaconda3\\lib\\site-packages (from ipykernel>=4.5.1->ipywidgets>=7.0.0->cufflinks) (0.1.2)\n",
      "Requirement already satisfied: parso<0.9.0,>=0.8.0 in c:\\users\\81\\anaconda3\\lib\\site-packages (from jedi>=0.16->ipython>=5.3.0->cufflinks) (0.8.3)\n",
      "Requirement already satisfied: jsonschema>=2.6 in c:\\users\\81\\anaconda3\\lib\\site-packages (from nbformat>=4.2.0->ipywidgets>=7.0.0->cufflinks) (4.17.3)\n",
      "Requirement already satisfied: fastjsonschema in c:\\users\\81\\anaconda3\\lib\\site-packages (from nbformat>=4.2.0->ipywidgets>=7.0.0->cufflinks) (2.16.2)\n",
      "Requirement already satisfied: jupyter-core in c:\\users\\81\\anaconda3\\lib\\site-packages (from nbformat>=4.2.0->ipywidgets>=7.0.0->cufflinks) (5.2.0)\n",
      "Requirement already satisfied: wcwidth in c:\\users\\81\\anaconda3\\lib\\site-packages (from prompt-toolkit<3.1.0,>=3.0.30->ipython>=5.3.0->cufflinks) (0.2.5)\n",
      "Requirement already satisfied: notebook>=4.4.1 in c:\\users\\81\\anaconda3\\lib\\site-packages (from widgetsnbextension~=3.5.0->ipywidgets>=7.0.0->cufflinks) (6.5.2)\n",
      "Requirement already satisfied: executing in c:\\users\\81\\anaconda3\\lib\\site-packages (from stack-data->ipython>=5.3.0->cufflinks) (0.8.3)\n",
      "Requirement already satisfied: pure-eval in c:\\users\\81\\anaconda3\\lib\\site-packages (from stack-data->ipython>=5.3.0->cufflinks) (0.2.2)\n",
      "Requirement already satisfied: asttokens in c:\\users\\81\\anaconda3\\lib\\site-packages (from stack-data->ipython>=5.3.0->cufflinks) (2.0.5)\n",
      "Requirement already satisfied: attrs>=17.4.0 in c:\\users\\81\\anaconda3\\lib\\site-packages (from jsonschema>=2.6->nbformat>=4.2.0->ipywidgets>=7.0.0->cufflinks) (22.1.0)\n",
      "Requirement already satisfied: pyrsistent!=0.17.0,!=0.17.1,!=0.17.2,>=0.14.0 in c:\\users\\81\\anaconda3\\lib\\site-packages (from jsonschema>=2.6->nbformat>=4.2.0->ipywidgets>=7.0.0->cufflinks) (0.18.0)\n",
      "Requirement already satisfied: entrypoints in c:\\users\\81\\anaconda3\\lib\\site-packages (from jupyter-client>=6.1.12->ipykernel>=4.5.1->ipywidgets>=7.0.0->cufflinks) (0.4)\n",
      "Requirement already satisfied: pywin32>=1.0 in c:\\users\\81\\anaconda3\\lib\\site-packages (from jupyter-core->nbformat>=4.2.0->ipywidgets>=7.0.0->cufflinks) (305.1)\n",
      "Requirement already satisfied: platformdirs>=2.5 in c:\\users\\81\\anaconda3\\lib\\site-packages (from jupyter-core->nbformat>=4.2.0->ipywidgets>=7.0.0->cufflinks) (2.5.2)\n",
      "Requirement already satisfied: terminado>=0.8.3 in c:\\users\\81\\anaconda3\\lib\\site-packages (from notebook>=4.4.1->widgetsnbextension~=3.5.0->ipywidgets>=7.0.0->cufflinks) (0.17.1)\n",
      "Requirement already satisfied: Send2Trash>=1.8.0 in c:\\users\\81\\anaconda3\\lib\\site-packages (from notebook>=4.4.1->widgetsnbextension~=3.5.0->ipywidgets>=7.0.0->cufflinks) (1.8.0)\n",
      "Requirement already satisfied: argon2-cffi in c:\\users\\81\\anaconda3\\lib\\site-packages (from notebook>=4.4.1->widgetsnbextension~=3.5.0->ipywidgets>=7.0.0->cufflinks) (21.3.0)\n",
      "Requirement already satisfied: nbclassic>=0.4.7 in c:\\users\\81\\anaconda3\\lib\\site-packages (from notebook>=4.4.1->widgetsnbextension~=3.5.0->ipywidgets>=7.0.0->cufflinks) (0.5.2)\n",
      "Requirement already satisfied: nbconvert>=5 in c:\\users\\81\\anaconda3\\lib\\site-packages (from notebook>=4.4.1->widgetsnbextension~=3.5.0->ipywidgets>=7.0.0->cufflinks) (6.5.4)\n",
      "Requirement already satisfied: jinja2 in c:\\users\\81\\anaconda3\\lib\\site-packages (from notebook>=4.4.1->widgetsnbextension~=3.5.0->ipywidgets>=7.0.0->cufflinks) (3.1.2)\n",
      "Requirement already satisfied: prometheus-client in c:\\users\\81\\anaconda3\\lib\\site-packages (from notebook>=4.4.1->widgetsnbextension~=3.5.0->ipywidgets>=7.0.0->cufflinks) (0.14.1)\n",
      "Requirement already satisfied: jupyter-server>=1.8 in c:\\users\\81\\anaconda3\\lib\\site-packages (from nbclassic>=0.4.7->notebook>=4.4.1->widgetsnbextension~=3.5.0->ipywidgets>=7.0.0->cufflinks) (1.23.4)\n",
      "Requirement already satisfied: notebook-shim>=0.1.0 in c:\\users\\81\\anaconda3\\lib\\site-packages (from nbclassic>=0.4.7->notebook>=4.4.1->widgetsnbextension~=3.5.0->ipywidgets>=7.0.0->cufflinks) (0.2.2)\n",
      "Requirement already satisfied: nbclient>=0.5.0 in c:\\users\\81\\anaconda3\\lib\\site-packages (from nbconvert>=5->notebook>=4.4.1->widgetsnbextension~=3.5.0->ipywidgets>=7.0.0->cufflinks) (0.5.13)\n",
      "Requirement already satisfied: bleach in c:\\users\\81\\anaconda3\\lib\\site-packages (from nbconvert>=5->notebook>=4.4.1->widgetsnbextension~=3.5.0->ipywidgets>=7.0.0->cufflinks) (4.1.0)\n",
      "Requirement already satisfied: MarkupSafe>=2.0 in c:\\users\\81\\anaconda3\\lib\\site-packages (from nbconvert>=5->notebook>=4.4.1->widgetsnbextension~=3.5.0->ipywidgets>=7.0.0->cufflinks) (2.1.1)\n",
      "Requirement already satisfied: jupyterlab-pygments in c:\\users\\81\\anaconda3\\lib\\site-packages (from nbconvert>=5->notebook>=4.4.1->widgetsnbextension~=3.5.0->ipywidgets>=7.0.0->cufflinks) (0.1.2)\n",
      "Requirement already satisfied: lxml in c:\\users\\81\\anaconda3\\lib\\site-packages (from nbconvert>=5->notebook>=4.4.1->widgetsnbextension~=3.5.0->ipywidgets>=7.0.0->cufflinks) (4.9.1)\n",
      "Requirement already satisfied: beautifulsoup4 in c:\\users\\81\\anaconda3\\lib\\site-packages (from nbconvert>=5->notebook>=4.4.1->widgetsnbextension~=3.5.0->ipywidgets>=7.0.0->cufflinks) (4.11.1)\n",
      "Requirement already satisfied: mistune<2,>=0.8.1 in c:\\users\\81\\anaconda3\\lib\\site-packages (from nbconvert>=5->notebook>=4.4.1->widgetsnbextension~=3.5.0->ipywidgets>=7.0.0->cufflinks) (0.8.4)\n",
      "Requirement already satisfied: pandocfilters>=1.4.1 in c:\\users\\81\\anaconda3\\lib\\site-packages (from nbconvert>=5->notebook>=4.4.1->widgetsnbextension~=3.5.0->ipywidgets>=7.0.0->cufflinks) (1.5.0)\n",
      "Requirement already satisfied: defusedxml in c:\\users\\81\\anaconda3\\lib\\site-packages (from nbconvert>=5->notebook>=4.4.1->widgetsnbextension~=3.5.0->ipywidgets>=7.0.0->cufflinks) (0.7.1)\n",
      "Requirement already satisfied: tinycss2 in c:\\users\\81\\anaconda3\\lib\\site-packages (from nbconvert>=5->notebook>=4.4.1->widgetsnbextension~=3.5.0->ipywidgets>=7.0.0->cufflinks) (1.2.1)\n",
      "Requirement already satisfied: pywinpty>=1.1.0 in c:\\users\\81\\anaconda3\\lib\\site-packages (from terminado>=0.8.3->notebook>=4.4.1->widgetsnbextension~=3.5.0->ipywidgets>=7.0.0->cufflinks) (2.0.10)\n",
      "Requirement already satisfied: argon2-cffi-bindings in c:\\users\\81\\anaconda3\\lib\\site-packages (from argon2-cffi->notebook>=4.4.1->widgetsnbextension~=3.5.0->ipywidgets>=7.0.0->cufflinks) (21.2.0)\n",
      "Requirement already satisfied: websocket-client in c:\\users\\81\\anaconda3\\lib\\site-packages (from jupyter-server>=1.8->nbclassic>=0.4.7->notebook>=4.4.1->widgetsnbextension~=3.5.0->ipywidgets>=7.0.0->cufflinks) (0.58.0)\n",
      "Requirement already satisfied: anyio<4,>=3.1.0 in c:\\users\\81\\anaconda3\\lib\\site-packages (from jupyter-server>=1.8->nbclassic>=0.4.7->notebook>=4.4.1->widgetsnbextension~=3.5.0->ipywidgets>=7.0.0->cufflinks) (3.5.0)\n",
      "Requirement already satisfied: cffi>=1.0.1 in c:\\users\\81\\anaconda3\\lib\\site-packages (from argon2-cffi-bindings->argon2-cffi->notebook>=4.4.1->widgetsnbextension~=3.5.0->ipywidgets>=7.0.0->cufflinks) (1.15.1)\n",
      "Requirement already satisfied: soupsieve>1.2 in c:\\users\\81\\anaconda3\\lib\\site-packages (from beautifulsoup4->nbconvert>=5->notebook>=4.4.1->widgetsnbextension~=3.5.0->ipywidgets>=7.0.0->cufflinks) (2.3.2.post1)\n",
      "Requirement already satisfied: webencodings in c:\\users\\81\\anaconda3\\lib\\site-packages (from bleach->nbconvert>=5->notebook>=4.4.1->widgetsnbextension~=3.5.0->ipywidgets>=7.0.0->cufflinks) (0.5.1)\n",
      "Requirement already satisfied: idna>=2.8 in c:\\users\\81\\anaconda3\\lib\\site-packages (from anyio<4,>=3.1.0->jupyter-server>=1.8->nbclassic>=0.4.7->notebook>=4.4.1->widgetsnbextension~=3.5.0->ipywidgets>=7.0.0->cufflinks) (3.4)\n",
      "Requirement already satisfied: sniffio>=1.1 in c:\\users\\81\\anaconda3\\lib\\site-packages (from anyio<4,>=3.1.0->jupyter-server>=1.8->nbclassic>=0.4.7->notebook>=4.4.1->widgetsnbextension~=3.5.0->ipywidgets>=7.0.0->cufflinks) (1.2.0)\n",
      "Requirement already satisfied: pycparser in c:\\users\\81\\anaconda3\\lib\\site-packages (from cffi>=1.0.1->argon2-cffi-bindings->argon2-cffi->notebook>=4.4.1->widgetsnbextension~=3.5.0->ipywidgets>=7.0.0->cufflinks) (2.21)\n"
     ]
    }
   ],
   "source": [
    "! pip install cufflinks"
   ]
  },
  {
   "cell_type": "code",
   "execution_count": 2,
   "metadata": {},
   "outputs": [
    {
     "name": "stdout",
     "output_type": "stream",
     "text": [
      "Requirement already satisfied: chart_studio in c:\\users\\81\\anaconda3\\lib\\site-packages (1.1.0)\n",
      "Requirement already satisfied: six in c:\\users\\81\\anaconda3\\lib\\site-packages (from chart_studio) (1.16.0)\n",
      "Requirement already satisfied: retrying>=1.3.3 in c:\\users\\81\\anaconda3\\lib\\site-packages (from chart_studio) (1.3.4)\n",
      "Requirement already satisfied: plotly in c:\\users\\81\\anaconda3\\lib\\site-packages (from chart_studio) (5.9.0)\n",
      "Requirement already satisfied: requests in c:\\users\\81\\anaconda3\\lib\\site-packages (from chart_studio) (2.28.1)\n",
      "Requirement already satisfied: tenacity>=6.2.0 in c:\\users\\81\\anaconda3\\lib\\site-packages (from plotly->chart_studio) (8.0.1)\n",
      "Requirement already satisfied: charset-normalizer<3,>=2 in c:\\users\\81\\anaconda3\\lib\\site-packages (from requests->chart_studio) (2.0.4)\n",
      "Requirement already satisfied: urllib3<1.27,>=1.21.1 in c:\\users\\81\\anaconda3\\lib\\site-packages (from requests->chart_studio) (1.26.14)\n",
      "Requirement already satisfied: idna<4,>=2.5 in c:\\users\\81\\anaconda3\\lib\\site-packages (from requests->chart_studio) (3.4)\n",
      "Requirement already satisfied: certifi>=2017.4.17 in c:\\users\\81\\anaconda3\\lib\\site-packages (from requests->chart_studio) (2023.5.7)\n"
     ]
    }
   ],
   "source": [
    "! pip install chart_studio"
   ]
  },
  {
   "cell_type": "code",
   "execution_count": 3,
   "metadata": {},
   "outputs": [
    {
     "data": {
      "text/html": [
       "        <script type=\"text/javascript\">\n",
       "        window.PlotlyConfig = {MathJaxConfig: 'local'};\n",
       "        if (window.MathJax && window.MathJax.Hub && window.MathJax.Hub.Config) {window.MathJax.Hub.Config({SVG: {font: \"STIX-Web\"}});}\n",
       "        if (typeof require !== 'undefined') {\n",
       "        require.undef(\"plotly\");\n",
       "        requirejs.config({\n",
       "            paths: {\n",
       "                'plotly': ['https://cdn.plot.ly/plotly-2.12.1.min']\n",
       "            }\n",
       "        });\n",
       "        require(['plotly'], function(Plotly) {\n",
       "            window._Plotly = Plotly;\n",
       "        });\n",
       "        }\n",
       "        </script>\n",
       "        "
      ]
     },
     "metadata": {},
     "output_type": "display_data"
    },
    {
     "data": {
      "text/html": [
       "        <script type=\"text/javascript\">\n",
       "        window.PlotlyConfig = {MathJaxConfig: 'local'};\n",
       "        if (window.MathJax && window.MathJax.Hub && window.MathJax.Hub.Config) {window.MathJax.Hub.Config({SVG: {font: \"STIX-Web\"}});}\n",
       "        if (typeof require !== 'undefined') {\n",
       "        require.undef(\"plotly\");\n",
       "        requirejs.config({\n",
       "            paths: {\n",
       "                'plotly': ['https://cdn.plot.ly/plotly-2.12.1.min']\n",
       "            }\n",
       "        });\n",
       "        require(['plotly'], function(Plotly) {\n",
       "            window._Plotly = Plotly;\n",
       "        });\n",
       "        }\n",
       "        </script>\n",
       "        "
      ]
     },
     "metadata": {},
     "output_type": "display_data"
    }
   ],
   "source": [
    "import cufflinks as cf\n",
    "cf.set_config_file(world_readable=True,theme='pearl',offline=True)"
   ]
  },
  {
   "cell_type": "code",
   "execution_count": 30,
   "metadata": {},
   "outputs": [
    {
     "data": {
      "application/vnd.plotly.v1+json": {
       "config": {
        "linkText": "Export to plot.ly",
        "plotlyServerURL": "https://plot.ly",
        "showLink": true
       },
       "data": [
        {
         "marker": {
          "color": [
           "#000000",
           "#000000",
           "#ff0000",
           "#ff0000",
           "#000000",
           "#ff0000",
           "#ff0000",
           "#ff0000",
           "#ff0000",
           "#000000",
           "#ff0000",
           "#000000",
           "#ff0000",
           "#ff0000",
           "#ff0000",
           "#ff0000",
           "#000000",
           "#000000",
           "#ff0000",
           "#000000",
           "#000000",
           "#000000",
           "#000000",
           "#ff0000",
           "#ff0000",
           "#000000",
           "#000000",
           "#ff0000",
           "#ff0000",
           "#ff0000",
           "#ff0000",
           "#ff0000",
           "#ff0000",
           "#ff0000",
           "#ff0000",
           "#ff0000",
           "#000000",
           "#ff0000",
           "#000000",
           "#ff0000",
           "#ff0000",
           "#ff0000",
           "#ff0000",
           "#ff0000",
           "#000000",
           "#ff0000",
           "#000000",
           "#000000",
           "#ff0000",
           "#000000",
           "#000000",
           "#ff0000",
           "#000000",
           "#ff0000",
           "#000000",
           "#ff0000",
           "#ff0000",
           "#ff0000",
           "#ff0000",
           "#ff0000",
           "#000000",
           "#ff0000",
           "#ff0000",
           "#ff0000",
           "#000000",
           "#ff0000",
           "#ff0000",
           "#ff0000",
           "#ff0000",
           "#000000",
           "#000000",
           "#000000",
           "#000000",
           "#000000",
           "#ff0000",
           "#ff0000",
           "#ff0000",
           "#ff0000",
           "#ff0000",
           "#ff0000",
           "#000000",
           "#000000",
           "#ff0000",
           "#ff0000",
           "#ff0000",
           "#ff0000",
           "#ff0000",
           "#ff0000",
           "#000000",
           "#ff0000",
           "#000000",
           "#000000",
           "#ff0000",
           "#ff0000",
           "#000000",
           "#000000",
           "#ff0000",
           "#ff0000",
           "#ff0000",
           "#000000",
           "#000000",
           "#ff0000",
           "#ff0000",
           "#000000",
           "#000000",
           "#000000",
           "#ff0000",
           "#000000",
           "#000000",
           "#ff0000",
           "#000000",
           "#ff0000",
           "#ff0000",
           "#000000",
           "#000000",
           "#ff0000",
           "#ff0000",
           "#000000",
           "#000000",
           "#ff0000",
           "#000000",
           "#000000",
           "#000000",
           "#ff0000",
           "#ff0000",
           "#000000"
          ],
          "line": {
           "color": [
            "#000000",
            "#000000",
            "#ff0000",
            "#ff0000",
            "#000000",
            "#ff0000",
            "#ff0000",
            "#ff0000",
            "#ff0000",
            "#000000",
            "#ff0000",
            "#000000",
            "#ff0000",
            "#ff0000",
            "#ff0000",
            "#ff0000",
            "#000000",
            "#000000",
            "#ff0000",
            "#000000",
            "#000000",
            "#000000",
            "#000000",
            "#ff0000",
            "#ff0000",
            "#000000",
            "#000000",
            "#ff0000",
            "#ff0000",
            "#ff0000",
            "#ff0000",
            "#ff0000",
            "#ff0000",
            "#ff0000",
            "#ff0000",
            "#ff0000",
            "#000000",
            "#ff0000",
            "#000000",
            "#ff0000",
            "#ff0000",
            "#ff0000",
            "#ff0000",
            "#ff0000",
            "#000000",
            "#ff0000",
            "#000000",
            "#000000",
            "#ff0000",
            "#000000",
            "#000000",
            "#ff0000",
            "#000000",
            "#ff0000",
            "#000000",
            "#ff0000",
            "#ff0000",
            "#ff0000",
            "#ff0000",
            "#ff0000",
            "#000000",
            "#ff0000",
            "#ff0000",
            "#ff0000",
            "#000000",
            "#ff0000",
            "#ff0000",
            "#ff0000",
            "#ff0000",
            "#000000",
            "#000000",
            "#000000",
            "#000000",
            "#000000",
            "#ff0000",
            "#ff0000",
            "#ff0000",
            "#ff0000",
            "#ff0000",
            "#ff0000",
            "#000000",
            "#000000",
            "#ff0000",
            "#ff0000",
            "#ff0000",
            "#ff0000",
            "#ff0000",
            "#ff0000",
            "#000000",
            "#ff0000",
            "#000000",
            "#000000",
            "#ff0000",
            "#ff0000",
            "#000000",
            "#000000",
            "#ff0000",
            "#ff0000",
            "#ff0000",
            "#000000",
            "#000000",
            "#ff0000",
            "#ff0000",
            "#000000",
            "#000000",
            "#000000",
            "#ff0000",
            "#000000",
            "#000000",
            "#ff0000",
            "#000000",
            "#ff0000",
            "#ff0000",
            "#000000",
            "#000000",
            "#ff0000",
            "#ff0000",
            "#000000",
            "#000000",
            "#ff0000",
            "#000000",
            "#000000",
            "#000000",
            "#ff0000",
            "#ff0000",
            "#000000"
           ],
           "width": 1
          }
         },
         "name": "Volume",
         "opacity": 0.8,
         "orientation": "v",
         "text": "",
         "type": "bar",
         "x": [
          "2023-09-20",
          "2023-09-21",
          "2023-09-22",
          "2023-09-25",
          "2023-09-26",
          "2023-09-27",
          "2023-09-28",
          "2023-09-29",
          "2023-10-02",
          "2023-10-03",
          "2023-10-04",
          "2023-10-05",
          "2023-10-06",
          "2023-10-09",
          "2023-10-10",
          "2023-10-11",
          "2023-10-12",
          "2023-10-13",
          "2023-10-16",
          "2023-10-17",
          "2023-10-18",
          "2023-10-19",
          "2023-10-20",
          "2023-10-23",
          "2023-10-24",
          "2023-10-25",
          "2023-10-26",
          "2023-10-27",
          "2023-10-30",
          "2023-10-31",
          "2023-11-01",
          "2023-11-02",
          "2023-11-03",
          "2023-11-06",
          "2023-11-07",
          "2023-11-08",
          "2023-11-09",
          "2023-11-10",
          "2023-11-13",
          "2023-11-14",
          "2023-11-15",
          "2023-11-16",
          "2023-11-17",
          "2023-11-20",
          "2023-11-21",
          "2023-11-22",
          "2023-11-24",
          "2023-11-27",
          "2023-11-28",
          "2023-11-29",
          "2023-11-30",
          "2023-12-01",
          "2023-12-04",
          "2023-12-05",
          "2023-12-06",
          "2023-12-07",
          "2023-12-08",
          "2023-12-11",
          "2023-12-12",
          "2023-12-13",
          "2023-12-14",
          "2023-12-15",
          "2023-12-18",
          "2023-12-19",
          "2023-12-20",
          "2023-12-21",
          "2023-12-22",
          "2023-12-26",
          "2023-12-27",
          "2023-12-28",
          "2023-12-29",
          "2024-01-02",
          "2024-01-03",
          "2024-01-04",
          "2024-01-05",
          "2024-01-08",
          "2024-01-09",
          "2024-01-10",
          "2024-01-11",
          "2024-01-12",
          "2024-01-16",
          "2024-01-17",
          "2024-01-18",
          "2024-01-19",
          "2024-01-22",
          "2024-01-23",
          "2024-01-24",
          "2024-01-25",
          "2024-01-26",
          "2024-01-29",
          "2024-01-30",
          "2024-01-31",
          "2024-02-01",
          "2024-02-02",
          "2024-02-05",
          "2024-02-06",
          "2024-02-07",
          "2024-02-08",
          "2024-02-09",
          "2024-02-12",
          "2024-02-13",
          "2024-02-14",
          "2024-02-15",
          "2024-02-16",
          "2024-02-20",
          "2024-02-21",
          "2024-02-22",
          "2024-02-23",
          "2024-02-26",
          "2024-02-27",
          "2024-02-28",
          "2024-02-29",
          "2024-03-01",
          "2024-03-04",
          "2024-03-05",
          "2024-03-06",
          "2024-03-07",
          "2024-03-08",
          "2024-03-11",
          "2024-03-12",
          "2024-03-13",
          "2024-03-14",
          "2024-03-15",
          "2024-03-18",
          "2024-03-19",
          "2024-03-20"
         ],
         "y": [
          4782440000,
          5014890000,
          4302700000,
          4100290000,
          4693540000,
          4841410000,
          4648390000,
          5138500000,
          4554700000,
          4684310000,
          4308070000,
          4167470000,
          4309420000,
          3835930000,
          4301350000,
          4160440000,
          4858620000,
          4251550000,
          4308690000,
          4417640000,
          4617140000,
          5014790000,
          4622840000,
          4669060000,
          4604720000,
          4599850000,
          4894900000,
          4172100000,
          4149320000,
          4315630000,
          4545120000,
          4962950000,
          4918750000,
          4345850000,
          4354460000,
          4685550000,
          5313970000,
          4722140000,
          4349590000,
          5332490000,
          5063830000,
          4545180000,
          4408640000,
          4561810000,
          4128600000,
          3855240000,
          2541840000,
          4205880000,
          4474400000,
          4890220000,
          5678070000,
          5607000000,
          6270020000,
          6179120000,
          5167030000,
          5694310000,
          5430840000,
          5607820000,
          4950100000,
          6732040000,
          8033170000,
          8377630000,
          5866080000,
          5757180000,
          6294700000,
          5465640000,
          4796600000,
          6120600000,
          7480170000,
          5090570000,
          5441060000,
          5791170000,
          5449950000,
          5289220000,
          5232820000,
          6337770000,
          5068410000,
          4404590000,
          5044690000,
          4958940000,
          6386180000,
          5181740000,
          5587440000,
          5604950000,
          5456240000,
          5207680000,
          4983210000,
          5281570000,
          4510530000,
          4979310000,
          4719240000,
          5875610000,
          5046920000,
          4800690000,
          4831020000,
          4759640000,
          4567580000,
          5675850000,
          5797260000,
          5458490000,
          5599860000,
          5092660000,
          6049100000,
          5223800000,
          5595700000,
          4845740000,
          5653930000,
          5077910000,
          5417630000,
          5423020000,
          5581690000,
          6265340000,
          5457910000,
          5725470000,
          6356800000,
          5511370000,
          5072790000,
          5411790000,
          4917620000,
          5100330000,
          4839000000,
          5450980000,
          8261950000,
          5025040000,
          4758740000,
          192020066
         ],
         "yaxis": "y3"
        },
        {
         "close": [
          14969.919921875,
          14694.240234375,
          14701.099609375,
          14768.900390625,
          14545.830078125,
          14580.16015625,
          14702.76953125,
          14715.240234375,
          14837.5703125,
          14565.6201171875,
          14776.25,
          14723.2197265625,
          14973.240234375,
          15047.150390625,
          15131.51953125,
          15241.1201171875,
          15184.099609375,
          14995.1201171875,
          15172.73046875,
          15122.009765625,
          14909.259765625,
          14783.1298828125,
          14560.8798828125,
          14604.849609375,
          14745.8603515625,
          14381.6396484375,
          14109.5703125,
          14180.419921875,
          14335.509765625,
          14409.7802734375,
          14664.91015625,
          14919.5498046875,
          15099.490234375,
          15154.9296875,
          15296.01953125,
          15313.240234375,
          15187.900390625,
          15529.1201171875,
          15482.7900390625,
          15812.4697265625,
          15817.1796875,
          15833.169921875,
          15837.990234375,
          16027.0595703125,
          15933.6201171875,
          16001.3896484375,
          15982.009765625,
          15961.98046875,
          16010.4296875,
          15987.599609375,
          15947.8701171875,
          15997.580078125,
          15839.669921875,
          15877.7099609375,
          15788.0498046875,
          16022.490234375,
          16084.6904296875,
          16221.73046875,
          16354.25,
          16562.369140625,
          16537.830078125,
          16623.44921875,
          16729.80078125,
          16811.849609375,
          16554.16015625,
          16757.41015625,
          16777.400390625,
          16878.4609375,
          16906.80078125,
          16898.470703125,
          16825.9296875,
          16543.939453125,
          16368.490234375,
          16282.009765625,
          16305.98046875,
          16649.869140625,
          16678.69921875,
          16793.05078125,
          16820.900390625,
          16832.919921875,
          16830.7109375,
          16736.279296875,
          16982.2890625,
          17314,
          17330.380859375,
          17404.2109375,
          17499.30078125,
          17516.990234375,
          17421.009765625,
          17596.26953125,
          17476.7109375,
          17137.240234375,
          17344.7109375,
          17642.73046875,
          17613.0390625,
          17572.73046875,
          17755.0703125,
          17783.169921875,
          17962.41015625,
          17882.66015625,
          17600.419921875,
          17807.630859375,
          17845.720703125,
          17685.98046875,
          17546.099609375,
          17478.91015625,
          18004.69921875,
          17937.609375,
          17933.330078125,
          17971.05078125,
          17874.5,
          18043.849609375,
          18302.91015625,
          18226.48046875,
          17897.869140625,
          18017.5703125,
          18297.990234375,
          18018.44921875,
          17951.689453125,
          18219.109375,
          18068.470703125,
          18014.810546875,
          17808.25,
          17985.009765625,
          18032.19921875,
          18019.7890625
         ],
         "decreasing": {
          "line": {
           "color": "#000000"
          }
         },
         "high": [
          15245.1904296875,
          14849.25,
          14855.919921875,
          14771.1201171875,
          14678.48046875,
          14657.2099609375,
          14787.580078125,
          14901.849609375,
          14892.1796875,
          14819.8701171875,
          14803.0400390625,
          14784.6904296875,
          15021.3798828125,
          15070.6396484375,
          15241.9404296875,
          15248.2197265625,
          15333.98046875,
          15232.3701171875,
          15209.5,
          15187.0595703125,
          15103.8701171875,
          15023.91015625,
          14781.2197265625,
          14746.3701171875,
          14774.16015625,
          14643.6904296875,
          14372.509765625,
          14321.0400390625,
          14388.2001953125,
          14420.4404296875,
          14677.8603515625,
          14930.759765625,
          15149.7802734375,
          15180.1904296875,
          15335.4404296875,
          15343.1904296875,
          15382.1103515625,
          15535.2001953125,
          15524.66015625,
          15850.33984375,
          15904.6298828125,
          15842.6298828125,
          15876.8701171875,
          16056.759765625,
          15968.08984375,
          16119.3095703125,
          16007.4296875,
          16045.2998046875,
          16031.51953125,
          16166.509765625,
          16013.48046875,
          16013.75,
          15852.4501953125,
          15931.83984375,
          15990.9404296875,
          16042.509765625,
          16100.8603515625,
          16232.259765625,
          16354.25,
          16581.0390625,
          16660.7109375,
          16669.76953125,
          16764.3203125,
          16813.009765625,
          16860.6796875,
          16768.01953125,
          16839.25,
          16907.509765625,
          16922.009765625,
          16969.169921875,
          16919.509765625,
          16686.599609375,
          16471.080078125,
          16419.439453125,
          16415.390625,
          16655.23046875,
          16710.880859375,
          16827.369140625,
          16898.16015625,
          16900.369140625,
          16895.330078125,
          16749.109375,
          16996.98046875,
          17317.2109375,
          17450.30078125,
          17410.859375,
          17665.259765625,
          17631.33984375,
          17514.759765625,
          17603.94921875,
          17578.4609375,
          17375.3203125,
          17356.759765625,
          17682.2890625,
          17655.76953125,
          17680.619140625,
          17784.169921875,
          17814.119140625,
          17987.900390625,
          18041.44921875,
          17717.669921875,
          17815.1796875,
          17864.58984375,
          17864.16015625,
          17657.080078125,
          17482.130859375,
          18034.80078125,
          18091.619140625,
          18014.109375,
          17987.5390625,
          17931.009765625,
          18068.51953125,
          18333.259765625,
          18313.4296875,
          18097.5,
          18142.880859375,
          18337.94921875,
          18416.73046875,
          18003.05078125,
          18228.369140625,
          18163.740234375,
          18142.900390625,
          17930.470703125,
          18124.3203125,
          18039.8203125,
          18087.099609375
         ],
         "increasing": {
          "line": {
           "color": "#ff0000"
          }
         },
         "low": [
          14967.599609375,
          14691.6904296875,
          14686.83984375,
          14615.4501953125,
          14505.6796875,
          14432.599609375,
          14510.169921875,
          14664.7802734375,
          14701.51953125,
          14504.1396484375,
          14592.5595703125,
          14584.3896484375,
          14575.9501953125,
          14816.3203125,
          15050.5400390625,
          15119.6201171875,
          15090.6904296875,
          14943.419921875,
          15047.26953125,
          14932.76953125,
          14865.8095703125,
          14749.2998046875,
          14552.1201171875,
          14419.0595703125,
          14610.330078125,
          14362.240234375,
          14058.330078125,
          14130.3701171875,
          14225.8603515625,
          14232.400390625,
          14441.8896484375,
          14792.8095703125,
          14965.2900390625,
          15064.91015625,
          15153.3095703125,
          15220.8798828125,
          15171.3203125,
          15237.169921875,
          15404.7099609375,
          15726.1201171875,
          15765.3095703125,
          15738.2197265625,
          15766.9404296875,
          15844.830078125,
          15866.8203125,
          15964.0400390625,
          15940.6201171875,
          15932.1904296875,
          15921.0703125,
          15976.6904296875,
          15825.669921875,
          15834.9296875,
          15695.580078125,
          15760.58984375,
          15776.9501953125,
          15875.48046875,
          15937.580078125,
          16061.8701171875,
          16175.4599609375,
          16357.2099609375,
          16419.259765625,
          16557.009765625,
          16629.2890625,
          16733.380859375,
          16552.060546875,
          16621.51953125,
          16703.5703125,
          16813.5703125,
          16859.55078125,
          16891.3203125,
          16757.890625,
          16453.150390625,
          16352.1396484375,
          16276.4296875,
          16249.1904296875,
          16349.3896484375,
          16513.73046875,
          16654.740234375,
          16618.859375,
          16776.919921875,
          16726.58984375,
          16561.490234375,
          16818.130859375,
          17041.849609375,
          17309.869140625,
          17286.01953125,
          17481.970703125,
          17430.369140625,
          17395.5390625,
          17414.619140625,
          17443.76953125,
          17128.740234375,
          17175.830078125,
          17378.369140625,
          17469.619140625,
          17475.4296875,
          17637.73046875,
          17728.55078125,
          17798.810546875,
          17859.66015625,
          17478.23046875,
          17619.919921875,
          17722.310546875,
          17663.400390625,
          17399.41015625,
          17319.439453125,
          17808.259765625,
          17902.779296875,
          17926.66015625,
          17871.060546875,
          17840.359375,
          17866.259765625,
          18064.439453125,
          18218.25,
          17804.5,
          17941.640625,
          18101.4296875,
          17995.380859375,
          17873.330078125,
          17919.330078125,
          18030.400390625,
          17913.630859375,
          17764.990234375,
          17973.08984375,
          17809.150390625,
          18005
         ],
         "name": "日K線圖",
         "open": [
          15225.33984375,
          14813.490234375,
          14756.6201171875,
          14662.6904296875,
          14668.4501953125,
          14600.1396484375,
          14530.9599609375,
          14853.349609375,
          14717.900390625,
          14744.0498046875,
          14613.23046875,
          14769.5498046875,
          14622.23046875,
          14871.5703125,
          15074.0400390625,
          15194.5302734375,
          15264.1103515625,
          15225.73046875,
          15054.48046875,
          15009.259765625,
          15022.2802734375,
          14981.1298828125,
          14752.58984375,
          14514.1103515625,
          14678.41015625,
          14642.080078125,
          14314.009765625,
          14245.75,
          14283.98046875,
          14340.8603515625,
          14453.6796875,
          14856.9501953125,
          14985.1201171875,
          15137.16015625,
          15201.76953125,
          15313.900390625,
          15351.1201171875,
          15252.3603515625,
          15469.2099609375,
          15744.3603515625,
          15881.7197265625,
          15765.2001953125,
          15803.98046875,
          15845.2001953125,
          15951.5498046875,
          16025.740234375,
          15974.849609375,
          15969.7197265625,
          15940.2900390625,
          16111.3603515625,
          15987.66015625,
          15892.58984375,
          15837.1201171875,
          15763.650390625,
          15990.2001953125,
          15888.23046875,
          15952.849609375,
          16069.6201171875,
          16209.6103515625,
          16392.1796875,
          16603.5390625,
          16587,
          16631.109375,
          16734.25,
          16763.640625,
          16719.609375,
          16799.01953125,
          16816.779296875,
          16896.140625,
          16963.51953125,
          16902.439453125,
          16667.30078125,
          16413.259765625,
          16290.7802734375,
          16281.740234375,
          16354.2197265625,
          16531.9609375,
          16702.55078125,
          16852.189453125,
          16855,
          16775.099609375,
          16705.509765625,
          16894.330078125,
          17060.140625,
          17403.619140625,
          17346.94921875,
          17562.3203125,
          17589.26953125,
          17432.869140625,
          17438.029296875,
          17556.490234375,
          17269.98046875,
          17216.990234375,
          17415.939453125,
          17634.689453125,
          17664.439453125,
          17674.58984375,
          17757.599609375,
          17820.98046875,
          17942.279296875,
          17519.80078125,
          17728.900390625,
          17815.3203125,
          17853.58984375,
          17591.169921875,
          17412.7890625,
          17857.759765625,
          18052.58984375,
          17970.2109375,
          17962.580078125,
          17895.029296875,
          17991.669921875,
          18069.2890625,
          18290.099609375,
          18088.7109375,
          18083.509765625,
          18161.73046875,
          18312.7890625,
          17959.6796875,
          18063.01953125,
          18151.759765625,
          18114.689453125,
          17926.919921875,
          18024.240234375,
          17902.51953125,
          18067.69921875
         ],
         "showlegend": true,
         "type": "candlestick",
         "x": [
          "2023-09-20",
          "2023-09-21",
          "2023-09-22",
          "2023-09-25",
          "2023-09-26",
          "2023-09-27",
          "2023-09-28",
          "2023-09-29",
          "2023-10-02",
          "2023-10-03",
          "2023-10-04",
          "2023-10-05",
          "2023-10-06",
          "2023-10-09",
          "2023-10-10",
          "2023-10-11",
          "2023-10-12",
          "2023-10-13",
          "2023-10-16",
          "2023-10-17",
          "2023-10-18",
          "2023-10-19",
          "2023-10-20",
          "2023-10-23",
          "2023-10-24",
          "2023-10-25",
          "2023-10-26",
          "2023-10-27",
          "2023-10-30",
          "2023-10-31",
          "2023-11-01",
          "2023-11-02",
          "2023-11-03",
          "2023-11-06",
          "2023-11-07",
          "2023-11-08",
          "2023-11-09",
          "2023-11-10",
          "2023-11-13",
          "2023-11-14",
          "2023-11-15",
          "2023-11-16",
          "2023-11-17",
          "2023-11-20",
          "2023-11-21",
          "2023-11-22",
          "2023-11-24",
          "2023-11-27",
          "2023-11-28",
          "2023-11-29",
          "2023-11-30",
          "2023-12-01",
          "2023-12-04",
          "2023-12-05",
          "2023-12-06",
          "2023-12-07",
          "2023-12-08",
          "2023-12-11",
          "2023-12-12",
          "2023-12-13",
          "2023-12-14",
          "2023-12-15",
          "2023-12-18",
          "2023-12-19",
          "2023-12-20",
          "2023-12-21",
          "2023-12-22",
          "2023-12-26",
          "2023-12-27",
          "2023-12-28",
          "2023-12-29",
          "2024-01-02",
          "2024-01-03",
          "2024-01-04",
          "2024-01-05",
          "2024-01-08",
          "2024-01-09",
          "2024-01-10",
          "2024-01-11",
          "2024-01-12",
          "2024-01-16",
          "2024-01-17",
          "2024-01-18",
          "2024-01-19",
          "2024-01-22",
          "2024-01-23",
          "2024-01-24",
          "2024-01-25",
          "2024-01-26",
          "2024-01-29",
          "2024-01-30",
          "2024-01-31",
          "2024-02-01",
          "2024-02-02",
          "2024-02-05",
          "2024-02-06",
          "2024-02-07",
          "2024-02-08",
          "2024-02-09",
          "2024-02-12",
          "2024-02-13",
          "2024-02-14",
          "2024-02-15",
          "2024-02-16",
          "2024-02-20",
          "2024-02-21",
          "2024-02-22",
          "2024-02-23",
          "2024-02-26",
          "2024-02-27",
          "2024-02-28",
          "2024-02-29",
          "2024-03-01",
          "2024-03-04",
          "2024-03-05",
          "2024-03-06",
          "2024-03-07",
          "2024-03-08",
          "2024-03-11",
          "2024-03-12",
          "2024-03-13",
          "2024-03-14",
          "2024-03-15",
          "2024-03-18",
          "2024-03-19",
          "2024-03-20"
         ],
         "yaxis": "y2"
        }
       ],
       "layout": {
        "legend": {
         "bgcolor": "#F5F6F9",
         "font": {
          "color": "#4D5663"
         },
         "orientation": "h",
         "x": 0.3,
         "y": 0.95,
         "yanchor": "bottom"
        },
        "margin": {
         "b": 30,
         "l": 30,
         "r": 30,
         "t": 30
        },
        "paper_bgcolor": "#F5F6F9",
        "plot_bgcolor": "#F5F6F9",
        "showlegend": true,
        "template": {
         "data": {
          "bar": [
           {
            "error_x": {
             "color": "#2a3f5f"
            },
            "error_y": {
             "color": "#2a3f5f"
            },
            "marker": {
             "line": {
              "color": "#E5ECF6",
              "width": 0.5
             },
             "pattern": {
              "fillmode": "overlay",
              "size": 10,
              "solidity": 0.2
             }
            },
            "type": "bar"
           }
          ],
          "barpolar": [
           {
            "marker": {
             "line": {
              "color": "#E5ECF6",
              "width": 0.5
             },
             "pattern": {
              "fillmode": "overlay",
              "size": 10,
              "solidity": 0.2
             }
            },
            "type": "barpolar"
           }
          ],
          "carpet": [
           {
            "aaxis": {
             "endlinecolor": "#2a3f5f",
             "gridcolor": "white",
             "linecolor": "white",
             "minorgridcolor": "white",
             "startlinecolor": "#2a3f5f"
            },
            "baxis": {
             "endlinecolor": "#2a3f5f",
             "gridcolor": "white",
             "linecolor": "white",
             "minorgridcolor": "white",
             "startlinecolor": "#2a3f5f"
            },
            "type": "carpet"
           }
          ],
          "choropleth": [
           {
            "colorbar": {
             "outlinewidth": 0,
             "ticks": ""
            },
            "type": "choropleth"
           }
          ],
          "contour": [
           {
            "colorbar": {
             "outlinewidth": 0,
             "ticks": ""
            },
            "colorscale": [
             [
              0,
              "#0d0887"
             ],
             [
              0.1111111111111111,
              "#46039f"
             ],
             [
              0.2222222222222222,
              "#7201a8"
             ],
             [
              0.3333333333333333,
              "#9c179e"
             ],
             [
              0.4444444444444444,
              "#bd3786"
             ],
             [
              0.5555555555555556,
              "#d8576b"
             ],
             [
              0.6666666666666666,
              "#ed7953"
             ],
             [
              0.7777777777777778,
              "#fb9f3a"
             ],
             [
              0.8888888888888888,
              "#fdca26"
             ],
             [
              1,
              "#f0f921"
             ]
            ],
            "type": "contour"
           }
          ],
          "contourcarpet": [
           {
            "colorbar": {
             "outlinewidth": 0,
             "ticks": ""
            },
            "type": "contourcarpet"
           }
          ],
          "heatmap": [
           {
            "colorbar": {
             "outlinewidth": 0,
             "ticks": ""
            },
            "colorscale": [
             [
              0,
              "#0d0887"
             ],
             [
              0.1111111111111111,
              "#46039f"
             ],
             [
              0.2222222222222222,
              "#7201a8"
             ],
             [
              0.3333333333333333,
              "#9c179e"
             ],
             [
              0.4444444444444444,
              "#bd3786"
             ],
             [
              0.5555555555555556,
              "#d8576b"
             ],
             [
              0.6666666666666666,
              "#ed7953"
             ],
             [
              0.7777777777777778,
              "#fb9f3a"
             ],
             [
              0.8888888888888888,
              "#fdca26"
             ],
             [
              1,
              "#f0f921"
             ]
            ],
            "type": "heatmap"
           }
          ],
          "heatmapgl": [
           {
            "colorbar": {
             "outlinewidth": 0,
             "ticks": ""
            },
            "colorscale": [
             [
              0,
              "#0d0887"
             ],
             [
              0.1111111111111111,
              "#46039f"
             ],
             [
              0.2222222222222222,
              "#7201a8"
             ],
             [
              0.3333333333333333,
              "#9c179e"
             ],
             [
              0.4444444444444444,
              "#bd3786"
             ],
             [
              0.5555555555555556,
              "#d8576b"
             ],
             [
              0.6666666666666666,
              "#ed7953"
             ],
             [
              0.7777777777777778,
              "#fb9f3a"
             ],
             [
              0.8888888888888888,
              "#fdca26"
             ],
             [
              1,
              "#f0f921"
             ]
            ],
            "type": "heatmapgl"
           }
          ],
          "histogram": [
           {
            "marker": {
             "pattern": {
              "fillmode": "overlay",
              "size": 10,
              "solidity": 0.2
             }
            },
            "type": "histogram"
           }
          ],
          "histogram2d": [
           {
            "colorbar": {
             "outlinewidth": 0,
             "ticks": ""
            },
            "colorscale": [
             [
              0,
              "#0d0887"
             ],
             [
              0.1111111111111111,
              "#46039f"
             ],
             [
              0.2222222222222222,
              "#7201a8"
             ],
             [
              0.3333333333333333,
              "#9c179e"
             ],
             [
              0.4444444444444444,
              "#bd3786"
             ],
             [
              0.5555555555555556,
              "#d8576b"
             ],
             [
              0.6666666666666666,
              "#ed7953"
             ],
             [
              0.7777777777777778,
              "#fb9f3a"
             ],
             [
              0.8888888888888888,
              "#fdca26"
             ],
             [
              1,
              "#f0f921"
             ]
            ],
            "type": "histogram2d"
           }
          ],
          "histogram2dcontour": [
           {
            "colorbar": {
             "outlinewidth": 0,
             "ticks": ""
            },
            "colorscale": [
             [
              0,
              "#0d0887"
             ],
             [
              0.1111111111111111,
              "#46039f"
             ],
             [
              0.2222222222222222,
              "#7201a8"
             ],
             [
              0.3333333333333333,
              "#9c179e"
             ],
             [
              0.4444444444444444,
              "#bd3786"
             ],
             [
              0.5555555555555556,
              "#d8576b"
             ],
             [
              0.6666666666666666,
              "#ed7953"
             ],
             [
              0.7777777777777778,
              "#fb9f3a"
             ],
             [
              0.8888888888888888,
              "#fdca26"
             ],
             [
              1,
              "#f0f921"
             ]
            ],
            "type": "histogram2dcontour"
           }
          ],
          "mesh3d": [
           {
            "colorbar": {
             "outlinewidth": 0,
             "ticks": ""
            },
            "type": "mesh3d"
           }
          ],
          "parcoords": [
           {
            "line": {
             "colorbar": {
              "outlinewidth": 0,
              "ticks": ""
             }
            },
            "type": "parcoords"
           }
          ],
          "pie": [
           {
            "automargin": true,
            "type": "pie"
           }
          ],
          "scatter": [
           {
            "fillpattern": {
             "fillmode": "overlay",
             "size": 10,
             "solidity": 0.2
            },
            "type": "scatter"
           }
          ],
          "scatter3d": [
           {
            "line": {
             "colorbar": {
              "outlinewidth": 0,
              "ticks": ""
             }
            },
            "marker": {
             "colorbar": {
              "outlinewidth": 0,
              "ticks": ""
             }
            },
            "type": "scatter3d"
           }
          ],
          "scattercarpet": [
           {
            "marker": {
             "colorbar": {
              "outlinewidth": 0,
              "ticks": ""
             }
            },
            "type": "scattercarpet"
           }
          ],
          "scattergeo": [
           {
            "marker": {
             "colorbar": {
              "outlinewidth": 0,
              "ticks": ""
             }
            },
            "type": "scattergeo"
           }
          ],
          "scattergl": [
           {
            "marker": {
             "colorbar": {
              "outlinewidth": 0,
              "ticks": ""
             }
            },
            "type": "scattergl"
           }
          ],
          "scattermapbox": [
           {
            "marker": {
             "colorbar": {
              "outlinewidth": 0,
              "ticks": ""
             }
            },
            "type": "scattermapbox"
           }
          ],
          "scatterpolar": [
           {
            "marker": {
             "colorbar": {
              "outlinewidth": 0,
              "ticks": ""
             }
            },
            "type": "scatterpolar"
           }
          ],
          "scatterpolargl": [
           {
            "marker": {
             "colorbar": {
              "outlinewidth": 0,
              "ticks": ""
             }
            },
            "type": "scatterpolargl"
           }
          ],
          "scatterternary": [
           {
            "marker": {
             "colorbar": {
              "outlinewidth": 0,
              "ticks": ""
             }
            },
            "type": "scatterternary"
           }
          ],
          "surface": [
           {
            "colorbar": {
             "outlinewidth": 0,
             "ticks": ""
            },
            "colorscale": [
             [
              0,
              "#0d0887"
             ],
             [
              0.1111111111111111,
              "#46039f"
             ],
             [
              0.2222222222222222,
              "#7201a8"
             ],
             [
              0.3333333333333333,
              "#9c179e"
             ],
             [
              0.4444444444444444,
              "#bd3786"
             ],
             [
              0.5555555555555556,
              "#d8576b"
             ],
             [
              0.6666666666666666,
              "#ed7953"
             ],
             [
              0.7777777777777778,
              "#fb9f3a"
             ],
             [
              0.8888888888888888,
              "#fdca26"
             ],
             [
              1,
              "#f0f921"
             ]
            ],
            "type": "surface"
           }
          ],
          "table": [
           {
            "cells": {
             "fill": {
              "color": "#EBF0F8"
             },
             "line": {
              "color": "white"
             }
            },
            "header": {
             "fill": {
              "color": "#C8D4E3"
             },
             "line": {
              "color": "white"
             }
            },
            "type": "table"
           }
          ]
         },
         "layout": {
          "annotationdefaults": {
           "arrowcolor": "#2a3f5f",
           "arrowhead": 0,
           "arrowwidth": 1
          },
          "autotypenumbers": "strict",
          "coloraxis": {
           "colorbar": {
            "outlinewidth": 0,
            "ticks": ""
           }
          },
          "colorscale": {
           "diverging": [
            [
             0,
             "#8e0152"
            ],
            [
             0.1,
             "#c51b7d"
            ],
            [
             0.2,
             "#de77ae"
            ],
            [
             0.3,
             "#f1b6da"
            ],
            [
             0.4,
             "#fde0ef"
            ],
            [
             0.5,
             "#f7f7f7"
            ],
            [
             0.6,
             "#e6f5d0"
            ],
            [
             0.7,
             "#b8e186"
            ],
            [
             0.8,
             "#7fbc41"
            ],
            [
             0.9,
             "#4d9221"
            ],
            [
             1,
             "#276419"
            ]
           ],
           "sequential": [
            [
             0,
             "#0d0887"
            ],
            [
             0.1111111111111111,
             "#46039f"
            ],
            [
             0.2222222222222222,
             "#7201a8"
            ],
            [
             0.3333333333333333,
             "#9c179e"
            ],
            [
             0.4444444444444444,
             "#bd3786"
            ],
            [
             0.5555555555555556,
             "#d8576b"
            ],
            [
             0.6666666666666666,
             "#ed7953"
            ],
            [
             0.7777777777777778,
             "#fb9f3a"
            ],
            [
             0.8888888888888888,
             "#fdca26"
            ],
            [
             1,
             "#f0f921"
            ]
           ],
           "sequentialminus": [
            [
             0,
             "#0d0887"
            ],
            [
             0.1111111111111111,
             "#46039f"
            ],
            [
             0.2222222222222222,
             "#7201a8"
            ],
            [
             0.3333333333333333,
             "#9c179e"
            ],
            [
             0.4444444444444444,
             "#bd3786"
            ],
            [
             0.5555555555555556,
             "#d8576b"
            ],
            [
             0.6666666666666666,
             "#ed7953"
            ],
            [
             0.7777777777777778,
             "#fb9f3a"
            ],
            [
             0.8888888888888888,
             "#fdca26"
            ],
            [
             1,
             "#f0f921"
            ]
           ]
          },
          "colorway": [
           "#636efa",
           "#EF553B",
           "#00cc96",
           "#ab63fa",
           "#FFA15A",
           "#19d3f3",
           "#FF6692",
           "#B6E880",
           "#FF97FF",
           "#FECB52"
          ],
          "font": {
           "color": "#2a3f5f"
          },
          "geo": {
           "bgcolor": "white",
           "lakecolor": "white",
           "landcolor": "#E5ECF6",
           "showlakes": true,
           "showland": true,
           "subunitcolor": "white"
          },
          "hoverlabel": {
           "align": "left"
          },
          "hovermode": "closest",
          "mapbox": {
           "style": "light"
          },
          "paper_bgcolor": "white",
          "plot_bgcolor": "#E5ECF6",
          "polar": {
           "angularaxis": {
            "gridcolor": "white",
            "linecolor": "white",
            "ticks": ""
           },
           "bgcolor": "#E5ECF6",
           "radialaxis": {
            "gridcolor": "white",
            "linecolor": "white",
            "ticks": ""
           }
          },
          "scene": {
           "xaxis": {
            "backgroundcolor": "#E5ECF6",
            "gridcolor": "white",
            "gridwidth": 2,
            "linecolor": "white",
            "showbackground": true,
            "ticks": "",
            "zerolinecolor": "white"
           },
           "yaxis": {
            "backgroundcolor": "#E5ECF6",
            "gridcolor": "white",
            "gridwidth": 2,
            "linecolor": "white",
            "showbackground": true,
            "ticks": "",
            "zerolinecolor": "white"
           },
           "zaxis": {
            "backgroundcolor": "#E5ECF6",
            "gridcolor": "white",
            "gridwidth": 2,
            "linecolor": "white",
            "showbackground": true,
            "ticks": "",
            "zerolinecolor": "white"
           }
          },
          "shapedefaults": {
           "line": {
            "color": "#2a3f5f"
           }
          },
          "ternary": {
           "aaxis": {
            "gridcolor": "white",
            "linecolor": "white",
            "ticks": ""
           },
           "baxis": {
            "gridcolor": "white",
            "linecolor": "white",
            "ticks": ""
           },
           "bgcolor": "#E5ECF6",
           "caxis": {
            "gridcolor": "white",
            "linecolor": "white",
            "ticks": ""
           }
          },
          "title": {
           "x": 0.05
          },
          "xaxis": {
           "automargin": true,
           "gridcolor": "white",
           "linecolor": "white",
           "ticks": "",
           "title": {
            "standoff": 15
           },
           "zerolinecolor": "white",
           "zerolinewidth": 2
          },
          "yaxis": {
           "automargin": true,
           "gridcolor": "white",
           "linecolor": "white",
           "ticks": "",
           "title": {
            "standoff": 15
           },
           "zerolinecolor": "white",
           "zerolinewidth": 2
          }
         }
        },
        "title": {
         "font": {
          "color": "#4D5663"
         },
         "text": "^NDX"
        },
        "xaxis": {
         "anchor": "y2",
         "gridcolor": "#E1E5ED",
         "rangeselector": {
          "bgcolor": "rgba(150, 200, 250, 1)",
          "buttons": [
           {
            "count": 1,
            "label": "1m",
            "step": "month",
            "stepmode": "backward"
           },
           {
            "count": 1,
            "label": "1y",
            "step": "year",
            "stepmode": "backward"
           }
          ],
          "font": {
           "size": 13
          },
          "visible": false,
          "x": 0,
          "y": 0.9
         },
         "rangeslider": {
          "visible": false
         },
         "showgrid": true,
         "tickfont": {
          "color": "#4D5663"
         },
         "title": {
          "font": {
           "color": "#4D5663"
          },
          "text": ""
         },
         "zerolinecolor": "#E1E5ED"
        },
        "yaxis": {
         "gridcolor": "#E1E5ED",
         "showgrid": true,
         "showticklabels": false,
         "tickfont": {
          "color": "#4D5663"
         },
         "title": {
          "font": {
           "color": "#4D5663"
          },
          "text": ""
         },
         "zerolinecolor": "#E1E5ED"
        },
        "yaxis2": {
         "domain": [
          0.23,
          0.9
         ],
         "gridcolor": "#E1E5ED",
         "showgrid": true,
         "tickfont": {
          "color": "#4D5663"
         },
         "title": {
          "font": {
           "color": "#4D5663"
          },
          "text": ""
         },
         "zerolinecolor": "#E1E5ED"
        },
        "yaxis3": {
         "domain": [
          0,
          0.15
         ],
         "gridcolor": "#E1E5ED",
         "showgrid": true,
         "tickfont": {
          "color": "#4D5663"
         },
         "title": {
          "font": {
           "color": "#4D5663"
          },
          "text": ""
         },
         "zerolinecolor": "#E1E5ED"
        }
       }
      },
      "text/html": [
       "<div>                            <div id=\"0da001ff-ea59-43f0-8350-339239f0b719\" class=\"plotly-graph-div\" style=\"height:525px; width:100%;\"></div>            <script type=\"text/javascript\">                require([\"plotly\"], function(Plotly) {                    window.PLOTLYENV=window.PLOTLYENV || {};\n",
       "                    window.PLOTLYENV.BASE_URL='https://plot.ly';                                    if (document.getElementById(\"0da001ff-ea59-43f0-8350-339239f0b719\")) {                    Plotly.newPlot(                        \"0da001ff-ea59-43f0-8350-339239f0b719\",                        [{\"marker\":{\"color\":[\"#000000\",\"#000000\",\"#ff0000\",\"#ff0000\",\"#000000\",\"#ff0000\",\"#ff0000\",\"#ff0000\",\"#ff0000\",\"#000000\",\"#ff0000\",\"#000000\",\"#ff0000\",\"#ff0000\",\"#ff0000\",\"#ff0000\",\"#000000\",\"#000000\",\"#ff0000\",\"#000000\",\"#000000\",\"#000000\",\"#000000\",\"#ff0000\",\"#ff0000\",\"#000000\",\"#000000\",\"#ff0000\",\"#ff0000\",\"#ff0000\",\"#ff0000\",\"#ff0000\",\"#ff0000\",\"#ff0000\",\"#ff0000\",\"#ff0000\",\"#000000\",\"#ff0000\",\"#000000\",\"#ff0000\",\"#ff0000\",\"#ff0000\",\"#ff0000\",\"#ff0000\",\"#000000\",\"#ff0000\",\"#000000\",\"#000000\",\"#ff0000\",\"#000000\",\"#000000\",\"#ff0000\",\"#000000\",\"#ff0000\",\"#000000\",\"#ff0000\",\"#ff0000\",\"#ff0000\",\"#ff0000\",\"#ff0000\",\"#000000\",\"#ff0000\",\"#ff0000\",\"#ff0000\",\"#000000\",\"#ff0000\",\"#ff0000\",\"#ff0000\",\"#ff0000\",\"#000000\",\"#000000\",\"#000000\",\"#000000\",\"#000000\",\"#ff0000\",\"#ff0000\",\"#ff0000\",\"#ff0000\",\"#ff0000\",\"#ff0000\",\"#000000\",\"#000000\",\"#ff0000\",\"#ff0000\",\"#ff0000\",\"#ff0000\",\"#ff0000\",\"#ff0000\",\"#000000\",\"#ff0000\",\"#000000\",\"#000000\",\"#ff0000\",\"#ff0000\",\"#000000\",\"#000000\",\"#ff0000\",\"#ff0000\",\"#ff0000\",\"#000000\",\"#000000\",\"#ff0000\",\"#ff0000\",\"#000000\",\"#000000\",\"#000000\",\"#ff0000\",\"#000000\",\"#000000\",\"#ff0000\",\"#000000\",\"#ff0000\",\"#ff0000\",\"#000000\",\"#000000\",\"#ff0000\",\"#ff0000\",\"#000000\",\"#000000\",\"#ff0000\",\"#000000\",\"#000000\",\"#000000\",\"#ff0000\",\"#ff0000\",\"#000000\"],\"line\":{\"color\":[\"#000000\",\"#000000\",\"#ff0000\",\"#ff0000\",\"#000000\",\"#ff0000\",\"#ff0000\",\"#ff0000\",\"#ff0000\",\"#000000\",\"#ff0000\",\"#000000\",\"#ff0000\",\"#ff0000\",\"#ff0000\",\"#ff0000\",\"#000000\",\"#000000\",\"#ff0000\",\"#000000\",\"#000000\",\"#000000\",\"#000000\",\"#ff0000\",\"#ff0000\",\"#000000\",\"#000000\",\"#ff0000\",\"#ff0000\",\"#ff0000\",\"#ff0000\",\"#ff0000\",\"#ff0000\",\"#ff0000\",\"#ff0000\",\"#ff0000\",\"#000000\",\"#ff0000\",\"#000000\",\"#ff0000\",\"#ff0000\",\"#ff0000\",\"#ff0000\",\"#ff0000\",\"#000000\",\"#ff0000\",\"#000000\",\"#000000\",\"#ff0000\",\"#000000\",\"#000000\",\"#ff0000\",\"#000000\",\"#ff0000\",\"#000000\",\"#ff0000\",\"#ff0000\",\"#ff0000\",\"#ff0000\",\"#ff0000\",\"#000000\",\"#ff0000\",\"#ff0000\",\"#ff0000\",\"#000000\",\"#ff0000\",\"#ff0000\",\"#ff0000\",\"#ff0000\",\"#000000\",\"#000000\",\"#000000\",\"#000000\",\"#000000\",\"#ff0000\",\"#ff0000\",\"#ff0000\",\"#ff0000\",\"#ff0000\",\"#ff0000\",\"#000000\",\"#000000\",\"#ff0000\",\"#ff0000\",\"#ff0000\",\"#ff0000\",\"#ff0000\",\"#ff0000\",\"#000000\",\"#ff0000\",\"#000000\",\"#000000\",\"#ff0000\",\"#ff0000\",\"#000000\",\"#000000\",\"#ff0000\",\"#ff0000\",\"#ff0000\",\"#000000\",\"#000000\",\"#ff0000\",\"#ff0000\",\"#000000\",\"#000000\",\"#000000\",\"#ff0000\",\"#000000\",\"#000000\",\"#ff0000\",\"#000000\",\"#ff0000\",\"#ff0000\",\"#000000\",\"#000000\",\"#ff0000\",\"#ff0000\",\"#000000\",\"#000000\",\"#ff0000\",\"#000000\",\"#000000\",\"#000000\",\"#ff0000\",\"#ff0000\",\"#000000\"],\"width\":1}},\"name\":\"Volume\",\"opacity\":0.8,\"orientation\":\"v\",\"text\":\"\",\"x\":[\"2023-09-20\",\"2023-09-21\",\"2023-09-22\",\"2023-09-25\",\"2023-09-26\",\"2023-09-27\",\"2023-09-28\",\"2023-09-29\",\"2023-10-02\",\"2023-10-03\",\"2023-10-04\",\"2023-10-05\",\"2023-10-06\",\"2023-10-09\",\"2023-10-10\",\"2023-10-11\",\"2023-10-12\",\"2023-10-13\",\"2023-10-16\",\"2023-10-17\",\"2023-10-18\",\"2023-10-19\",\"2023-10-20\",\"2023-10-23\",\"2023-10-24\",\"2023-10-25\",\"2023-10-26\",\"2023-10-27\",\"2023-10-30\",\"2023-10-31\",\"2023-11-01\",\"2023-11-02\",\"2023-11-03\",\"2023-11-06\",\"2023-11-07\",\"2023-11-08\",\"2023-11-09\",\"2023-11-10\",\"2023-11-13\",\"2023-11-14\",\"2023-11-15\",\"2023-11-16\",\"2023-11-17\",\"2023-11-20\",\"2023-11-21\",\"2023-11-22\",\"2023-11-24\",\"2023-11-27\",\"2023-11-28\",\"2023-11-29\",\"2023-11-30\",\"2023-12-01\",\"2023-12-04\",\"2023-12-05\",\"2023-12-06\",\"2023-12-07\",\"2023-12-08\",\"2023-12-11\",\"2023-12-12\",\"2023-12-13\",\"2023-12-14\",\"2023-12-15\",\"2023-12-18\",\"2023-12-19\",\"2023-12-20\",\"2023-12-21\",\"2023-12-22\",\"2023-12-26\",\"2023-12-27\",\"2023-12-28\",\"2023-12-29\",\"2024-01-02\",\"2024-01-03\",\"2024-01-04\",\"2024-01-05\",\"2024-01-08\",\"2024-01-09\",\"2024-01-10\",\"2024-01-11\",\"2024-01-12\",\"2024-01-16\",\"2024-01-17\",\"2024-01-18\",\"2024-01-19\",\"2024-01-22\",\"2024-01-23\",\"2024-01-24\",\"2024-01-25\",\"2024-01-26\",\"2024-01-29\",\"2024-01-30\",\"2024-01-31\",\"2024-02-01\",\"2024-02-02\",\"2024-02-05\",\"2024-02-06\",\"2024-02-07\",\"2024-02-08\",\"2024-02-09\",\"2024-02-12\",\"2024-02-13\",\"2024-02-14\",\"2024-02-15\",\"2024-02-16\",\"2024-02-20\",\"2024-02-21\",\"2024-02-22\",\"2024-02-23\",\"2024-02-26\",\"2024-02-27\",\"2024-02-28\",\"2024-02-29\",\"2024-03-01\",\"2024-03-04\",\"2024-03-05\",\"2024-03-06\",\"2024-03-07\",\"2024-03-08\",\"2024-03-11\",\"2024-03-12\",\"2024-03-13\",\"2024-03-14\",\"2024-03-15\",\"2024-03-18\",\"2024-03-19\",\"2024-03-20\"],\"y\":[4782440000,5014890000,4302700000,4100290000,4693540000,4841410000,4648390000,5138500000,4554700000,4684310000,4308070000,4167470000,4309420000,3835930000,4301350000,4160440000,4858620000,4251550000,4308690000,4417640000,4617140000,5014790000,4622840000,4669060000,4604720000,4599850000,4894900000,4172100000,4149320000,4315630000,4545120000,4962950000,4918750000,4345850000,4354460000,4685550000,5313970000,4722140000,4349590000,5332490000,5063830000,4545180000,4408640000,4561810000,4128600000,3855240000,2541840000,4205880000,4474400000,4890220000,5678070000,5607000000,6270020000,6179120000,5167030000,5694310000,5430840000,5607820000,4950100000,6732040000,8033170000,8377630000,5866080000,5757180000,6294700000,5465640000,4796600000,6120600000,7480170000,5090570000,5441060000,5791170000,5449950000,5289220000,5232820000,6337770000,5068410000,4404590000,5044690000,4958940000,6386180000,5181740000,5587440000,5604950000,5456240000,5207680000,4983210000,5281570000,4510530000,4979310000,4719240000,5875610000,5046920000,4800690000,4831020000,4759640000,4567580000,5675850000,5797260000,5458490000,5599860000,5092660000,6049100000,5223800000,5595700000,4845740000,5653930000,5077910000,5417630000,5423020000,5581690000,6265340000,5457910000,5725470000,6356800000,5511370000,5072790000,5411790000,4917620000,5100330000,4839000000,5450980000,8261950000,5025040000,4758740000,192020066],\"yaxis\":\"y3\",\"type\":\"bar\"},{\"close\":[14969.919921875,14694.240234375,14701.099609375,14768.900390625,14545.830078125,14580.16015625,14702.76953125,14715.240234375,14837.5703125,14565.6201171875,14776.25,14723.2197265625,14973.240234375,15047.150390625,15131.51953125,15241.1201171875,15184.099609375,14995.1201171875,15172.73046875,15122.009765625,14909.259765625,14783.1298828125,14560.8798828125,14604.849609375,14745.8603515625,14381.6396484375,14109.5703125,14180.419921875,14335.509765625,14409.7802734375,14664.91015625,14919.5498046875,15099.490234375,15154.9296875,15296.01953125,15313.240234375,15187.900390625,15529.1201171875,15482.7900390625,15812.4697265625,15817.1796875,15833.169921875,15837.990234375,16027.0595703125,15933.6201171875,16001.3896484375,15982.009765625,15961.98046875,16010.4296875,15987.599609375,15947.8701171875,15997.580078125,15839.669921875,15877.7099609375,15788.0498046875,16022.490234375,16084.6904296875,16221.73046875,16354.25,16562.369140625,16537.830078125,16623.44921875,16729.80078125,16811.849609375,16554.16015625,16757.41015625,16777.400390625,16878.4609375,16906.80078125,16898.470703125,16825.9296875,16543.939453125,16368.490234375,16282.009765625,16305.98046875,16649.869140625,16678.69921875,16793.05078125,16820.900390625,16832.919921875,16830.7109375,16736.279296875,16982.2890625,17314.0,17330.380859375,17404.2109375,17499.30078125,17516.990234375,17421.009765625,17596.26953125,17476.7109375,17137.240234375,17344.7109375,17642.73046875,17613.0390625,17572.73046875,17755.0703125,17783.169921875,17962.41015625,17882.66015625,17600.419921875,17807.630859375,17845.720703125,17685.98046875,17546.099609375,17478.91015625,18004.69921875,17937.609375,17933.330078125,17971.05078125,17874.5,18043.849609375,18302.91015625,18226.48046875,17897.869140625,18017.5703125,18297.990234375,18018.44921875,17951.689453125,18219.109375,18068.470703125,18014.810546875,17808.25,17985.009765625,18032.19921875,18019.7890625],\"decreasing\":{\"line\":{\"color\":\"#000000\"}},\"high\":[15245.1904296875,14849.25,14855.919921875,14771.1201171875,14678.48046875,14657.2099609375,14787.580078125,14901.849609375,14892.1796875,14819.8701171875,14803.0400390625,14784.6904296875,15021.3798828125,15070.6396484375,15241.9404296875,15248.2197265625,15333.98046875,15232.3701171875,15209.5,15187.0595703125,15103.8701171875,15023.91015625,14781.2197265625,14746.3701171875,14774.16015625,14643.6904296875,14372.509765625,14321.0400390625,14388.2001953125,14420.4404296875,14677.8603515625,14930.759765625,15149.7802734375,15180.1904296875,15335.4404296875,15343.1904296875,15382.1103515625,15535.2001953125,15524.66015625,15850.33984375,15904.6298828125,15842.6298828125,15876.8701171875,16056.759765625,15968.08984375,16119.3095703125,16007.4296875,16045.2998046875,16031.51953125,16166.509765625,16013.48046875,16013.75,15852.4501953125,15931.83984375,15990.9404296875,16042.509765625,16100.8603515625,16232.259765625,16354.25,16581.0390625,16660.7109375,16669.76953125,16764.3203125,16813.009765625,16860.6796875,16768.01953125,16839.25,16907.509765625,16922.009765625,16969.169921875,16919.509765625,16686.599609375,16471.080078125,16419.439453125,16415.390625,16655.23046875,16710.880859375,16827.369140625,16898.16015625,16900.369140625,16895.330078125,16749.109375,16996.98046875,17317.2109375,17450.30078125,17410.859375,17665.259765625,17631.33984375,17514.759765625,17603.94921875,17578.4609375,17375.3203125,17356.759765625,17682.2890625,17655.76953125,17680.619140625,17784.169921875,17814.119140625,17987.900390625,18041.44921875,17717.669921875,17815.1796875,17864.58984375,17864.16015625,17657.080078125,17482.130859375,18034.80078125,18091.619140625,18014.109375,17987.5390625,17931.009765625,18068.51953125,18333.259765625,18313.4296875,18097.5,18142.880859375,18337.94921875,18416.73046875,18003.05078125,18228.369140625,18163.740234375,18142.900390625,17930.470703125,18124.3203125,18039.8203125,18087.099609375],\"increasing\":{\"line\":{\"color\":\"#ff0000\"}},\"low\":[14967.599609375,14691.6904296875,14686.83984375,14615.4501953125,14505.6796875,14432.599609375,14510.169921875,14664.7802734375,14701.51953125,14504.1396484375,14592.5595703125,14584.3896484375,14575.9501953125,14816.3203125,15050.5400390625,15119.6201171875,15090.6904296875,14943.419921875,15047.26953125,14932.76953125,14865.8095703125,14749.2998046875,14552.1201171875,14419.0595703125,14610.330078125,14362.240234375,14058.330078125,14130.3701171875,14225.8603515625,14232.400390625,14441.8896484375,14792.8095703125,14965.2900390625,15064.91015625,15153.3095703125,15220.8798828125,15171.3203125,15237.169921875,15404.7099609375,15726.1201171875,15765.3095703125,15738.2197265625,15766.9404296875,15844.830078125,15866.8203125,15964.0400390625,15940.6201171875,15932.1904296875,15921.0703125,15976.6904296875,15825.669921875,15834.9296875,15695.580078125,15760.58984375,15776.9501953125,15875.48046875,15937.580078125,16061.8701171875,16175.4599609375,16357.2099609375,16419.259765625,16557.009765625,16629.2890625,16733.380859375,16552.060546875,16621.51953125,16703.5703125,16813.5703125,16859.55078125,16891.3203125,16757.890625,16453.150390625,16352.1396484375,16276.4296875,16249.1904296875,16349.3896484375,16513.73046875,16654.740234375,16618.859375,16776.919921875,16726.58984375,16561.490234375,16818.130859375,17041.849609375,17309.869140625,17286.01953125,17481.970703125,17430.369140625,17395.5390625,17414.619140625,17443.76953125,17128.740234375,17175.830078125,17378.369140625,17469.619140625,17475.4296875,17637.73046875,17728.55078125,17798.810546875,17859.66015625,17478.23046875,17619.919921875,17722.310546875,17663.400390625,17399.41015625,17319.439453125,17808.259765625,17902.779296875,17926.66015625,17871.060546875,17840.359375,17866.259765625,18064.439453125,18218.25,17804.5,17941.640625,18101.4296875,17995.380859375,17873.330078125,17919.330078125,18030.400390625,17913.630859375,17764.990234375,17973.08984375,17809.150390625,18005.0],\"name\":\"\\u65e5K\\u7dda\\u5716\",\"open\":[15225.33984375,14813.490234375,14756.6201171875,14662.6904296875,14668.4501953125,14600.1396484375,14530.9599609375,14853.349609375,14717.900390625,14744.0498046875,14613.23046875,14769.5498046875,14622.23046875,14871.5703125,15074.0400390625,15194.5302734375,15264.1103515625,15225.73046875,15054.48046875,15009.259765625,15022.2802734375,14981.1298828125,14752.58984375,14514.1103515625,14678.41015625,14642.080078125,14314.009765625,14245.75,14283.98046875,14340.8603515625,14453.6796875,14856.9501953125,14985.1201171875,15137.16015625,15201.76953125,15313.900390625,15351.1201171875,15252.3603515625,15469.2099609375,15744.3603515625,15881.7197265625,15765.2001953125,15803.98046875,15845.2001953125,15951.5498046875,16025.740234375,15974.849609375,15969.7197265625,15940.2900390625,16111.3603515625,15987.66015625,15892.58984375,15837.1201171875,15763.650390625,15990.2001953125,15888.23046875,15952.849609375,16069.6201171875,16209.6103515625,16392.1796875,16603.5390625,16587.0,16631.109375,16734.25,16763.640625,16719.609375,16799.01953125,16816.779296875,16896.140625,16963.51953125,16902.439453125,16667.30078125,16413.259765625,16290.7802734375,16281.740234375,16354.2197265625,16531.9609375,16702.55078125,16852.189453125,16855.0,16775.099609375,16705.509765625,16894.330078125,17060.140625,17403.619140625,17346.94921875,17562.3203125,17589.26953125,17432.869140625,17438.029296875,17556.490234375,17269.98046875,17216.990234375,17415.939453125,17634.689453125,17664.439453125,17674.58984375,17757.599609375,17820.98046875,17942.279296875,17519.80078125,17728.900390625,17815.3203125,17853.58984375,17591.169921875,17412.7890625,17857.759765625,18052.58984375,17970.2109375,17962.580078125,17895.029296875,17991.669921875,18069.2890625,18290.099609375,18088.7109375,18083.509765625,18161.73046875,18312.7890625,17959.6796875,18063.01953125,18151.759765625,18114.689453125,17926.919921875,18024.240234375,17902.51953125,18067.69921875],\"showlegend\":true,\"x\":[\"2023-09-20\",\"2023-09-21\",\"2023-09-22\",\"2023-09-25\",\"2023-09-26\",\"2023-09-27\",\"2023-09-28\",\"2023-09-29\",\"2023-10-02\",\"2023-10-03\",\"2023-10-04\",\"2023-10-05\",\"2023-10-06\",\"2023-10-09\",\"2023-10-10\",\"2023-10-11\",\"2023-10-12\",\"2023-10-13\",\"2023-10-16\",\"2023-10-17\",\"2023-10-18\",\"2023-10-19\",\"2023-10-20\",\"2023-10-23\",\"2023-10-24\",\"2023-10-25\",\"2023-10-26\",\"2023-10-27\",\"2023-10-30\",\"2023-10-31\",\"2023-11-01\",\"2023-11-02\",\"2023-11-03\",\"2023-11-06\",\"2023-11-07\",\"2023-11-08\",\"2023-11-09\",\"2023-11-10\",\"2023-11-13\",\"2023-11-14\",\"2023-11-15\",\"2023-11-16\",\"2023-11-17\",\"2023-11-20\",\"2023-11-21\",\"2023-11-22\",\"2023-11-24\",\"2023-11-27\",\"2023-11-28\",\"2023-11-29\",\"2023-11-30\",\"2023-12-01\",\"2023-12-04\",\"2023-12-05\",\"2023-12-06\",\"2023-12-07\",\"2023-12-08\",\"2023-12-11\",\"2023-12-12\",\"2023-12-13\",\"2023-12-14\",\"2023-12-15\",\"2023-12-18\",\"2023-12-19\",\"2023-12-20\",\"2023-12-21\",\"2023-12-22\",\"2023-12-26\",\"2023-12-27\",\"2023-12-28\",\"2023-12-29\",\"2024-01-02\",\"2024-01-03\",\"2024-01-04\",\"2024-01-05\",\"2024-01-08\",\"2024-01-09\",\"2024-01-10\",\"2024-01-11\",\"2024-01-12\",\"2024-01-16\",\"2024-01-17\",\"2024-01-18\",\"2024-01-19\",\"2024-01-22\",\"2024-01-23\",\"2024-01-24\",\"2024-01-25\",\"2024-01-26\",\"2024-01-29\",\"2024-01-30\",\"2024-01-31\",\"2024-02-01\",\"2024-02-02\",\"2024-02-05\",\"2024-02-06\",\"2024-02-07\",\"2024-02-08\",\"2024-02-09\",\"2024-02-12\",\"2024-02-13\",\"2024-02-14\",\"2024-02-15\",\"2024-02-16\",\"2024-02-20\",\"2024-02-21\",\"2024-02-22\",\"2024-02-23\",\"2024-02-26\",\"2024-02-27\",\"2024-02-28\",\"2024-02-29\",\"2024-03-01\",\"2024-03-04\",\"2024-03-05\",\"2024-03-06\",\"2024-03-07\",\"2024-03-08\",\"2024-03-11\",\"2024-03-12\",\"2024-03-13\",\"2024-03-14\",\"2024-03-15\",\"2024-03-18\",\"2024-03-19\",\"2024-03-20\"],\"yaxis\":\"y2\",\"type\":\"candlestick\"}],                        {\"legend\":{\"bgcolor\":\"#F5F6F9\",\"font\":{\"color\":\"#4D5663\"},\"orientation\":\"h\",\"x\":0.3,\"y\":0.95,\"yanchor\":\"bottom\"},\"margin\":{\"b\":30,\"l\":30,\"r\":30,\"t\":30},\"paper_bgcolor\":\"#F5F6F9\",\"plot_bgcolor\":\"#F5F6F9\",\"showlegend\":true,\"template\":{\"data\":{\"barpolar\":[{\"marker\":{\"line\":{\"color\":\"#E5ECF6\",\"width\":0.5},\"pattern\":{\"fillmode\":\"overlay\",\"size\":10,\"solidity\":0.2}},\"type\":\"barpolar\"}],\"bar\":[{\"error_x\":{\"color\":\"#2a3f5f\"},\"error_y\":{\"color\":\"#2a3f5f\"},\"marker\":{\"line\":{\"color\":\"#E5ECF6\",\"width\":0.5},\"pattern\":{\"fillmode\":\"overlay\",\"size\":10,\"solidity\":0.2}},\"type\":\"bar\"}],\"carpet\":[{\"aaxis\":{\"endlinecolor\":\"#2a3f5f\",\"gridcolor\":\"white\",\"linecolor\":\"white\",\"minorgridcolor\":\"white\",\"startlinecolor\":\"#2a3f5f\"},\"baxis\":{\"endlinecolor\":\"#2a3f5f\",\"gridcolor\":\"white\",\"linecolor\":\"white\",\"minorgridcolor\":\"white\",\"startlinecolor\":\"#2a3f5f\"},\"type\":\"carpet\"}],\"choropleth\":[{\"colorbar\":{\"outlinewidth\":0,\"ticks\":\"\"},\"type\":\"choropleth\"}],\"contourcarpet\":[{\"colorbar\":{\"outlinewidth\":0,\"ticks\":\"\"},\"type\":\"contourcarpet\"}],\"contour\":[{\"colorbar\":{\"outlinewidth\":0,\"ticks\":\"\"},\"colorscale\":[[0.0,\"#0d0887\"],[0.1111111111111111,\"#46039f\"],[0.2222222222222222,\"#7201a8\"],[0.3333333333333333,\"#9c179e\"],[0.4444444444444444,\"#bd3786\"],[0.5555555555555556,\"#d8576b\"],[0.6666666666666666,\"#ed7953\"],[0.7777777777777778,\"#fb9f3a\"],[0.8888888888888888,\"#fdca26\"],[1.0,\"#f0f921\"]],\"type\":\"contour\"}],\"heatmapgl\":[{\"colorbar\":{\"outlinewidth\":0,\"ticks\":\"\"},\"colorscale\":[[0.0,\"#0d0887\"],[0.1111111111111111,\"#46039f\"],[0.2222222222222222,\"#7201a8\"],[0.3333333333333333,\"#9c179e\"],[0.4444444444444444,\"#bd3786\"],[0.5555555555555556,\"#d8576b\"],[0.6666666666666666,\"#ed7953\"],[0.7777777777777778,\"#fb9f3a\"],[0.8888888888888888,\"#fdca26\"],[1.0,\"#f0f921\"]],\"type\":\"heatmapgl\"}],\"heatmap\":[{\"colorbar\":{\"outlinewidth\":0,\"ticks\":\"\"},\"colorscale\":[[0.0,\"#0d0887\"],[0.1111111111111111,\"#46039f\"],[0.2222222222222222,\"#7201a8\"],[0.3333333333333333,\"#9c179e\"],[0.4444444444444444,\"#bd3786\"],[0.5555555555555556,\"#d8576b\"],[0.6666666666666666,\"#ed7953\"],[0.7777777777777778,\"#fb9f3a\"],[0.8888888888888888,\"#fdca26\"],[1.0,\"#f0f921\"]],\"type\":\"heatmap\"}],\"histogram2dcontour\":[{\"colorbar\":{\"outlinewidth\":0,\"ticks\":\"\"},\"colorscale\":[[0.0,\"#0d0887\"],[0.1111111111111111,\"#46039f\"],[0.2222222222222222,\"#7201a8\"],[0.3333333333333333,\"#9c179e\"],[0.4444444444444444,\"#bd3786\"],[0.5555555555555556,\"#d8576b\"],[0.6666666666666666,\"#ed7953\"],[0.7777777777777778,\"#fb9f3a\"],[0.8888888888888888,\"#fdca26\"],[1.0,\"#f0f921\"]],\"type\":\"histogram2dcontour\"}],\"histogram2d\":[{\"colorbar\":{\"outlinewidth\":0,\"ticks\":\"\"},\"colorscale\":[[0.0,\"#0d0887\"],[0.1111111111111111,\"#46039f\"],[0.2222222222222222,\"#7201a8\"],[0.3333333333333333,\"#9c179e\"],[0.4444444444444444,\"#bd3786\"],[0.5555555555555556,\"#d8576b\"],[0.6666666666666666,\"#ed7953\"],[0.7777777777777778,\"#fb9f3a\"],[0.8888888888888888,\"#fdca26\"],[1.0,\"#f0f921\"]],\"type\":\"histogram2d\"}],\"histogram\":[{\"marker\":{\"pattern\":{\"fillmode\":\"overlay\",\"size\":10,\"solidity\":0.2}},\"type\":\"histogram\"}],\"mesh3d\":[{\"colorbar\":{\"outlinewidth\":0,\"ticks\":\"\"},\"type\":\"mesh3d\"}],\"parcoords\":[{\"line\":{\"colorbar\":{\"outlinewidth\":0,\"ticks\":\"\"}},\"type\":\"parcoords\"}],\"pie\":[{\"automargin\":true,\"type\":\"pie\"}],\"scatter3d\":[{\"line\":{\"colorbar\":{\"outlinewidth\":0,\"ticks\":\"\"}},\"marker\":{\"colorbar\":{\"outlinewidth\":0,\"ticks\":\"\"}},\"type\":\"scatter3d\"}],\"scattercarpet\":[{\"marker\":{\"colorbar\":{\"outlinewidth\":0,\"ticks\":\"\"}},\"type\":\"scattercarpet\"}],\"scattergeo\":[{\"marker\":{\"colorbar\":{\"outlinewidth\":0,\"ticks\":\"\"}},\"type\":\"scattergeo\"}],\"scattergl\":[{\"marker\":{\"colorbar\":{\"outlinewidth\":0,\"ticks\":\"\"}},\"type\":\"scattergl\"}],\"scattermapbox\":[{\"marker\":{\"colorbar\":{\"outlinewidth\":0,\"ticks\":\"\"}},\"type\":\"scattermapbox\"}],\"scatterpolargl\":[{\"marker\":{\"colorbar\":{\"outlinewidth\":0,\"ticks\":\"\"}},\"type\":\"scatterpolargl\"}],\"scatterpolar\":[{\"marker\":{\"colorbar\":{\"outlinewidth\":0,\"ticks\":\"\"}},\"type\":\"scatterpolar\"}],\"scatter\":[{\"fillpattern\":{\"fillmode\":\"overlay\",\"size\":10,\"solidity\":0.2},\"type\":\"scatter\"}],\"scatterternary\":[{\"marker\":{\"colorbar\":{\"outlinewidth\":0,\"ticks\":\"\"}},\"type\":\"scatterternary\"}],\"surface\":[{\"colorbar\":{\"outlinewidth\":0,\"ticks\":\"\"},\"colorscale\":[[0.0,\"#0d0887\"],[0.1111111111111111,\"#46039f\"],[0.2222222222222222,\"#7201a8\"],[0.3333333333333333,\"#9c179e\"],[0.4444444444444444,\"#bd3786\"],[0.5555555555555556,\"#d8576b\"],[0.6666666666666666,\"#ed7953\"],[0.7777777777777778,\"#fb9f3a\"],[0.8888888888888888,\"#fdca26\"],[1.0,\"#f0f921\"]],\"type\":\"surface\"}],\"table\":[{\"cells\":{\"fill\":{\"color\":\"#EBF0F8\"},\"line\":{\"color\":\"white\"}},\"header\":{\"fill\":{\"color\":\"#C8D4E3\"},\"line\":{\"color\":\"white\"}},\"type\":\"table\"}]},\"layout\":{\"annotationdefaults\":{\"arrowcolor\":\"#2a3f5f\",\"arrowhead\":0,\"arrowwidth\":1},\"autotypenumbers\":\"strict\",\"coloraxis\":{\"colorbar\":{\"outlinewidth\":0,\"ticks\":\"\"}},\"colorscale\":{\"diverging\":[[0,\"#8e0152\"],[0.1,\"#c51b7d\"],[0.2,\"#de77ae\"],[0.3,\"#f1b6da\"],[0.4,\"#fde0ef\"],[0.5,\"#f7f7f7\"],[0.6,\"#e6f5d0\"],[0.7,\"#b8e186\"],[0.8,\"#7fbc41\"],[0.9,\"#4d9221\"],[1,\"#276419\"]],\"sequential\":[[0.0,\"#0d0887\"],[0.1111111111111111,\"#46039f\"],[0.2222222222222222,\"#7201a8\"],[0.3333333333333333,\"#9c179e\"],[0.4444444444444444,\"#bd3786\"],[0.5555555555555556,\"#d8576b\"],[0.6666666666666666,\"#ed7953\"],[0.7777777777777778,\"#fb9f3a\"],[0.8888888888888888,\"#fdca26\"],[1.0,\"#f0f921\"]],\"sequentialminus\":[[0.0,\"#0d0887\"],[0.1111111111111111,\"#46039f\"],[0.2222222222222222,\"#7201a8\"],[0.3333333333333333,\"#9c179e\"],[0.4444444444444444,\"#bd3786\"],[0.5555555555555556,\"#d8576b\"],[0.6666666666666666,\"#ed7953\"],[0.7777777777777778,\"#fb9f3a\"],[0.8888888888888888,\"#fdca26\"],[1.0,\"#f0f921\"]]},\"colorway\":[\"#636efa\",\"#EF553B\",\"#00cc96\",\"#ab63fa\",\"#FFA15A\",\"#19d3f3\",\"#FF6692\",\"#B6E880\",\"#FF97FF\",\"#FECB52\"],\"font\":{\"color\":\"#2a3f5f\"},\"geo\":{\"bgcolor\":\"white\",\"lakecolor\":\"white\",\"landcolor\":\"#E5ECF6\",\"showlakes\":true,\"showland\":true,\"subunitcolor\":\"white\"},\"hoverlabel\":{\"align\":\"left\"},\"hovermode\":\"closest\",\"mapbox\":{\"style\":\"light\"},\"paper_bgcolor\":\"white\",\"plot_bgcolor\":\"#E5ECF6\",\"polar\":{\"angularaxis\":{\"gridcolor\":\"white\",\"linecolor\":\"white\",\"ticks\":\"\"},\"bgcolor\":\"#E5ECF6\",\"radialaxis\":{\"gridcolor\":\"white\",\"linecolor\":\"white\",\"ticks\":\"\"}},\"scene\":{\"xaxis\":{\"backgroundcolor\":\"#E5ECF6\",\"gridcolor\":\"white\",\"gridwidth\":2,\"linecolor\":\"white\",\"showbackground\":true,\"ticks\":\"\",\"zerolinecolor\":\"white\"},\"yaxis\":{\"backgroundcolor\":\"#E5ECF6\",\"gridcolor\":\"white\",\"gridwidth\":2,\"linecolor\":\"white\",\"showbackground\":true,\"ticks\":\"\",\"zerolinecolor\":\"white\"},\"zaxis\":{\"backgroundcolor\":\"#E5ECF6\",\"gridcolor\":\"white\",\"gridwidth\":2,\"linecolor\":\"white\",\"showbackground\":true,\"ticks\":\"\",\"zerolinecolor\":\"white\"}},\"shapedefaults\":{\"line\":{\"color\":\"#2a3f5f\"}},\"ternary\":{\"aaxis\":{\"gridcolor\":\"white\",\"linecolor\":\"white\",\"ticks\":\"\"},\"baxis\":{\"gridcolor\":\"white\",\"linecolor\":\"white\",\"ticks\":\"\"},\"bgcolor\":\"#E5ECF6\",\"caxis\":{\"gridcolor\":\"white\",\"linecolor\":\"white\",\"ticks\":\"\"}},\"title\":{\"x\":0.05},\"xaxis\":{\"automargin\":true,\"gridcolor\":\"white\",\"linecolor\":\"white\",\"ticks\":\"\",\"title\":{\"standoff\":15},\"zerolinecolor\":\"white\",\"zerolinewidth\":2},\"yaxis\":{\"automargin\":true,\"gridcolor\":\"white\",\"linecolor\":\"white\",\"ticks\":\"\",\"title\":{\"standoff\":15},\"zerolinecolor\":\"white\",\"zerolinewidth\":2}}},\"title\":{\"font\":{\"color\":\"#4D5663\"},\"text\":\"^NDX\"},\"xaxis\":{\"anchor\":\"y2\",\"gridcolor\":\"#E1E5ED\",\"rangeselector\":{\"bgcolor\":\"rgba(150, 200, 250, 1)\",\"buttons\":[{\"count\":1,\"label\":\"1m\",\"step\":\"month\",\"stepmode\":\"backward\"},{\"count\":1,\"label\":\"1y\",\"step\":\"year\",\"stepmode\":\"backward\"}],\"font\":{\"size\":13},\"visible\":false,\"x\":0,\"y\":0.9},\"rangeslider\":{\"visible\":false},\"showgrid\":true,\"tickfont\":{\"color\":\"#4D5663\"},\"title\":{\"font\":{\"color\":\"#4D5663\"},\"text\":\"\"},\"zerolinecolor\":\"#E1E5ED\"},\"yaxis\":{\"gridcolor\":\"#E1E5ED\",\"showgrid\":true,\"showticklabels\":false,\"tickfont\":{\"color\":\"#4D5663\"},\"title\":{\"font\":{\"color\":\"#4D5663\"},\"text\":\"\"},\"zerolinecolor\":\"#E1E5ED\"},\"yaxis3\":{\"domain\":[0.0,0.15],\"gridcolor\":\"#E1E5ED\",\"showgrid\":true,\"tickfont\":{\"color\":\"#4D5663\"},\"title\":{\"font\":{\"color\":\"#4D5663\"},\"text\":\"\"},\"zerolinecolor\":\"#E1E5ED\"},\"yaxis2\":{\"domain\":[0.23,0.9],\"gridcolor\":\"#E1E5ED\",\"showgrid\":true,\"tickfont\":{\"color\":\"#4D5663\"},\"title\":{\"font\":{\"color\":\"#4D5663\"},\"text\":\"\"},\"zerolinecolor\":\"#E1E5ED\"}},                        {\"showLink\": true, \"linkText\": \"Export to plot.ly\", \"plotlyServerURL\": \"https://plot.ly\", \"responsive\": true}                    ).then(function(){\n",
       "                            \n",
       "var gd = document.getElementById('0da001ff-ea59-43f0-8350-339239f0b719');\n",
       "var x = new MutationObserver(function (mutations, observer) {{\n",
       "        var display = window.getComputedStyle(gd).display;\n",
       "        if (!display || display === 'none') {{\n",
       "            console.log([gd, 'removed!']);\n",
       "            Plotly.purge(gd);\n",
       "            observer.disconnect();\n",
       "        }}\n",
       "}});\n",
       "\n",
       "// Listen for the removal of the full notebook cells\n",
       "var notebookContainer = gd.closest('#notebook-container');\n",
       "if (notebookContainer) {{\n",
       "    x.observe(notebookContainer, {childList: true});\n",
       "}}\n",
       "\n",
       "// Listen for the clearing of the current output cell\n",
       "var outputEl = gd.closest('.output');\n",
       "if (outputEl) {{\n",
       "    x.observe(outputEl, {childList: true});\n",
       "}}\n",
       "\n",
       "                        })                };                });            </script>        </div>"
      ]
     },
     "metadata": {},
     "output_type": "display_data"
    }
   ],
   "source": [
    "import yfinance as yf\n",
    "\n",
    "# valid periods: 1d,5d,1mo,3mo,6mo,1y,2y,5y,10y,ytd,max\n",
    "#「YTD」 是「year to date」 的縮寫   GCH24.CMX ^NDX\n",
    "x = '^NDX'\n",
    "prices = yf.download(\n",
    "x,\n",
    "period = '6mo',\n",
    "progress=False\n",
    ")\n",
    "qf = cf.QuantFig(prices, title=x,legend='top', name='日K線圖')\n",
    "qf.add_volume()\n",
    "qf.figure(up_color='#ff0000',down_color='#000000').iplot()"
   ]
  },
  {
   "cell_type": "code",
   "execution_count": 31,
   "metadata": {},
   "outputs": [
    {
     "data": {
      "application/vnd.plotly.v1+json": {
       "config": {
        "linkText": "Export to plot.ly",
        "plotlyServerURL": "https://plot.ly",
        "showLink": true
       },
       "data": [
        {
         "marker": {
          "color": [
           "#000000",
           "#000000",
           "#ff0000",
           "#ff0000",
           "#000000",
           "#ff0000",
           "#ff0000",
           "#ff0000",
           "#ff0000",
           "#000000",
           "#ff0000",
           "#000000",
           "#ff0000",
           "#ff0000",
           "#ff0000",
           "#ff0000",
           "#000000",
           "#000000",
           "#ff0000",
           "#000000",
           "#000000",
           "#000000",
           "#000000",
           "#ff0000",
           "#ff0000",
           "#000000",
           "#000000",
           "#ff0000",
           "#ff0000",
           "#ff0000",
           "#ff0000",
           "#ff0000",
           "#ff0000",
           "#ff0000",
           "#ff0000",
           "#ff0000",
           "#000000",
           "#ff0000",
           "#000000",
           "#ff0000",
           "#ff0000",
           "#ff0000",
           "#ff0000",
           "#ff0000",
           "#000000",
           "#ff0000",
           "#000000",
           "#000000",
           "#ff0000",
           "#000000",
           "#000000",
           "#ff0000",
           "#000000",
           "#ff0000",
           "#000000",
           "#ff0000",
           "#ff0000",
           "#ff0000",
           "#ff0000",
           "#ff0000",
           "#000000",
           "#ff0000",
           "#ff0000",
           "#ff0000",
           "#000000",
           "#ff0000",
           "#ff0000",
           "#ff0000",
           "#ff0000",
           "#000000",
           "#000000",
           "#000000",
           "#000000",
           "#000000",
           "#ff0000",
           "#ff0000",
           "#ff0000",
           "#ff0000",
           "#ff0000",
           "#ff0000",
           "#000000",
           "#000000",
           "#ff0000",
           "#ff0000",
           "#ff0000",
           "#ff0000",
           "#ff0000",
           "#ff0000",
           "#000000",
           "#ff0000",
           "#000000",
           "#000000",
           "#ff0000",
           "#ff0000",
           "#000000",
           "#000000",
           "#ff0000",
           "#ff0000",
           "#ff0000",
           "#000000",
           "#000000",
           "#ff0000",
           "#ff0000",
           "#000000",
           "#000000",
           "#000000",
           "#ff0000",
           "#000000",
           "#000000",
           "#ff0000",
           "#000000",
           "#ff0000",
           "#ff0000",
           "#000000",
           "#000000",
           "#ff0000",
           "#ff0000",
           "#000000",
           "#000000",
           "#ff0000",
           "#000000",
           "#000000",
           "#000000",
           "#ff0000",
           "#ff0000",
           "#000000"
          ],
          "line": {
           "color": [
            "#000000",
            "#000000",
            "#ff0000",
            "#ff0000",
            "#000000",
            "#ff0000",
            "#ff0000",
            "#ff0000",
            "#ff0000",
            "#000000",
            "#ff0000",
            "#000000",
            "#ff0000",
            "#ff0000",
            "#ff0000",
            "#ff0000",
            "#000000",
            "#000000",
            "#ff0000",
            "#000000",
            "#000000",
            "#000000",
            "#000000",
            "#ff0000",
            "#ff0000",
            "#000000",
            "#000000",
            "#ff0000",
            "#ff0000",
            "#ff0000",
            "#ff0000",
            "#ff0000",
            "#ff0000",
            "#ff0000",
            "#ff0000",
            "#ff0000",
            "#000000",
            "#ff0000",
            "#000000",
            "#ff0000",
            "#ff0000",
            "#ff0000",
            "#ff0000",
            "#ff0000",
            "#000000",
            "#ff0000",
            "#000000",
            "#000000",
            "#ff0000",
            "#000000",
            "#000000",
            "#ff0000",
            "#000000",
            "#ff0000",
            "#000000",
            "#ff0000",
            "#ff0000",
            "#ff0000",
            "#ff0000",
            "#ff0000",
            "#000000",
            "#ff0000",
            "#ff0000",
            "#ff0000",
            "#000000",
            "#ff0000",
            "#ff0000",
            "#ff0000",
            "#ff0000",
            "#000000",
            "#000000",
            "#000000",
            "#000000",
            "#000000",
            "#ff0000",
            "#ff0000",
            "#ff0000",
            "#ff0000",
            "#ff0000",
            "#ff0000",
            "#000000",
            "#000000",
            "#ff0000",
            "#ff0000",
            "#ff0000",
            "#ff0000",
            "#ff0000",
            "#ff0000",
            "#000000",
            "#ff0000",
            "#000000",
            "#000000",
            "#ff0000",
            "#ff0000",
            "#000000",
            "#000000",
            "#ff0000",
            "#ff0000",
            "#ff0000",
            "#000000",
            "#000000",
            "#ff0000",
            "#ff0000",
            "#000000",
            "#000000",
            "#000000",
            "#ff0000",
            "#000000",
            "#000000",
            "#ff0000",
            "#000000",
            "#ff0000",
            "#ff0000",
            "#000000",
            "#000000",
            "#ff0000",
            "#ff0000",
            "#000000",
            "#000000",
            "#ff0000",
            "#000000",
            "#000000",
            "#000000",
            "#ff0000",
            "#ff0000",
            "#000000"
           ],
           "width": 1
          }
         },
         "name": "Volume",
         "opacity": 0.8,
         "orientation": "v",
         "text": "",
         "type": "bar",
         "x": [
          "2023-09-20",
          "2023-09-21",
          "2023-09-22",
          "2023-09-25",
          "2023-09-26",
          "2023-09-27",
          "2023-09-28",
          "2023-09-29",
          "2023-10-02",
          "2023-10-03",
          "2023-10-04",
          "2023-10-05",
          "2023-10-06",
          "2023-10-09",
          "2023-10-10",
          "2023-10-11",
          "2023-10-12",
          "2023-10-13",
          "2023-10-16",
          "2023-10-17",
          "2023-10-18",
          "2023-10-19",
          "2023-10-20",
          "2023-10-23",
          "2023-10-24",
          "2023-10-25",
          "2023-10-26",
          "2023-10-27",
          "2023-10-30",
          "2023-10-31",
          "2023-11-01",
          "2023-11-02",
          "2023-11-03",
          "2023-11-06",
          "2023-11-07",
          "2023-11-08",
          "2023-11-09",
          "2023-11-10",
          "2023-11-13",
          "2023-11-14",
          "2023-11-15",
          "2023-11-16",
          "2023-11-17",
          "2023-11-20",
          "2023-11-21",
          "2023-11-22",
          "2023-11-24",
          "2023-11-27",
          "2023-11-28",
          "2023-11-29",
          "2023-11-30",
          "2023-12-01",
          "2023-12-04",
          "2023-12-05",
          "2023-12-06",
          "2023-12-07",
          "2023-12-08",
          "2023-12-11",
          "2023-12-12",
          "2023-12-13",
          "2023-12-14",
          "2023-12-15",
          "2023-12-18",
          "2023-12-19",
          "2023-12-20",
          "2023-12-21",
          "2023-12-22",
          "2023-12-26",
          "2023-12-27",
          "2023-12-28",
          "2023-12-29",
          "2024-01-02",
          "2024-01-03",
          "2024-01-04",
          "2024-01-05",
          "2024-01-08",
          "2024-01-09",
          "2024-01-10",
          "2024-01-11",
          "2024-01-12",
          "2024-01-16",
          "2024-01-17",
          "2024-01-18",
          "2024-01-19",
          "2024-01-22",
          "2024-01-23",
          "2024-01-24",
          "2024-01-25",
          "2024-01-26",
          "2024-01-29",
          "2024-01-30",
          "2024-01-31",
          "2024-02-01",
          "2024-02-02",
          "2024-02-05",
          "2024-02-06",
          "2024-02-07",
          "2024-02-08",
          "2024-02-09",
          "2024-02-12",
          "2024-02-13",
          "2024-02-14",
          "2024-02-15",
          "2024-02-16",
          "2024-02-20",
          "2024-02-21",
          "2024-02-22",
          "2024-02-23",
          "2024-02-26",
          "2024-02-27",
          "2024-02-28",
          "2024-02-29",
          "2024-03-01",
          "2024-03-04",
          "2024-03-05",
          "2024-03-06",
          "2024-03-07",
          "2024-03-08",
          "2024-03-11",
          "2024-03-12",
          "2024-03-13",
          "2024-03-14",
          "2024-03-15",
          "2024-03-18",
          "2024-03-19",
          "2024-03-20"
         ],
         "y": [
          4782440000,
          5014890000,
          4302700000,
          4100290000,
          4693540000,
          4841410000,
          4648390000,
          5138500000,
          4554700000,
          4684310000,
          4308070000,
          4167470000,
          4309420000,
          3835930000,
          4301350000,
          4160440000,
          4858620000,
          4251550000,
          4308690000,
          4417640000,
          4617140000,
          5014790000,
          4622840000,
          4669060000,
          4604720000,
          4599850000,
          4894900000,
          4172100000,
          4149320000,
          4315630000,
          4545120000,
          4962950000,
          4918750000,
          4345850000,
          4354460000,
          4685550000,
          5313970000,
          4722140000,
          4349590000,
          5332490000,
          5063830000,
          4545180000,
          4408640000,
          4561810000,
          4128600000,
          3855240000,
          2541840000,
          4205880000,
          4474400000,
          4890220000,
          5678070000,
          5607000000,
          6270020000,
          6179120000,
          5167030000,
          5694310000,
          5430840000,
          5607820000,
          4950100000,
          6732040000,
          8033170000,
          8377630000,
          5866080000,
          5757180000,
          6294700000,
          5465640000,
          4796600000,
          6120600000,
          7480170000,
          5090570000,
          5441060000,
          5791170000,
          5449950000,
          5289220000,
          5232820000,
          6337770000,
          5068410000,
          4404590000,
          5044690000,
          4958940000,
          6386180000,
          5181740000,
          5587440000,
          5604950000,
          5456240000,
          5207680000,
          4983210000,
          5281570000,
          4510530000,
          4979310000,
          4719240000,
          5875610000,
          5046920000,
          4800690000,
          4831020000,
          4759640000,
          4567580000,
          5675850000,
          5797260000,
          5458490000,
          5599860000,
          5092660000,
          6049100000,
          5223800000,
          5595700000,
          4845740000,
          5653930000,
          5077910000,
          5417630000,
          5423020000,
          5581690000,
          6265340000,
          5457910000,
          5725470000,
          6356800000,
          5511370000,
          5072790000,
          5411790000,
          4917620000,
          5100330000,
          4839000000,
          5450980000,
          8261950000,
          5025040000,
          4758740000,
          192020066
         ],
         "yaxis": "y3"
        },
        {
         "legendgroup": "RSI(Close,[5, 30])",
         "line": {
          "color": "rgba(255, 102, 0, 1.0)",
          "dash": "solid",
          "shape": "linear",
          "width": 1.3
         },
         "mode": "lines",
         "name": "RSI(Close,[5, 30])",
         "showlegend": true,
         "text": "",
         "type": "scatter",
         "x": [
          "2023-09-20",
          "2023-09-21",
          "2023-09-22",
          "2023-09-25",
          "2023-09-26",
          "2023-09-27",
          "2023-09-28",
          "2023-09-29",
          "2023-10-02",
          "2023-10-03",
          "2023-10-04",
          "2023-10-05",
          "2023-10-06",
          "2023-10-09",
          "2023-10-10",
          "2023-10-11",
          "2023-10-12",
          "2023-10-13",
          "2023-10-16",
          "2023-10-17",
          "2023-10-18",
          "2023-10-19",
          "2023-10-20",
          "2023-10-23",
          "2023-10-24",
          "2023-10-25",
          "2023-10-26",
          "2023-10-27",
          "2023-10-30",
          "2023-10-31",
          "2023-11-01",
          "2023-11-02",
          "2023-11-03",
          "2023-11-06",
          "2023-11-07",
          "2023-11-08",
          "2023-11-09",
          "2023-11-10",
          "2023-11-13",
          "2023-11-14",
          "2023-11-15",
          "2023-11-16",
          "2023-11-17",
          "2023-11-20",
          "2023-11-21",
          "2023-11-22",
          "2023-11-24",
          "2023-11-27",
          "2023-11-28",
          "2023-11-29",
          "2023-11-30",
          "2023-12-01",
          "2023-12-04",
          "2023-12-05",
          "2023-12-06",
          "2023-12-07",
          "2023-12-08",
          "2023-12-11",
          "2023-12-12",
          "2023-12-13",
          "2023-12-14",
          "2023-12-15",
          "2023-12-18",
          "2023-12-19",
          "2023-12-20",
          "2023-12-21",
          "2023-12-22",
          "2023-12-26",
          "2023-12-27",
          "2023-12-28",
          "2023-12-29",
          "2024-01-02",
          "2024-01-03",
          "2024-01-04",
          "2024-01-05",
          "2024-01-08",
          "2024-01-09",
          "2024-01-10",
          "2024-01-11",
          "2024-01-12",
          "2024-01-16",
          "2024-01-17",
          "2024-01-18",
          "2024-01-19",
          "2024-01-22",
          "2024-01-23",
          "2024-01-24",
          "2024-01-25",
          "2024-01-26",
          "2024-01-29",
          "2024-01-30",
          "2024-01-31",
          "2024-02-01",
          "2024-02-02",
          "2024-02-05",
          "2024-02-06",
          "2024-02-07",
          "2024-02-08",
          "2024-02-09",
          "2024-02-12",
          "2024-02-13",
          "2024-02-14",
          "2024-02-15",
          "2024-02-16",
          "2024-02-20",
          "2024-02-21",
          "2024-02-22",
          "2024-02-23",
          "2024-02-26",
          "2024-02-27",
          "2024-02-28",
          "2024-02-29",
          "2024-03-01",
          "2024-03-04",
          "2024-03-05",
          "2024-03-06",
          "2024-03-07",
          "2024-03-08",
          "2024-03-11",
          "2024-03-12",
          "2024-03-13",
          "2024-03-14",
          "2024-03-15",
          "2024-03-18",
          "2024-03-19",
          "2024-03-20"
         ],
         "y": [
          "",
          "",
          "",
          "",
          13.020375630990571,
          17.933687488551016,
          50.9379658148296,
          51.53608527394935,
          56.66943619277419,
          51.75539959703337,
          63.24948861761795,
          51.52519806963137,
          64.20765967698912,
          62.191394844177836,
          92.1081200487729,
          90.71160882126051,
          90.08202555038991,
          52.12889077236784,
          60.167108895923796,
          49.185712422191976,
          25.84998528933113,
          23.48751644951372,
          22.4976744416186,
          6.70453868604443,
          24.7926420485408,
          20.608775974488722,
          17.726577232082292,
          28.676640420522133,
          36.576503088624946,
          32.056589528830756,
          67.1179215052634,
          100,
          100,
          100,
          100,
          100,
          75.85114969886376,
          81.57605754503422,
          74.4234398210994,
          80.03350654513446,
          79.73868563670018,
          93.72161346673019,
          88.46162264967762,
          100,
          69.6654006378756,
          74.82019500256582,
          69.87294831875576,
          65.90893143544506,
          46.661569526946224,
          65.12386382913522,
          32.20972810138417,
          54.307186929319336,
          30.806740305753408,
          28.469949337329737,
          23.39689260020154,
          56.548372997848944,
          57.480481361901965,
          84.02864031562797,
          86.32938307119852,
          100,
          95.6523243662235,
          95.82553223301132,
          95.59559699922877,
          95.15686977438044,
          49.26211117314316,
          64.93825388853014,
          61.50039247498519,
          61.19363036342459,
          57.778673809318086,
          97.69231185442898,
          64.87861977708789,
          26.2869091168792,
          5.001292546316236,
          0,
          3.742898008850233,
          40.34522128993147,
          60.2304774726953,
          85.52680179517604,
          100,
          100,
          98.80762864643185,
          61.4764755802275,
          74.7357671687516,
          85.92026224507508,
          86.00916134140135,
          87.61330156534214,
          100,
          100,
          67.89636317312655,
          79.03668218019871,
          57.198485835738005,
          25.79676463292033,
          40.814124713875394,
          59.726475280473366,
          50.84335881941552,
          55.24719293002604,
          90.76310085590798,
          87.89888274003869,
          84.77200496269481,
          76.44701248342822,
          51.841862519650256,
          53.38427370978573,
          53.97636974055386,
          31.980545936035853,
          29.655708170112888,
          40.074537094648704,
          60.5872242729999,
          54.78741699076647,
          65.37806758709459,
          80.2642304129261,
          77.04223321192443,
          55.22018802572984,
          82.21569221865484,
          72.93421957368783,
          46.06551145515907,
          57.50511255824628,
          61.94019989649135,
          36.88761325823598,
          37.219417278172735,
          65.84272000647292,
          52.435939857214166,
          32.6911414286601,
          35.89340953179888,
          51.94846726666363,
          35.2782273199968,
          45.09830913789238
         ],
         "yaxis": "y4"
        },
        {
         "legendgroup": "RSI(Close,[5, 30])",
         "line": {
          "color": "rgba(0, 0, 230, 1.0)",
          "dash": "solid",
          "shape": "linear",
          "width": 1.3
         },
         "mode": "lines",
         "name": "RSI(Close,30)",
         "showlegend": false,
         "text": "",
         "type": "scatter",
         "x": [
          "2023-09-20",
          "2023-09-21",
          "2023-09-22",
          "2023-09-25",
          "2023-09-26",
          "2023-09-27",
          "2023-09-28",
          "2023-09-29",
          "2023-10-02",
          "2023-10-03",
          "2023-10-04",
          "2023-10-05",
          "2023-10-06",
          "2023-10-09",
          "2023-10-10",
          "2023-10-11",
          "2023-10-12",
          "2023-10-13",
          "2023-10-16",
          "2023-10-17",
          "2023-10-18",
          "2023-10-19",
          "2023-10-20",
          "2023-10-23",
          "2023-10-24",
          "2023-10-25",
          "2023-10-26",
          "2023-10-27",
          "2023-10-30",
          "2023-10-31",
          "2023-11-01",
          "2023-11-02",
          "2023-11-03",
          "2023-11-06",
          "2023-11-07",
          "2023-11-08",
          "2023-11-09",
          "2023-11-10",
          "2023-11-13",
          "2023-11-14",
          "2023-11-15",
          "2023-11-16",
          "2023-11-17",
          "2023-11-20",
          "2023-11-21",
          "2023-11-22",
          "2023-11-24",
          "2023-11-27",
          "2023-11-28",
          "2023-11-29",
          "2023-11-30",
          "2023-12-01",
          "2023-12-04",
          "2023-12-05",
          "2023-12-06",
          "2023-12-07",
          "2023-12-08",
          "2023-12-11",
          "2023-12-12",
          "2023-12-13",
          "2023-12-14",
          "2023-12-15",
          "2023-12-18",
          "2023-12-19",
          "2023-12-20",
          "2023-12-21",
          "2023-12-22",
          "2023-12-26",
          "2023-12-27",
          "2023-12-28",
          "2023-12-29",
          "2024-01-02",
          "2024-01-03",
          "2024-01-04",
          "2024-01-05",
          "2024-01-08",
          "2024-01-09",
          "2024-01-10",
          "2024-01-11",
          "2024-01-12",
          "2024-01-16",
          "2024-01-17",
          "2024-01-18",
          "2024-01-19",
          "2024-01-22",
          "2024-01-23",
          "2024-01-24",
          "2024-01-25",
          "2024-01-26",
          "2024-01-29",
          "2024-01-30",
          "2024-01-31",
          "2024-02-01",
          "2024-02-02",
          "2024-02-05",
          "2024-02-06",
          "2024-02-07",
          "2024-02-08",
          "2024-02-09",
          "2024-02-12",
          "2024-02-13",
          "2024-02-14",
          "2024-02-15",
          "2024-02-16",
          "2024-02-20",
          "2024-02-21",
          "2024-02-22",
          "2024-02-23",
          "2024-02-26",
          "2024-02-27",
          "2024-02-28",
          "2024-02-29",
          "2024-03-01",
          "2024-03-04",
          "2024-03-05",
          "2024-03-06",
          "2024-03-07",
          "2024-03-08",
          "2024-03-11",
          "2024-03-12",
          "2024-03-13",
          "2024-03-14",
          "2024-03-15",
          "2024-03-18",
          "2024-03-19",
          "2024-03-20"
         ],
         "y": [
          "",
          "",
          "",
          "",
          "",
          "",
          "",
          "",
          "",
          "",
          "",
          "",
          "",
          "",
          "",
          "",
          "",
          "",
          "",
          "",
          "",
          "",
          "",
          "",
          "",
          "",
          "",
          "",
          "",
          43.1281369678611,
          46.47854293555101,
          52.613986687438036,
          54.44357305309388,
          54.31760302439958,
          58.54735261431756,
          58.385106766089535,
          55.54555338990808,
          58.65313832823642,
          56.972632072176275,
          63.30815766652213,
          61.62112104887423,
          62.49501722561321,
          60.30354538100722,
          61.36382116721446,
          59.28228113179614,
          58.88420754725595,
          59.40681330239867,
          61.87153634693882,
          60.62256510594033,
          61.05442881052807,
          63.877349117948015,
          66.56511253141265,
          67.75433126551238,
          67.7011505804237,
          64.7033003005684,
          74.02918973556937,
          80.81871245226392,
          81.20690262643538,
          81.07631111338279,
          81.82527488044502,
          79.71667153197811,
          78.56711317422702,
          78.02486760087481,
          78.22407911257852,
          70.61245256212521,
          72.30086312301056,
          75.3705082306759,
          73.32550484784254,
          74.77035996671889,
          71.26848787212418,
          69.24429765467573,
          62.31022883493359,
          58.67528863757443,
          54.313956504999396,
          56.45231762371439,
          60.25556954107754,
          60.98516484599428,
          62.725518566347006,
          62.488879338261945,
          63.06943465554446,
          63.80975774734637,
          61.39559884638144,
          67.16025815141668,
          69.8222126262271,
          71.72510614626272,
          70.38512807538544,
          70.66976935592086,
          69.60981618892899,
          66.33108342059296,
          65.98890049408325,
          64.10492952332663,
          57.171739973206265,
          58.34756260526127,
          60.654661155973294,
          64.42164558268507,
          61.620198196191964,
          63.317747933697405,
          62.57381375453523,
          64.08045318221701,
          62.8823573022735,
          59.60998681149944,
          65.97654965197835,
          69.3482783214107,
          68.04249882658863,
          65.47578947265795,
          61.113319100962386,
          65.68524527140609,
          63.69206944376946,
          63.383191378574644,
          63.60823832229444,
          62.2048808561367,
          65.02598162791867,
          65.13057138125947,
          61.103975555519646,
          56.41805326811477,
          56.86560089967268,
          58.5839375669359,
          55.102263066417436,
          55.43187861098339,
          56.257152006329086,
          55.908022505712424,
          59.29178174996091,
          54.9089332607469,
          53.72032762370912,
          54.538702372281456,
          54.870213597124696
         ],
         "yaxis": "y4"
        },
        {
         "legendgroup": "RSI(Close,[5, 30])",
         "line": {
          "color": "#000000",
          "width": 1
         },
         "mode": "lines",
         "name": "",
         "showlegend": true,
         "text": "",
         "type": "scatter",
         "x": [
          "2023-09-20",
          "2023-09-21",
          "2023-09-22",
          "2023-09-25",
          "2023-09-26",
          "2023-09-27",
          "2023-09-28",
          "2023-09-29",
          "2023-10-02",
          "2023-10-03",
          "2023-10-04",
          "2023-10-05",
          "2023-10-06",
          "2023-10-09",
          "2023-10-10",
          "2023-10-11",
          "2023-10-12",
          "2023-10-13",
          "2023-10-16",
          "2023-10-17",
          "2023-10-18",
          "2023-10-19",
          "2023-10-20",
          "2023-10-23",
          "2023-10-24",
          "2023-10-25",
          "2023-10-26",
          "2023-10-27",
          "2023-10-30",
          "2023-10-31",
          "2023-11-01",
          "2023-11-02",
          "2023-11-03",
          "2023-11-06",
          "2023-11-07",
          "2023-11-08",
          "2023-11-09",
          "2023-11-10",
          "2023-11-13",
          "2023-11-14",
          "2023-11-15",
          "2023-11-16",
          "2023-11-17",
          "2023-11-20",
          "2023-11-21",
          "2023-11-22",
          "2023-11-24",
          "2023-11-27",
          "2023-11-28",
          "2023-11-29",
          "2023-11-30",
          "2023-12-01",
          "2023-12-04",
          "2023-12-05",
          "2023-12-06",
          "2023-12-07",
          "2023-12-08",
          "2023-12-11",
          "2023-12-12",
          "2023-12-13",
          "2023-12-14",
          "2023-12-15",
          "2023-12-18",
          "2023-12-19",
          "2023-12-20",
          "2023-12-21",
          "2023-12-22",
          "2023-12-26",
          "2023-12-27",
          "2023-12-28",
          "2023-12-29",
          "2024-01-02",
          "2024-01-03",
          "2024-01-04",
          "2024-01-05",
          "2024-01-08",
          "2024-01-09",
          "2024-01-10",
          "2024-01-11",
          "2024-01-12",
          "2024-01-16",
          "2024-01-17",
          "2024-01-18",
          "2024-01-19",
          "2024-01-22",
          "2024-01-23",
          "2024-01-24",
          "2024-01-25",
          "2024-01-26",
          "2024-01-29",
          "2024-01-30",
          "2024-01-31",
          "2024-02-01",
          "2024-02-02",
          "2024-02-05",
          "2024-02-06",
          "2024-02-07",
          "2024-02-08",
          "2024-02-09",
          "2024-02-12",
          "2024-02-13",
          "2024-02-14",
          "2024-02-15",
          "2024-02-16",
          "2024-02-20",
          "2024-02-21",
          "2024-02-22",
          "2024-02-23",
          "2024-02-26",
          "2024-02-27",
          "2024-02-28",
          "2024-02-29",
          "2024-03-01",
          "2024-03-04",
          "2024-03-05",
          "2024-03-06",
          "2024-03-07",
          "2024-03-08",
          "2024-03-11",
          "2024-03-12",
          "2024-03-13",
          "2024-03-14",
          "2024-03-15",
          "2024-03-18",
          "2024-03-19",
          "2024-03-20"
         ],
         "y": [
          20,
          20,
          20,
          20,
          20,
          20,
          20,
          20,
          20,
          20,
          20,
          20,
          20,
          20,
          20,
          20,
          20,
          20,
          20,
          20,
          20,
          20,
          20,
          20,
          20,
          20,
          20,
          20,
          20,
          20,
          20,
          20,
          20,
          20,
          20,
          20,
          20,
          20,
          20,
          20,
          20,
          20,
          20,
          20,
          20,
          20,
          20,
          20,
          20,
          20,
          20,
          20,
          20,
          20,
          20,
          20,
          20,
          20,
          20,
          20,
          20,
          20,
          20,
          20,
          20,
          20,
          20,
          20,
          20,
          20,
          20,
          20,
          20,
          20,
          20,
          20,
          20,
          20,
          20,
          20,
          20,
          20,
          20,
          20,
          20,
          20,
          20,
          20,
          20,
          20,
          20,
          20,
          20,
          20,
          20,
          20,
          20,
          20,
          20,
          20,
          20,
          20,
          20,
          20,
          20,
          20,
          20,
          20,
          20,
          20,
          20,
          20,
          20,
          20,
          20,
          20,
          20,
          20,
          20,
          20,
          20,
          20,
          20,
          20,
          20,
          20
         ],
         "yaxis": "y4"
        },
        {
         "legendgroup": "RSI(Close,[5, 30])",
         "line": {
          "color": "#ff0000",
          "width": 1
         },
         "mode": "lines",
         "name": "",
         "showlegend": true,
         "text": "",
         "type": "scatter",
         "x": [
          "2023-09-20",
          "2023-09-21",
          "2023-09-22",
          "2023-09-25",
          "2023-09-26",
          "2023-09-27",
          "2023-09-28",
          "2023-09-29",
          "2023-10-02",
          "2023-10-03",
          "2023-10-04",
          "2023-10-05",
          "2023-10-06",
          "2023-10-09",
          "2023-10-10",
          "2023-10-11",
          "2023-10-12",
          "2023-10-13",
          "2023-10-16",
          "2023-10-17",
          "2023-10-18",
          "2023-10-19",
          "2023-10-20",
          "2023-10-23",
          "2023-10-24",
          "2023-10-25",
          "2023-10-26",
          "2023-10-27",
          "2023-10-30",
          "2023-10-31",
          "2023-11-01",
          "2023-11-02",
          "2023-11-03",
          "2023-11-06",
          "2023-11-07",
          "2023-11-08",
          "2023-11-09",
          "2023-11-10",
          "2023-11-13",
          "2023-11-14",
          "2023-11-15",
          "2023-11-16",
          "2023-11-17",
          "2023-11-20",
          "2023-11-21",
          "2023-11-22",
          "2023-11-24",
          "2023-11-27",
          "2023-11-28",
          "2023-11-29",
          "2023-11-30",
          "2023-12-01",
          "2023-12-04",
          "2023-12-05",
          "2023-12-06",
          "2023-12-07",
          "2023-12-08",
          "2023-12-11",
          "2023-12-12",
          "2023-12-13",
          "2023-12-14",
          "2023-12-15",
          "2023-12-18",
          "2023-12-19",
          "2023-12-20",
          "2023-12-21",
          "2023-12-22",
          "2023-12-26",
          "2023-12-27",
          "2023-12-28",
          "2023-12-29",
          "2024-01-02",
          "2024-01-03",
          "2024-01-04",
          "2024-01-05",
          "2024-01-08",
          "2024-01-09",
          "2024-01-10",
          "2024-01-11",
          "2024-01-12",
          "2024-01-16",
          "2024-01-17",
          "2024-01-18",
          "2024-01-19",
          "2024-01-22",
          "2024-01-23",
          "2024-01-24",
          "2024-01-25",
          "2024-01-26",
          "2024-01-29",
          "2024-01-30",
          "2024-01-31",
          "2024-02-01",
          "2024-02-02",
          "2024-02-05",
          "2024-02-06",
          "2024-02-07",
          "2024-02-08",
          "2024-02-09",
          "2024-02-12",
          "2024-02-13",
          "2024-02-14",
          "2024-02-15",
          "2024-02-16",
          "2024-02-20",
          "2024-02-21",
          "2024-02-22",
          "2024-02-23",
          "2024-02-26",
          "2024-02-27",
          "2024-02-28",
          "2024-02-29",
          "2024-03-01",
          "2024-03-04",
          "2024-03-05",
          "2024-03-06",
          "2024-03-07",
          "2024-03-08",
          "2024-03-11",
          "2024-03-12",
          "2024-03-13",
          "2024-03-14",
          "2024-03-15",
          "2024-03-18",
          "2024-03-19",
          "2024-03-20"
         ],
         "y": [
          80,
          80,
          80,
          80,
          80,
          80,
          80,
          80,
          80,
          80,
          80,
          80,
          80,
          80,
          80,
          80,
          80,
          80,
          80,
          80,
          80,
          80,
          80,
          80,
          80,
          80,
          80,
          80,
          80,
          80,
          80,
          80,
          80,
          80,
          80,
          80,
          80,
          80,
          80,
          80,
          80,
          80,
          80,
          80,
          80,
          80,
          80,
          80,
          80,
          80,
          80,
          80,
          80,
          80,
          80,
          80,
          80,
          80,
          80,
          80,
          80,
          80,
          80,
          80,
          80,
          80,
          80,
          80,
          80,
          80,
          80,
          80,
          80,
          80,
          80,
          80,
          80,
          80,
          80,
          80,
          80,
          80,
          80,
          80,
          80,
          80,
          80,
          80,
          80,
          80,
          80,
          80,
          80,
          80,
          80,
          80,
          80,
          80,
          80,
          80,
          80,
          80,
          80,
          80,
          80,
          80,
          80,
          80,
          80,
          80,
          80,
          80,
          80,
          80,
          80,
          80,
          80,
          80,
          80,
          80,
          80,
          80,
          80,
          80,
          80,
          80
         ],
         "yaxis": "y4"
        },
        {
         "close": [
          14969.919921875,
          14694.240234375,
          14701.099609375,
          14768.900390625,
          14545.830078125,
          14580.16015625,
          14702.76953125,
          14715.240234375,
          14837.5703125,
          14565.6201171875,
          14776.25,
          14723.2197265625,
          14973.240234375,
          15047.150390625,
          15131.51953125,
          15241.1201171875,
          15184.099609375,
          14995.1201171875,
          15172.73046875,
          15122.009765625,
          14909.259765625,
          14783.1298828125,
          14560.8798828125,
          14604.849609375,
          14745.8603515625,
          14381.6396484375,
          14109.5703125,
          14180.419921875,
          14335.509765625,
          14409.7802734375,
          14664.91015625,
          14919.5498046875,
          15099.490234375,
          15154.9296875,
          15296.01953125,
          15313.240234375,
          15187.900390625,
          15529.1201171875,
          15482.7900390625,
          15812.4697265625,
          15817.1796875,
          15833.169921875,
          15837.990234375,
          16027.0595703125,
          15933.6201171875,
          16001.3896484375,
          15982.009765625,
          15961.98046875,
          16010.4296875,
          15987.599609375,
          15947.8701171875,
          15997.580078125,
          15839.669921875,
          15877.7099609375,
          15788.0498046875,
          16022.490234375,
          16084.6904296875,
          16221.73046875,
          16354.25,
          16562.369140625,
          16537.830078125,
          16623.44921875,
          16729.80078125,
          16811.849609375,
          16554.16015625,
          16757.41015625,
          16777.400390625,
          16878.4609375,
          16906.80078125,
          16898.470703125,
          16825.9296875,
          16543.939453125,
          16368.490234375,
          16282.009765625,
          16305.98046875,
          16649.869140625,
          16678.69921875,
          16793.05078125,
          16820.900390625,
          16832.919921875,
          16830.7109375,
          16736.279296875,
          16982.2890625,
          17314,
          17330.380859375,
          17404.2109375,
          17499.30078125,
          17516.990234375,
          17421.009765625,
          17596.26953125,
          17476.7109375,
          17137.240234375,
          17344.7109375,
          17642.73046875,
          17613.0390625,
          17572.73046875,
          17755.0703125,
          17783.169921875,
          17962.41015625,
          17882.66015625,
          17600.419921875,
          17807.630859375,
          17845.720703125,
          17685.98046875,
          17546.099609375,
          17478.91015625,
          18004.69921875,
          17937.609375,
          17933.330078125,
          17971.05078125,
          17874.5,
          18043.849609375,
          18302.91015625,
          18226.48046875,
          17897.869140625,
          18017.5703125,
          18297.990234375,
          18018.44921875,
          17951.689453125,
          18219.109375,
          18068.470703125,
          18014.810546875,
          17808.25,
          17985.009765625,
          18032.19921875,
          18019.7890625
         ],
         "decreasing": {
          "line": {
           "color": "#000000"
          }
         },
         "high": [
          15245.1904296875,
          14849.25,
          14855.919921875,
          14771.1201171875,
          14678.48046875,
          14657.2099609375,
          14787.580078125,
          14901.849609375,
          14892.1796875,
          14819.8701171875,
          14803.0400390625,
          14784.6904296875,
          15021.3798828125,
          15070.6396484375,
          15241.9404296875,
          15248.2197265625,
          15333.98046875,
          15232.3701171875,
          15209.5,
          15187.0595703125,
          15103.8701171875,
          15023.91015625,
          14781.2197265625,
          14746.3701171875,
          14774.16015625,
          14643.6904296875,
          14372.509765625,
          14321.0400390625,
          14388.2001953125,
          14420.4404296875,
          14677.8603515625,
          14930.759765625,
          15149.7802734375,
          15180.1904296875,
          15335.4404296875,
          15343.1904296875,
          15382.1103515625,
          15535.2001953125,
          15524.66015625,
          15850.33984375,
          15904.6298828125,
          15842.6298828125,
          15876.8701171875,
          16056.759765625,
          15968.08984375,
          16119.3095703125,
          16007.4296875,
          16045.2998046875,
          16031.51953125,
          16166.509765625,
          16013.48046875,
          16013.75,
          15852.4501953125,
          15931.83984375,
          15990.9404296875,
          16042.509765625,
          16100.8603515625,
          16232.259765625,
          16354.25,
          16581.0390625,
          16660.7109375,
          16669.76953125,
          16764.3203125,
          16813.009765625,
          16860.6796875,
          16768.01953125,
          16839.25,
          16907.509765625,
          16922.009765625,
          16969.169921875,
          16919.509765625,
          16686.599609375,
          16471.080078125,
          16419.439453125,
          16415.390625,
          16655.23046875,
          16710.880859375,
          16827.369140625,
          16898.16015625,
          16900.369140625,
          16895.330078125,
          16749.109375,
          16996.98046875,
          17317.2109375,
          17450.30078125,
          17410.859375,
          17665.259765625,
          17631.33984375,
          17514.759765625,
          17603.94921875,
          17578.4609375,
          17375.3203125,
          17356.759765625,
          17682.2890625,
          17655.76953125,
          17680.619140625,
          17784.169921875,
          17814.119140625,
          17987.900390625,
          18041.44921875,
          17717.669921875,
          17815.1796875,
          17864.58984375,
          17864.16015625,
          17657.080078125,
          17482.130859375,
          18034.80078125,
          18091.619140625,
          18014.109375,
          17987.5390625,
          17931.009765625,
          18068.51953125,
          18333.259765625,
          18313.4296875,
          18097.5,
          18142.880859375,
          18337.94921875,
          18416.73046875,
          18003.05078125,
          18228.369140625,
          18163.740234375,
          18142.900390625,
          17930.470703125,
          18124.3203125,
          18039.8203125,
          18087.099609375
         ],
         "increasing": {
          "line": {
           "color": "#ff0000"
          }
         },
         "low": [
          14967.599609375,
          14691.6904296875,
          14686.83984375,
          14615.4501953125,
          14505.6796875,
          14432.599609375,
          14510.169921875,
          14664.7802734375,
          14701.51953125,
          14504.1396484375,
          14592.5595703125,
          14584.3896484375,
          14575.9501953125,
          14816.3203125,
          15050.5400390625,
          15119.6201171875,
          15090.6904296875,
          14943.419921875,
          15047.26953125,
          14932.76953125,
          14865.8095703125,
          14749.2998046875,
          14552.1201171875,
          14419.0595703125,
          14610.330078125,
          14362.240234375,
          14058.330078125,
          14130.3701171875,
          14225.8603515625,
          14232.400390625,
          14441.8896484375,
          14792.8095703125,
          14965.2900390625,
          15064.91015625,
          15153.3095703125,
          15220.8798828125,
          15171.3203125,
          15237.169921875,
          15404.7099609375,
          15726.1201171875,
          15765.3095703125,
          15738.2197265625,
          15766.9404296875,
          15844.830078125,
          15866.8203125,
          15964.0400390625,
          15940.6201171875,
          15932.1904296875,
          15921.0703125,
          15976.6904296875,
          15825.669921875,
          15834.9296875,
          15695.580078125,
          15760.58984375,
          15776.9501953125,
          15875.48046875,
          15937.580078125,
          16061.8701171875,
          16175.4599609375,
          16357.2099609375,
          16419.259765625,
          16557.009765625,
          16629.2890625,
          16733.380859375,
          16552.060546875,
          16621.51953125,
          16703.5703125,
          16813.5703125,
          16859.55078125,
          16891.3203125,
          16757.890625,
          16453.150390625,
          16352.1396484375,
          16276.4296875,
          16249.1904296875,
          16349.3896484375,
          16513.73046875,
          16654.740234375,
          16618.859375,
          16776.919921875,
          16726.58984375,
          16561.490234375,
          16818.130859375,
          17041.849609375,
          17309.869140625,
          17286.01953125,
          17481.970703125,
          17430.369140625,
          17395.5390625,
          17414.619140625,
          17443.76953125,
          17128.740234375,
          17175.830078125,
          17378.369140625,
          17469.619140625,
          17475.4296875,
          17637.73046875,
          17728.55078125,
          17798.810546875,
          17859.66015625,
          17478.23046875,
          17619.919921875,
          17722.310546875,
          17663.400390625,
          17399.41015625,
          17319.439453125,
          17808.259765625,
          17902.779296875,
          17926.66015625,
          17871.060546875,
          17840.359375,
          17866.259765625,
          18064.439453125,
          18218.25,
          17804.5,
          17941.640625,
          18101.4296875,
          17995.380859375,
          17873.330078125,
          17919.330078125,
          18030.400390625,
          17913.630859375,
          17764.990234375,
          17973.08984375,
          17809.150390625,
          18005
         ],
         "name": "日K線圖",
         "open": [
          15225.33984375,
          14813.490234375,
          14756.6201171875,
          14662.6904296875,
          14668.4501953125,
          14600.1396484375,
          14530.9599609375,
          14853.349609375,
          14717.900390625,
          14744.0498046875,
          14613.23046875,
          14769.5498046875,
          14622.23046875,
          14871.5703125,
          15074.0400390625,
          15194.5302734375,
          15264.1103515625,
          15225.73046875,
          15054.48046875,
          15009.259765625,
          15022.2802734375,
          14981.1298828125,
          14752.58984375,
          14514.1103515625,
          14678.41015625,
          14642.080078125,
          14314.009765625,
          14245.75,
          14283.98046875,
          14340.8603515625,
          14453.6796875,
          14856.9501953125,
          14985.1201171875,
          15137.16015625,
          15201.76953125,
          15313.900390625,
          15351.1201171875,
          15252.3603515625,
          15469.2099609375,
          15744.3603515625,
          15881.7197265625,
          15765.2001953125,
          15803.98046875,
          15845.2001953125,
          15951.5498046875,
          16025.740234375,
          15974.849609375,
          15969.7197265625,
          15940.2900390625,
          16111.3603515625,
          15987.66015625,
          15892.58984375,
          15837.1201171875,
          15763.650390625,
          15990.2001953125,
          15888.23046875,
          15952.849609375,
          16069.6201171875,
          16209.6103515625,
          16392.1796875,
          16603.5390625,
          16587,
          16631.109375,
          16734.25,
          16763.640625,
          16719.609375,
          16799.01953125,
          16816.779296875,
          16896.140625,
          16963.51953125,
          16902.439453125,
          16667.30078125,
          16413.259765625,
          16290.7802734375,
          16281.740234375,
          16354.2197265625,
          16531.9609375,
          16702.55078125,
          16852.189453125,
          16855,
          16775.099609375,
          16705.509765625,
          16894.330078125,
          17060.140625,
          17403.619140625,
          17346.94921875,
          17562.3203125,
          17589.26953125,
          17432.869140625,
          17438.029296875,
          17556.490234375,
          17269.98046875,
          17216.990234375,
          17415.939453125,
          17634.689453125,
          17664.439453125,
          17674.58984375,
          17757.599609375,
          17820.98046875,
          17942.279296875,
          17519.80078125,
          17728.900390625,
          17815.3203125,
          17853.58984375,
          17591.169921875,
          17412.7890625,
          17857.759765625,
          18052.58984375,
          17970.2109375,
          17962.580078125,
          17895.029296875,
          17991.669921875,
          18069.2890625,
          18290.099609375,
          18088.7109375,
          18083.509765625,
          18161.73046875,
          18312.7890625,
          17959.6796875,
          18063.01953125,
          18151.759765625,
          18114.689453125,
          17926.919921875,
          18024.240234375,
          17902.51953125,
          18067.69921875
         ],
         "showlegend": true,
         "type": "candlestick",
         "x": [
          "2023-09-20",
          "2023-09-21",
          "2023-09-22",
          "2023-09-25",
          "2023-09-26",
          "2023-09-27",
          "2023-09-28",
          "2023-09-29",
          "2023-10-02",
          "2023-10-03",
          "2023-10-04",
          "2023-10-05",
          "2023-10-06",
          "2023-10-09",
          "2023-10-10",
          "2023-10-11",
          "2023-10-12",
          "2023-10-13",
          "2023-10-16",
          "2023-10-17",
          "2023-10-18",
          "2023-10-19",
          "2023-10-20",
          "2023-10-23",
          "2023-10-24",
          "2023-10-25",
          "2023-10-26",
          "2023-10-27",
          "2023-10-30",
          "2023-10-31",
          "2023-11-01",
          "2023-11-02",
          "2023-11-03",
          "2023-11-06",
          "2023-11-07",
          "2023-11-08",
          "2023-11-09",
          "2023-11-10",
          "2023-11-13",
          "2023-11-14",
          "2023-11-15",
          "2023-11-16",
          "2023-11-17",
          "2023-11-20",
          "2023-11-21",
          "2023-11-22",
          "2023-11-24",
          "2023-11-27",
          "2023-11-28",
          "2023-11-29",
          "2023-11-30",
          "2023-12-01",
          "2023-12-04",
          "2023-12-05",
          "2023-12-06",
          "2023-12-07",
          "2023-12-08",
          "2023-12-11",
          "2023-12-12",
          "2023-12-13",
          "2023-12-14",
          "2023-12-15",
          "2023-12-18",
          "2023-12-19",
          "2023-12-20",
          "2023-12-21",
          "2023-12-22",
          "2023-12-26",
          "2023-12-27",
          "2023-12-28",
          "2023-12-29",
          "2024-01-02",
          "2024-01-03",
          "2024-01-04",
          "2024-01-05",
          "2024-01-08",
          "2024-01-09",
          "2024-01-10",
          "2024-01-11",
          "2024-01-12",
          "2024-01-16",
          "2024-01-17",
          "2024-01-18",
          "2024-01-19",
          "2024-01-22",
          "2024-01-23",
          "2024-01-24",
          "2024-01-25",
          "2024-01-26",
          "2024-01-29",
          "2024-01-30",
          "2024-01-31",
          "2024-02-01",
          "2024-02-02",
          "2024-02-05",
          "2024-02-06",
          "2024-02-07",
          "2024-02-08",
          "2024-02-09",
          "2024-02-12",
          "2024-02-13",
          "2024-02-14",
          "2024-02-15",
          "2024-02-16",
          "2024-02-20",
          "2024-02-21",
          "2024-02-22",
          "2024-02-23",
          "2024-02-26",
          "2024-02-27",
          "2024-02-28",
          "2024-02-29",
          "2024-03-01",
          "2024-03-04",
          "2024-03-05",
          "2024-03-06",
          "2024-03-07",
          "2024-03-08",
          "2024-03-11",
          "2024-03-12",
          "2024-03-13",
          "2024-03-14",
          "2024-03-15",
          "2024-03-18",
          "2024-03-19",
          "2024-03-20"
         ],
         "yaxis": "y2"
        }
       ],
       "layout": {
        "legend": {
         "bgcolor": "#F5F6F9",
         "font": {
          "color": "#4D5663"
         },
         "orientation": "h",
         "x": 0.3,
         "y": 0.95,
         "yanchor": "bottom"
        },
        "margin": {
         "b": 30,
         "l": 30,
         "r": 30,
         "t": 30
        },
        "paper_bgcolor": "#F5F6F9",
        "plot_bgcolor": "#F5F6F9",
        "showlegend": true,
        "template": {
         "data": {
          "bar": [
           {
            "error_x": {
             "color": "#2a3f5f"
            },
            "error_y": {
             "color": "#2a3f5f"
            },
            "marker": {
             "line": {
              "color": "#E5ECF6",
              "width": 0.5
             },
             "pattern": {
              "fillmode": "overlay",
              "size": 10,
              "solidity": 0.2
             }
            },
            "type": "bar"
           }
          ],
          "barpolar": [
           {
            "marker": {
             "line": {
              "color": "#E5ECF6",
              "width": 0.5
             },
             "pattern": {
              "fillmode": "overlay",
              "size": 10,
              "solidity": 0.2
             }
            },
            "type": "barpolar"
           }
          ],
          "carpet": [
           {
            "aaxis": {
             "endlinecolor": "#2a3f5f",
             "gridcolor": "white",
             "linecolor": "white",
             "minorgridcolor": "white",
             "startlinecolor": "#2a3f5f"
            },
            "baxis": {
             "endlinecolor": "#2a3f5f",
             "gridcolor": "white",
             "linecolor": "white",
             "minorgridcolor": "white",
             "startlinecolor": "#2a3f5f"
            },
            "type": "carpet"
           }
          ],
          "choropleth": [
           {
            "colorbar": {
             "outlinewidth": 0,
             "ticks": ""
            },
            "type": "choropleth"
           }
          ],
          "contour": [
           {
            "colorbar": {
             "outlinewidth": 0,
             "ticks": ""
            },
            "colorscale": [
             [
              0,
              "#0d0887"
             ],
             [
              0.1111111111111111,
              "#46039f"
             ],
             [
              0.2222222222222222,
              "#7201a8"
             ],
             [
              0.3333333333333333,
              "#9c179e"
             ],
             [
              0.4444444444444444,
              "#bd3786"
             ],
             [
              0.5555555555555556,
              "#d8576b"
             ],
             [
              0.6666666666666666,
              "#ed7953"
             ],
             [
              0.7777777777777778,
              "#fb9f3a"
             ],
             [
              0.8888888888888888,
              "#fdca26"
             ],
             [
              1,
              "#f0f921"
             ]
            ],
            "type": "contour"
           }
          ],
          "contourcarpet": [
           {
            "colorbar": {
             "outlinewidth": 0,
             "ticks": ""
            },
            "type": "contourcarpet"
           }
          ],
          "heatmap": [
           {
            "colorbar": {
             "outlinewidth": 0,
             "ticks": ""
            },
            "colorscale": [
             [
              0,
              "#0d0887"
             ],
             [
              0.1111111111111111,
              "#46039f"
             ],
             [
              0.2222222222222222,
              "#7201a8"
             ],
             [
              0.3333333333333333,
              "#9c179e"
             ],
             [
              0.4444444444444444,
              "#bd3786"
             ],
             [
              0.5555555555555556,
              "#d8576b"
             ],
             [
              0.6666666666666666,
              "#ed7953"
             ],
             [
              0.7777777777777778,
              "#fb9f3a"
             ],
             [
              0.8888888888888888,
              "#fdca26"
             ],
             [
              1,
              "#f0f921"
             ]
            ],
            "type": "heatmap"
           }
          ],
          "heatmapgl": [
           {
            "colorbar": {
             "outlinewidth": 0,
             "ticks": ""
            },
            "colorscale": [
             [
              0,
              "#0d0887"
             ],
             [
              0.1111111111111111,
              "#46039f"
             ],
             [
              0.2222222222222222,
              "#7201a8"
             ],
             [
              0.3333333333333333,
              "#9c179e"
             ],
             [
              0.4444444444444444,
              "#bd3786"
             ],
             [
              0.5555555555555556,
              "#d8576b"
             ],
             [
              0.6666666666666666,
              "#ed7953"
             ],
             [
              0.7777777777777778,
              "#fb9f3a"
             ],
             [
              0.8888888888888888,
              "#fdca26"
             ],
             [
              1,
              "#f0f921"
             ]
            ],
            "type": "heatmapgl"
           }
          ],
          "histogram": [
           {
            "marker": {
             "pattern": {
              "fillmode": "overlay",
              "size": 10,
              "solidity": 0.2
             }
            },
            "type": "histogram"
           }
          ],
          "histogram2d": [
           {
            "colorbar": {
             "outlinewidth": 0,
             "ticks": ""
            },
            "colorscale": [
             [
              0,
              "#0d0887"
             ],
             [
              0.1111111111111111,
              "#46039f"
             ],
             [
              0.2222222222222222,
              "#7201a8"
             ],
             [
              0.3333333333333333,
              "#9c179e"
             ],
             [
              0.4444444444444444,
              "#bd3786"
             ],
             [
              0.5555555555555556,
              "#d8576b"
             ],
             [
              0.6666666666666666,
              "#ed7953"
             ],
             [
              0.7777777777777778,
              "#fb9f3a"
             ],
             [
              0.8888888888888888,
              "#fdca26"
             ],
             [
              1,
              "#f0f921"
             ]
            ],
            "type": "histogram2d"
           }
          ],
          "histogram2dcontour": [
           {
            "colorbar": {
             "outlinewidth": 0,
             "ticks": ""
            },
            "colorscale": [
             [
              0,
              "#0d0887"
             ],
             [
              0.1111111111111111,
              "#46039f"
             ],
             [
              0.2222222222222222,
              "#7201a8"
             ],
             [
              0.3333333333333333,
              "#9c179e"
             ],
             [
              0.4444444444444444,
              "#bd3786"
             ],
             [
              0.5555555555555556,
              "#d8576b"
             ],
             [
              0.6666666666666666,
              "#ed7953"
             ],
             [
              0.7777777777777778,
              "#fb9f3a"
             ],
             [
              0.8888888888888888,
              "#fdca26"
             ],
             [
              1,
              "#f0f921"
             ]
            ],
            "type": "histogram2dcontour"
           }
          ],
          "mesh3d": [
           {
            "colorbar": {
             "outlinewidth": 0,
             "ticks": ""
            },
            "type": "mesh3d"
           }
          ],
          "parcoords": [
           {
            "line": {
             "colorbar": {
              "outlinewidth": 0,
              "ticks": ""
             }
            },
            "type": "parcoords"
           }
          ],
          "pie": [
           {
            "automargin": true,
            "type": "pie"
           }
          ],
          "scatter": [
           {
            "fillpattern": {
             "fillmode": "overlay",
             "size": 10,
             "solidity": 0.2
            },
            "type": "scatter"
           }
          ],
          "scatter3d": [
           {
            "line": {
             "colorbar": {
              "outlinewidth": 0,
              "ticks": ""
             }
            },
            "marker": {
             "colorbar": {
              "outlinewidth": 0,
              "ticks": ""
             }
            },
            "type": "scatter3d"
           }
          ],
          "scattercarpet": [
           {
            "marker": {
             "colorbar": {
              "outlinewidth": 0,
              "ticks": ""
             }
            },
            "type": "scattercarpet"
           }
          ],
          "scattergeo": [
           {
            "marker": {
             "colorbar": {
              "outlinewidth": 0,
              "ticks": ""
             }
            },
            "type": "scattergeo"
           }
          ],
          "scattergl": [
           {
            "marker": {
             "colorbar": {
              "outlinewidth": 0,
              "ticks": ""
             }
            },
            "type": "scattergl"
           }
          ],
          "scattermapbox": [
           {
            "marker": {
             "colorbar": {
              "outlinewidth": 0,
              "ticks": ""
             }
            },
            "type": "scattermapbox"
           }
          ],
          "scatterpolar": [
           {
            "marker": {
             "colorbar": {
              "outlinewidth": 0,
              "ticks": ""
             }
            },
            "type": "scatterpolar"
           }
          ],
          "scatterpolargl": [
           {
            "marker": {
             "colorbar": {
              "outlinewidth": 0,
              "ticks": ""
             }
            },
            "type": "scatterpolargl"
           }
          ],
          "scatterternary": [
           {
            "marker": {
             "colorbar": {
              "outlinewidth": 0,
              "ticks": ""
             }
            },
            "type": "scatterternary"
           }
          ],
          "surface": [
           {
            "colorbar": {
             "outlinewidth": 0,
             "ticks": ""
            },
            "colorscale": [
             [
              0,
              "#0d0887"
             ],
             [
              0.1111111111111111,
              "#46039f"
             ],
             [
              0.2222222222222222,
              "#7201a8"
             ],
             [
              0.3333333333333333,
              "#9c179e"
             ],
             [
              0.4444444444444444,
              "#bd3786"
             ],
             [
              0.5555555555555556,
              "#d8576b"
             ],
             [
              0.6666666666666666,
              "#ed7953"
             ],
             [
              0.7777777777777778,
              "#fb9f3a"
             ],
             [
              0.8888888888888888,
              "#fdca26"
             ],
             [
              1,
              "#f0f921"
             ]
            ],
            "type": "surface"
           }
          ],
          "table": [
           {
            "cells": {
             "fill": {
              "color": "#EBF0F8"
             },
             "line": {
              "color": "white"
             }
            },
            "header": {
             "fill": {
              "color": "#C8D4E3"
             },
             "line": {
              "color": "white"
             }
            },
            "type": "table"
           }
          ]
         },
         "layout": {
          "annotationdefaults": {
           "arrowcolor": "#2a3f5f",
           "arrowhead": 0,
           "arrowwidth": 1
          },
          "autotypenumbers": "strict",
          "coloraxis": {
           "colorbar": {
            "outlinewidth": 0,
            "ticks": ""
           }
          },
          "colorscale": {
           "diverging": [
            [
             0,
             "#8e0152"
            ],
            [
             0.1,
             "#c51b7d"
            ],
            [
             0.2,
             "#de77ae"
            ],
            [
             0.3,
             "#f1b6da"
            ],
            [
             0.4,
             "#fde0ef"
            ],
            [
             0.5,
             "#f7f7f7"
            ],
            [
             0.6,
             "#e6f5d0"
            ],
            [
             0.7,
             "#b8e186"
            ],
            [
             0.8,
             "#7fbc41"
            ],
            [
             0.9,
             "#4d9221"
            ],
            [
             1,
             "#276419"
            ]
           ],
           "sequential": [
            [
             0,
             "#0d0887"
            ],
            [
             0.1111111111111111,
             "#46039f"
            ],
            [
             0.2222222222222222,
             "#7201a8"
            ],
            [
             0.3333333333333333,
             "#9c179e"
            ],
            [
             0.4444444444444444,
             "#bd3786"
            ],
            [
             0.5555555555555556,
             "#d8576b"
            ],
            [
             0.6666666666666666,
             "#ed7953"
            ],
            [
             0.7777777777777778,
             "#fb9f3a"
            ],
            [
             0.8888888888888888,
             "#fdca26"
            ],
            [
             1,
             "#f0f921"
            ]
           ],
           "sequentialminus": [
            [
             0,
             "#0d0887"
            ],
            [
             0.1111111111111111,
             "#46039f"
            ],
            [
             0.2222222222222222,
             "#7201a8"
            ],
            [
             0.3333333333333333,
             "#9c179e"
            ],
            [
             0.4444444444444444,
             "#bd3786"
            ],
            [
             0.5555555555555556,
             "#d8576b"
            ],
            [
             0.6666666666666666,
             "#ed7953"
            ],
            [
             0.7777777777777778,
             "#fb9f3a"
            ],
            [
             0.8888888888888888,
             "#fdca26"
            ],
            [
             1,
             "#f0f921"
            ]
           ]
          },
          "colorway": [
           "#636efa",
           "#EF553B",
           "#00cc96",
           "#ab63fa",
           "#FFA15A",
           "#19d3f3",
           "#FF6692",
           "#B6E880",
           "#FF97FF",
           "#FECB52"
          ],
          "font": {
           "color": "#2a3f5f"
          },
          "geo": {
           "bgcolor": "white",
           "lakecolor": "white",
           "landcolor": "#E5ECF6",
           "showlakes": true,
           "showland": true,
           "subunitcolor": "white"
          },
          "hoverlabel": {
           "align": "left"
          },
          "hovermode": "closest",
          "mapbox": {
           "style": "light"
          },
          "paper_bgcolor": "white",
          "plot_bgcolor": "#E5ECF6",
          "polar": {
           "angularaxis": {
            "gridcolor": "white",
            "linecolor": "white",
            "ticks": ""
           },
           "bgcolor": "#E5ECF6",
           "radialaxis": {
            "gridcolor": "white",
            "linecolor": "white",
            "ticks": ""
           }
          },
          "scene": {
           "xaxis": {
            "backgroundcolor": "#E5ECF6",
            "gridcolor": "white",
            "gridwidth": 2,
            "linecolor": "white",
            "showbackground": true,
            "ticks": "",
            "zerolinecolor": "white"
           },
           "yaxis": {
            "backgroundcolor": "#E5ECF6",
            "gridcolor": "white",
            "gridwidth": 2,
            "linecolor": "white",
            "showbackground": true,
            "ticks": "",
            "zerolinecolor": "white"
           },
           "zaxis": {
            "backgroundcolor": "#E5ECF6",
            "gridcolor": "white",
            "gridwidth": 2,
            "linecolor": "white",
            "showbackground": true,
            "ticks": "",
            "zerolinecolor": "white"
           }
          },
          "shapedefaults": {
           "line": {
            "color": "#2a3f5f"
           }
          },
          "ternary": {
           "aaxis": {
            "gridcolor": "white",
            "linecolor": "white",
            "ticks": ""
           },
           "baxis": {
            "gridcolor": "white",
            "linecolor": "white",
            "ticks": ""
           },
           "bgcolor": "#E5ECF6",
           "caxis": {
            "gridcolor": "white",
            "linecolor": "white",
            "ticks": ""
           }
          },
          "title": {
           "x": 0.05
          },
          "xaxis": {
           "automargin": true,
           "gridcolor": "white",
           "linecolor": "white",
           "ticks": "",
           "title": {
            "standoff": 15
           },
           "zerolinecolor": "white",
           "zerolinewidth": 2
          },
          "yaxis": {
           "automargin": true,
           "gridcolor": "white",
           "linecolor": "white",
           "ticks": "",
           "title": {
            "standoff": 15
           },
           "zerolinecolor": "white",
           "zerolinewidth": 2
          }
         }
        },
        "title": {
         "font": {
          "color": "#4D5663"
         },
         "text": "^NDX"
        },
        "xaxis": {
         "anchor": "y2",
         "gridcolor": "#E1E5ED",
         "rangeselector": {
          "bgcolor": "rgba(150, 200, 250, 1)",
          "buttons": [
           {
            "count": 1,
            "label": "1m",
            "step": "month",
            "stepmode": "backward"
           },
           {
            "count": 1,
            "label": "1y",
            "step": "year",
            "stepmode": "backward"
           }
          ],
          "font": {
           "size": 13
          },
          "visible": false,
          "x": 0,
          "y": 0.9
         },
         "rangeslider": {
          "visible": false
         },
         "showgrid": true,
         "tickfont": {
          "color": "#4D5663"
         },
         "title": {
          "font": {
           "color": "#4D5663"
          },
          "text": ""
         },
         "zerolinecolor": "#E1E5ED"
        },
        "yaxis": {
         "gridcolor": "#E1E5ED",
         "showgrid": true,
         "showticklabels": false,
         "tickfont": {
          "color": "#4D5663"
         },
         "title": {
          "font": {
           "color": "#4D5663"
          },
          "text": ""
         },
         "zerolinecolor": "#E1E5ED"
        },
        "yaxis2": {
         "domain": [
          0.46,
          0.9
         ],
         "gridcolor": "#E1E5ED",
         "showgrid": true,
         "tickfont": {
          "color": "#4D5663"
         },
         "title": {
          "font": {
           "color": "#4D5663"
          },
          "text": ""
         },
         "zerolinecolor": "#E1E5ED"
        },
        "yaxis3": {
         "domain": [
          0.23,
          0.38
         ],
         "gridcolor": "#E1E5ED",
         "showgrid": true,
         "tickfont": {
          "color": "#4D5663"
         },
         "title": {
          "font": {
           "color": "#4D5663"
          },
          "text": ""
         },
         "zerolinecolor": "#E1E5ED"
        },
        "yaxis4": {
         "domain": [
          0,
          0.15
         ],
         "gridcolor": "#E1E5ED",
         "showgrid": true,
         "tickfont": {
          "color": "#4D5663"
         },
         "title": {
          "font": {
           "color": "#4D5663"
          },
          "text": ""
         },
         "zerolinecolor": "#E1E5ED"
        }
       }
      },
      "text/html": [
       "<div>                            <div id=\"6f383b51-8452-490f-b841-9037ee6dfe6b\" class=\"plotly-graph-div\" style=\"height:525px; width:100%;\"></div>            <script type=\"text/javascript\">                require([\"plotly\"], function(Plotly) {                    window.PLOTLYENV=window.PLOTLYENV || {};\n",
       "                    window.PLOTLYENV.BASE_URL='https://plot.ly';                                    if (document.getElementById(\"6f383b51-8452-490f-b841-9037ee6dfe6b\")) {                    Plotly.newPlot(                        \"6f383b51-8452-490f-b841-9037ee6dfe6b\",                        [{\"marker\":{\"color\":[\"#000000\",\"#000000\",\"#ff0000\",\"#ff0000\",\"#000000\",\"#ff0000\",\"#ff0000\",\"#ff0000\",\"#ff0000\",\"#000000\",\"#ff0000\",\"#000000\",\"#ff0000\",\"#ff0000\",\"#ff0000\",\"#ff0000\",\"#000000\",\"#000000\",\"#ff0000\",\"#000000\",\"#000000\",\"#000000\",\"#000000\",\"#ff0000\",\"#ff0000\",\"#000000\",\"#000000\",\"#ff0000\",\"#ff0000\",\"#ff0000\",\"#ff0000\",\"#ff0000\",\"#ff0000\",\"#ff0000\",\"#ff0000\",\"#ff0000\",\"#000000\",\"#ff0000\",\"#000000\",\"#ff0000\",\"#ff0000\",\"#ff0000\",\"#ff0000\",\"#ff0000\",\"#000000\",\"#ff0000\",\"#000000\",\"#000000\",\"#ff0000\",\"#000000\",\"#000000\",\"#ff0000\",\"#000000\",\"#ff0000\",\"#000000\",\"#ff0000\",\"#ff0000\",\"#ff0000\",\"#ff0000\",\"#ff0000\",\"#000000\",\"#ff0000\",\"#ff0000\",\"#ff0000\",\"#000000\",\"#ff0000\",\"#ff0000\",\"#ff0000\",\"#ff0000\",\"#000000\",\"#000000\",\"#000000\",\"#000000\",\"#000000\",\"#ff0000\",\"#ff0000\",\"#ff0000\",\"#ff0000\",\"#ff0000\",\"#ff0000\",\"#000000\",\"#000000\",\"#ff0000\",\"#ff0000\",\"#ff0000\",\"#ff0000\",\"#ff0000\",\"#ff0000\",\"#000000\",\"#ff0000\",\"#000000\",\"#000000\",\"#ff0000\",\"#ff0000\",\"#000000\",\"#000000\",\"#ff0000\",\"#ff0000\",\"#ff0000\",\"#000000\",\"#000000\",\"#ff0000\",\"#ff0000\",\"#000000\",\"#000000\",\"#000000\",\"#ff0000\",\"#000000\",\"#000000\",\"#ff0000\",\"#000000\",\"#ff0000\",\"#ff0000\",\"#000000\",\"#000000\",\"#ff0000\",\"#ff0000\",\"#000000\",\"#000000\",\"#ff0000\",\"#000000\",\"#000000\",\"#000000\",\"#ff0000\",\"#ff0000\",\"#000000\"],\"line\":{\"color\":[\"#000000\",\"#000000\",\"#ff0000\",\"#ff0000\",\"#000000\",\"#ff0000\",\"#ff0000\",\"#ff0000\",\"#ff0000\",\"#000000\",\"#ff0000\",\"#000000\",\"#ff0000\",\"#ff0000\",\"#ff0000\",\"#ff0000\",\"#000000\",\"#000000\",\"#ff0000\",\"#000000\",\"#000000\",\"#000000\",\"#000000\",\"#ff0000\",\"#ff0000\",\"#000000\",\"#000000\",\"#ff0000\",\"#ff0000\",\"#ff0000\",\"#ff0000\",\"#ff0000\",\"#ff0000\",\"#ff0000\",\"#ff0000\",\"#ff0000\",\"#000000\",\"#ff0000\",\"#000000\",\"#ff0000\",\"#ff0000\",\"#ff0000\",\"#ff0000\",\"#ff0000\",\"#000000\",\"#ff0000\",\"#000000\",\"#000000\",\"#ff0000\",\"#000000\",\"#000000\",\"#ff0000\",\"#000000\",\"#ff0000\",\"#000000\",\"#ff0000\",\"#ff0000\",\"#ff0000\",\"#ff0000\",\"#ff0000\",\"#000000\",\"#ff0000\",\"#ff0000\",\"#ff0000\",\"#000000\",\"#ff0000\",\"#ff0000\",\"#ff0000\",\"#ff0000\",\"#000000\",\"#000000\",\"#000000\",\"#000000\",\"#000000\",\"#ff0000\",\"#ff0000\",\"#ff0000\",\"#ff0000\",\"#ff0000\",\"#ff0000\",\"#000000\",\"#000000\",\"#ff0000\",\"#ff0000\",\"#ff0000\",\"#ff0000\",\"#ff0000\",\"#ff0000\",\"#000000\",\"#ff0000\",\"#000000\",\"#000000\",\"#ff0000\",\"#ff0000\",\"#000000\",\"#000000\",\"#ff0000\",\"#ff0000\",\"#ff0000\",\"#000000\",\"#000000\",\"#ff0000\",\"#ff0000\",\"#000000\",\"#000000\",\"#000000\",\"#ff0000\",\"#000000\",\"#000000\",\"#ff0000\",\"#000000\",\"#ff0000\",\"#ff0000\",\"#000000\",\"#000000\",\"#ff0000\",\"#ff0000\",\"#000000\",\"#000000\",\"#ff0000\",\"#000000\",\"#000000\",\"#000000\",\"#ff0000\",\"#ff0000\",\"#000000\"],\"width\":1}},\"name\":\"Volume\",\"opacity\":0.8,\"orientation\":\"v\",\"text\":\"\",\"x\":[\"2023-09-20\",\"2023-09-21\",\"2023-09-22\",\"2023-09-25\",\"2023-09-26\",\"2023-09-27\",\"2023-09-28\",\"2023-09-29\",\"2023-10-02\",\"2023-10-03\",\"2023-10-04\",\"2023-10-05\",\"2023-10-06\",\"2023-10-09\",\"2023-10-10\",\"2023-10-11\",\"2023-10-12\",\"2023-10-13\",\"2023-10-16\",\"2023-10-17\",\"2023-10-18\",\"2023-10-19\",\"2023-10-20\",\"2023-10-23\",\"2023-10-24\",\"2023-10-25\",\"2023-10-26\",\"2023-10-27\",\"2023-10-30\",\"2023-10-31\",\"2023-11-01\",\"2023-11-02\",\"2023-11-03\",\"2023-11-06\",\"2023-11-07\",\"2023-11-08\",\"2023-11-09\",\"2023-11-10\",\"2023-11-13\",\"2023-11-14\",\"2023-11-15\",\"2023-11-16\",\"2023-11-17\",\"2023-11-20\",\"2023-11-21\",\"2023-11-22\",\"2023-11-24\",\"2023-11-27\",\"2023-11-28\",\"2023-11-29\",\"2023-11-30\",\"2023-12-01\",\"2023-12-04\",\"2023-12-05\",\"2023-12-06\",\"2023-12-07\",\"2023-12-08\",\"2023-12-11\",\"2023-12-12\",\"2023-12-13\",\"2023-12-14\",\"2023-12-15\",\"2023-12-18\",\"2023-12-19\",\"2023-12-20\",\"2023-12-21\",\"2023-12-22\",\"2023-12-26\",\"2023-12-27\",\"2023-12-28\",\"2023-12-29\",\"2024-01-02\",\"2024-01-03\",\"2024-01-04\",\"2024-01-05\",\"2024-01-08\",\"2024-01-09\",\"2024-01-10\",\"2024-01-11\",\"2024-01-12\",\"2024-01-16\",\"2024-01-17\",\"2024-01-18\",\"2024-01-19\",\"2024-01-22\",\"2024-01-23\",\"2024-01-24\",\"2024-01-25\",\"2024-01-26\",\"2024-01-29\",\"2024-01-30\",\"2024-01-31\",\"2024-02-01\",\"2024-02-02\",\"2024-02-05\",\"2024-02-06\",\"2024-02-07\",\"2024-02-08\",\"2024-02-09\",\"2024-02-12\",\"2024-02-13\",\"2024-02-14\",\"2024-02-15\",\"2024-02-16\",\"2024-02-20\",\"2024-02-21\",\"2024-02-22\",\"2024-02-23\",\"2024-02-26\",\"2024-02-27\",\"2024-02-28\",\"2024-02-29\",\"2024-03-01\",\"2024-03-04\",\"2024-03-05\",\"2024-03-06\",\"2024-03-07\",\"2024-03-08\",\"2024-03-11\",\"2024-03-12\",\"2024-03-13\",\"2024-03-14\",\"2024-03-15\",\"2024-03-18\",\"2024-03-19\",\"2024-03-20\"],\"y\":[4782440000,5014890000,4302700000,4100290000,4693540000,4841410000,4648390000,5138500000,4554700000,4684310000,4308070000,4167470000,4309420000,3835930000,4301350000,4160440000,4858620000,4251550000,4308690000,4417640000,4617140000,5014790000,4622840000,4669060000,4604720000,4599850000,4894900000,4172100000,4149320000,4315630000,4545120000,4962950000,4918750000,4345850000,4354460000,4685550000,5313970000,4722140000,4349590000,5332490000,5063830000,4545180000,4408640000,4561810000,4128600000,3855240000,2541840000,4205880000,4474400000,4890220000,5678070000,5607000000,6270020000,6179120000,5167030000,5694310000,5430840000,5607820000,4950100000,6732040000,8033170000,8377630000,5866080000,5757180000,6294700000,5465640000,4796600000,6120600000,7480170000,5090570000,5441060000,5791170000,5449950000,5289220000,5232820000,6337770000,5068410000,4404590000,5044690000,4958940000,6386180000,5181740000,5587440000,5604950000,5456240000,5207680000,4983210000,5281570000,4510530000,4979310000,4719240000,5875610000,5046920000,4800690000,4831020000,4759640000,4567580000,5675850000,5797260000,5458490000,5599860000,5092660000,6049100000,5223800000,5595700000,4845740000,5653930000,5077910000,5417630000,5423020000,5581690000,6265340000,5457910000,5725470000,6356800000,5511370000,5072790000,5411790000,4917620000,5100330000,4839000000,5450980000,8261950000,5025040000,4758740000,192020066],\"yaxis\":\"y3\",\"type\":\"bar\"},{\"legendgroup\":\"RSI(Close,[5, 30])\",\"line\":{\"color\":\"rgba(255, 102, 0, 1.0)\",\"dash\":\"solid\",\"shape\":\"linear\",\"width\":1.3},\"mode\":\"lines\",\"name\":\"RSI(Close,[5, 30])\",\"showlegend\":true,\"text\":\"\",\"x\":[\"2023-09-20\",\"2023-09-21\",\"2023-09-22\",\"2023-09-25\",\"2023-09-26\",\"2023-09-27\",\"2023-09-28\",\"2023-09-29\",\"2023-10-02\",\"2023-10-03\",\"2023-10-04\",\"2023-10-05\",\"2023-10-06\",\"2023-10-09\",\"2023-10-10\",\"2023-10-11\",\"2023-10-12\",\"2023-10-13\",\"2023-10-16\",\"2023-10-17\",\"2023-10-18\",\"2023-10-19\",\"2023-10-20\",\"2023-10-23\",\"2023-10-24\",\"2023-10-25\",\"2023-10-26\",\"2023-10-27\",\"2023-10-30\",\"2023-10-31\",\"2023-11-01\",\"2023-11-02\",\"2023-11-03\",\"2023-11-06\",\"2023-11-07\",\"2023-11-08\",\"2023-11-09\",\"2023-11-10\",\"2023-11-13\",\"2023-11-14\",\"2023-11-15\",\"2023-11-16\",\"2023-11-17\",\"2023-11-20\",\"2023-11-21\",\"2023-11-22\",\"2023-11-24\",\"2023-11-27\",\"2023-11-28\",\"2023-11-29\",\"2023-11-30\",\"2023-12-01\",\"2023-12-04\",\"2023-12-05\",\"2023-12-06\",\"2023-12-07\",\"2023-12-08\",\"2023-12-11\",\"2023-12-12\",\"2023-12-13\",\"2023-12-14\",\"2023-12-15\",\"2023-12-18\",\"2023-12-19\",\"2023-12-20\",\"2023-12-21\",\"2023-12-22\",\"2023-12-26\",\"2023-12-27\",\"2023-12-28\",\"2023-12-29\",\"2024-01-02\",\"2024-01-03\",\"2024-01-04\",\"2024-01-05\",\"2024-01-08\",\"2024-01-09\",\"2024-01-10\",\"2024-01-11\",\"2024-01-12\",\"2024-01-16\",\"2024-01-17\",\"2024-01-18\",\"2024-01-19\",\"2024-01-22\",\"2024-01-23\",\"2024-01-24\",\"2024-01-25\",\"2024-01-26\",\"2024-01-29\",\"2024-01-30\",\"2024-01-31\",\"2024-02-01\",\"2024-02-02\",\"2024-02-05\",\"2024-02-06\",\"2024-02-07\",\"2024-02-08\",\"2024-02-09\",\"2024-02-12\",\"2024-02-13\",\"2024-02-14\",\"2024-02-15\",\"2024-02-16\",\"2024-02-20\",\"2024-02-21\",\"2024-02-22\",\"2024-02-23\",\"2024-02-26\",\"2024-02-27\",\"2024-02-28\",\"2024-02-29\",\"2024-03-01\",\"2024-03-04\",\"2024-03-05\",\"2024-03-06\",\"2024-03-07\",\"2024-03-08\",\"2024-03-11\",\"2024-03-12\",\"2024-03-13\",\"2024-03-14\",\"2024-03-15\",\"2024-03-18\",\"2024-03-19\",\"2024-03-20\"],\"y\":[\"\",\"\",\"\",\"\",13.020375630990571,17.933687488551016,50.9379658148296,51.53608527394935,56.66943619277419,51.75539959703337,63.24948861761795,51.52519806963137,64.20765967698912,62.191394844177836,92.1081200487729,90.71160882126051,90.08202555038991,52.12889077236784,60.167108895923796,49.185712422191976,25.84998528933113,23.48751644951372,22.4976744416186,6.70453868604443,24.7926420485408,20.608775974488722,17.726577232082292,28.676640420522133,36.576503088624946,32.056589528830756,67.1179215052634,100.0,100.0,100.0,100.0,100.0,75.85114969886376,81.57605754503422,74.4234398210994,80.03350654513446,79.73868563670018,93.72161346673019,88.46162264967762,100.0,69.6654006378756,74.82019500256582,69.87294831875576,65.90893143544506,46.661569526946224,65.12386382913522,32.20972810138417,54.307186929319336,30.806740305753408,28.469949337329737,23.39689260020154,56.548372997848944,57.480481361901965,84.02864031562797,86.32938307119852,100.0,95.6523243662235,95.82553223301132,95.59559699922877,95.15686977438044,49.26211117314316,64.93825388853014,61.50039247498519,61.19363036342459,57.778673809318086,97.69231185442898,64.87861977708789,26.2869091168792,5.001292546316236,0.0,3.742898008850233,40.34522128993147,60.2304774726953,85.52680179517604,100.0,100.0,98.80762864643185,61.4764755802275,74.7357671687516,85.92026224507508,86.00916134140135,87.61330156534214,100.0,100.0,67.89636317312655,79.03668218019871,57.198485835738005,25.79676463292033,40.814124713875394,59.726475280473366,50.84335881941552,55.24719293002604,90.76310085590798,87.89888274003869,84.77200496269481,76.44701248342822,51.841862519650256,53.38427370978573,53.97636974055386,31.980545936035853,29.655708170112888,40.074537094648704,60.5872242729999,54.78741699076647,65.37806758709459,80.2642304129261,77.04223321192443,55.22018802572984,82.21569221865484,72.93421957368783,46.06551145515907,57.50511255824628,61.94019989649135,36.88761325823598,37.219417278172735,65.84272000647292,52.435939857214166,32.6911414286601,35.89340953179888,51.94846726666363,35.2782273199968,45.09830913789238],\"yaxis\":\"y4\",\"type\":\"scatter\"},{\"legendgroup\":\"RSI(Close,[5, 30])\",\"line\":{\"color\":\"rgba(0, 0, 230, 1.0)\",\"dash\":\"solid\",\"shape\":\"linear\",\"width\":1.3},\"mode\":\"lines\",\"name\":\"RSI(Close,30)\",\"showlegend\":false,\"text\":\"\",\"x\":[\"2023-09-20\",\"2023-09-21\",\"2023-09-22\",\"2023-09-25\",\"2023-09-26\",\"2023-09-27\",\"2023-09-28\",\"2023-09-29\",\"2023-10-02\",\"2023-10-03\",\"2023-10-04\",\"2023-10-05\",\"2023-10-06\",\"2023-10-09\",\"2023-10-10\",\"2023-10-11\",\"2023-10-12\",\"2023-10-13\",\"2023-10-16\",\"2023-10-17\",\"2023-10-18\",\"2023-10-19\",\"2023-10-20\",\"2023-10-23\",\"2023-10-24\",\"2023-10-25\",\"2023-10-26\",\"2023-10-27\",\"2023-10-30\",\"2023-10-31\",\"2023-11-01\",\"2023-11-02\",\"2023-11-03\",\"2023-11-06\",\"2023-11-07\",\"2023-11-08\",\"2023-11-09\",\"2023-11-10\",\"2023-11-13\",\"2023-11-14\",\"2023-11-15\",\"2023-11-16\",\"2023-11-17\",\"2023-11-20\",\"2023-11-21\",\"2023-11-22\",\"2023-11-24\",\"2023-11-27\",\"2023-11-28\",\"2023-11-29\",\"2023-11-30\",\"2023-12-01\",\"2023-12-04\",\"2023-12-05\",\"2023-12-06\",\"2023-12-07\",\"2023-12-08\",\"2023-12-11\",\"2023-12-12\",\"2023-12-13\",\"2023-12-14\",\"2023-12-15\",\"2023-12-18\",\"2023-12-19\",\"2023-12-20\",\"2023-12-21\",\"2023-12-22\",\"2023-12-26\",\"2023-12-27\",\"2023-12-28\",\"2023-12-29\",\"2024-01-02\",\"2024-01-03\",\"2024-01-04\",\"2024-01-05\",\"2024-01-08\",\"2024-01-09\",\"2024-01-10\",\"2024-01-11\",\"2024-01-12\",\"2024-01-16\",\"2024-01-17\",\"2024-01-18\",\"2024-01-19\",\"2024-01-22\",\"2024-01-23\",\"2024-01-24\",\"2024-01-25\",\"2024-01-26\",\"2024-01-29\",\"2024-01-30\",\"2024-01-31\",\"2024-02-01\",\"2024-02-02\",\"2024-02-05\",\"2024-02-06\",\"2024-02-07\",\"2024-02-08\",\"2024-02-09\",\"2024-02-12\",\"2024-02-13\",\"2024-02-14\",\"2024-02-15\",\"2024-02-16\",\"2024-02-20\",\"2024-02-21\",\"2024-02-22\",\"2024-02-23\",\"2024-02-26\",\"2024-02-27\",\"2024-02-28\",\"2024-02-29\",\"2024-03-01\",\"2024-03-04\",\"2024-03-05\",\"2024-03-06\",\"2024-03-07\",\"2024-03-08\",\"2024-03-11\",\"2024-03-12\",\"2024-03-13\",\"2024-03-14\",\"2024-03-15\",\"2024-03-18\",\"2024-03-19\",\"2024-03-20\"],\"y\":[\"\",\"\",\"\",\"\",\"\",\"\",\"\",\"\",\"\",\"\",\"\",\"\",\"\",\"\",\"\",\"\",\"\",\"\",\"\",\"\",\"\",\"\",\"\",\"\",\"\",\"\",\"\",\"\",\"\",43.1281369678611,46.47854293555101,52.613986687438036,54.44357305309388,54.31760302439958,58.54735261431756,58.385106766089535,55.54555338990808,58.65313832823642,56.972632072176275,63.30815766652213,61.62112104887423,62.49501722561321,60.30354538100722,61.36382116721446,59.28228113179614,58.88420754725595,59.40681330239867,61.87153634693882,60.62256510594033,61.05442881052807,63.877349117948015,66.56511253141265,67.75433126551238,67.7011505804237,64.7033003005684,74.02918973556937,80.81871245226392,81.20690262643538,81.07631111338279,81.82527488044502,79.71667153197811,78.56711317422702,78.02486760087481,78.22407911257852,70.61245256212521,72.30086312301056,75.3705082306759,73.32550484784254,74.77035996671889,71.26848787212418,69.24429765467573,62.31022883493359,58.67528863757443,54.313956504999396,56.45231762371439,60.25556954107754,60.98516484599428,62.725518566347006,62.488879338261945,63.06943465554446,63.80975774734637,61.39559884638144,67.16025815141668,69.8222126262271,71.72510614626272,70.38512807538544,70.66976935592086,69.60981618892899,66.33108342059296,65.98890049408325,64.10492952332663,57.171739973206265,58.34756260526127,60.654661155973294,64.42164558268507,61.620198196191964,63.317747933697405,62.57381375453523,64.08045318221701,62.8823573022735,59.60998681149944,65.97654965197835,69.3482783214107,68.04249882658863,65.47578947265795,61.113319100962386,65.68524527140609,63.69206944376946,63.383191378574644,63.60823832229444,62.2048808561367,65.02598162791867,65.13057138125947,61.103975555519646,56.41805326811477,56.86560089967268,58.5839375669359,55.102263066417436,55.43187861098339,56.257152006329086,55.908022505712424,59.29178174996091,54.9089332607469,53.72032762370912,54.538702372281456,54.870213597124696],\"yaxis\":\"y4\",\"type\":\"scatter\"},{\"legendgroup\":\"RSI(Close,[5, 30])\",\"line\":{\"color\":\"#000000\",\"width\":1},\"mode\":\"lines\",\"name\":\"\",\"showlegend\":true,\"text\":\"\",\"x\":[\"2023-09-20\",\"2023-09-21\",\"2023-09-22\",\"2023-09-25\",\"2023-09-26\",\"2023-09-27\",\"2023-09-28\",\"2023-09-29\",\"2023-10-02\",\"2023-10-03\",\"2023-10-04\",\"2023-10-05\",\"2023-10-06\",\"2023-10-09\",\"2023-10-10\",\"2023-10-11\",\"2023-10-12\",\"2023-10-13\",\"2023-10-16\",\"2023-10-17\",\"2023-10-18\",\"2023-10-19\",\"2023-10-20\",\"2023-10-23\",\"2023-10-24\",\"2023-10-25\",\"2023-10-26\",\"2023-10-27\",\"2023-10-30\",\"2023-10-31\",\"2023-11-01\",\"2023-11-02\",\"2023-11-03\",\"2023-11-06\",\"2023-11-07\",\"2023-11-08\",\"2023-11-09\",\"2023-11-10\",\"2023-11-13\",\"2023-11-14\",\"2023-11-15\",\"2023-11-16\",\"2023-11-17\",\"2023-11-20\",\"2023-11-21\",\"2023-11-22\",\"2023-11-24\",\"2023-11-27\",\"2023-11-28\",\"2023-11-29\",\"2023-11-30\",\"2023-12-01\",\"2023-12-04\",\"2023-12-05\",\"2023-12-06\",\"2023-12-07\",\"2023-12-08\",\"2023-12-11\",\"2023-12-12\",\"2023-12-13\",\"2023-12-14\",\"2023-12-15\",\"2023-12-18\",\"2023-12-19\",\"2023-12-20\",\"2023-12-21\",\"2023-12-22\",\"2023-12-26\",\"2023-12-27\",\"2023-12-28\",\"2023-12-29\",\"2024-01-02\",\"2024-01-03\",\"2024-01-04\",\"2024-01-05\",\"2024-01-08\",\"2024-01-09\",\"2024-01-10\",\"2024-01-11\",\"2024-01-12\",\"2024-01-16\",\"2024-01-17\",\"2024-01-18\",\"2024-01-19\",\"2024-01-22\",\"2024-01-23\",\"2024-01-24\",\"2024-01-25\",\"2024-01-26\",\"2024-01-29\",\"2024-01-30\",\"2024-01-31\",\"2024-02-01\",\"2024-02-02\",\"2024-02-05\",\"2024-02-06\",\"2024-02-07\",\"2024-02-08\",\"2024-02-09\",\"2024-02-12\",\"2024-02-13\",\"2024-02-14\",\"2024-02-15\",\"2024-02-16\",\"2024-02-20\",\"2024-02-21\",\"2024-02-22\",\"2024-02-23\",\"2024-02-26\",\"2024-02-27\",\"2024-02-28\",\"2024-02-29\",\"2024-03-01\",\"2024-03-04\",\"2024-03-05\",\"2024-03-06\",\"2024-03-07\",\"2024-03-08\",\"2024-03-11\",\"2024-03-12\",\"2024-03-13\",\"2024-03-14\",\"2024-03-15\",\"2024-03-18\",\"2024-03-19\",\"2024-03-20\"],\"y\":[20,20,20,20,20,20,20,20,20,20,20,20,20,20,20,20,20,20,20,20,20,20,20,20,20,20,20,20,20,20,20,20,20,20,20,20,20,20,20,20,20,20,20,20,20,20,20,20,20,20,20,20,20,20,20,20,20,20,20,20,20,20,20,20,20,20,20,20,20,20,20,20,20,20,20,20,20,20,20,20,20,20,20,20,20,20,20,20,20,20,20,20,20,20,20,20,20,20,20,20,20,20,20,20,20,20,20,20,20,20,20,20,20,20,20,20,20,20,20,20,20,20,20,20,20,20],\"yaxis\":\"y4\",\"type\":\"scatter\"},{\"legendgroup\":\"RSI(Close,[5, 30])\",\"line\":{\"color\":\"#ff0000\",\"width\":1},\"mode\":\"lines\",\"name\":\"\",\"showlegend\":true,\"text\":\"\",\"x\":[\"2023-09-20\",\"2023-09-21\",\"2023-09-22\",\"2023-09-25\",\"2023-09-26\",\"2023-09-27\",\"2023-09-28\",\"2023-09-29\",\"2023-10-02\",\"2023-10-03\",\"2023-10-04\",\"2023-10-05\",\"2023-10-06\",\"2023-10-09\",\"2023-10-10\",\"2023-10-11\",\"2023-10-12\",\"2023-10-13\",\"2023-10-16\",\"2023-10-17\",\"2023-10-18\",\"2023-10-19\",\"2023-10-20\",\"2023-10-23\",\"2023-10-24\",\"2023-10-25\",\"2023-10-26\",\"2023-10-27\",\"2023-10-30\",\"2023-10-31\",\"2023-11-01\",\"2023-11-02\",\"2023-11-03\",\"2023-11-06\",\"2023-11-07\",\"2023-11-08\",\"2023-11-09\",\"2023-11-10\",\"2023-11-13\",\"2023-11-14\",\"2023-11-15\",\"2023-11-16\",\"2023-11-17\",\"2023-11-20\",\"2023-11-21\",\"2023-11-22\",\"2023-11-24\",\"2023-11-27\",\"2023-11-28\",\"2023-11-29\",\"2023-11-30\",\"2023-12-01\",\"2023-12-04\",\"2023-12-05\",\"2023-12-06\",\"2023-12-07\",\"2023-12-08\",\"2023-12-11\",\"2023-12-12\",\"2023-12-13\",\"2023-12-14\",\"2023-12-15\",\"2023-12-18\",\"2023-12-19\",\"2023-12-20\",\"2023-12-21\",\"2023-12-22\",\"2023-12-26\",\"2023-12-27\",\"2023-12-28\",\"2023-12-29\",\"2024-01-02\",\"2024-01-03\",\"2024-01-04\",\"2024-01-05\",\"2024-01-08\",\"2024-01-09\",\"2024-01-10\",\"2024-01-11\",\"2024-01-12\",\"2024-01-16\",\"2024-01-17\",\"2024-01-18\",\"2024-01-19\",\"2024-01-22\",\"2024-01-23\",\"2024-01-24\",\"2024-01-25\",\"2024-01-26\",\"2024-01-29\",\"2024-01-30\",\"2024-01-31\",\"2024-02-01\",\"2024-02-02\",\"2024-02-05\",\"2024-02-06\",\"2024-02-07\",\"2024-02-08\",\"2024-02-09\",\"2024-02-12\",\"2024-02-13\",\"2024-02-14\",\"2024-02-15\",\"2024-02-16\",\"2024-02-20\",\"2024-02-21\",\"2024-02-22\",\"2024-02-23\",\"2024-02-26\",\"2024-02-27\",\"2024-02-28\",\"2024-02-29\",\"2024-03-01\",\"2024-03-04\",\"2024-03-05\",\"2024-03-06\",\"2024-03-07\",\"2024-03-08\",\"2024-03-11\",\"2024-03-12\",\"2024-03-13\",\"2024-03-14\",\"2024-03-15\",\"2024-03-18\",\"2024-03-19\",\"2024-03-20\"],\"y\":[80,80,80,80,80,80,80,80,80,80,80,80,80,80,80,80,80,80,80,80,80,80,80,80,80,80,80,80,80,80,80,80,80,80,80,80,80,80,80,80,80,80,80,80,80,80,80,80,80,80,80,80,80,80,80,80,80,80,80,80,80,80,80,80,80,80,80,80,80,80,80,80,80,80,80,80,80,80,80,80,80,80,80,80,80,80,80,80,80,80,80,80,80,80,80,80,80,80,80,80,80,80,80,80,80,80,80,80,80,80,80,80,80,80,80,80,80,80,80,80,80,80,80,80,80,80],\"yaxis\":\"y4\",\"type\":\"scatter\"},{\"close\":[14969.919921875,14694.240234375,14701.099609375,14768.900390625,14545.830078125,14580.16015625,14702.76953125,14715.240234375,14837.5703125,14565.6201171875,14776.25,14723.2197265625,14973.240234375,15047.150390625,15131.51953125,15241.1201171875,15184.099609375,14995.1201171875,15172.73046875,15122.009765625,14909.259765625,14783.1298828125,14560.8798828125,14604.849609375,14745.8603515625,14381.6396484375,14109.5703125,14180.419921875,14335.509765625,14409.7802734375,14664.91015625,14919.5498046875,15099.490234375,15154.9296875,15296.01953125,15313.240234375,15187.900390625,15529.1201171875,15482.7900390625,15812.4697265625,15817.1796875,15833.169921875,15837.990234375,16027.0595703125,15933.6201171875,16001.3896484375,15982.009765625,15961.98046875,16010.4296875,15987.599609375,15947.8701171875,15997.580078125,15839.669921875,15877.7099609375,15788.0498046875,16022.490234375,16084.6904296875,16221.73046875,16354.25,16562.369140625,16537.830078125,16623.44921875,16729.80078125,16811.849609375,16554.16015625,16757.41015625,16777.400390625,16878.4609375,16906.80078125,16898.470703125,16825.9296875,16543.939453125,16368.490234375,16282.009765625,16305.98046875,16649.869140625,16678.69921875,16793.05078125,16820.900390625,16832.919921875,16830.7109375,16736.279296875,16982.2890625,17314.0,17330.380859375,17404.2109375,17499.30078125,17516.990234375,17421.009765625,17596.26953125,17476.7109375,17137.240234375,17344.7109375,17642.73046875,17613.0390625,17572.73046875,17755.0703125,17783.169921875,17962.41015625,17882.66015625,17600.419921875,17807.630859375,17845.720703125,17685.98046875,17546.099609375,17478.91015625,18004.69921875,17937.609375,17933.330078125,17971.05078125,17874.5,18043.849609375,18302.91015625,18226.48046875,17897.869140625,18017.5703125,18297.990234375,18018.44921875,17951.689453125,18219.109375,18068.470703125,18014.810546875,17808.25,17985.009765625,18032.19921875,18019.7890625],\"decreasing\":{\"line\":{\"color\":\"#000000\"}},\"high\":[15245.1904296875,14849.25,14855.919921875,14771.1201171875,14678.48046875,14657.2099609375,14787.580078125,14901.849609375,14892.1796875,14819.8701171875,14803.0400390625,14784.6904296875,15021.3798828125,15070.6396484375,15241.9404296875,15248.2197265625,15333.98046875,15232.3701171875,15209.5,15187.0595703125,15103.8701171875,15023.91015625,14781.2197265625,14746.3701171875,14774.16015625,14643.6904296875,14372.509765625,14321.0400390625,14388.2001953125,14420.4404296875,14677.8603515625,14930.759765625,15149.7802734375,15180.1904296875,15335.4404296875,15343.1904296875,15382.1103515625,15535.2001953125,15524.66015625,15850.33984375,15904.6298828125,15842.6298828125,15876.8701171875,16056.759765625,15968.08984375,16119.3095703125,16007.4296875,16045.2998046875,16031.51953125,16166.509765625,16013.48046875,16013.75,15852.4501953125,15931.83984375,15990.9404296875,16042.509765625,16100.8603515625,16232.259765625,16354.25,16581.0390625,16660.7109375,16669.76953125,16764.3203125,16813.009765625,16860.6796875,16768.01953125,16839.25,16907.509765625,16922.009765625,16969.169921875,16919.509765625,16686.599609375,16471.080078125,16419.439453125,16415.390625,16655.23046875,16710.880859375,16827.369140625,16898.16015625,16900.369140625,16895.330078125,16749.109375,16996.98046875,17317.2109375,17450.30078125,17410.859375,17665.259765625,17631.33984375,17514.759765625,17603.94921875,17578.4609375,17375.3203125,17356.759765625,17682.2890625,17655.76953125,17680.619140625,17784.169921875,17814.119140625,17987.900390625,18041.44921875,17717.669921875,17815.1796875,17864.58984375,17864.16015625,17657.080078125,17482.130859375,18034.80078125,18091.619140625,18014.109375,17987.5390625,17931.009765625,18068.51953125,18333.259765625,18313.4296875,18097.5,18142.880859375,18337.94921875,18416.73046875,18003.05078125,18228.369140625,18163.740234375,18142.900390625,17930.470703125,18124.3203125,18039.8203125,18087.099609375],\"increasing\":{\"line\":{\"color\":\"#ff0000\"}},\"low\":[14967.599609375,14691.6904296875,14686.83984375,14615.4501953125,14505.6796875,14432.599609375,14510.169921875,14664.7802734375,14701.51953125,14504.1396484375,14592.5595703125,14584.3896484375,14575.9501953125,14816.3203125,15050.5400390625,15119.6201171875,15090.6904296875,14943.419921875,15047.26953125,14932.76953125,14865.8095703125,14749.2998046875,14552.1201171875,14419.0595703125,14610.330078125,14362.240234375,14058.330078125,14130.3701171875,14225.8603515625,14232.400390625,14441.8896484375,14792.8095703125,14965.2900390625,15064.91015625,15153.3095703125,15220.8798828125,15171.3203125,15237.169921875,15404.7099609375,15726.1201171875,15765.3095703125,15738.2197265625,15766.9404296875,15844.830078125,15866.8203125,15964.0400390625,15940.6201171875,15932.1904296875,15921.0703125,15976.6904296875,15825.669921875,15834.9296875,15695.580078125,15760.58984375,15776.9501953125,15875.48046875,15937.580078125,16061.8701171875,16175.4599609375,16357.2099609375,16419.259765625,16557.009765625,16629.2890625,16733.380859375,16552.060546875,16621.51953125,16703.5703125,16813.5703125,16859.55078125,16891.3203125,16757.890625,16453.150390625,16352.1396484375,16276.4296875,16249.1904296875,16349.3896484375,16513.73046875,16654.740234375,16618.859375,16776.919921875,16726.58984375,16561.490234375,16818.130859375,17041.849609375,17309.869140625,17286.01953125,17481.970703125,17430.369140625,17395.5390625,17414.619140625,17443.76953125,17128.740234375,17175.830078125,17378.369140625,17469.619140625,17475.4296875,17637.73046875,17728.55078125,17798.810546875,17859.66015625,17478.23046875,17619.919921875,17722.310546875,17663.400390625,17399.41015625,17319.439453125,17808.259765625,17902.779296875,17926.66015625,17871.060546875,17840.359375,17866.259765625,18064.439453125,18218.25,17804.5,17941.640625,18101.4296875,17995.380859375,17873.330078125,17919.330078125,18030.400390625,17913.630859375,17764.990234375,17973.08984375,17809.150390625,18005.0],\"name\":\"\\u65e5K\\u7dda\\u5716\",\"open\":[15225.33984375,14813.490234375,14756.6201171875,14662.6904296875,14668.4501953125,14600.1396484375,14530.9599609375,14853.349609375,14717.900390625,14744.0498046875,14613.23046875,14769.5498046875,14622.23046875,14871.5703125,15074.0400390625,15194.5302734375,15264.1103515625,15225.73046875,15054.48046875,15009.259765625,15022.2802734375,14981.1298828125,14752.58984375,14514.1103515625,14678.41015625,14642.080078125,14314.009765625,14245.75,14283.98046875,14340.8603515625,14453.6796875,14856.9501953125,14985.1201171875,15137.16015625,15201.76953125,15313.900390625,15351.1201171875,15252.3603515625,15469.2099609375,15744.3603515625,15881.7197265625,15765.2001953125,15803.98046875,15845.2001953125,15951.5498046875,16025.740234375,15974.849609375,15969.7197265625,15940.2900390625,16111.3603515625,15987.66015625,15892.58984375,15837.1201171875,15763.650390625,15990.2001953125,15888.23046875,15952.849609375,16069.6201171875,16209.6103515625,16392.1796875,16603.5390625,16587.0,16631.109375,16734.25,16763.640625,16719.609375,16799.01953125,16816.779296875,16896.140625,16963.51953125,16902.439453125,16667.30078125,16413.259765625,16290.7802734375,16281.740234375,16354.2197265625,16531.9609375,16702.55078125,16852.189453125,16855.0,16775.099609375,16705.509765625,16894.330078125,17060.140625,17403.619140625,17346.94921875,17562.3203125,17589.26953125,17432.869140625,17438.029296875,17556.490234375,17269.98046875,17216.990234375,17415.939453125,17634.689453125,17664.439453125,17674.58984375,17757.599609375,17820.98046875,17942.279296875,17519.80078125,17728.900390625,17815.3203125,17853.58984375,17591.169921875,17412.7890625,17857.759765625,18052.58984375,17970.2109375,17962.580078125,17895.029296875,17991.669921875,18069.2890625,18290.099609375,18088.7109375,18083.509765625,18161.73046875,18312.7890625,17959.6796875,18063.01953125,18151.759765625,18114.689453125,17926.919921875,18024.240234375,17902.51953125,18067.69921875],\"showlegend\":true,\"x\":[\"2023-09-20\",\"2023-09-21\",\"2023-09-22\",\"2023-09-25\",\"2023-09-26\",\"2023-09-27\",\"2023-09-28\",\"2023-09-29\",\"2023-10-02\",\"2023-10-03\",\"2023-10-04\",\"2023-10-05\",\"2023-10-06\",\"2023-10-09\",\"2023-10-10\",\"2023-10-11\",\"2023-10-12\",\"2023-10-13\",\"2023-10-16\",\"2023-10-17\",\"2023-10-18\",\"2023-10-19\",\"2023-10-20\",\"2023-10-23\",\"2023-10-24\",\"2023-10-25\",\"2023-10-26\",\"2023-10-27\",\"2023-10-30\",\"2023-10-31\",\"2023-11-01\",\"2023-11-02\",\"2023-11-03\",\"2023-11-06\",\"2023-11-07\",\"2023-11-08\",\"2023-11-09\",\"2023-11-10\",\"2023-11-13\",\"2023-11-14\",\"2023-11-15\",\"2023-11-16\",\"2023-11-17\",\"2023-11-20\",\"2023-11-21\",\"2023-11-22\",\"2023-11-24\",\"2023-11-27\",\"2023-11-28\",\"2023-11-29\",\"2023-11-30\",\"2023-12-01\",\"2023-12-04\",\"2023-12-05\",\"2023-12-06\",\"2023-12-07\",\"2023-12-08\",\"2023-12-11\",\"2023-12-12\",\"2023-12-13\",\"2023-12-14\",\"2023-12-15\",\"2023-12-18\",\"2023-12-19\",\"2023-12-20\",\"2023-12-21\",\"2023-12-22\",\"2023-12-26\",\"2023-12-27\",\"2023-12-28\",\"2023-12-29\",\"2024-01-02\",\"2024-01-03\",\"2024-01-04\",\"2024-01-05\",\"2024-01-08\",\"2024-01-09\",\"2024-01-10\",\"2024-01-11\",\"2024-01-12\",\"2024-01-16\",\"2024-01-17\",\"2024-01-18\",\"2024-01-19\",\"2024-01-22\",\"2024-01-23\",\"2024-01-24\",\"2024-01-25\",\"2024-01-26\",\"2024-01-29\",\"2024-01-30\",\"2024-01-31\",\"2024-02-01\",\"2024-02-02\",\"2024-02-05\",\"2024-02-06\",\"2024-02-07\",\"2024-02-08\",\"2024-02-09\",\"2024-02-12\",\"2024-02-13\",\"2024-02-14\",\"2024-02-15\",\"2024-02-16\",\"2024-02-20\",\"2024-02-21\",\"2024-02-22\",\"2024-02-23\",\"2024-02-26\",\"2024-02-27\",\"2024-02-28\",\"2024-02-29\",\"2024-03-01\",\"2024-03-04\",\"2024-03-05\",\"2024-03-06\",\"2024-03-07\",\"2024-03-08\",\"2024-03-11\",\"2024-03-12\",\"2024-03-13\",\"2024-03-14\",\"2024-03-15\",\"2024-03-18\",\"2024-03-19\",\"2024-03-20\"],\"yaxis\":\"y2\",\"type\":\"candlestick\"}],                        {\"legend\":{\"bgcolor\":\"#F5F6F9\",\"font\":{\"color\":\"#4D5663\"},\"orientation\":\"h\",\"x\":0.3,\"y\":0.95,\"yanchor\":\"bottom\"},\"margin\":{\"b\":30,\"l\":30,\"r\":30,\"t\":30},\"paper_bgcolor\":\"#F5F6F9\",\"plot_bgcolor\":\"#F5F6F9\",\"showlegend\":true,\"template\":{\"data\":{\"barpolar\":[{\"marker\":{\"line\":{\"color\":\"#E5ECF6\",\"width\":0.5},\"pattern\":{\"fillmode\":\"overlay\",\"size\":10,\"solidity\":0.2}},\"type\":\"barpolar\"}],\"bar\":[{\"error_x\":{\"color\":\"#2a3f5f\"},\"error_y\":{\"color\":\"#2a3f5f\"},\"marker\":{\"line\":{\"color\":\"#E5ECF6\",\"width\":0.5},\"pattern\":{\"fillmode\":\"overlay\",\"size\":10,\"solidity\":0.2}},\"type\":\"bar\"}],\"carpet\":[{\"aaxis\":{\"endlinecolor\":\"#2a3f5f\",\"gridcolor\":\"white\",\"linecolor\":\"white\",\"minorgridcolor\":\"white\",\"startlinecolor\":\"#2a3f5f\"},\"baxis\":{\"endlinecolor\":\"#2a3f5f\",\"gridcolor\":\"white\",\"linecolor\":\"white\",\"minorgridcolor\":\"white\",\"startlinecolor\":\"#2a3f5f\"},\"type\":\"carpet\"}],\"choropleth\":[{\"colorbar\":{\"outlinewidth\":0,\"ticks\":\"\"},\"type\":\"choropleth\"}],\"contourcarpet\":[{\"colorbar\":{\"outlinewidth\":0,\"ticks\":\"\"},\"type\":\"contourcarpet\"}],\"contour\":[{\"colorbar\":{\"outlinewidth\":0,\"ticks\":\"\"},\"colorscale\":[[0.0,\"#0d0887\"],[0.1111111111111111,\"#46039f\"],[0.2222222222222222,\"#7201a8\"],[0.3333333333333333,\"#9c179e\"],[0.4444444444444444,\"#bd3786\"],[0.5555555555555556,\"#d8576b\"],[0.6666666666666666,\"#ed7953\"],[0.7777777777777778,\"#fb9f3a\"],[0.8888888888888888,\"#fdca26\"],[1.0,\"#f0f921\"]],\"type\":\"contour\"}],\"heatmapgl\":[{\"colorbar\":{\"outlinewidth\":0,\"ticks\":\"\"},\"colorscale\":[[0.0,\"#0d0887\"],[0.1111111111111111,\"#46039f\"],[0.2222222222222222,\"#7201a8\"],[0.3333333333333333,\"#9c179e\"],[0.4444444444444444,\"#bd3786\"],[0.5555555555555556,\"#d8576b\"],[0.6666666666666666,\"#ed7953\"],[0.7777777777777778,\"#fb9f3a\"],[0.8888888888888888,\"#fdca26\"],[1.0,\"#f0f921\"]],\"type\":\"heatmapgl\"}],\"heatmap\":[{\"colorbar\":{\"outlinewidth\":0,\"ticks\":\"\"},\"colorscale\":[[0.0,\"#0d0887\"],[0.1111111111111111,\"#46039f\"],[0.2222222222222222,\"#7201a8\"],[0.3333333333333333,\"#9c179e\"],[0.4444444444444444,\"#bd3786\"],[0.5555555555555556,\"#d8576b\"],[0.6666666666666666,\"#ed7953\"],[0.7777777777777778,\"#fb9f3a\"],[0.8888888888888888,\"#fdca26\"],[1.0,\"#f0f921\"]],\"type\":\"heatmap\"}],\"histogram2dcontour\":[{\"colorbar\":{\"outlinewidth\":0,\"ticks\":\"\"},\"colorscale\":[[0.0,\"#0d0887\"],[0.1111111111111111,\"#46039f\"],[0.2222222222222222,\"#7201a8\"],[0.3333333333333333,\"#9c179e\"],[0.4444444444444444,\"#bd3786\"],[0.5555555555555556,\"#d8576b\"],[0.6666666666666666,\"#ed7953\"],[0.7777777777777778,\"#fb9f3a\"],[0.8888888888888888,\"#fdca26\"],[1.0,\"#f0f921\"]],\"type\":\"histogram2dcontour\"}],\"histogram2d\":[{\"colorbar\":{\"outlinewidth\":0,\"ticks\":\"\"},\"colorscale\":[[0.0,\"#0d0887\"],[0.1111111111111111,\"#46039f\"],[0.2222222222222222,\"#7201a8\"],[0.3333333333333333,\"#9c179e\"],[0.4444444444444444,\"#bd3786\"],[0.5555555555555556,\"#d8576b\"],[0.6666666666666666,\"#ed7953\"],[0.7777777777777778,\"#fb9f3a\"],[0.8888888888888888,\"#fdca26\"],[1.0,\"#f0f921\"]],\"type\":\"histogram2d\"}],\"histogram\":[{\"marker\":{\"pattern\":{\"fillmode\":\"overlay\",\"size\":10,\"solidity\":0.2}},\"type\":\"histogram\"}],\"mesh3d\":[{\"colorbar\":{\"outlinewidth\":0,\"ticks\":\"\"},\"type\":\"mesh3d\"}],\"parcoords\":[{\"line\":{\"colorbar\":{\"outlinewidth\":0,\"ticks\":\"\"}},\"type\":\"parcoords\"}],\"pie\":[{\"automargin\":true,\"type\":\"pie\"}],\"scatter3d\":[{\"line\":{\"colorbar\":{\"outlinewidth\":0,\"ticks\":\"\"}},\"marker\":{\"colorbar\":{\"outlinewidth\":0,\"ticks\":\"\"}},\"type\":\"scatter3d\"}],\"scattercarpet\":[{\"marker\":{\"colorbar\":{\"outlinewidth\":0,\"ticks\":\"\"}},\"type\":\"scattercarpet\"}],\"scattergeo\":[{\"marker\":{\"colorbar\":{\"outlinewidth\":0,\"ticks\":\"\"}},\"type\":\"scattergeo\"}],\"scattergl\":[{\"marker\":{\"colorbar\":{\"outlinewidth\":0,\"ticks\":\"\"}},\"type\":\"scattergl\"}],\"scattermapbox\":[{\"marker\":{\"colorbar\":{\"outlinewidth\":0,\"ticks\":\"\"}},\"type\":\"scattermapbox\"}],\"scatterpolargl\":[{\"marker\":{\"colorbar\":{\"outlinewidth\":0,\"ticks\":\"\"}},\"type\":\"scatterpolargl\"}],\"scatterpolar\":[{\"marker\":{\"colorbar\":{\"outlinewidth\":0,\"ticks\":\"\"}},\"type\":\"scatterpolar\"}],\"scatter\":[{\"fillpattern\":{\"fillmode\":\"overlay\",\"size\":10,\"solidity\":0.2},\"type\":\"scatter\"}],\"scatterternary\":[{\"marker\":{\"colorbar\":{\"outlinewidth\":0,\"ticks\":\"\"}},\"type\":\"scatterternary\"}],\"surface\":[{\"colorbar\":{\"outlinewidth\":0,\"ticks\":\"\"},\"colorscale\":[[0.0,\"#0d0887\"],[0.1111111111111111,\"#46039f\"],[0.2222222222222222,\"#7201a8\"],[0.3333333333333333,\"#9c179e\"],[0.4444444444444444,\"#bd3786\"],[0.5555555555555556,\"#d8576b\"],[0.6666666666666666,\"#ed7953\"],[0.7777777777777778,\"#fb9f3a\"],[0.8888888888888888,\"#fdca26\"],[1.0,\"#f0f921\"]],\"type\":\"surface\"}],\"table\":[{\"cells\":{\"fill\":{\"color\":\"#EBF0F8\"},\"line\":{\"color\":\"white\"}},\"header\":{\"fill\":{\"color\":\"#C8D4E3\"},\"line\":{\"color\":\"white\"}},\"type\":\"table\"}]},\"layout\":{\"annotationdefaults\":{\"arrowcolor\":\"#2a3f5f\",\"arrowhead\":0,\"arrowwidth\":1},\"autotypenumbers\":\"strict\",\"coloraxis\":{\"colorbar\":{\"outlinewidth\":0,\"ticks\":\"\"}},\"colorscale\":{\"diverging\":[[0,\"#8e0152\"],[0.1,\"#c51b7d\"],[0.2,\"#de77ae\"],[0.3,\"#f1b6da\"],[0.4,\"#fde0ef\"],[0.5,\"#f7f7f7\"],[0.6,\"#e6f5d0\"],[0.7,\"#b8e186\"],[0.8,\"#7fbc41\"],[0.9,\"#4d9221\"],[1,\"#276419\"]],\"sequential\":[[0.0,\"#0d0887\"],[0.1111111111111111,\"#46039f\"],[0.2222222222222222,\"#7201a8\"],[0.3333333333333333,\"#9c179e\"],[0.4444444444444444,\"#bd3786\"],[0.5555555555555556,\"#d8576b\"],[0.6666666666666666,\"#ed7953\"],[0.7777777777777778,\"#fb9f3a\"],[0.8888888888888888,\"#fdca26\"],[1.0,\"#f0f921\"]],\"sequentialminus\":[[0.0,\"#0d0887\"],[0.1111111111111111,\"#46039f\"],[0.2222222222222222,\"#7201a8\"],[0.3333333333333333,\"#9c179e\"],[0.4444444444444444,\"#bd3786\"],[0.5555555555555556,\"#d8576b\"],[0.6666666666666666,\"#ed7953\"],[0.7777777777777778,\"#fb9f3a\"],[0.8888888888888888,\"#fdca26\"],[1.0,\"#f0f921\"]]},\"colorway\":[\"#636efa\",\"#EF553B\",\"#00cc96\",\"#ab63fa\",\"#FFA15A\",\"#19d3f3\",\"#FF6692\",\"#B6E880\",\"#FF97FF\",\"#FECB52\"],\"font\":{\"color\":\"#2a3f5f\"},\"geo\":{\"bgcolor\":\"white\",\"lakecolor\":\"white\",\"landcolor\":\"#E5ECF6\",\"showlakes\":true,\"showland\":true,\"subunitcolor\":\"white\"},\"hoverlabel\":{\"align\":\"left\"},\"hovermode\":\"closest\",\"mapbox\":{\"style\":\"light\"},\"paper_bgcolor\":\"white\",\"plot_bgcolor\":\"#E5ECF6\",\"polar\":{\"angularaxis\":{\"gridcolor\":\"white\",\"linecolor\":\"white\",\"ticks\":\"\"},\"bgcolor\":\"#E5ECF6\",\"radialaxis\":{\"gridcolor\":\"white\",\"linecolor\":\"white\",\"ticks\":\"\"}},\"scene\":{\"xaxis\":{\"backgroundcolor\":\"#E5ECF6\",\"gridcolor\":\"white\",\"gridwidth\":2,\"linecolor\":\"white\",\"showbackground\":true,\"ticks\":\"\",\"zerolinecolor\":\"white\"},\"yaxis\":{\"backgroundcolor\":\"#E5ECF6\",\"gridcolor\":\"white\",\"gridwidth\":2,\"linecolor\":\"white\",\"showbackground\":true,\"ticks\":\"\",\"zerolinecolor\":\"white\"},\"zaxis\":{\"backgroundcolor\":\"#E5ECF6\",\"gridcolor\":\"white\",\"gridwidth\":2,\"linecolor\":\"white\",\"showbackground\":true,\"ticks\":\"\",\"zerolinecolor\":\"white\"}},\"shapedefaults\":{\"line\":{\"color\":\"#2a3f5f\"}},\"ternary\":{\"aaxis\":{\"gridcolor\":\"white\",\"linecolor\":\"white\",\"ticks\":\"\"},\"baxis\":{\"gridcolor\":\"white\",\"linecolor\":\"white\",\"ticks\":\"\"},\"bgcolor\":\"#E5ECF6\",\"caxis\":{\"gridcolor\":\"white\",\"linecolor\":\"white\",\"ticks\":\"\"}},\"title\":{\"x\":0.05},\"xaxis\":{\"automargin\":true,\"gridcolor\":\"white\",\"linecolor\":\"white\",\"ticks\":\"\",\"title\":{\"standoff\":15},\"zerolinecolor\":\"white\",\"zerolinewidth\":2},\"yaxis\":{\"automargin\":true,\"gridcolor\":\"white\",\"linecolor\":\"white\",\"ticks\":\"\",\"title\":{\"standoff\":15},\"zerolinecolor\":\"white\",\"zerolinewidth\":2}}},\"title\":{\"font\":{\"color\":\"#4D5663\"},\"text\":\"^NDX\"},\"xaxis\":{\"anchor\":\"y2\",\"gridcolor\":\"#E1E5ED\",\"rangeselector\":{\"bgcolor\":\"rgba(150, 200, 250, 1)\",\"buttons\":[{\"count\":1,\"label\":\"1m\",\"step\":\"month\",\"stepmode\":\"backward\"},{\"count\":1,\"label\":\"1y\",\"step\":\"year\",\"stepmode\":\"backward\"}],\"font\":{\"size\":13},\"visible\":false,\"x\":0,\"y\":0.9},\"rangeslider\":{\"visible\":false},\"showgrid\":true,\"tickfont\":{\"color\":\"#4D5663\"},\"title\":{\"font\":{\"color\":\"#4D5663\"},\"text\":\"\"},\"zerolinecolor\":\"#E1E5ED\"},\"yaxis\":{\"gridcolor\":\"#E1E5ED\",\"showgrid\":true,\"showticklabels\":false,\"tickfont\":{\"color\":\"#4D5663\"},\"title\":{\"font\":{\"color\":\"#4D5663\"},\"text\":\"\"},\"zerolinecolor\":\"#E1E5ED\"},\"yaxis3\":{\"domain\":[0.23,0.38],\"gridcolor\":\"#E1E5ED\",\"showgrid\":true,\"tickfont\":{\"color\":\"#4D5663\"},\"title\":{\"font\":{\"color\":\"#4D5663\"},\"text\":\"\"},\"zerolinecolor\":\"#E1E5ED\"},\"yaxis4\":{\"domain\":[0.0,0.15],\"gridcolor\":\"#E1E5ED\",\"showgrid\":true,\"tickfont\":{\"color\":\"#4D5663\"},\"title\":{\"font\":{\"color\":\"#4D5663\"},\"text\":\"\"},\"zerolinecolor\":\"#E1E5ED\"},\"yaxis2\":{\"domain\":[0.46,0.9],\"gridcolor\":\"#E1E5ED\",\"showgrid\":true,\"tickfont\":{\"color\":\"#4D5663\"},\"title\":{\"font\":{\"color\":\"#4D5663\"},\"text\":\"\"},\"zerolinecolor\":\"#E1E5ED\"}},                        {\"showLink\": true, \"linkText\": \"Export to plot.ly\", \"plotlyServerURL\": \"https://plot.ly\", \"responsive\": true}                    ).then(function(){\n",
       "                            \n",
       "var gd = document.getElementById('6f383b51-8452-490f-b841-9037ee6dfe6b');\n",
       "var x = new MutationObserver(function (mutations, observer) {{\n",
       "        var display = window.getComputedStyle(gd).display;\n",
       "        if (!display || display === 'none') {{\n",
       "            console.log([gd, 'removed!']);\n",
       "            Plotly.purge(gd);\n",
       "            observer.disconnect();\n",
       "        }}\n",
       "}});\n",
       "\n",
       "// Listen for the removal of the full notebook cells\n",
       "var notebookContainer = gd.closest('#notebook-container');\n",
       "if (notebookContainer) {{\n",
       "    x.observe(notebookContainer, {childList: true});\n",
       "}}\n",
       "\n",
       "// Listen for the clearing of the current output cell\n",
       "var outputEl = gd.closest('.output');\n",
       "if (outputEl) {{\n",
       "    x.observe(outputEl, {childList: true});\n",
       "}}\n",
       "\n",
       "                        })                };                });            </script>        </div>"
      ]
     },
     "metadata": {},
     "output_type": "display_data"
    }
   ],
   "source": [
    "#綠色的部分是可以改的 RSI\n",
    "#periods裡面有兩個數字，20代表20天短周期，30代表30天長周期\n",
    "qf.add_rsi(periods=[5,30],rsi_upper=80, rsi_lower=20,colors=['#ff6600','#0000e6'])\n",
    "qf.figure(up_color='#ff0000',down_color='#000000').iplot()"
   ]
  },
  {
   "cell_type": "code",
   "execution_count": 32,
   "metadata": {},
   "outputs": [
    {
     "data": {
      "application/vnd.plotly.v1+json": {
       "config": {
        "linkText": "Export to plot.ly",
        "plotlyServerURL": "https://plot.ly",
        "showLink": true
       },
       "data": [
        {
         "marker": {
          "color": [
           "#000000",
           "#000000",
           "#ff0000",
           "#ff0000",
           "#000000",
           "#ff0000",
           "#ff0000",
           "#ff0000",
           "#ff0000",
           "#000000",
           "#ff0000",
           "#000000",
           "#ff0000",
           "#ff0000",
           "#ff0000",
           "#ff0000",
           "#000000",
           "#000000",
           "#ff0000",
           "#000000",
           "#000000",
           "#000000",
           "#000000",
           "#ff0000",
           "#ff0000",
           "#000000",
           "#000000",
           "#ff0000",
           "#ff0000",
           "#ff0000",
           "#ff0000",
           "#ff0000",
           "#ff0000",
           "#ff0000",
           "#ff0000",
           "#ff0000",
           "#000000",
           "#ff0000",
           "#000000",
           "#ff0000",
           "#ff0000",
           "#ff0000",
           "#ff0000",
           "#ff0000",
           "#000000",
           "#ff0000",
           "#000000",
           "#000000",
           "#ff0000",
           "#000000",
           "#000000",
           "#ff0000",
           "#000000",
           "#ff0000",
           "#000000",
           "#ff0000",
           "#ff0000",
           "#ff0000",
           "#ff0000",
           "#ff0000",
           "#000000",
           "#ff0000",
           "#ff0000",
           "#ff0000",
           "#000000",
           "#ff0000",
           "#ff0000",
           "#ff0000",
           "#ff0000",
           "#000000",
           "#000000",
           "#000000",
           "#000000",
           "#000000",
           "#ff0000",
           "#ff0000",
           "#ff0000",
           "#ff0000",
           "#ff0000",
           "#ff0000",
           "#000000",
           "#000000",
           "#ff0000",
           "#ff0000",
           "#ff0000",
           "#ff0000",
           "#ff0000",
           "#ff0000",
           "#000000",
           "#ff0000",
           "#000000",
           "#000000",
           "#ff0000",
           "#ff0000",
           "#000000",
           "#000000",
           "#ff0000",
           "#ff0000",
           "#ff0000",
           "#000000",
           "#000000",
           "#ff0000",
           "#ff0000",
           "#000000",
           "#000000",
           "#000000",
           "#ff0000",
           "#000000",
           "#000000",
           "#ff0000",
           "#000000",
           "#ff0000",
           "#ff0000",
           "#000000",
           "#000000",
           "#ff0000",
           "#ff0000",
           "#000000",
           "#000000",
           "#ff0000",
           "#000000",
           "#000000",
           "#000000",
           "#ff0000",
           "#ff0000",
           "#000000"
          ],
          "line": {
           "color": [
            "#000000",
            "#000000",
            "#ff0000",
            "#ff0000",
            "#000000",
            "#ff0000",
            "#ff0000",
            "#ff0000",
            "#ff0000",
            "#000000",
            "#ff0000",
            "#000000",
            "#ff0000",
            "#ff0000",
            "#ff0000",
            "#ff0000",
            "#000000",
            "#000000",
            "#ff0000",
            "#000000",
            "#000000",
            "#000000",
            "#000000",
            "#ff0000",
            "#ff0000",
            "#000000",
            "#000000",
            "#ff0000",
            "#ff0000",
            "#ff0000",
            "#ff0000",
            "#ff0000",
            "#ff0000",
            "#ff0000",
            "#ff0000",
            "#ff0000",
            "#000000",
            "#ff0000",
            "#000000",
            "#ff0000",
            "#ff0000",
            "#ff0000",
            "#ff0000",
            "#ff0000",
            "#000000",
            "#ff0000",
            "#000000",
            "#000000",
            "#ff0000",
            "#000000",
            "#000000",
            "#ff0000",
            "#000000",
            "#ff0000",
            "#000000",
            "#ff0000",
            "#ff0000",
            "#ff0000",
            "#ff0000",
            "#ff0000",
            "#000000",
            "#ff0000",
            "#ff0000",
            "#ff0000",
            "#000000",
            "#ff0000",
            "#ff0000",
            "#ff0000",
            "#ff0000",
            "#000000",
            "#000000",
            "#000000",
            "#000000",
            "#000000",
            "#ff0000",
            "#ff0000",
            "#ff0000",
            "#ff0000",
            "#ff0000",
            "#ff0000",
            "#000000",
            "#000000",
            "#ff0000",
            "#ff0000",
            "#ff0000",
            "#ff0000",
            "#ff0000",
            "#ff0000",
            "#000000",
            "#ff0000",
            "#000000",
            "#000000",
            "#ff0000",
            "#ff0000",
            "#000000",
            "#000000",
            "#ff0000",
            "#ff0000",
            "#ff0000",
            "#000000",
            "#000000",
            "#ff0000",
            "#ff0000",
            "#000000",
            "#000000",
            "#000000",
            "#ff0000",
            "#000000",
            "#000000",
            "#ff0000",
            "#000000",
            "#ff0000",
            "#ff0000",
            "#000000",
            "#000000",
            "#ff0000",
            "#ff0000",
            "#000000",
            "#000000",
            "#ff0000",
            "#000000",
            "#000000",
            "#000000",
            "#ff0000",
            "#ff0000",
            "#000000"
           ],
           "width": 1
          }
         },
         "name": "Volume",
         "opacity": 0.8,
         "orientation": "v",
         "text": "",
         "type": "bar",
         "x": [
          "2023-09-20",
          "2023-09-21",
          "2023-09-22",
          "2023-09-25",
          "2023-09-26",
          "2023-09-27",
          "2023-09-28",
          "2023-09-29",
          "2023-10-02",
          "2023-10-03",
          "2023-10-04",
          "2023-10-05",
          "2023-10-06",
          "2023-10-09",
          "2023-10-10",
          "2023-10-11",
          "2023-10-12",
          "2023-10-13",
          "2023-10-16",
          "2023-10-17",
          "2023-10-18",
          "2023-10-19",
          "2023-10-20",
          "2023-10-23",
          "2023-10-24",
          "2023-10-25",
          "2023-10-26",
          "2023-10-27",
          "2023-10-30",
          "2023-10-31",
          "2023-11-01",
          "2023-11-02",
          "2023-11-03",
          "2023-11-06",
          "2023-11-07",
          "2023-11-08",
          "2023-11-09",
          "2023-11-10",
          "2023-11-13",
          "2023-11-14",
          "2023-11-15",
          "2023-11-16",
          "2023-11-17",
          "2023-11-20",
          "2023-11-21",
          "2023-11-22",
          "2023-11-24",
          "2023-11-27",
          "2023-11-28",
          "2023-11-29",
          "2023-11-30",
          "2023-12-01",
          "2023-12-04",
          "2023-12-05",
          "2023-12-06",
          "2023-12-07",
          "2023-12-08",
          "2023-12-11",
          "2023-12-12",
          "2023-12-13",
          "2023-12-14",
          "2023-12-15",
          "2023-12-18",
          "2023-12-19",
          "2023-12-20",
          "2023-12-21",
          "2023-12-22",
          "2023-12-26",
          "2023-12-27",
          "2023-12-28",
          "2023-12-29",
          "2024-01-02",
          "2024-01-03",
          "2024-01-04",
          "2024-01-05",
          "2024-01-08",
          "2024-01-09",
          "2024-01-10",
          "2024-01-11",
          "2024-01-12",
          "2024-01-16",
          "2024-01-17",
          "2024-01-18",
          "2024-01-19",
          "2024-01-22",
          "2024-01-23",
          "2024-01-24",
          "2024-01-25",
          "2024-01-26",
          "2024-01-29",
          "2024-01-30",
          "2024-01-31",
          "2024-02-01",
          "2024-02-02",
          "2024-02-05",
          "2024-02-06",
          "2024-02-07",
          "2024-02-08",
          "2024-02-09",
          "2024-02-12",
          "2024-02-13",
          "2024-02-14",
          "2024-02-15",
          "2024-02-16",
          "2024-02-20",
          "2024-02-21",
          "2024-02-22",
          "2024-02-23",
          "2024-02-26",
          "2024-02-27",
          "2024-02-28",
          "2024-02-29",
          "2024-03-01",
          "2024-03-04",
          "2024-03-05",
          "2024-03-06",
          "2024-03-07",
          "2024-03-08",
          "2024-03-11",
          "2024-03-12",
          "2024-03-13",
          "2024-03-14",
          "2024-03-15",
          "2024-03-18",
          "2024-03-19",
          "2024-03-20"
         ],
         "y": [
          4782440000,
          5014890000,
          4302700000,
          4100290000,
          4693540000,
          4841410000,
          4648390000,
          5138500000,
          4554700000,
          4684310000,
          4308070000,
          4167470000,
          4309420000,
          3835930000,
          4301350000,
          4160440000,
          4858620000,
          4251550000,
          4308690000,
          4417640000,
          4617140000,
          5014790000,
          4622840000,
          4669060000,
          4604720000,
          4599850000,
          4894900000,
          4172100000,
          4149320000,
          4315630000,
          4545120000,
          4962950000,
          4918750000,
          4345850000,
          4354460000,
          4685550000,
          5313970000,
          4722140000,
          4349590000,
          5332490000,
          5063830000,
          4545180000,
          4408640000,
          4561810000,
          4128600000,
          3855240000,
          2541840000,
          4205880000,
          4474400000,
          4890220000,
          5678070000,
          5607000000,
          6270020000,
          6179120000,
          5167030000,
          5694310000,
          5430840000,
          5607820000,
          4950100000,
          6732040000,
          8033170000,
          8377630000,
          5866080000,
          5757180000,
          6294700000,
          5465640000,
          4796600000,
          6120600000,
          7480170000,
          5090570000,
          5441060000,
          5791170000,
          5449950000,
          5289220000,
          5232820000,
          6337770000,
          5068410000,
          4404590000,
          5044690000,
          4958940000,
          6386180000,
          5181740000,
          5587440000,
          5604950000,
          5456240000,
          5207680000,
          4983210000,
          5281570000,
          4510530000,
          4979310000,
          4719240000,
          5875610000,
          5046920000,
          4800690000,
          4831020000,
          4759640000,
          4567580000,
          5675850000,
          5797260000,
          5458490000,
          5599860000,
          5092660000,
          6049100000,
          5223800000,
          5595700000,
          4845740000,
          5653930000,
          5077910000,
          5417630000,
          5423020000,
          5581690000,
          6265340000,
          5457910000,
          5725470000,
          6356800000,
          5511370000,
          5072790000,
          5411790000,
          4917620000,
          5100330000,
          4839000000,
          5450980000,
          8261950000,
          5025040000,
          4758740000,
          192020066
         ],
         "yaxis": "y3"
        },
        {
         "legendgroup": "RSI(Close,[5, 30])",
         "line": {
          "color": "rgba(255, 102, 0, 1.0)",
          "dash": "solid",
          "shape": "linear",
          "width": 1.3
         },
         "mode": "lines",
         "name": "RSI(Close,[5, 30])",
         "showlegend": true,
         "text": "",
         "type": "scatter",
         "x": [
          "2023-09-20",
          "2023-09-21",
          "2023-09-22",
          "2023-09-25",
          "2023-09-26",
          "2023-09-27",
          "2023-09-28",
          "2023-09-29",
          "2023-10-02",
          "2023-10-03",
          "2023-10-04",
          "2023-10-05",
          "2023-10-06",
          "2023-10-09",
          "2023-10-10",
          "2023-10-11",
          "2023-10-12",
          "2023-10-13",
          "2023-10-16",
          "2023-10-17",
          "2023-10-18",
          "2023-10-19",
          "2023-10-20",
          "2023-10-23",
          "2023-10-24",
          "2023-10-25",
          "2023-10-26",
          "2023-10-27",
          "2023-10-30",
          "2023-10-31",
          "2023-11-01",
          "2023-11-02",
          "2023-11-03",
          "2023-11-06",
          "2023-11-07",
          "2023-11-08",
          "2023-11-09",
          "2023-11-10",
          "2023-11-13",
          "2023-11-14",
          "2023-11-15",
          "2023-11-16",
          "2023-11-17",
          "2023-11-20",
          "2023-11-21",
          "2023-11-22",
          "2023-11-24",
          "2023-11-27",
          "2023-11-28",
          "2023-11-29",
          "2023-11-30",
          "2023-12-01",
          "2023-12-04",
          "2023-12-05",
          "2023-12-06",
          "2023-12-07",
          "2023-12-08",
          "2023-12-11",
          "2023-12-12",
          "2023-12-13",
          "2023-12-14",
          "2023-12-15",
          "2023-12-18",
          "2023-12-19",
          "2023-12-20",
          "2023-12-21",
          "2023-12-22",
          "2023-12-26",
          "2023-12-27",
          "2023-12-28",
          "2023-12-29",
          "2024-01-02",
          "2024-01-03",
          "2024-01-04",
          "2024-01-05",
          "2024-01-08",
          "2024-01-09",
          "2024-01-10",
          "2024-01-11",
          "2024-01-12",
          "2024-01-16",
          "2024-01-17",
          "2024-01-18",
          "2024-01-19",
          "2024-01-22",
          "2024-01-23",
          "2024-01-24",
          "2024-01-25",
          "2024-01-26",
          "2024-01-29",
          "2024-01-30",
          "2024-01-31",
          "2024-02-01",
          "2024-02-02",
          "2024-02-05",
          "2024-02-06",
          "2024-02-07",
          "2024-02-08",
          "2024-02-09",
          "2024-02-12",
          "2024-02-13",
          "2024-02-14",
          "2024-02-15",
          "2024-02-16",
          "2024-02-20",
          "2024-02-21",
          "2024-02-22",
          "2024-02-23",
          "2024-02-26",
          "2024-02-27",
          "2024-02-28",
          "2024-02-29",
          "2024-03-01",
          "2024-03-04",
          "2024-03-05",
          "2024-03-06",
          "2024-03-07",
          "2024-03-08",
          "2024-03-11",
          "2024-03-12",
          "2024-03-13",
          "2024-03-14",
          "2024-03-15",
          "2024-03-18",
          "2024-03-19",
          "2024-03-20"
         ],
         "y": [
          "",
          "",
          "",
          "",
          13.020375630990571,
          17.933687488551016,
          50.9379658148296,
          51.53608527394935,
          56.66943619277419,
          51.75539959703337,
          63.24948861761795,
          51.52519806963137,
          64.20765967698912,
          62.191394844177836,
          92.1081200487729,
          90.71160882126051,
          90.08202555038991,
          52.12889077236784,
          60.167108895923796,
          49.185712422191976,
          25.84998528933113,
          23.48751644951372,
          22.4976744416186,
          6.70453868604443,
          24.7926420485408,
          20.608775974488722,
          17.726577232082292,
          28.676640420522133,
          36.576503088624946,
          32.056589528830756,
          67.1179215052634,
          100,
          100,
          100,
          100,
          100,
          75.85114969886376,
          81.57605754503422,
          74.4234398210994,
          80.03350654513446,
          79.73868563670018,
          93.72161346673019,
          88.46162264967762,
          100,
          69.6654006378756,
          74.82019500256582,
          69.87294831875576,
          65.90893143544506,
          46.661569526946224,
          65.12386382913522,
          32.20972810138417,
          54.307186929319336,
          30.806740305753408,
          28.469949337329737,
          23.39689260020154,
          56.548372997848944,
          57.480481361901965,
          84.02864031562797,
          86.32938307119852,
          100,
          95.6523243662235,
          95.82553223301132,
          95.59559699922877,
          95.15686977438044,
          49.26211117314316,
          64.93825388853014,
          61.50039247498519,
          61.19363036342459,
          57.778673809318086,
          97.69231185442898,
          64.87861977708789,
          26.2869091168792,
          5.001292546316236,
          0,
          3.742898008850233,
          40.34522128993147,
          60.2304774726953,
          85.52680179517604,
          100,
          100,
          98.80762864643185,
          61.4764755802275,
          74.7357671687516,
          85.92026224507508,
          86.00916134140135,
          87.61330156534214,
          100,
          100,
          67.89636317312655,
          79.03668218019871,
          57.198485835738005,
          25.79676463292033,
          40.814124713875394,
          59.726475280473366,
          50.84335881941552,
          55.24719293002604,
          90.76310085590798,
          87.89888274003869,
          84.77200496269481,
          76.44701248342822,
          51.841862519650256,
          53.38427370978573,
          53.97636974055386,
          31.980545936035853,
          29.655708170112888,
          40.074537094648704,
          60.5872242729999,
          54.78741699076647,
          65.37806758709459,
          80.2642304129261,
          77.04223321192443,
          55.22018802572984,
          82.21569221865484,
          72.93421957368783,
          46.06551145515907,
          57.50511255824628,
          61.94019989649135,
          36.88761325823598,
          37.219417278172735,
          65.84272000647292,
          52.435939857214166,
          32.6911414286601,
          35.89340953179888,
          51.94846726666363,
          35.2782273199968,
          45.09830913789238
         ],
         "yaxis": "y4"
        },
        {
         "legendgroup": "RSI(Close,[5, 30])",
         "line": {
          "color": "rgba(0, 0, 230, 1.0)",
          "dash": "solid",
          "shape": "linear",
          "width": 1.3
         },
         "mode": "lines",
         "name": "RSI(Close,30)",
         "showlegend": false,
         "text": "",
         "type": "scatter",
         "x": [
          "2023-09-20",
          "2023-09-21",
          "2023-09-22",
          "2023-09-25",
          "2023-09-26",
          "2023-09-27",
          "2023-09-28",
          "2023-09-29",
          "2023-10-02",
          "2023-10-03",
          "2023-10-04",
          "2023-10-05",
          "2023-10-06",
          "2023-10-09",
          "2023-10-10",
          "2023-10-11",
          "2023-10-12",
          "2023-10-13",
          "2023-10-16",
          "2023-10-17",
          "2023-10-18",
          "2023-10-19",
          "2023-10-20",
          "2023-10-23",
          "2023-10-24",
          "2023-10-25",
          "2023-10-26",
          "2023-10-27",
          "2023-10-30",
          "2023-10-31",
          "2023-11-01",
          "2023-11-02",
          "2023-11-03",
          "2023-11-06",
          "2023-11-07",
          "2023-11-08",
          "2023-11-09",
          "2023-11-10",
          "2023-11-13",
          "2023-11-14",
          "2023-11-15",
          "2023-11-16",
          "2023-11-17",
          "2023-11-20",
          "2023-11-21",
          "2023-11-22",
          "2023-11-24",
          "2023-11-27",
          "2023-11-28",
          "2023-11-29",
          "2023-11-30",
          "2023-12-01",
          "2023-12-04",
          "2023-12-05",
          "2023-12-06",
          "2023-12-07",
          "2023-12-08",
          "2023-12-11",
          "2023-12-12",
          "2023-12-13",
          "2023-12-14",
          "2023-12-15",
          "2023-12-18",
          "2023-12-19",
          "2023-12-20",
          "2023-12-21",
          "2023-12-22",
          "2023-12-26",
          "2023-12-27",
          "2023-12-28",
          "2023-12-29",
          "2024-01-02",
          "2024-01-03",
          "2024-01-04",
          "2024-01-05",
          "2024-01-08",
          "2024-01-09",
          "2024-01-10",
          "2024-01-11",
          "2024-01-12",
          "2024-01-16",
          "2024-01-17",
          "2024-01-18",
          "2024-01-19",
          "2024-01-22",
          "2024-01-23",
          "2024-01-24",
          "2024-01-25",
          "2024-01-26",
          "2024-01-29",
          "2024-01-30",
          "2024-01-31",
          "2024-02-01",
          "2024-02-02",
          "2024-02-05",
          "2024-02-06",
          "2024-02-07",
          "2024-02-08",
          "2024-02-09",
          "2024-02-12",
          "2024-02-13",
          "2024-02-14",
          "2024-02-15",
          "2024-02-16",
          "2024-02-20",
          "2024-02-21",
          "2024-02-22",
          "2024-02-23",
          "2024-02-26",
          "2024-02-27",
          "2024-02-28",
          "2024-02-29",
          "2024-03-01",
          "2024-03-04",
          "2024-03-05",
          "2024-03-06",
          "2024-03-07",
          "2024-03-08",
          "2024-03-11",
          "2024-03-12",
          "2024-03-13",
          "2024-03-14",
          "2024-03-15",
          "2024-03-18",
          "2024-03-19",
          "2024-03-20"
         ],
         "y": [
          "",
          "",
          "",
          "",
          "",
          "",
          "",
          "",
          "",
          "",
          "",
          "",
          "",
          "",
          "",
          "",
          "",
          "",
          "",
          "",
          "",
          "",
          "",
          "",
          "",
          "",
          "",
          "",
          "",
          43.1281369678611,
          46.47854293555101,
          52.613986687438036,
          54.44357305309388,
          54.31760302439958,
          58.54735261431756,
          58.385106766089535,
          55.54555338990808,
          58.65313832823642,
          56.972632072176275,
          63.30815766652213,
          61.62112104887423,
          62.49501722561321,
          60.30354538100722,
          61.36382116721446,
          59.28228113179614,
          58.88420754725595,
          59.40681330239867,
          61.87153634693882,
          60.62256510594033,
          61.05442881052807,
          63.877349117948015,
          66.56511253141265,
          67.75433126551238,
          67.7011505804237,
          64.7033003005684,
          74.02918973556937,
          80.81871245226392,
          81.20690262643538,
          81.07631111338279,
          81.82527488044502,
          79.71667153197811,
          78.56711317422702,
          78.02486760087481,
          78.22407911257852,
          70.61245256212521,
          72.30086312301056,
          75.3705082306759,
          73.32550484784254,
          74.77035996671889,
          71.26848787212418,
          69.24429765467573,
          62.31022883493359,
          58.67528863757443,
          54.313956504999396,
          56.45231762371439,
          60.25556954107754,
          60.98516484599428,
          62.725518566347006,
          62.488879338261945,
          63.06943465554446,
          63.80975774734637,
          61.39559884638144,
          67.16025815141668,
          69.8222126262271,
          71.72510614626272,
          70.38512807538544,
          70.66976935592086,
          69.60981618892899,
          66.33108342059296,
          65.98890049408325,
          64.10492952332663,
          57.171739973206265,
          58.34756260526127,
          60.654661155973294,
          64.42164558268507,
          61.620198196191964,
          63.317747933697405,
          62.57381375453523,
          64.08045318221701,
          62.8823573022735,
          59.60998681149944,
          65.97654965197835,
          69.3482783214107,
          68.04249882658863,
          65.47578947265795,
          61.113319100962386,
          65.68524527140609,
          63.69206944376946,
          63.383191378574644,
          63.60823832229444,
          62.2048808561367,
          65.02598162791867,
          65.13057138125947,
          61.103975555519646,
          56.41805326811477,
          56.86560089967268,
          58.5839375669359,
          55.102263066417436,
          55.43187861098339,
          56.257152006329086,
          55.908022505712424,
          59.29178174996091,
          54.9089332607469,
          53.72032762370912,
          54.538702372281456,
          54.870213597124696
         ],
         "yaxis": "y4"
        },
        {
         "legendgroup": "RSI(Close,[5, 30])",
         "line": {
          "color": "#000000",
          "width": 1
         },
         "mode": "lines",
         "name": "",
         "showlegend": true,
         "text": "",
         "type": "scatter",
         "x": [
          "2023-09-20",
          "2023-09-21",
          "2023-09-22",
          "2023-09-25",
          "2023-09-26",
          "2023-09-27",
          "2023-09-28",
          "2023-09-29",
          "2023-10-02",
          "2023-10-03",
          "2023-10-04",
          "2023-10-05",
          "2023-10-06",
          "2023-10-09",
          "2023-10-10",
          "2023-10-11",
          "2023-10-12",
          "2023-10-13",
          "2023-10-16",
          "2023-10-17",
          "2023-10-18",
          "2023-10-19",
          "2023-10-20",
          "2023-10-23",
          "2023-10-24",
          "2023-10-25",
          "2023-10-26",
          "2023-10-27",
          "2023-10-30",
          "2023-10-31",
          "2023-11-01",
          "2023-11-02",
          "2023-11-03",
          "2023-11-06",
          "2023-11-07",
          "2023-11-08",
          "2023-11-09",
          "2023-11-10",
          "2023-11-13",
          "2023-11-14",
          "2023-11-15",
          "2023-11-16",
          "2023-11-17",
          "2023-11-20",
          "2023-11-21",
          "2023-11-22",
          "2023-11-24",
          "2023-11-27",
          "2023-11-28",
          "2023-11-29",
          "2023-11-30",
          "2023-12-01",
          "2023-12-04",
          "2023-12-05",
          "2023-12-06",
          "2023-12-07",
          "2023-12-08",
          "2023-12-11",
          "2023-12-12",
          "2023-12-13",
          "2023-12-14",
          "2023-12-15",
          "2023-12-18",
          "2023-12-19",
          "2023-12-20",
          "2023-12-21",
          "2023-12-22",
          "2023-12-26",
          "2023-12-27",
          "2023-12-28",
          "2023-12-29",
          "2024-01-02",
          "2024-01-03",
          "2024-01-04",
          "2024-01-05",
          "2024-01-08",
          "2024-01-09",
          "2024-01-10",
          "2024-01-11",
          "2024-01-12",
          "2024-01-16",
          "2024-01-17",
          "2024-01-18",
          "2024-01-19",
          "2024-01-22",
          "2024-01-23",
          "2024-01-24",
          "2024-01-25",
          "2024-01-26",
          "2024-01-29",
          "2024-01-30",
          "2024-01-31",
          "2024-02-01",
          "2024-02-02",
          "2024-02-05",
          "2024-02-06",
          "2024-02-07",
          "2024-02-08",
          "2024-02-09",
          "2024-02-12",
          "2024-02-13",
          "2024-02-14",
          "2024-02-15",
          "2024-02-16",
          "2024-02-20",
          "2024-02-21",
          "2024-02-22",
          "2024-02-23",
          "2024-02-26",
          "2024-02-27",
          "2024-02-28",
          "2024-02-29",
          "2024-03-01",
          "2024-03-04",
          "2024-03-05",
          "2024-03-06",
          "2024-03-07",
          "2024-03-08",
          "2024-03-11",
          "2024-03-12",
          "2024-03-13",
          "2024-03-14",
          "2024-03-15",
          "2024-03-18",
          "2024-03-19",
          "2024-03-20"
         ],
         "y": [
          20,
          20,
          20,
          20,
          20,
          20,
          20,
          20,
          20,
          20,
          20,
          20,
          20,
          20,
          20,
          20,
          20,
          20,
          20,
          20,
          20,
          20,
          20,
          20,
          20,
          20,
          20,
          20,
          20,
          20,
          20,
          20,
          20,
          20,
          20,
          20,
          20,
          20,
          20,
          20,
          20,
          20,
          20,
          20,
          20,
          20,
          20,
          20,
          20,
          20,
          20,
          20,
          20,
          20,
          20,
          20,
          20,
          20,
          20,
          20,
          20,
          20,
          20,
          20,
          20,
          20,
          20,
          20,
          20,
          20,
          20,
          20,
          20,
          20,
          20,
          20,
          20,
          20,
          20,
          20,
          20,
          20,
          20,
          20,
          20,
          20,
          20,
          20,
          20,
          20,
          20,
          20,
          20,
          20,
          20,
          20,
          20,
          20,
          20,
          20,
          20,
          20,
          20,
          20,
          20,
          20,
          20,
          20,
          20,
          20,
          20,
          20,
          20,
          20,
          20,
          20,
          20,
          20,
          20,
          20,
          20,
          20,
          20,
          20,
          20,
          20
         ],
         "yaxis": "y4"
        },
        {
         "legendgroup": "RSI(Close,[5, 30])",
         "line": {
          "color": "#ff0000",
          "width": 1
         },
         "mode": "lines",
         "name": "",
         "showlegend": true,
         "text": "",
         "type": "scatter",
         "x": [
          "2023-09-20",
          "2023-09-21",
          "2023-09-22",
          "2023-09-25",
          "2023-09-26",
          "2023-09-27",
          "2023-09-28",
          "2023-09-29",
          "2023-10-02",
          "2023-10-03",
          "2023-10-04",
          "2023-10-05",
          "2023-10-06",
          "2023-10-09",
          "2023-10-10",
          "2023-10-11",
          "2023-10-12",
          "2023-10-13",
          "2023-10-16",
          "2023-10-17",
          "2023-10-18",
          "2023-10-19",
          "2023-10-20",
          "2023-10-23",
          "2023-10-24",
          "2023-10-25",
          "2023-10-26",
          "2023-10-27",
          "2023-10-30",
          "2023-10-31",
          "2023-11-01",
          "2023-11-02",
          "2023-11-03",
          "2023-11-06",
          "2023-11-07",
          "2023-11-08",
          "2023-11-09",
          "2023-11-10",
          "2023-11-13",
          "2023-11-14",
          "2023-11-15",
          "2023-11-16",
          "2023-11-17",
          "2023-11-20",
          "2023-11-21",
          "2023-11-22",
          "2023-11-24",
          "2023-11-27",
          "2023-11-28",
          "2023-11-29",
          "2023-11-30",
          "2023-12-01",
          "2023-12-04",
          "2023-12-05",
          "2023-12-06",
          "2023-12-07",
          "2023-12-08",
          "2023-12-11",
          "2023-12-12",
          "2023-12-13",
          "2023-12-14",
          "2023-12-15",
          "2023-12-18",
          "2023-12-19",
          "2023-12-20",
          "2023-12-21",
          "2023-12-22",
          "2023-12-26",
          "2023-12-27",
          "2023-12-28",
          "2023-12-29",
          "2024-01-02",
          "2024-01-03",
          "2024-01-04",
          "2024-01-05",
          "2024-01-08",
          "2024-01-09",
          "2024-01-10",
          "2024-01-11",
          "2024-01-12",
          "2024-01-16",
          "2024-01-17",
          "2024-01-18",
          "2024-01-19",
          "2024-01-22",
          "2024-01-23",
          "2024-01-24",
          "2024-01-25",
          "2024-01-26",
          "2024-01-29",
          "2024-01-30",
          "2024-01-31",
          "2024-02-01",
          "2024-02-02",
          "2024-02-05",
          "2024-02-06",
          "2024-02-07",
          "2024-02-08",
          "2024-02-09",
          "2024-02-12",
          "2024-02-13",
          "2024-02-14",
          "2024-02-15",
          "2024-02-16",
          "2024-02-20",
          "2024-02-21",
          "2024-02-22",
          "2024-02-23",
          "2024-02-26",
          "2024-02-27",
          "2024-02-28",
          "2024-02-29",
          "2024-03-01",
          "2024-03-04",
          "2024-03-05",
          "2024-03-06",
          "2024-03-07",
          "2024-03-08",
          "2024-03-11",
          "2024-03-12",
          "2024-03-13",
          "2024-03-14",
          "2024-03-15",
          "2024-03-18",
          "2024-03-19",
          "2024-03-20"
         ],
         "y": [
          80,
          80,
          80,
          80,
          80,
          80,
          80,
          80,
          80,
          80,
          80,
          80,
          80,
          80,
          80,
          80,
          80,
          80,
          80,
          80,
          80,
          80,
          80,
          80,
          80,
          80,
          80,
          80,
          80,
          80,
          80,
          80,
          80,
          80,
          80,
          80,
          80,
          80,
          80,
          80,
          80,
          80,
          80,
          80,
          80,
          80,
          80,
          80,
          80,
          80,
          80,
          80,
          80,
          80,
          80,
          80,
          80,
          80,
          80,
          80,
          80,
          80,
          80,
          80,
          80,
          80,
          80,
          80,
          80,
          80,
          80,
          80,
          80,
          80,
          80,
          80,
          80,
          80,
          80,
          80,
          80,
          80,
          80,
          80,
          80,
          80,
          80,
          80,
          80,
          80,
          80,
          80,
          80,
          80,
          80,
          80,
          80,
          80,
          80,
          80,
          80,
          80,
          80,
          80,
          80,
          80,
          80,
          80,
          80,
          80,
          80,
          80,
          80,
          80,
          80,
          80,
          80,
          80,
          80,
          80,
          80,
          80,
          80,
          80,
          80,
          80
         ],
         "yaxis": "y4"
        },
        {
         "legendgroup": "BOLL(Close,20)",
         "line": {
          "color": "rgba(55, 128, 191, 1.0)",
          "dash": "solid",
          "shape": "linear",
          "width": 1.3
         },
         "mode": "lines",
         "name": "BOLL(Close,20)",
         "showlegend": true,
         "text": "",
         "type": "scatter",
         "x": [
          "2023-09-20",
          "2023-09-21",
          "2023-09-22",
          "2023-09-25",
          "2023-09-26",
          "2023-09-27",
          "2023-09-28",
          "2023-09-29",
          "2023-10-02",
          "2023-10-03",
          "2023-10-04",
          "2023-10-05",
          "2023-10-06",
          "2023-10-09",
          "2023-10-10",
          "2023-10-11",
          "2023-10-12",
          "2023-10-13",
          "2023-10-16",
          "2023-10-17",
          "2023-10-18",
          "2023-10-19",
          "2023-10-20",
          "2023-10-23",
          "2023-10-24",
          "2023-10-25",
          "2023-10-26",
          "2023-10-27",
          "2023-10-30",
          "2023-10-31",
          "2023-11-01",
          "2023-11-02",
          "2023-11-03",
          "2023-11-06",
          "2023-11-07",
          "2023-11-08",
          "2023-11-09",
          "2023-11-10",
          "2023-11-13",
          "2023-11-14",
          "2023-11-15",
          "2023-11-16",
          "2023-11-17",
          "2023-11-20",
          "2023-11-21",
          "2023-11-22",
          "2023-11-24",
          "2023-11-27",
          "2023-11-28",
          "2023-11-29",
          "2023-11-30",
          "2023-12-01",
          "2023-12-04",
          "2023-12-05",
          "2023-12-06",
          "2023-12-07",
          "2023-12-08",
          "2023-12-11",
          "2023-12-12",
          "2023-12-13",
          "2023-12-14",
          "2023-12-15",
          "2023-12-18",
          "2023-12-19",
          "2023-12-20",
          "2023-12-21",
          "2023-12-22",
          "2023-12-26",
          "2023-12-27",
          "2023-12-28",
          "2023-12-29",
          "2024-01-02",
          "2024-01-03",
          "2024-01-04",
          "2024-01-05",
          "2024-01-08",
          "2024-01-09",
          "2024-01-10",
          "2024-01-11",
          "2024-01-12",
          "2024-01-16",
          "2024-01-17",
          "2024-01-18",
          "2024-01-19",
          "2024-01-22",
          "2024-01-23",
          "2024-01-24",
          "2024-01-25",
          "2024-01-26",
          "2024-01-29",
          "2024-01-30",
          "2024-01-31",
          "2024-02-01",
          "2024-02-02",
          "2024-02-05",
          "2024-02-06",
          "2024-02-07",
          "2024-02-08",
          "2024-02-09",
          "2024-02-12",
          "2024-02-13",
          "2024-02-14",
          "2024-02-15",
          "2024-02-16",
          "2024-02-20",
          "2024-02-21",
          "2024-02-22",
          "2024-02-23",
          "2024-02-26",
          "2024-02-27",
          "2024-02-28",
          "2024-02-29",
          "2024-03-01",
          "2024-03-04",
          "2024-03-05",
          "2024-03-06",
          "2024-03-07",
          "2024-03-08",
          "2024-03-11",
          "2024-03-12",
          "2024-03-13",
          "2024-03-14",
          "2024-03-15",
          "2024-03-18",
          "2024-03-19",
          "2024-03-20"
         ],
         "y": [
          "",
          "",
          "",
          "",
          "",
          "",
          "",
          "",
          "",
          "",
          "",
          "",
          "",
          "",
          "",
          "",
          "",
          "",
          "",
          14872.39052734375,
          14869.35751953125,
          14873.802001953125,
          14866.791015625,
          14858.5884765625,
          14868.589990234375,
          14858.66396484375,
          14829.00400390625,
          14802.26298828125,
          14777.1599609375,
          14769.36796875,
          14763.8009765625,
          14773.61748046875,
          14779.92998046875,
          14785.3189453125,
          14793.5439453125,
          14797.149951171876,
          14797.339990234375,
          14824.039990234374,
          14839.54296875,
          14874.065966796876,
          14919.461962890626,
          14971.96396484375,
          15035.819482421875,
          15106.92998046875,
          15166.31796875,
          15247.30546875,
          15340.92744140625,
          15430.00546875,
          15513.75146484375,
          15592.642431640625,
          15656.7904296875,
          15710.691943359376,
          15747.700927734375,
          15783.83994140625,
          15808.441455078126,
          15843.903955078125,
          15888.74345703125,
          15923.373974609374,
          15966.94697265625,
          16004.441943359376,
          16040.474462890625,
          16079.988427734375,
          16124.578955078125,
          16163.81845703125,
          16194.845458984375,
          16232.646484375,
          16272.416015625,
          16318.2400390625,
          16363.05859375,
          16408.6021484375,
          16452.505126953125,
          16479.823095703126,
          16506.264111328124,
          16526.4791015625,
          16552.375634765624,
          16583.744580078124,
          16613.44501953125,
          16642.01103515625,
          16665.3435546875,
          16678.87109375,
          16693.51513671875,
          16699.156640625,
          16711.7810546875,
          16736.88857421875,
          16775.699609375,
          16808.0396484375,
          16844.13466796875,
          16876.0611328125,
          16901.77158203125,
          16936.6615234375,
          16969.2005859375,
          16998.865625,
          17047.67666015625,
          17115.7126953125,
          17181.065625,
          17227.20869140625,
          17281.02724609375,
          17330.533203125,
          17387.60869140625,
          17440.095703125,
          17478.58115234375,
          17532.14873046875,
          17575.3203125,
          17593.9193359375,
          17604.7052734375,
          17608.440234375,
          17633.71015625,
          17654.74111328125,
          17680.35712890625,
          17699.09619140625,
          17718.98564453125,
          17764.31611328125,
          17812.22607421875,
          17841.41357421875,
          17855.655078125,
          17877.8970703125,
          17905.04306640625,
          17916.80703125,
          17916.27099609375,
          17933.09345703125,
          17956.49599609375,
          17966.85498046875,
          17964.9814453125,
          17979.93291015625,
          18004.237890625,
          18031.2818359375
         ],
         "yaxis": "y2"
        },
        {
         "legendgroup": "BOLL(Close,20)",
         "line": {
          "color": "rgba(55, 128, 191, 0.8999999999999999)",
          "dash": "solid",
          "shape": "linear",
          "width": 1.3
         },
         "mode": "lines",
         "name": "UPPER(Close,20)",
         "showlegend": false,
         "text": "",
         "type": "scatter",
         "x": [
          "2023-09-20",
          "2023-09-21",
          "2023-09-22",
          "2023-09-25",
          "2023-09-26",
          "2023-09-27",
          "2023-09-28",
          "2023-09-29",
          "2023-10-02",
          "2023-10-03",
          "2023-10-04",
          "2023-10-05",
          "2023-10-06",
          "2023-10-09",
          "2023-10-10",
          "2023-10-11",
          "2023-10-12",
          "2023-10-13",
          "2023-10-16",
          "2023-10-17",
          "2023-10-18",
          "2023-10-19",
          "2023-10-20",
          "2023-10-23",
          "2023-10-24",
          "2023-10-25",
          "2023-10-26",
          "2023-10-27",
          "2023-10-30",
          "2023-10-31",
          "2023-11-01",
          "2023-11-02",
          "2023-11-03",
          "2023-11-06",
          "2023-11-07",
          "2023-11-08",
          "2023-11-09",
          "2023-11-10",
          "2023-11-13",
          "2023-11-14",
          "2023-11-15",
          "2023-11-16",
          "2023-11-17",
          "2023-11-20",
          "2023-11-21",
          "2023-11-22",
          "2023-11-24",
          "2023-11-27",
          "2023-11-28",
          "2023-11-29",
          "2023-11-30",
          "2023-12-01",
          "2023-12-04",
          "2023-12-05",
          "2023-12-06",
          "2023-12-07",
          "2023-12-08",
          "2023-12-11",
          "2023-12-12",
          "2023-12-13",
          "2023-12-14",
          "2023-12-15",
          "2023-12-18",
          "2023-12-19",
          "2023-12-20",
          "2023-12-21",
          "2023-12-22",
          "2023-12-26",
          "2023-12-27",
          "2023-12-28",
          "2023-12-29",
          "2024-01-02",
          "2024-01-03",
          "2024-01-04",
          "2024-01-05",
          "2024-01-08",
          "2024-01-09",
          "2024-01-10",
          "2024-01-11",
          "2024-01-12",
          "2024-01-16",
          "2024-01-17",
          "2024-01-18",
          "2024-01-19",
          "2024-01-22",
          "2024-01-23",
          "2024-01-24",
          "2024-01-25",
          "2024-01-26",
          "2024-01-29",
          "2024-01-30",
          "2024-01-31",
          "2024-02-01",
          "2024-02-02",
          "2024-02-05",
          "2024-02-06",
          "2024-02-07",
          "2024-02-08",
          "2024-02-09",
          "2024-02-12",
          "2024-02-13",
          "2024-02-14",
          "2024-02-15",
          "2024-02-16",
          "2024-02-20",
          "2024-02-21",
          "2024-02-22",
          "2024-02-23",
          "2024-02-26",
          "2024-02-27",
          "2024-02-28",
          "2024-02-29",
          "2024-03-01",
          "2024-03-04",
          "2024-03-05",
          "2024-03-06",
          "2024-03-07",
          "2024-03-08",
          "2024-03-11",
          "2024-03-12",
          "2024-03-13",
          "2024-03-14",
          "2024-03-15",
          "2024-03-18",
          "2024-03-19",
          "2024-03-20"
         ],
         "y": [
          "",
          "",
          "",
          "",
          "",
          "",
          "",
          "",
          "",
          "",
          "",
          "",
          "",
          "",
          "",
          "",
          "",
          "",
          "",
          15322.462695576378,
          15317.475671042228,
          15316.335614695721,
          15325.010004891901,
          15329.872756174935,
          15319.998628039672,
          15344.216216570985,
          15416.435282466602,
          15456.40382878495,
          15463.34466222745,
          15469.073062538522,
          15465.04551398338,
          15477.959968277417,
          15494.001179980205,
          15509.437456141308,
          15537.680097889412,
          15551.053219033176,
          15551.655755162277,
          15642.876221322205,
          15697.005615294605,
          15829.4234518738,
          15963.983671401531,
          16090.56442424651,
          16200.47249390114,
          16332.84891383816,
          16432.98981927693,
          16509.852487662247,
          16523.401767276715,
          16508.200601431276,
          16489.30541025888,
          16438.922851353447,
          16394.51171887302,
          16375.540435679672,
          16348.627615732501,
          16317.879214540584,
          16290.680644653648,
          16274.344457386193,
          16202.465158946827,
          16222.519126195924,
          16249.281218384835,
          16383.132723191044,
          16476.883435138836,
          16576.355881270916,
          16685.44947189914,
          16800.631393394433,
          16844.767360380923,
          16921.9433507784,
          16991.944230781708,
          17070.51342791976,
          17144.363834033407,
          17203.82370555476,
          17237.5134920555,
          17235.65782293167,
          17202.453062480374,
          17167.08116863373,
          17102.818805797786,
          17075.409363844887,
          17046.441129734274,
          17040.17903587086,
          17046.853354122763,
          17064.174644947558,
          17078.51089509811,
          17083.13477749289,
          17116.066944652637,
          17221.69343471942,
          17319.591493840966,
          17420.010018789617,
          17529.278973677752,
          17624.523170753117,
          17689.002812432973,
          17782.916697534714,
          17846.98705582178,
          17855.9977051488,
          17863.867255468027,
          17888.889173778654,
          17883.813014808788,
          17903.80294736993,
          17945.034300918596,
          17988.969939172355,
          18057.83262823276,
          18091.57162907176,
          18066.30300858269,
          18022.176143873978,
          18010.4388397631,
          18013.530063221417,
          18006.505168727184,
          18003.728916203043,
          18062.795059601434,
          18100.640790402715,
          18128.577902303135,
          18163.558046224825,
          18177.379260098114,
          18154.75559649241,
          18220.614938229206,
          18281.04301032125,
          18282.399818757298,
          18288.622662937283,
          18351.775633539874,
          18362.41661035641,
          18361.67534281738,
          18398.1345743362,
          18397.53594769147,
          18402.87664133995,
          18403.509496521,
          18398.337450795716,
          18369.65099524042,
          18300.353186971322
         ],
         "yaxis": "y2"
        },
        {
         "fill": "tonexty",
         "fillcolor": "rgba(55, 128, 191, 0.1)",
         "legendgroup": "BOLL(Close,20)",
         "line": {
          "color": "rgba(55, 128, 191, 0.7999999999999998)",
          "dash": "solid",
          "shape": "linear",
          "width": 1.3
         },
         "mode": "lines",
         "name": "LOWER(Close,20)",
         "showlegend": false,
         "text": "",
         "type": "scatter",
         "x": [
          "2023-09-20",
          "2023-09-21",
          "2023-09-22",
          "2023-09-25",
          "2023-09-26",
          "2023-09-27",
          "2023-09-28",
          "2023-09-29",
          "2023-10-02",
          "2023-10-03",
          "2023-10-04",
          "2023-10-05",
          "2023-10-06",
          "2023-10-09",
          "2023-10-10",
          "2023-10-11",
          "2023-10-12",
          "2023-10-13",
          "2023-10-16",
          "2023-10-17",
          "2023-10-18",
          "2023-10-19",
          "2023-10-20",
          "2023-10-23",
          "2023-10-24",
          "2023-10-25",
          "2023-10-26",
          "2023-10-27",
          "2023-10-30",
          "2023-10-31",
          "2023-11-01",
          "2023-11-02",
          "2023-11-03",
          "2023-11-06",
          "2023-11-07",
          "2023-11-08",
          "2023-11-09",
          "2023-11-10",
          "2023-11-13",
          "2023-11-14",
          "2023-11-15",
          "2023-11-16",
          "2023-11-17",
          "2023-11-20",
          "2023-11-21",
          "2023-11-22",
          "2023-11-24",
          "2023-11-27",
          "2023-11-28",
          "2023-11-29",
          "2023-11-30",
          "2023-12-01",
          "2023-12-04",
          "2023-12-05",
          "2023-12-06",
          "2023-12-07",
          "2023-12-08",
          "2023-12-11",
          "2023-12-12",
          "2023-12-13",
          "2023-12-14",
          "2023-12-15",
          "2023-12-18",
          "2023-12-19",
          "2023-12-20",
          "2023-12-21",
          "2023-12-22",
          "2023-12-26",
          "2023-12-27",
          "2023-12-28",
          "2023-12-29",
          "2024-01-02",
          "2024-01-03",
          "2024-01-04",
          "2024-01-05",
          "2024-01-08",
          "2024-01-09",
          "2024-01-10",
          "2024-01-11",
          "2024-01-12",
          "2024-01-16",
          "2024-01-17",
          "2024-01-18",
          "2024-01-19",
          "2024-01-22",
          "2024-01-23",
          "2024-01-24",
          "2024-01-25",
          "2024-01-26",
          "2024-01-29",
          "2024-01-30",
          "2024-01-31",
          "2024-02-01",
          "2024-02-02",
          "2024-02-05",
          "2024-02-06",
          "2024-02-07",
          "2024-02-08",
          "2024-02-09",
          "2024-02-12",
          "2024-02-13",
          "2024-02-14",
          "2024-02-15",
          "2024-02-16",
          "2024-02-20",
          "2024-02-21",
          "2024-02-22",
          "2024-02-23",
          "2024-02-26",
          "2024-02-27",
          "2024-02-28",
          "2024-02-29",
          "2024-03-01",
          "2024-03-04",
          "2024-03-05",
          "2024-03-06",
          "2024-03-07",
          "2024-03-08",
          "2024-03-11",
          "2024-03-12",
          "2024-03-13",
          "2024-03-14",
          "2024-03-15",
          "2024-03-18",
          "2024-03-19",
          "2024-03-20"
         ],
         "y": [
          "",
          "",
          "",
          "",
          "",
          "",
          "",
          "",
          "",
          "",
          "",
          "",
          "",
          "",
          "",
          "",
          "",
          "",
          "",
          14422.318359111123,
          14421.239368020271,
          14431.268389210529,
          14408.572026358099,
          14387.304196950065,
          14417.18135242908,
          14373.111713116516,
          14241.572725345897,
          14148.12214777755,
          14090.975259647552,
          14069.66287496148,
          14062.55643914162,
          14069.274992660085,
          14065.858780957296,
          14061.200434483691,
          14049.407792735588,
          14043.246683310575,
          14043.024225306473,
          14005.203759146543,
          13982.080322205395,
          13918.708481719952,
          13874.94025437972,
          13853.36350544099,
          13871.166470942611,
          13881.011047099342,
          13899.64611822307,
          13984.758449837756,
          14158.453115535784,
          14351.810336068724,
          14538.197519428622,
          14746.362011927802,
          14919.069140501982,
          15045.84345103908,
          15146.774239736249,
          15249.800668271915,
          15326.202265502603,
          15413.463452770058,
          15575.021755115675,
          15624.228823022824,
          15684.612726927664,
          15625.751163527708,
          15604.065490642412,
          15583.620974197835,
          15563.708438257107,
          15527.005520668068,
          15544.923557587827,
          15543.349617971598,
          15552.887800468292,
          15565.966650205242,
          15581.753353466594,
          15613.380591320241,
          15667.49676185075,
          15723.988368474586,
          15810.075160175877,
          15885.877034491274,
          16001.93246373346,
          16092.07979631136,
          16180.448909328225,
          16243.843034441641,
          16283.833755252239,
          16293.567542552442,
          16308.51937833939,
          16315.178503757108,
          16307.495164722366,
          16252.08371371808,
          16231.80772490903,
          16196.069278085388,
          16158.990362259747,
          16127.599094871885,
          16114.540351629528,
          16090.406349340283,
          16091.414116053218,
          16141.733544851197,
          16231.486064844472,
          16342.536216846347,
          16478.31823519121,
          16550.614435442567,
          16617.0201912689,
          16672.096467077645,
          16717.38475457974,
          16788.61977717824,
          16890.859296104813,
          17042.121317063524,
          17140.2017852369,
          17174.30860865358,
          17202.905378147814,
          17213.15155254696,
          17204.625252898564,
          17208.841436159782,
          17232.136355509363,
          17234.634336587675,
          17260.592028964387,
          17373.876630070088,
          17403.837210208294,
          17401.78413811625,
          17428.910337492704,
          17467.17147768772,
          17458.31049927263,
          17471.197452143588,
          17470.86664937012,
          17468.0523397263,
          17515.456044496026,
          17530.83331959755,
          17526.453394104,
          17561.528369516785,
          17638.824786009583,
          17762.21048490368
         ],
         "yaxis": "y2"
        },
        {
         "close": [
          14969.919921875,
          14694.240234375,
          14701.099609375,
          14768.900390625,
          14545.830078125,
          14580.16015625,
          14702.76953125,
          14715.240234375,
          14837.5703125,
          14565.6201171875,
          14776.25,
          14723.2197265625,
          14973.240234375,
          15047.150390625,
          15131.51953125,
          15241.1201171875,
          15184.099609375,
          14995.1201171875,
          15172.73046875,
          15122.009765625,
          14909.259765625,
          14783.1298828125,
          14560.8798828125,
          14604.849609375,
          14745.8603515625,
          14381.6396484375,
          14109.5703125,
          14180.419921875,
          14335.509765625,
          14409.7802734375,
          14664.91015625,
          14919.5498046875,
          15099.490234375,
          15154.9296875,
          15296.01953125,
          15313.240234375,
          15187.900390625,
          15529.1201171875,
          15482.7900390625,
          15812.4697265625,
          15817.1796875,
          15833.169921875,
          15837.990234375,
          16027.0595703125,
          15933.6201171875,
          16001.3896484375,
          15982.009765625,
          15961.98046875,
          16010.4296875,
          15987.599609375,
          15947.8701171875,
          15997.580078125,
          15839.669921875,
          15877.7099609375,
          15788.0498046875,
          16022.490234375,
          16084.6904296875,
          16221.73046875,
          16354.25,
          16562.369140625,
          16537.830078125,
          16623.44921875,
          16729.80078125,
          16811.849609375,
          16554.16015625,
          16757.41015625,
          16777.400390625,
          16878.4609375,
          16906.80078125,
          16898.470703125,
          16825.9296875,
          16543.939453125,
          16368.490234375,
          16282.009765625,
          16305.98046875,
          16649.869140625,
          16678.69921875,
          16793.05078125,
          16820.900390625,
          16832.919921875,
          16830.7109375,
          16736.279296875,
          16982.2890625,
          17314,
          17330.380859375,
          17404.2109375,
          17499.30078125,
          17516.990234375,
          17421.009765625,
          17596.26953125,
          17476.7109375,
          17137.240234375,
          17344.7109375,
          17642.73046875,
          17613.0390625,
          17572.73046875,
          17755.0703125,
          17783.169921875,
          17962.41015625,
          17882.66015625,
          17600.419921875,
          17807.630859375,
          17845.720703125,
          17685.98046875,
          17546.099609375,
          17478.91015625,
          18004.69921875,
          17937.609375,
          17933.330078125,
          17971.05078125,
          17874.5,
          18043.849609375,
          18302.91015625,
          18226.48046875,
          17897.869140625,
          18017.5703125,
          18297.990234375,
          18018.44921875,
          17951.689453125,
          18219.109375,
          18068.470703125,
          18014.810546875,
          17808.25,
          17985.009765625,
          18032.19921875,
          18019.7890625
         ],
         "decreasing": {
          "line": {
           "color": "#000000"
          }
         },
         "high": [
          15245.1904296875,
          14849.25,
          14855.919921875,
          14771.1201171875,
          14678.48046875,
          14657.2099609375,
          14787.580078125,
          14901.849609375,
          14892.1796875,
          14819.8701171875,
          14803.0400390625,
          14784.6904296875,
          15021.3798828125,
          15070.6396484375,
          15241.9404296875,
          15248.2197265625,
          15333.98046875,
          15232.3701171875,
          15209.5,
          15187.0595703125,
          15103.8701171875,
          15023.91015625,
          14781.2197265625,
          14746.3701171875,
          14774.16015625,
          14643.6904296875,
          14372.509765625,
          14321.0400390625,
          14388.2001953125,
          14420.4404296875,
          14677.8603515625,
          14930.759765625,
          15149.7802734375,
          15180.1904296875,
          15335.4404296875,
          15343.1904296875,
          15382.1103515625,
          15535.2001953125,
          15524.66015625,
          15850.33984375,
          15904.6298828125,
          15842.6298828125,
          15876.8701171875,
          16056.759765625,
          15968.08984375,
          16119.3095703125,
          16007.4296875,
          16045.2998046875,
          16031.51953125,
          16166.509765625,
          16013.48046875,
          16013.75,
          15852.4501953125,
          15931.83984375,
          15990.9404296875,
          16042.509765625,
          16100.8603515625,
          16232.259765625,
          16354.25,
          16581.0390625,
          16660.7109375,
          16669.76953125,
          16764.3203125,
          16813.009765625,
          16860.6796875,
          16768.01953125,
          16839.25,
          16907.509765625,
          16922.009765625,
          16969.169921875,
          16919.509765625,
          16686.599609375,
          16471.080078125,
          16419.439453125,
          16415.390625,
          16655.23046875,
          16710.880859375,
          16827.369140625,
          16898.16015625,
          16900.369140625,
          16895.330078125,
          16749.109375,
          16996.98046875,
          17317.2109375,
          17450.30078125,
          17410.859375,
          17665.259765625,
          17631.33984375,
          17514.759765625,
          17603.94921875,
          17578.4609375,
          17375.3203125,
          17356.759765625,
          17682.2890625,
          17655.76953125,
          17680.619140625,
          17784.169921875,
          17814.119140625,
          17987.900390625,
          18041.44921875,
          17717.669921875,
          17815.1796875,
          17864.58984375,
          17864.16015625,
          17657.080078125,
          17482.130859375,
          18034.80078125,
          18091.619140625,
          18014.109375,
          17987.5390625,
          17931.009765625,
          18068.51953125,
          18333.259765625,
          18313.4296875,
          18097.5,
          18142.880859375,
          18337.94921875,
          18416.73046875,
          18003.05078125,
          18228.369140625,
          18163.740234375,
          18142.900390625,
          17930.470703125,
          18124.3203125,
          18039.8203125,
          18087.099609375
         ],
         "increasing": {
          "line": {
           "color": "#ff0000"
          }
         },
         "low": [
          14967.599609375,
          14691.6904296875,
          14686.83984375,
          14615.4501953125,
          14505.6796875,
          14432.599609375,
          14510.169921875,
          14664.7802734375,
          14701.51953125,
          14504.1396484375,
          14592.5595703125,
          14584.3896484375,
          14575.9501953125,
          14816.3203125,
          15050.5400390625,
          15119.6201171875,
          15090.6904296875,
          14943.419921875,
          15047.26953125,
          14932.76953125,
          14865.8095703125,
          14749.2998046875,
          14552.1201171875,
          14419.0595703125,
          14610.330078125,
          14362.240234375,
          14058.330078125,
          14130.3701171875,
          14225.8603515625,
          14232.400390625,
          14441.8896484375,
          14792.8095703125,
          14965.2900390625,
          15064.91015625,
          15153.3095703125,
          15220.8798828125,
          15171.3203125,
          15237.169921875,
          15404.7099609375,
          15726.1201171875,
          15765.3095703125,
          15738.2197265625,
          15766.9404296875,
          15844.830078125,
          15866.8203125,
          15964.0400390625,
          15940.6201171875,
          15932.1904296875,
          15921.0703125,
          15976.6904296875,
          15825.669921875,
          15834.9296875,
          15695.580078125,
          15760.58984375,
          15776.9501953125,
          15875.48046875,
          15937.580078125,
          16061.8701171875,
          16175.4599609375,
          16357.2099609375,
          16419.259765625,
          16557.009765625,
          16629.2890625,
          16733.380859375,
          16552.060546875,
          16621.51953125,
          16703.5703125,
          16813.5703125,
          16859.55078125,
          16891.3203125,
          16757.890625,
          16453.150390625,
          16352.1396484375,
          16276.4296875,
          16249.1904296875,
          16349.3896484375,
          16513.73046875,
          16654.740234375,
          16618.859375,
          16776.919921875,
          16726.58984375,
          16561.490234375,
          16818.130859375,
          17041.849609375,
          17309.869140625,
          17286.01953125,
          17481.970703125,
          17430.369140625,
          17395.5390625,
          17414.619140625,
          17443.76953125,
          17128.740234375,
          17175.830078125,
          17378.369140625,
          17469.619140625,
          17475.4296875,
          17637.73046875,
          17728.55078125,
          17798.810546875,
          17859.66015625,
          17478.23046875,
          17619.919921875,
          17722.310546875,
          17663.400390625,
          17399.41015625,
          17319.439453125,
          17808.259765625,
          17902.779296875,
          17926.66015625,
          17871.060546875,
          17840.359375,
          17866.259765625,
          18064.439453125,
          18218.25,
          17804.5,
          17941.640625,
          18101.4296875,
          17995.380859375,
          17873.330078125,
          17919.330078125,
          18030.400390625,
          17913.630859375,
          17764.990234375,
          17973.08984375,
          17809.150390625,
          18005
         ],
         "name": "日K線圖",
         "open": [
          15225.33984375,
          14813.490234375,
          14756.6201171875,
          14662.6904296875,
          14668.4501953125,
          14600.1396484375,
          14530.9599609375,
          14853.349609375,
          14717.900390625,
          14744.0498046875,
          14613.23046875,
          14769.5498046875,
          14622.23046875,
          14871.5703125,
          15074.0400390625,
          15194.5302734375,
          15264.1103515625,
          15225.73046875,
          15054.48046875,
          15009.259765625,
          15022.2802734375,
          14981.1298828125,
          14752.58984375,
          14514.1103515625,
          14678.41015625,
          14642.080078125,
          14314.009765625,
          14245.75,
          14283.98046875,
          14340.8603515625,
          14453.6796875,
          14856.9501953125,
          14985.1201171875,
          15137.16015625,
          15201.76953125,
          15313.900390625,
          15351.1201171875,
          15252.3603515625,
          15469.2099609375,
          15744.3603515625,
          15881.7197265625,
          15765.2001953125,
          15803.98046875,
          15845.2001953125,
          15951.5498046875,
          16025.740234375,
          15974.849609375,
          15969.7197265625,
          15940.2900390625,
          16111.3603515625,
          15987.66015625,
          15892.58984375,
          15837.1201171875,
          15763.650390625,
          15990.2001953125,
          15888.23046875,
          15952.849609375,
          16069.6201171875,
          16209.6103515625,
          16392.1796875,
          16603.5390625,
          16587,
          16631.109375,
          16734.25,
          16763.640625,
          16719.609375,
          16799.01953125,
          16816.779296875,
          16896.140625,
          16963.51953125,
          16902.439453125,
          16667.30078125,
          16413.259765625,
          16290.7802734375,
          16281.740234375,
          16354.2197265625,
          16531.9609375,
          16702.55078125,
          16852.189453125,
          16855,
          16775.099609375,
          16705.509765625,
          16894.330078125,
          17060.140625,
          17403.619140625,
          17346.94921875,
          17562.3203125,
          17589.26953125,
          17432.869140625,
          17438.029296875,
          17556.490234375,
          17269.98046875,
          17216.990234375,
          17415.939453125,
          17634.689453125,
          17664.439453125,
          17674.58984375,
          17757.599609375,
          17820.98046875,
          17942.279296875,
          17519.80078125,
          17728.900390625,
          17815.3203125,
          17853.58984375,
          17591.169921875,
          17412.7890625,
          17857.759765625,
          18052.58984375,
          17970.2109375,
          17962.580078125,
          17895.029296875,
          17991.669921875,
          18069.2890625,
          18290.099609375,
          18088.7109375,
          18083.509765625,
          18161.73046875,
          18312.7890625,
          17959.6796875,
          18063.01953125,
          18151.759765625,
          18114.689453125,
          17926.919921875,
          18024.240234375,
          17902.51953125,
          18067.69921875
         ],
         "showlegend": true,
         "type": "candlestick",
         "x": [
          "2023-09-20",
          "2023-09-21",
          "2023-09-22",
          "2023-09-25",
          "2023-09-26",
          "2023-09-27",
          "2023-09-28",
          "2023-09-29",
          "2023-10-02",
          "2023-10-03",
          "2023-10-04",
          "2023-10-05",
          "2023-10-06",
          "2023-10-09",
          "2023-10-10",
          "2023-10-11",
          "2023-10-12",
          "2023-10-13",
          "2023-10-16",
          "2023-10-17",
          "2023-10-18",
          "2023-10-19",
          "2023-10-20",
          "2023-10-23",
          "2023-10-24",
          "2023-10-25",
          "2023-10-26",
          "2023-10-27",
          "2023-10-30",
          "2023-10-31",
          "2023-11-01",
          "2023-11-02",
          "2023-11-03",
          "2023-11-06",
          "2023-11-07",
          "2023-11-08",
          "2023-11-09",
          "2023-11-10",
          "2023-11-13",
          "2023-11-14",
          "2023-11-15",
          "2023-11-16",
          "2023-11-17",
          "2023-11-20",
          "2023-11-21",
          "2023-11-22",
          "2023-11-24",
          "2023-11-27",
          "2023-11-28",
          "2023-11-29",
          "2023-11-30",
          "2023-12-01",
          "2023-12-04",
          "2023-12-05",
          "2023-12-06",
          "2023-12-07",
          "2023-12-08",
          "2023-12-11",
          "2023-12-12",
          "2023-12-13",
          "2023-12-14",
          "2023-12-15",
          "2023-12-18",
          "2023-12-19",
          "2023-12-20",
          "2023-12-21",
          "2023-12-22",
          "2023-12-26",
          "2023-12-27",
          "2023-12-28",
          "2023-12-29",
          "2024-01-02",
          "2024-01-03",
          "2024-01-04",
          "2024-01-05",
          "2024-01-08",
          "2024-01-09",
          "2024-01-10",
          "2024-01-11",
          "2024-01-12",
          "2024-01-16",
          "2024-01-17",
          "2024-01-18",
          "2024-01-19",
          "2024-01-22",
          "2024-01-23",
          "2024-01-24",
          "2024-01-25",
          "2024-01-26",
          "2024-01-29",
          "2024-01-30",
          "2024-01-31",
          "2024-02-01",
          "2024-02-02",
          "2024-02-05",
          "2024-02-06",
          "2024-02-07",
          "2024-02-08",
          "2024-02-09",
          "2024-02-12",
          "2024-02-13",
          "2024-02-14",
          "2024-02-15",
          "2024-02-16",
          "2024-02-20",
          "2024-02-21",
          "2024-02-22",
          "2024-02-23",
          "2024-02-26",
          "2024-02-27",
          "2024-02-28",
          "2024-02-29",
          "2024-03-01",
          "2024-03-04",
          "2024-03-05",
          "2024-03-06",
          "2024-03-07",
          "2024-03-08",
          "2024-03-11",
          "2024-03-12",
          "2024-03-13",
          "2024-03-14",
          "2024-03-15",
          "2024-03-18",
          "2024-03-19",
          "2024-03-20"
         ],
         "yaxis": "y2"
        }
       ],
       "layout": {
        "legend": {
         "bgcolor": "#F5F6F9",
         "font": {
          "color": "#4D5663"
         },
         "orientation": "h",
         "x": 0.3,
         "y": 0.95,
         "yanchor": "bottom"
        },
        "margin": {
         "b": 30,
         "l": 30,
         "r": 30,
         "t": 30
        },
        "paper_bgcolor": "#F5F6F9",
        "plot_bgcolor": "#F5F6F9",
        "showlegend": true,
        "template": {
         "data": {
          "bar": [
           {
            "error_x": {
             "color": "#2a3f5f"
            },
            "error_y": {
             "color": "#2a3f5f"
            },
            "marker": {
             "line": {
              "color": "#E5ECF6",
              "width": 0.5
             },
             "pattern": {
              "fillmode": "overlay",
              "size": 10,
              "solidity": 0.2
             }
            },
            "type": "bar"
           }
          ],
          "barpolar": [
           {
            "marker": {
             "line": {
              "color": "#E5ECF6",
              "width": 0.5
             },
             "pattern": {
              "fillmode": "overlay",
              "size": 10,
              "solidity": 0.2
             }
            },
            "type": "barpolar"
           }
          ],
          "carpet": [
           {
            "aaxis": {
             "endlinecolor": "#2a3f5f",
             "gridcolor": "white",
             "linecolor": "white",
             "minorgridcolor": "white",
             "startlinecolor": "#2a3f5f"
            },
            "baxis": {
             "endlinecolor": "#2a3f5f",
             "gridcolor": "white",
             "linecolor": "white",
             "minorgridcolor": "white",
             "startlinecolor": "#2a3f5f"
            },
            "type": "carpet"
           }
          ],
          "choropleth": [
           {
            "colorbar": {
             "outlinewidth": 0,
             "ticks": ""
            },
            "type": "choropleth"
           }
          ],
          "contour": [
           {
            "colorbar": {
             "outlinewidth": 0,
             "ticks": ""
            },
            "colorscale": [
             [
              0,
              "#0d0887"
             ],
             [
              0.1111111111111111,
              "#46039f"
             ],
             [
              0.2222222222222222,
              "#7201a8"
             ],
             [
              0.3333333333333333,
              "#9c179e"
             ],
             [
              0.4444444444444444,
              "#bd3786"
             ],
             [
              0.5555555555555556,
              "#d8576b"
             ],
             [
              0.6666666666666666,
              "#ed7953"
             ],
             [
              0.7777777777777778,
              "#fb9f3a"
             ],
             [
              0.8888888888888888,
              "#fdca26"
             ],
             [
              1,
              "#f0f921"
             ]
            ],
            "type": "contour"
           }
          ],
          "contourcarpet": [
           {
            "colorbar": {
             "outlinewidth": 0,
             "ticks": ""
            },
            "type": "contourcarpet"
           }
          ],
          "heatmap": [
           {
            "colorbar": {
             "outlinewidth": 0,
             "ticks": ""
            },
            "colorscale": [
             [
              0,
              "#0d0887"
             ],
             [
              0.1111111111111111,
              "#46039f"
             ],
             [
              0.2222222222222222,
              "#7201a8"
             ],
             [
              0.3333333333333333,
              "#9c179e"
             ],
             [
              0.4444444444444444,
              "#bd3786"
             ],
             [
              0.5555555555555556,
              "#d8576b"
             ],
             [
              0.6666666666666666,
              "#ed7953"
             ],
             [
              0.7777777777777778,
              "#fb9f3a"
             ],
             [
              0.8888888888888888,
              "#fdca26"
             ],
             [
              1,
              "#f0f921"
             ]
            ],
            "type": "heatmap"
           }
          ],
          "heatmapgl": [
           {
            "colorbar": {
             "outlinewidth": 0,
             "ticks": ""
            },
            "colorscale": [
             [
              0,
              "#0d0887"
             ],
             [
              0.1111111111111111,
              "#46039f"
             ],
             [
              0.2222222222222222,
              "#7201a8"
             ],
             [
              0.3333333333333333,
              "#9c179e"
             ],
             [
              0.4444444444444444,
              "#bd3786"
             ],
             [
              0.5555555555555556,
              "#d8576b"
             ],
             [
              0.6666666666666666,
              "#ed7953"
             ],
             [
              0.7777777777777778,
              "#fb9f3a"
             ],
             [
              0.8888888888888888,
              "#fdca26"
             ],
             [
              1,
              "#f0f921"
             ]
            ],
            "type": "heatmapgl"
           }
          ],
          "histogram": [
           {
            "marker": {
             "pattern": {
              "fillmode": "overlay",
              "size": 10,
              "solidity": 0.2
             }
            },
            "type": "histogram"
           }
          ],
          "histogram2d": [
           {
            "colorbar": {
             "outlinewidth": 0,
             "ticks": ""
            },
            "colorscale": [
             [
              0,
              "#0d0887"
             ],
             [
              0.1111111111111111,
              "#46039f"
             ],
             [
              0.2222222222222222,
              "#7201a8"
             ],
             [
              0.3333333333333333,
              "#9c179e"
             ],
             [
              0.4444444444444444,
              "#bd3786"
             ],
             [
              0.5555555555555556,
              "#d8576b"
             ],
             [
              0.6666666666666666,
              "#ed7953"
             ],
             [
              0.7777777777777778,
              "#fb9f3a"
             ],
             [
              0.8888888888888888,
              "#fdca26"
             ],
             [
              1,
              "#f0f921"
             ]
            ],
            "type": "histogram2d"
           }
          ],
          "histogram2dcontour": [
           {
            "colorbar": {
             "outlinewidth": 0,
             "ticks": ""
            },
            "colorscale": [
             [
              0,
              "#0d0887"
             ],
             [
              0.1111111111111111,
              "#46039f"
             ],
             [
              0.2222222222222222,
              "#7201a8"
             ],
             [
              0.3333333333333333,
              "#9c179e"
             ],
             [
              0.4444444444444444,
              "#bd3786"
             ],
             [
              0.5555555555555556,
              "#d8576b"
             ],
             [
              0.6666666666666666,
              "#ed7953"
             ],
             [
              0.7777777777777778,
              "#fb9f3a"
             ],
             [
              0.8888888888888888,
              "#fdca26"
             ],
             [
              1,
              "#f0f921"
             ]
            ],
            "type": "histogram2dcontour"
           }
          ],
          "mesh3d": [
           {
            "colorbar": {
             "outlinewidth": 0,
             "ticks": ""
            },
            "type": "mesh3d"
           }
          ],
          "parcoords": [
           {
            "line": {
             "colorbar": {
              "outlinewidth": 0,
              "ticks": ""
             }
            },
            "type": "parcoords"
           }
          ],
          "pie": [
           {
            "automargin": true,
            "type": "pie"
           }
          ],
          "scatter": [
           {
            "fillpattern": {
             "fillmode": "overlay",
             "size": 10,
             "solidity": 0.2
            },
            "type": "scatter"
           }
          ],
          "scatter3d": [
           {
            "line": {
             "colorbar": {
              "outlinewidth": 0,
              "ticks": ""
             }
            },
            "marker": {
             "colorbar": {
              "outlinewidth": 0,
              "ticks": ""
             }
            },
            "type": "scatter3d"
           }
          ],
          "scattercarpet": [
           {
            "marker": {
             "colorbar": {
              "outlinewidth": 0,
              "ticks": ""
             }
            },
            "type": "scattercarpet"
           }
          ],
          "scattergeo": [
           {
            "marker": {
             "colorbar": {
              "outlinewidth": 0,
              "ticks": ""
             }
            },
            "type": "scattergeo"
           }
          ],
          "scattergl": [
           {
            "marker": {
             "colorbar": {
              "outlinewidth": 0,
              "ticks": ""
             }
            },
            "type": "scattergl"
           }
          ],
          "scattermapbox": [
           {
            "marker": {
             "colorbar": {
              "outlinewidth": 0,
              "ticks": ""
             }
            },
            "type": "scattermapbox"
           }
          ],
          "scatterpolar": [
           {
            "marker": {
             "colorbar": {
              "outlinewidth": 0,
              "ticks": ""
             }
            },
            "type": "scatterpolar"
           }
          ],
          "scatterpolargl": [
           {
            "marker": {
             "colorbar": {
              "outlinewidth": 0,
              "ticks": ""
             }
            },
            "type": "scatterpolargl"
           }
          ],
          "scatterternary": [
           {
            "marker": {
             "colorbar": {
              "outlinewidth": 0,
              "ticks": ""
             }
            },
            "type": "scatterternary"
           }
          ],
          "surface": [
           {
            "colorbar": {
             "outlinewidth": 0,
             "ticks": ""
            },
            "colorscale": [
             [
              0,
              "#0d0887"
             ],
             [
              0.1111111111111111,
              "#46039f"
             ],
             [
              0.2222222222222222,
              "#7201a8"
             ],
             [
              0.3333333333333333,
              "#9c179e"
             ],
             [
              0.4444444444444444,
              "#bd3786"
             ],
             [
              0.5555555555555556,
              "#d8576b"
             ],
             [
              0.6666666666666666,
              "#ed7953"
             ],
             [
              0.7777777777777778,
              "#fb9f3a"
             ],
             [
              0.8888888888888888,
              "#fdca26"
             ],
             [
              1,
              "#f0f921"
             ]
            ],
            "type": "surface"
           }
          ],
          "table": [
           {
            "cells": {
             "fill": {
              "color": "#EBF0F8"
             },
             "line": {
              "color": "white"
             }
            },
            "header": {
             "fill": {
              "color": "#C8D4E3"
             },
             "line": {
              "color": "white"
             }
            },
            "type": "table"
           }
          ]
         },
         "layout": {
          "annotationdefaults": {
           "arrowcolor": "#2a3f5f",
           "arrowhead": 0,
           "arrowwidth": 1
          },
          "autotypenumbers": "strict",
          "coloraxis": {
           "colorbar": {
            "outlinewidth": 0,
            "ticks": ""
           }
          },
          "colorscale": {
           "diverging": [
            [
             0,
             "#8e0152"
            ],
            [
             0.1,
             "#c51b7d"
            ],
            [
             0.2,
             "#de77ae"
            ],
            [
             0.3,
             "#f1b6da"
            ],
            [
             0.4,
             "#fde0ef"
            ],
            [
             0.5,
             "#f7f7f7"
            ],
            [
             0.6,
             "#e6f5d0"
            ],
            [
             0.7,
             "#b8e186"
            ],
            [
             0.8,
             "#7fbc41"
            ],
            [
             0.9,
             "#4d9221"
            ],
            [
             1,
             "#276419"
            ]
           ],
           "sequential": [
            [
             0,
             "#0d0887"
            ],
            [
             0.1111111111111111,
             "#46039f"
            ],
            [
             0.2222222222222222,
             "#7201a8"
            ],
            [
             0.3333333333333333,
             "#9c179e"
            ],
            [
             0.4444444444444444,
             "#bd3786"
            ],
            [
             0.5555555555555556,
             "#d8576b"
            ],
            [
             0.6666666666666666,
             "#ed7953"
            ],
            [
             0.7777777777777778,
             "#fb9f3a"
            ],
            [
             0.8888888888888888,
             "#fdca26"
            ],
            [
             1,
             "#f0f921"
            ]
           ],
           "sequentialminus": [
            [
             0,
             "#0d0887"
            ],
            [
             0.1111111111111111,
             "#46039f"
            ],
            [
             0.2222222222222222,
             "#7201a8"
            ],
            [
             0.3333333333333333,
             "#9c179e"
            ],
            [
             0.4444444444444444,
             "#bd3786"
            ],
            [
             0.5555555555555556,
             "#d8576b"
            ],
            [
             0.6666666666666666,
             "#ed7953"
            ],
            [
             0.7777777777777778,
             "#fb9f3a"
            ],
            [
             0.8888888888888888,
             "#fdca26"
            ],
            [
             1,
             "#f0f921"
            ]
           ]
          },
          "colorway": [
           "#636efa",
           "#EF553B",
           "#00cc96",
           "#ab63fa",
           "#FFA15A",
           "#19d3f3",
           "#FF6692",
           "#B6E880",
           "#FF97FF",
           "#FECB52"
          ],
          "font": {
           "color": "#2a3f5f"
          },
          "geo": {
           "bgcolor": "white",
           "lakecolor": "white",
           "landcolor": "#E5ECF6",
           "showlakes": true,
           "showland": true,
           "subunitcolor": "white"
          },
          "hoverlabel": {
           "align": "left"
          },
          "hovermode": "closest",
          "mapbox": {
           "style": "light"
          },
          "paper_bgcolor": "white",
          "plot_bgcolor": "#E5ECF6",
          "polar": {
           "angularaxis": {
            "gridcolor": "white",
            "linecolor": "white",
            "ticks": ""
           },
           "bgcolor": "#E5ECF6",
           "radialaxis": {
            "gridcolor": "white",
            "linecolor": "white",
            "ticks": ""
           }
          },
          "scene": {
           "xaxis": {
            "backgroundcolor": "#E5ECF6",
            "gridcolor": "white",
            "gridwidth": 2,
            "linecolor": "white",
            "showbackground": true,
            "ticks": "",
            "zerolinecolor": "white"
           },
           "yaxis": {
            "backgroundcolor": "#E5ECF6",
            "gridcolor": "white",
            "gridwidth": 2,
            "linecolor": "white",
            "showbackground": true,
            "ticks": "",
            "zerolinecolor": "white"
           },
           "zaxis": {
            "backgroundcolor": "#E5ECF6",
            "gridcolor": "white",
            "gridwidth": 2,
            "linecolor": "white",
            "showbackground": true,
            "ticks": "",
            "zerolinecolor": "white"
           }
          },
          "shapedefaults": {
           "line": {
            "color": "#2a3f5f"
           }
          },
          "ternary": {
           "aaxis": {
            "gridcolor": "white",
            "linecolor": "white",
            "ticks": ""
           },
           "baxis": {
            "gridcolor": "white",
            "linecolor": "white",
            "ticks": ""
           },
           "bgcolor": "#E5ECF6",
           "caxis": {
            "gridcolor": "white",
            "linecolor": "white",
            "ticks": ""
           }
          },
          "title": {
           "x": 0.05
          },
          "xaxis": {
           "automargin": true,
           "gridcolor": "white",
           "linecolor": "white",
           "ticks": "",
           "title": {
            "standoff": 15
           },
           "zerolinecolor": "white",
           "zerolinewidth": 2
          },
          "yaxis": {
           "automargin": true,
           "gridcolor": "white",
           "linecolor": "white",
           "ticks": "",
           "title": {
            "standoff": 15
           },
           "zerolinecolor": "white",
           "zerolinewidth": 2
          }
         }
        },
        "title": {
         "font": {
          "color": "#4D5663"
         },
         "text": "^NDX"
        },
        "xaxis": {
         "anchor": "y2",
         "gridcolor": "#E1E5ED",
         "rangeselector": {
          "bgcolor": "rgba(150, 200, 250, 1)",
          "buttons": [
           {
            "count": 1,
            "label": "1m",
            "step": "month",
            "stepmode": "backward"
           },
           {
            "count": 1,
            "label": "1y",
            "step": "year",
            "stepmode": "backward"
           }
          ],
          "font": {
           "size": 13
          },
          "visible": false,
          "x": 0,
          "y": 0.9
         },
         "rangeslider": {
          "visible": false
         },
         "showgrid": true,
         "tickfont": {
          "color": "#4D5663"
         },
         "title": {
          "font": {
           "color": "#4D5663"
          },
          "text": ""
         },
         "zerolinecolor": "#E1E5ED"
        },
        "yaxis": {
         "gridcolor": "#E1E5ED",
         "showgrid": true,
         "showticklabels": false,
         "tickfont": {
          "color": "#4D5663"
         },
         "title": {
          "font": {
           "color": "#4D5663"
          },
          "text": ""
         },
         "zerolinecolor": "#E1E5ED"
        },
        "yaxis2": {
         "domain": [
          0.46,
          0.9
         ],
         "gridcolor": "#E1E5ED",
         "showgrid": true,
         "tickfont": {
          "color": "#4D5663"
         },
         "title": {
          "font": {
           "color": "#4D5663"
          },
          "text": ""
         },
         "zerolinecolor": "#E1E5ED"
        },
        "yaxis3": {
         "domain": [
          0.23,
          0.38
         ],
         "gridcolor": "#E1E5ED",
         "showgrid": true,
         "tickfont": {
          "color": "#4D5663"
         },
         "title": {
          "font": {
           "color": "#4D5663"
          },
          "text": ""
         },
         "zerolinecolor": "#E1E5ED"
        },
        "yaxis4": {
         "domain": [
          0,
          0.15
         ],
         "gridcolor": "#E1E5ED",
         "showgrid": true,
         "tickfont": {
          "color": "#4D5663"
         },
         "title": {
          "font": {
           "color": "#4D5663"
          },
          "text": ""
         },
         "zerolinecolor": "#E1E5ED"
        }
       }
      },
      "text/html": [
       "<div>                            <div id=\"29835363-487e-4524-aaf5-70daaf37c371\" class=\"plotly-graph-div\" style=\"height:525px; width:100%;\"></div>            <script type=\"text/javascript\">                require([\"plotly\"], function(Plotly) {                    window.PLOTLYENV=window.PLOTLYENV || {};\n",
       "                    window.PLOTLYENV.BASE_URL='https://plot.ly';                                    if (document.getElementById(\"29835363-487e-4524-aaf5-70daaf37c371\")) {                    Plotly.newPlot(                        \"29835363-487e-4524-aaf5-70daaf37c371\",                        [{\"marker\":{\"color\":[\"#000000\",\"#000000\",\"#ff0000\",\"#ff0000\",\"#000000\",\"#ff0000\",\"#ff0000\",\"#ff0000\",\"#ff0000\",\"#000000\",\"#ff0000\",\"#000000\",\"#ff0000\",\"#ff0000\",\"#ff0000\",\"#ff0000\",\"#000000\",\"#000000\",\"#ff0000\",\"#000000\",\"#000000\",\"#000000\",\"#000000\",\"#ff0000\",\"#ff0000\",\"#000000\",\"#000000\",\"#ff0000\",\"#ff0000\",\"#ff0000\",\"#ff0000\",\"#ff0000\",\"#ff0000\",\"#ff0000\",\"#ff0000\",\"#ff0000\",\"#000000\",\"#ff0000\",\"#000000\",\"#ff0000\",\"#ff0000\",\"#ff0000\",\"#ff0000\",\"#ff0000\",\"#000000\",\"#ff0000\",\"#000000\",\"#000000\",\"#ff0000\",\"#000000\",\"#000000\",\"#ff0000\",\"#000000\",\"#ff0000\",\"#000000\",\"#ff0000\",\"#ff0000\",\"#ff0000\",\"#ff0000\",\"#ff0000\",\"#000000\",\"#ff0000\",\"#ff0000\",\"#ff0000\",\"#000000\",\"#ff0000\",\"#ff0000\",\"#ff0000\",\"#ff0000\",\"#000000\",\"#000000\",\"#000000\",\"#000000\",\"#000000\",\"#ff0000\",\"#ff0000\",\"#ff0000\",\"#ff0000\",\"#ff0000\",\"#ff0000\",\"#000000\",\"#000000\",\"#ff0000\",\"#ff0000\",\"#ff0000\",\"#ff0000\",\"#ff0000\",\"#ff0000\",\"#000000\",\"#ff0000\",\"#000000\",\"#000000\",\"#ff0000\",\"#ff0000\",\"#000000\",\"#000000\",\"#ff0000\",\"#ff0000\",\"#ff0000\",\"#000000\",\"#000000\",\"#ff0000\",\"#ff0000\",\"#000000\",\"#000000\",\"#000000\",\"#ff0000\",\"#000000\",\"#000000\",\"#ff0000\",\"#000000\",\"#ff0000\",\"#ff0000\",\"#000000\",\"#000000\",\"#ff0000\",\"#ff0000\",\"#000000\",\"#000000\",\"#ff0000\",\"#000000\",\"#000000\",\"#000000\",\"#ff0000\",\"#ff0000\",\"#000000\"],\"line\":{\"color\":[\"#000000\",\"#000000\",\"#ff0000\",\"#ff0000\",\"#000000\",\"#ff0000\",\"#ff0000\",\"#ff0000\",\"#ff0000\",\"#000000\",\"#ff0000\",\"#000000\",\"#ff0000\",\"#ff0000\",\"#ff0000\",\"#ff0000\",\"#000000\",\"#000000\",\"#ff0000\",\"#000000\",\"#000000\",\"#000000\",\"#000000\",\"#ff0000\",\"#ff0000\",\"#000000\",\"#000000\",\"#ff0000\",\"#ff0000\",\"#ff0000\",\"#ff0000\",\"#ff0000\",\"#ff0000\",\"#ff0000\",\"#ff0000\",\"#ff0000\",\"#000000\",\"#ff0000\",\"#000000\",\"#ff0000\",\"#ff0000\",\"#ff0000\",\"#ff0000\",\"#ff0000\",\"#000000\",\"#ff0000\",\"#000000\",\"#000000\",\"#ff0000\",\"#000000\",\"#000000\",\"#ff0000\",\"#000000\",\"#ff0000\",\"#000000\",\"#ff0000\",\"#ff0000\",\"#ff0000\",\"#ff0000\",\"#ff0000\",\"#000000\",\"#ff0000\",\"#ff0000\",\"#ff0000\",\"#000000\",\"#ff0000\",\"#ff0000\",\"#ff0000\",\"#ff0000\",\"#000000\",\"#000000\",\"#000000\",\"#000000\",\"#000000\",\"#ff0000\",\"#ff0000\",\"#ff0000\",\"#ff0000\",\"#ff0000\",\"#ff0000\",\"#000000\",\"#000000\",\"#ff0000\",\"#ff0000\",\"#ff0000\",\"#ff0000\",\"#ff0000\",\"#ff0000\",\"#000000\",\"#ff0000\",\"#000000\",\"#000000\",\"#ff0000\",\"#ff0000\",\"#000000\",\"#000000\",\"#ff0000\",\"#ff0000\",\"#ff0000\",\"#000000\",\"#000000\",\"#ff0000\",\"#ff0000\",\"#000000\",\"#000000\",\"#000000\",\"#ff0000\",\"#000000\",\"#000000\",\"#ff0000\",\"#000000\",\"#ff0000\",\"#ff0000\",\"#000000\",\"#000000\",\"#ff0000\",\"#ff0000\",\"#000000\",\"#000000\",\"#ff0000\",\"#000000\",\"#000000\",\"#000000\",\"#ff0000\",\"#ff0000\",\"#000000\"],\"width\":1}},\"name\":\"Volume\",\"opacity\":0.8,\"orientation\":\"v\",\"text\":\"\",\"x\":[\"2023-09-20\",\"2023-09-21\",\"2023-09-22\",\"2023-09-25\",\"2023-09-26\",\"2023-09-27\",\"2023-09-28\",\"2023-09-29\",\"2023-10-02\",\"2023-10-03\",\"2023-10-04\",\"2023-10-05\",\"2023-10-06\",\"2023-10-09\",\"2023-10-10\",\"2023-10-11\",\"2023-10-12\",\"2023-10-13\",\"2023-10-16\",\"2023-10-17\",\"2023-10-18\",\"2023-10-19\",\"2023-10-20\",\"2023-10-23\",\"2023-10-24\",\"2023-10-25\",\"2023-10-26\",\"2023-10-27\",\"2023-10-30\",\"2023-10-31\",\"2023-11-01\",\"2023-11-02\",\"2023-11-03\",\"2023-11-06\",\"2023-11-07\",\"2023-11-08\",\"2023-11-09\",\"2023-11-10\",\"2023-11-13\",\"2023-11-14\",\"2023-11-15\",\"2023-11-16\",\"2023-11-17\",\"2023-11-20\",\"2023-11-21\",\"2023-11-22\",\"2023-11-24\",\"2023-11-27\",\"2023-11-28\",\"2023-11-29\",\"2023-11-30\",\"2023-12-01\",\"2023-12-04\",\"2023-12-05\",\"2023-12-06\",\"2023-12-07\",\"2023-12-08\",\"2023-12-11\",\"2023-12-12\",\"2023-12-13\",\"2023-12-14\",\"2023-12-15\",\"2023-12-18\",\"2023-12-19\",\"2023-12-20\",\"2023-12-21\",\"2023-12-22\",\"2023-12-26\",\"2023-12-27\",\"2023-12-28\",\"2023-12-29\",\"2024-01-02\",\"2024-01-03\",\"2024-01-04\",\"2024-01-05\",\"2024-01-08\",\"2024-01-09\",\"2024-01-10\",\"2024-01-11\",\"2024-01-12\",\"2024-01-16\",\"2024-01-17\",\"2024-01-18\",\"2024-01-19\",\"2024-01-22\",\"2024-01-23\",\"2024-01-24\",\"2024-01-25\",\"2024-01-26\",\"2024-01-29\",\"2024-01-30\",\"2024-01-31\",\"2024-02-01\",\"2024-02-02\",\"2024-02-05\",\"2024-02-06\",\"2024-02-07\",\"2024-02-08\",\"2024-02-09\",\"2024-02-12\",\"2024-02-13\",\"2024-02-14\",\"2024-02-15\",\"2024-02-16\",\"2024-02-20\",\"2024-02-21\",\"2024-02-22\",\"2024-02-23\",\"2024-02-26\",\"2024-02-27\",\"2024-02-28\",\"2024-02-29\",\"2024-03-01\",\"2024-03-04\",\"2024-03-05\",\"2024-03-06\",\"2024-03-07\",\"2024-03-08\",\"2024-03-11\",\"2024-03-12\",\"2024-03-13\",\"2024-03-14\",\"2024-03-15\",\"2024-03-18\",\"2024-03-19\",\"2024-03-20\"],\"y\":[4782440000,5014890000,4302700000,4100290000,4693540000,4841410000,4648390000,5138500000,4554700000,4684310000,4308070000,4167470000,4309420000,3835930000,4301350000,4160440000,4858620000,4251550000,4308690000,4417640000,4617140000,5014790000,4622840000,4669060000,4604720000,4599850000,4894900000,4172100000,4149320000,4315630000,4545120000,4962950000,4918750000,4345850000,4354460000,4685550000,5313970000,4722140000,4349590000,5332490000,5063830000,4545180000,4408640000,4561810000,4128600000,3855240000,2541840000,4205880000,4474400000,4890220000,5678070000,5607000000,6270020000,6179120000,5167030000,5694310000,5430840000,5607820000,4950100000,6732040000,8033170000,8377630000,5866080000,5757180000,6294700000,5465640000,4796600000,6120600000,7480170000,5090570000,5441060000,5791170000,5449950000,5289220000,5232820000,6337770000,5068410000,4404590000,5044690000,4958940000,6386180000,5181740000,5587440000,5604950000,5456240000,5207680000,4983210000,5281570000,4510530000,4979310000,4719240000,5875610000,5046920000,4800690000,4831020000,4759640000,4567580000,5675850000,5797260000,5458490000,5599860000,5092660000,6049100000,5223800000,5595700000,4845740000,5653930000,5077910000,5417630000,5423020000,5581690000,6265340000,5457910000,5725470000,6356800000,5511370000,5072790000,5411790000,4917620000,5100330000,4839000000,5450980000,8261950000,5025040000,4758740000,192020066],\"yaxis\":\"y3\",\"type\":\"bar\"},{\"legendgroup\":\"RSI(Close,[5, 30])\",\"line\":{\"color\":\"rgba(255, 102, 0, 1.0)\",\"dash\":\"solid\",\"shape\":\"linear\",\"width\":1.3},\"mode\":\"lines\",\"name\":\"RSI(Close,[5, 30])\",\"showlegend\":true,\"text\":\"\",\"x\":[\"2023-09-20\",\"2023-09-21\",\"2023-09-22\",\"2023-09-25\",\"2023-09-26\",\"2023-09-27\",\"2023-09-28\",\"2023-09-29\",\"2023-10-02\",\"2023-10-03\",\"2023-10-04\",\"2023-10-05\",\"2023-10-06\",\"2023-10-09\",\"2023-10-10\",\"2023-10-11\",\"2023-10-12\",\"2023-10-13\",\"2023-10-16\",\"2023-10-17\",\"2023-10-18\",\"2023-10-19\",\"2023-10-20\",\"2023-10-23\",\"2023-10-24\",\"2023-10-25\",\"2023-10-26\",\"2023-10-27\",\"2023-10-30\",\"2023-10-31\",\"2023-11-01\",\"2023-11-02\",\"2023-11-03\",\"2023-11-06\",\"2023-11-07\",\"2023-11-08\",\"2023-11-09\",\"2023-11-10\",\"2023-11-13\",\"2023-11-14\",\"2023-11-15\",\"2023-11-16\",\"2023-11-17\",\"2023-11-20\",\"2023-11-21\",\"2023-11-22\",\"2023-11-24\",\"2023-11-27\",\"2023-11-28\",\"2023-11-29\",\"2023-11-30\",\"2023-12-01\",\"2023-12-04\",\"2023-12-05\",\"2023-12-06\",\"2023-12-07\",\"2023-12-08\",\"2023-12-11\",\"2023-12-12\",\"2023-12-13\",\"2023-12-14\",\"2023-12-15\",\"2023-12-18\",\"2023-12-19\",\"2023-12-20\",\"2023-12-21\",\"2023-12-22\",\"2023-12-26\",\"2023-12-27\",\"2023-12-28\",\"2023-12-29\",\"2024-01-02\",\"2024-01-03\",\"2024-01-04\",\"2024-01-05\",\"2024-01-08\",\"2024-01-09\",\"2024-01-10\",\"2024-01-11\",\"2024-01-12\",\"2024-01-16\",\"2024-01-17\",\"2024-01-18\",\"2024-01-19\",\"2024-01-22\",\"2024-01-23\",\"2024-01-24\",\"2024-01-25\",\"2024-01-26\",\"2024-01-29\",\"2024-01-30\",\"2024-01-31\",\"2024-02-01\",\"2024-02-02\",\"2024-02-05\",\"2024-02-06\",\"2024-02-07\",\"2024-02-08\",\"2024-02-09\",\"2024-02-12\",\"2024-02-13\",\"2024-02-14\",\"2024-02-15\",\"2024-02-16\",\"2024-02-20\",\"2024-02-21\",\"2024-02-22\",\"2024-02-23\",\"2024-02-26\",\"2024-02-27\",\"2024-02-28\",\"2024-02-29\",\"2024-03-01\",\"2024-03-04\",\"2024-03-05\",\"2024-03-06\",\"2024-03-07\",\"2024-03-08\",\"2024-03-11\",\"2024-03-12\",\"2024-03-13\",\"2024-03-14\",\"2024-03-15\",\"2024-03-18\",\"2024-03-19\",\"2024-03-20\"],\"y\":[\"\",\"\",\"\",\"\",13.020375630990571,17.933687488551016,50.9379658148296,51.53608527394935,56.66943619277419,51.75539959703337,63.24948861761795,51.52519806963137,64.20765967698912,62.191394844177836,92.1081200487729,90.71160882126051,90.08202555038991,52.12889077236784,60.167108895923796,49.185712422191976,25.84998528933113,23.48751644951372,22.4976744416186,6.70453868604443,24.7926420485408,20.608775974488722,17.726577232082292,28.676640420522133,36.576503088624946,32.056589528830756,67.1179215052634,100.0,100.0,100.0,100.0,100.0,75.85114969886376,81.57605754503422,74.4234398210994,80.03350654513446,79.73868563670018,93.72161346673019,88.46162264967762,100.0,69.6654006378756,74.82019500256582,69.87294831875576,65.90893143544506,46.661569526946224,65.12386382913522,32.20972810138417,54.307186929319336,30.806740305753408,28.469949337329737,23.39689260020154,56.548372997848944,57.480481361901965,84.02864031562797,86.32938307119852,100.0,95.6523243662235,95.82553223301132,95.59559699922877,95.15686977438044,49.26211117314316,64.93825388853014,61.50039247498519,61.19363036342459,57.778673809318086,97.69231185442898,64.87861977708789,26.2869091168792,5.001292546316236,0.0,3.742898008850233,40.34522128993147,60.2304774726953,85.52680179517604,100.0,100.0,98.80762864643185,61.4764755802275,74.7357671687516,85.92026224507508,86.00916134140135,87.61330156534214,100.0,100.0,67.89636317312655,79.03668218019871,57.198485835738005,25.79676463292033,40.814124713875394,59.726475280473366,50.84335881941552,55.24719293002604,90.76310085590798,87.89888274003869,84.77200496269481,76.44701248342822,51.841862519650256,53.38427370978573,53.97636974055386,31.980545936035853,29.655708170112888,40.074537094648704,60.5872242729999,54.78741699076647,65.37806758709459,80.2642304129261,77.04223321192443,55.22018802572984,82.21569221865484,72.93421957368783,46.06551145515907,57.50511255824628,61.94019989649135,36.88761325823598,37.219417278172735,65.84272000647292,52.435939857214166,32.6911414286601,35.89340953179888,51.94846726666363,35.2782273199968,45.09830913789238],\"yaxis\":\"y4\",\"type\":\"scatter\"},{\"legendgroup\":\"RSI(Close,[5, 30])\",\"line\":{\"color\":\"rgba(0, 0, 230, 1.0)\",\"dash\":\"solid\",\"shape\":\"linear\",\"width\":1.3},\"mode\":\"lines\",\"name\":\"RSI(Close,30)\",\"showlegend\":false,\"text\":\"\",\"x\":[\"2023-09-20\",\"2023-09-21\",\"2023-09-22\",\"2023-09-25\",\"2023-09-26\",\"2023-09-27\",\"2023-09-28\",\"2023-09-29\",\"2023-10-02\",\"2023-10-03\",\"2023-10-04\",\"2023-10-05\",\"2023-10-06\",\"2023-10-09\",\"2023-10-10\",\"2023-10-11\",\"2023-10-12\",\"2023-10-13\",\"2023-10-16\",\"2023-10-17\",\"2023-10-18\",\"2023-10-19\",\"2023-10-20\",\"2023-10-23\",\"2023-10-24\",\"2023-10-25\",\"2023-10-26\",\"2023-10-27\",\"2023-10-30\",\"2023-10-31\",\"2023-11-01\",\"2023-11-02\",\"2023-11-03\",\"2023-11-06\",\"2023-11-07\",\"2023-11-08\",\"2023-11-09\",\"2023-11-10\",\"2023-11-13\",\"2023-11-14\",\"2023-11-15\",\"2023-11-16\",\"2023-11-17\",\"2023-11-20\",\"2023-11-21\",\"2023-11-22\",\"2023-11-24\",\"2023-11-27\",\"2023-11-28\",\"2023-11-29\",\"2023-11-30\",\"2023-12-01\",\"2023-12-04\",\"2023-12-05\",\"2023-12-06\",\"2023-12-07\",\"2023-12-08\",\"2023-12-11\",\"2023-12-12\",\"2023-12-13\",\"2023-12-14\",\"2023-12-15\",\"2023-12-18\",\"2023-12-19\",\"2023-12-20\",\"2023-12-21\",\"2023-12-22\",\"2023-12-26\",\"2023-12-27\",\"2023-12-28\",\"2023-12-29\",\"2024-01-02\",\"2024-01-03\",\"2024-01-04\",\"2024-01-05\",\"2024-01-08\",\"2024-01-09\",\"2024-01-10\",\"2024-01-11\",\"2024-01-12\",\"2024-01-16\",\"2024-01-17\",\"2024-01-18\",\"2024-01-19\",\"2024-01-22\",\"2024-01-23\",\"2024-01-24\",\"2024-01-25\",\"2024-01-26\",\"2024-01-29\",\"2024-01-30\",\"2024-01-31\",\"2024-02-01\",\"2024-02-02\",\"2024-02-05\",\"2024-02-06\",\"2024-02-07\",\"2024-02-08\",\"2024-02-09\",\"2024-02-12\",\"2024-02-13\",\"2024-02-14\",\"2024-02-15\",\"2024-02-16\",\"2024-02-20\",\"2024-02-21\",\"2024-02-22\",\"2024-02-23\",\"2024-02-26\",\"2024-02-27\",\"2024-02-28\",\"2024-02-29\",\"2024-03-01\",\"2024-03-04\",\"2024-03-05\",\"2024-03-06\",\"2024-03-07\",\"2024-03-08\",\"2024-03-11\",\"2024-03-12\",\"2024-03-13\",\"2024-03-14\",\"2024-03-15\",\"2024-03-18\",\"2024-03-19\",\"2024-03-20\"],\"y\":[\"\",\"\",\"\",\"\",\"\",\"\",\"\",\"\",\"\",\"\",\"\",\"\",\"\",\"\",\"\",\"\",\"\",\"\",\"\",\"\",\"\",\"\",\"\",\"\",\"\",\"\",\"\",\"\",\"\",43.1281369678611,46.47854293555101,52.613986687438036,54.44357305309388,54.31760302439958,58.54735261431756,58.385106766089535,55.54555338990808,58.65313832823642,56.972632072176275,63.30815766652213,61.62112104887423,62.49501722561321,60.30354538100722,61.36382116721446,59.28228113179614,58.88420754725595,59.40681330239867,61.87153634693882,60.62256510594033,61.05442881052807,63.877349117948015,66.56511253141265,67.75433126551238,67.7011505804237,64.7033003005684,74.02918973556937,80.81871245226392,81.20690262643538,81.07631111338279,81.82527488044502,79.71667153197811,78.56711317422702,78.02486760087481,78.22407911257852,70.61245256212521,72.30086312301056,75.3705082306759,73.32550484784254,74.77035996671889,71.26848787212418,69.24429765467573,62.31022883493359,58.67528863757443,54.313956504999396,56.45231762371439,60.25556954107754,60.98516484599428,62.725518566347006,62.488879338261945,63.06943465554446,63.80975774734637,61.39559884638144,67.16025815141668,69.8222126262271,71.72510614626272,70.38512807538544,70.66976935592086,69.60981618892899,66.33108342059296,65.98890049408325,64.10492952332663,57.171739973206265,58.34756260526127,60.654661155973294,64.42164558268507,61.620198196191964,63.317747933697405,62.57381375453523,64.08045318221701,62.8823573022735,59.60998681149944,65.97654965197835,69.3482783214107,68.04249882658863,65.47578947265795,61.113319100962386,65.68524527140609,63.69206944376946,63.383191378574644,63.60823832229444,62.2048808561367,65.02598162791867,65.13057138125947,61.103975555519646,56.41805326811477,56.86560089967268,58.5839375669359,55.102263066417436,55.43187861098339,56.257152006329086,55.908022505712424,59.29178174996091,54.9089332607469,53.72032762370912,54.538702372281456,54.870213597124696],\"yaxis\":\"y4\",\"type\":\"scatter\"},{\"legendgroup\":\"RSI(Close,[5, 30])\",\"line\":{\"color\":\"#000000\",\"width\":1},\"mode\":\"lines\",\"name\":\"\",\"showlegend\":true,\"text\":\"\",\"x\":[\"2023-09-20\",\"2023-09-21\",\"2023-09-22\",\"2023-09-25\",\"2023-09-26\",\"2023-09-27\",\"2023-09-28\",\"2023-09-29\",\"2023-10-02\",\"2023-10-03\",\"2023-10-04\",\"2023-10-05\",\"2023-10-06\",\"2023-10-09\",\"2023-10-10\",\"2023-10-11\",\"2023-10-12\",\"2023-10-13\",\"2023-10-16\",\"2023-10-17\",\"2023-10-18\",\"2023-10-19\",\"2023-10-20\",\"2023-10-23\",\"2023-10-24\",\"2023-10-25\",\"2023-10-26\",\"2023-10-27\",\"2023-10-30\",\"2023-10-31\",\"2023-11-01\",\"2023-11-02\",\"2023-11-03\",\"2023-11-06\",\"2023-11-07\",\"2023-11-08\",\"2023-11-09\",\"2023-11-10\",\"2023-11-13\",\"2023-11-14\",\"2023-11-15\",\"2023-11-16\",\"2023-11-17\",\"2023-11-20\",\"2023-11-21\",\"2023-11-22\",\"2023-11-24\",\"2023-11-27\",\"2023-11-28\",\"2023-11-29\",\"2023-11-30\",\"2023-12-01\",\"2023-12-04\",\"2023-12-05\",\"2023-12-06\",\"2023-12-07\",\"2023-12-08\",\"2023-12-11\",\"2023-12-12\",\"2023-12-13\",\"2023-12-14\",\"2023-12-15\",\"2023-12-18\",\"2023-12-19\",\"2023-12-20\",\"2023-12-21\",\"2023-12-22\",\"2023-12-26\",\"2023-12-27\",\"2023-12-28\",\"2023-12-29\",\"2024-01-02\",\"2024-01-03\",\"2024-01-04\",\"2024-01-05\",\"2024-01-08\",\"2024-01-09\",\"2024-01-10\",\"2024-01-11\",\"2024-01-12\",\"2024-01-16\",\"2024-01-17\",\"2024-01-18\",\"2024-01-19\",\"2024-01-22\",\"2024-01-23\",\"2024-01-24\",\"2024-01-25\",\"2024-01-26\",\"2024-01-29\",\"2024-01-30\",\"2024-01-31\",\"2024-02-01\",\"2024-02-02\",\"2024-02-05\",\"2024-02-06\",\"2024-02-07\",\"2024-02-08\",\"2024-02-09\",\"2024-02-12\",\"2024-02-13\",\"2024-02-14\",\"2024-02-15\",\"2024-02-16\",\"2024-02-20\",\"2024-02-21\",\"2024-02-22\",\"2024-02-23\",\"2024-02-26\",\"2024-02-27\",\"2024-02-28\",\"2024-02-29\",\"2024-03-01\",\"2024-03-04\",\"2024-03-05\",\"2024-03-06\",\"2024-03-07\",\"2024-03-08\",\"2024-03-11\",\"2024-03-12\",\"2024-03-13\",\"2024-03-14\",\"2024-03-15\",\"2024-03-18\",\"2024-03-19\",\"2024-03-20\"],\"y\":[20,20,20,20,20,20,20,20,20,20,20,20,20,20,20,20,20,20,20,20,20,20,20,20,20,20,20,20,20,20,20,20,20,20,20,20,20,20,20,20,20,20,20,20,20,20,20,20,20,20,20,20,20,20,20,20,20,20,20,20,20,20,20,20,20,20,20,20,20,20,20,20,20,20,20,20,20,20,20,20,20,20,20,20,20,20,20,20,20,20,20,20,20,20,20,20,20,20,20,20,20,20,20,20,20,20,20,20,20,20,20,20,20,20,20,20,20,20,20,20,20,20,20,20,20,20],\"yaxis\":\"y4\",\"type\":\"scatter\"},{\"legendgroup\":\"RSI(Close,[5, 30])\",\"line\":{\"color\":\"#ff0000\",\"width\":1},\"mode\":\"lines\",\"name\":\"\",\"showlegend\":true,\"text\":\"\",\"x\":[\"2023-09-20\",\"2023-09-21\",\"2023-09-22\",\"2023-09-25\",\"2023-09-26\",\"2023-09-27\",\"2023-09-28\",\"2023-09-29\",\"2023-10-02\",\"2023-10-03\",\"2023-10-04\",\"2023-10-05\",\"2023-10-06\",\"2023-10-09\",\"2023-10-10\",\"2023-10-11\",\"2023-10-12\",\"2023-10-13\",\"2023-10-16\",\"2023-10-17\",\"2023-10-18\",\"2023-10-19\",\"2023-10-20\",\"2023-10-23\",\"2023-10-24\",\"2023-10-25\",\"2023-10-26\",\"2023-10-27\",\"2023-10-30\",\"2023-10-31\",\"2023-11-01\",\"2023-11-02\",\"2023-11-03\",\"2023-11-06\",\"2023-11-07\",\"2023-11-08\",\"2023-11-09\",\"2023-11-10\",\"2023-11-13\",\"2023-11-14\",\"2023-11-15\",\"2023-11-16\",\"2023-11-17\",\"2023-11-20\",\"2023-11-21\",\"2023-11-22\",\"2023-11-24\",\"2023-11-27\",\"2023-11-28\",\"2023-11-29\",\"2023-11-30\",\"2023-12-01\",\"2023-12-04\",\"2023-12-05\",\"2023-12-06\",\"2023-12-07\",\"2023-12-08\",\"2023-12-11\",\"2023-12-12\",\"2023-12-13\",\"2023-12-14\",\"2023-12-15\",\"2023-12-18\",\"2023-12-19\",\"2023-12-20\",\"2023-12-21\",\"2023-12-22\",\"2023-12-26\",\"2023-12-27\",\"2023-12-28\",\"2023-12-29\",\"2024-01-02\",\"2024-01-03\",\"2024-01-04\",\"2024-01-05\",\"2024-01-08\",\"2024-01-09\",\"2024-01-10\",\"2024-01-11\",\"2024-01-12\",\"2024-01-16\",\"2024-01-17\",\"2024-01-18\",\"2024-01-19\",\"2024-01-22\",\"2024-01-23\",\"2024-01-24\",\"2024-01-25\",\"2024-01-26\",\"2024-01-29\",\"2024-01-30\",\"2024-01-31\",\"2024-02-01\",\"2024-02-02\",\"2024-02-05\",\"2024-02-06\",\"2024-02-07\",\"2024-02-08\",\"2024-02-09\",\"2024-02-12\",\"2024-02-13\",\"2024-02-14\",\"2024-02-15\",\"2024-02-16\",\"2024-02-20\",\"2024-02-21\",\"2024-02-22\",\"2024-02-23\",\"2024-02-26\",\"2024-02-27\",\"2024-02-28\",\"2024-02-29\",\"2024-03-01\",\"2024-03-04\",\"2024-03-05\",\"2024-03-06\",\"2024-03-07\",\"2024-03-08\",\"2024-03-11\",\"2024-03-12\",\"2024-03-13\",\"2024-03-14\",\"2024-03-15\",\"2024-03-18\",\"2024-03-19\",\"2024-03-20\"],\"y\":[80,80,80,80,80,80,80,80,80,80,80,80,80,80,80,80,80,80,80,80,80,80,80,80,80,80,80,80,80,80,80,80,80,80,80,80,80,80,80,80,80,80,80,80,80,80,80,80,80,80,80,80,80,80,80,80,80,80,80,80,80,80,80,80,80,80,80,80,80,80,80,80,80,80,80,80,80,80,80,80,80,80,80,80,80,80,80,80,80,80,80,80,80,80,80,80,80,80,80,80,80,80,80,80,80,80,80,80,80,80,80,80,80,80,80,80,80,80,80,80,80,80,80,80,80,80],\"yaxis\":\"y4\",\"type\":\"scatter\"},{\"legendgroup\":\"BOLL(Close,20)\",\"line\":{\"color\":\"rgba(55, 128, 191, 1.0)\",\"dash\":\"solid\",\"shape\":\"linear\",\"width\":1.3},\"mode\":\"lines\",\"name\":\"BOLL(Close,20)\",\"showlegend\":true,\"text\":\"\",\"x\":[\"2023-09-20\",\"2023-09-21\",\"2023-09-22\",\"2023-09-25\",\"2023-09-26\",\"2023-09-27\",\"2023-09-28\",\"2023-09-29\",\"2023-10-02\",\"2023-10-03\",\"2023-10-04\",\"2023-10-05\",\"2023-10-06\",\"2023-10-09\",\"2023-10-10\",\"2023-10-11\",\"2023-10-12\",\"2023-10-13\",\"2023-10-16\",\"2023-10-17\",\"2023-10-18\",\"2023-10-19\",\"2023-10-20\",\"2023-10-23\",\"2023-10-24\",\"2023-10-25\",\"2023-10-26\",\"2023-10-27\",\"2023-10-30\",\"2023-10-31\",\"2023-11-01\",\"2023-11-02\",\"2023-11-03\",\"2023-11-06\",\"2023-11-07\",\"2023-11-08\",\"2023-11-09\",\"2023-11-10\",\"2023-11-13\",\"2023-11-14\",\"2023-11-15\",\"2023-11-16\",\"2023-11-17\",\"2023-11-20\",\"2023-11-21\",\"2023-11-22\",\"2023-11-24\",\"2023-11-27\",\"2023-11-28\",\"2023-11-29\",\"2023-11-30\",\"2023-12-01\",\"2023-12-04\",\"2023-12-05\",\"2023-12-06\",\"2023-12-07\",\"2023-12-08\",\"2023-12-11\",\"2023-12-12\",\"2023-12-13\",\"2023-12-14\",\"2023-12-15\",\"2023-12-18\",\"2023-12-19\",\"2023-12-20\",\"2023-12-21\",\"2023-12-22\",\"2023-12-26\",\"2023-12-27\",\"2023-12-28\",\"2023-12-29\",\"2024-01-02\",\"2024-01-03\",\"2024-01-04\",\"2024-01-05\",\"2024-01-08\",\"2024-01-09\",\"2024-01-10\",\"2024-01-11\",\"2024-01-12\",\"2024-01-16\",\"2024-01-17\",\"2024-01-18\",\"2024-01-19\",\"2024-01-22\",\"2024-01-23\",\"2024-01-24\",\"2024-01-25\",\"2024-01-26\",\"2024-01-29\",\"2024-01-30\",\"2024-01-31\",\"2024-02-01\",\"2024-02-02\",\"2024-02-05\",\"2024-02-06\",\"2024-02-07\",\"2024-02-08\",\"2024-02-09\",\"2024-02-12\",\"2024-02-13\",\"2024-02-14\",\"2024-02-15\",\"2024-02-16\",\"2024-02-20\",\"2024-02-21\",\"2024-02-22\",\"2024-02-23\",\"2024-02-26\",\"2024-02-27\",\"2024-02-28\",\"2024-02-29\",\"2024-03-01\",\"2024-03-04\",\"2024-03-05\",\"2024-03-06\",\"2024-03-07\",\"2024-03-08\",\"2024-03-11\",\"2024-03-12\",\"2024-03-13\",\"2024-03-14\",\"2024-03-15\",\"2024-03-18\",\"2024-03-19\",\"2024-03-20\"],\"y\":[\"\",\"\",\"\",\"\",\"\",\"\",\"\",\"\",\"\",\"\",\"\",\"\",\"\",\"\",\"\",\"\",\"\",\"\",\"\",14872.39052734375,14869.35751953125,14873.802001953125,14866.791015625,14858.5884765625,14868.589990234375,14858.66396484375,14829.00400390625,14802.26298828125,14777.1599609375,14769.36796875,14763.8009765625,14773.61748046875,14779.92998046875,14785.3189453125,14793.5439453125,14797.149951171876,14797.339990234375,14824.039990234374,14839.54296875,14874.065966796876,14919.461962890626,14971.96396484375,15035.819482421875,15106.92998046875,15166.31796875,15247.30546875,15340.92744140625,15430.00546875,15513.75146484375,15592.642431640625,15656.7904296875,15710.691943359376,15747.700927734375,15783.83994140625,15808.441455078126,15843.903955078125,15888.74345703125,15923.373974609374,15966.94697265625,16004.441943359376,16040.474462890625,16079.988427734375,16124.578955078125,16163.81845703125,16194.845458984375,16232.646484375,16272.416015625,16318.2400390625,16363.05859375,16408.6021484375,16452.505126953125,16479.823095703126,16506.264111328124,16526.4791015625,16552.375634765624,16583.744580078124,16613.44501953125,16642.01103515625,16665.3435546875,16678.87109375,16693.51513671875,16699.156640625,16711.7810546875,16736.88857421875,16775.699609375,16808.0396484375,16844.13466796875,16876.0611328125,16901.77158203125,16936.6615234375,16969.2005859375,16998.865625,17047.67666015625,17115.7126953125,17181.065625,17227.20869140625,17281.02724609375,17330.533203125,17387.60869140625,17440.095703125,17478.58115234375,17532.14873046875,17575.3203125,17593.9193359375,17604.7052734375,17608.440234375,17633.71015625,17654.74111328125,17680.35712890625,17699.09619140625,17718.98564453125,17764.31611328125,17812.22607421875,17841.41357421875,17855.655078125,17877.8970703125,17905.04306640625,17916.80703125,17916.27099609375,17933.09345703125,17956.49599609375,17966.85498046875,17964.9814453125,17979.93291015625,18004.237890625,18031.2818359375],\"yaxis\":\"y2\",\"type\":\"scatter\"},{\"legendgroup\":\"BOLL(Close,20)\",\"line\":{\"color\":\"rgba(55, 128, 191, 0.8999999999999999)\",\"dash\":\"solid\",\"shape\":\"linear\",\"width\":1.3},\"mode\":\"lines\",\"name\":\"UPPER(Close,20)\",\"showlegend\":false,\"text\":\"\",\"x\":[\"2023-09-20\",\"2023-09-21\",\"2023-09-22\",\"2023-09-25\",\"2023-09-26\",\"2023-09-27\",\"2023-09-28\",\"2023-09-29\",\"2023-10-02\",\"2023-10-03\",\"2023-10-04\",\"2023-10-05\",\"2023-10-06\",\"2023-10-09\",\"2023-10-10\",\"2023-10-11\",\"2023-10-12\",\"2023-10-13\",\"2023-10-16\",\"2023-10-17\",\"2023-10-18\",\"2023-10-19\",\"2023-10-20\",\"2023-10-23\",\"2023-10-24\",\"2023-10-25\",\"2023-10-26\",\"2023-10-27\",\"2023-10-30\",\"2023-10-31\",\"2023-11-01\",\"2023-11-02\",\"2023-11-03\",\"2023-11-06\",\"2023-11-07\",\"2023-11-08\",\"2023-11-09\",\"2023-11-10\",\"2023-11-13\",\"2023-11-14\",\"2023-11-15\",\"2023-11-16\",\"2023-11-17\",\"2023-11-20\",\"2023-11-21\",\"2023-11-22\",\"2023-11-24\",\"2023-11-27\",\"2023-11-28\",\"2023-11-29\",\"2023-11-30\",\"2023-12-01\",\"2023-12-04\",\"2023-12-05\",\"2023-12-06\",\"2023-12-07\",\"2023-12-08\",\"2023-12-11\",\"2023-12-12\",\"2023-12-13\",\"2023-12-14\",\"2023-12-15\",\"2023-12-18\",\"2023-12-19\",\"2023-12-20\",\"2023-12-21\",\"2023-12-22\",\"2023-12-26\",\"2023-12-27\",\"2023-12-28\",\"2023-12-29\",\"2024-01-02\",\"2024-01-03\",\"2024-01-04\",\"2024-01-05\",\"2024-01-08\",\"2024-01-09\",\"2024-01-10\",\"2024-01-11\",\"2024-01-12\",\"2024-01-16\",\"2024-01-17\",\"2024-01-18\",\"2024-01-19\",\"2024-01-22\",\"2024-01-23\",\"2024-01-24\",\"2024-01-25\",\"2024-01-26\",\"2024-01-29\",\"2024-01-30\",\"2024-01-31\",\"2024-02-01\",\"2024-02-02\",\"2024-02-05\",\"2024-02-06\",\"2024-02-07\",\"2024-02-08\",\"2024-02-09\",\"2024-02-12\",\"2024-02-13\",\"2024-02-14\",\"2024-02-15\",\"2024-02-16\",\"2024-02-20\",\"2024-02-21\",\"2024-02-22\",\"2024-02-23\",\"2024-02-26\",\"2024-02-27\",\"2024-02-28\",\"2024-02-29\",\"2024-03-01\",\"2024-03-04\",\"2024-03-05\",\"2024-03-06\",\"2024-03-07\",\"2024-03-08\",\"2024-03-11\",\"2024-03-12\",\"2024-03-13\",\"2024-03-14\",\"2024-03-15\",\"2024-03-18\",\"2024-03-19\",\"2024-03-20\"],\"y\":[\"\",\"\",\"\",\"\",\"\",\"\",\"\",\"\",\"\",\"\",\"\",\"\",\"\",\"\",\"\",\"\",\"\",\"\",\"\",15322.462695576378,15317.475671042228,15316.335614695721,15325.010004891901,15329.872756174935,15319.998628039672,15344.216216570985,15416.435282466602,15456.40382878495,15463.34466222745,15469.073062538522,15465.04551398338,15477.959968277417,15494.001179980205,15509.437456141308,15537.680097889412,15551.053219033176,15551.655755162277,15642.876221322205,15697.005615294605,15829.4234518738,15963.983671401531,16090.56442424651,16200.47249390114,16332.84891383816,16432.98981927693,16509.852487662247,16523.401767276715,16508.200601431276,16489.30541025888,16438.922851353447,16394.51171887302,16375.540435679672,16348.627615732501,16317.879214540584,16290.680644653648,16274.344457386193,16202.465158946827,16222.519126195924,16249.281218384835,16383.132723191044,16476.883435138836,16576.355881270916,16685.44947189914,16800.631393394433,16844.767360380923,16921.9433507784,16991.944230781708,17070.51342791976,17144.363834033407,17203.82370555476,17237.5134920555,17235.65782293167,17202.453062480374,17167.08116863373,17102.818805797786,17075.409363844887,17046.441129734274,17040.17903587086,17046.853354122763,17064.174644947558,17078.51089509811,17083.13477749289,17116.066944652637,17221.69343471942,17319.591493840966,17420.010018789617,17529.278973677752,17624.523170753117,17689.002812432973,17782.916697534714,17846.98705582178,17855.9977051488,17863.867255468027,17888.889173778654,17883.813014808788,17903.80294736993,17945.034300918596,17988.969939172355,18057.83262823276,18091.57162907176,18066.30300858269,18022.176143873978,18010.4388397631,18013.530063221417,18006.505168727184,18003.728916203043,18062.795059601434,18100.640790402715,18128.577902303135,18163.558046224825,18177.379260098114,18154.75559649241,18220.614938229206,18281.04301032125,18282.399818757298,18288.622662937283,18351.775633539874,18362.41661035641,18361.67534281738,18398.1345743362,18397.53594769147,18402.87664133995,18403.509496521,18398.337450795716,18369.65099524042,18300.353186971322],\"yaxis\":\"y2\",\"type\":\"scatter\"},{\"fill\":\"tonexty\",\"fillcolor\":\"rgba(55, 128, 191, 0.1)\",\"legendgroup\":\"BOLL(Close,20)\",\"line\":{\"color\":\"rgba(55, 128, 191, 0.7999999999999998)\",\"dash\":\"solid\",\"shape\":\"linear\",\"width\":1.3},\"mode\":\"lines\",\"name\":\"LOWER(Close,20)\",\"showlegend\":false,\"text\":\"\",\"x\":[\"2023-09-20\",\"2023-09-21\",\"2023-09-22\",\"2023-09-25\",\"2023-09-26\",\"2023-09-27\",\"2023-09-28\",\"2023-09-29\",\"2023-10-02\",\"2023-10-03\",\"2023-10-04\",\"2023-10-05\",\"2023-10-06\",\"2023-10-09\",\"2023-10-10\",\"2023-10-11\",\"2023-10-12\",\"2023-10-13\",\"2023-10-16\",\"2023-10-17\",\"2023-10-18\",\"2023-10-19\",\"2023-10-20\",\"2023-10-23\",\"2023-10-24\",\"2023-10-25\",\"2023-10-26\",\"2023-10-27\",\"2023-10-30\",\"2023-10-31\",\"2023-11-01\",\"2023-11-02\",\"2023-11-03\",\"2023-11-06\",\"2023-11-07\",\"2023-11-08\",\"2023-11-09\",\"2023-11-10\",\"2023-11-13\",\"2023-11-14\",\"2023-11-15\",\"2023-11-16\",\"2023-11-17\",\"2023-11-20\",\"2023-11-21\",\"2023-11-22\",\"2023-11-24\",\"2023-11-27\",\"2023-11-28\",\"2023-11-29\",\"2023-11-30\",\"2023-12-01\",\"2023-12-04\",\"2023-12-05\",\"2023-12-06\",\"2023-12-07\",\"2023-12-08\",\"2023-12-11\",\"2023-12-12\",\"2023-12-13\",\"2023-12-14\",\"2023-12-15\",\"2023-12-18\",\"2023-12-19\",\"2023-12-20\",\"2023-12-21\",\"2023-12-22\",\"2023-12-26\",\"2023-12-27\",\"2023-12-28\",\"2023-12-29\",\"2024-01-02\",\"2024-01-03\",\"2024-01-04\",\"2024-01-05\",\"2024-01-08\",\"2024-01-09\",\"2024-01-10\",\"2024-01-11\",\"2024-01-12\",\"2024-01-16\",\"2024-01-17\",\"2024-01-18\",\"2024-01-19\",\"2024-01-22\",\"2024-01-23\",\"2024-01-24\",\"2024-01-25\",\"2024-01-26\",\"2024-01-29\",\"2024-01-30\",\"2024-01-31\",\"2024-02-01\",\"2024-02-02\",\"2024-02-05\",\"2024-02-06\",\"2024-02-07\",\"2024-02-08\",\"2024-02-09\",\"2024-02-12\",\"2024-02-13\",\"2024-02-14\",\"2024-02-15\",\"2024-02-16\",\"2024-02-20\",\"2024-02-21\",\"2024-02-22\",\"2024-02-23\",\"2024-02-26\",\"2024-02-27\",\"2024-02-28\",\"2024-02-29\",\"2024-03-01\",\"2024-03-04\",\"2024-03-05\",\"2024-03-06\",\"2024-03-07\",\"2024-03-08\",\"2024-03-11\",\"2024-03-12\",\"2024-03-13\",\"2024-03-14\",\"2024-03-15\",\"2024-03-18\",\"2024-03-19\",\"2024-03-20\"],\"y\":[\"\",\"\",\"\",\"\",\"\",\"\",\"\",\"\",\"\",\"\",\"\",\"\",\"\",\"\",\"\",\"\",\"\",\"\",\"\",14422.318359111123,14421.239368020271,14431.268389210529,14408.572026358099,14387.304196950065,14417.18135242908,14373.111713116516,14241.572725345897,14148.12214777755,14090.975259647552,14069.66287496148,14062.55643914162,14069.274992660085,14065.858780957296,14061.200434483691,14049.407792735588,14043.246683310575,14043.024225306473,14005.203759146543,13982.080322205395,13918.708481719952,13874.94025437972,13853.36350544099,13871.166470942611,13881.011047099342,13899.64611822307,13984.758449837756,14158.453115535784,14351.810336068724,14538.197519428622,14746.362011927802,14919.069140501982,15045.84345103908,15146.774239736249,15249.800668271915,15326.202265502603,15413.463452770058,15575.021755115675,15624.228823022824,15684.612726927664,15625.751163527708,15604.065490642412,15583.620974197835,15563.708438257107,15527.005520668068,15544.923557587827,15543.349617971598,15552.887800468292,15565.966650205242,15581.753353466594,15613.380591320241,15667.49676185075,15723.988368474586,15810.075160175877,15885.877034491274,16001.93246373346,16092.07979631136,16180.448909328225,16243.843034441641,16283.833755252239,16293.567542552442,16308.51937833939,16315.178503757108,16307.495164722366,16252.08371371808,16231.80772490903,16196.069278085388,16158.990362259747,16127.599094871885,16114.540351629528,16090.406349340283,16091.414116053218,16141.733544851197,16231.486064844472,16342.536216846347,16478.31823519121,16550.614435442567,16617.0201912689,16672.096467077645,16717.38475457974,16788.61977717824,16890.859296104813,17042.121317063524,17140.2017852369,17174.30860865358,17202.905378147814,17213.15155254696,17204.625252898564,17208.841436159782,17232.136355509363,17234.634336587675,17260.592028964387,17373.876630070088,17403.837210208294,17401.78413811625,17428.910337492704,17467.17147768772,17458.31049927263,17471.197452143588,17470.86664937012,17468.0523397263,17515.456044496026,17530.83331959755,17526.453394104,17561.528369516785,17638.824786009583,17762.21048490368],\"yaxis\":\"y2\",\"type\":\"scatter\"},{\"close\":[14969.919921875,14694.240234375,14701.099609375,14768.900390625,14545.830078125,14580.16015625,14702.76953125,14715.240234375,14837.5703125,14565.6201171875,14776.25,14723.2197265625,14973.240234375,15047.150390625,15131.51953125,15241.1201171875,15184.099609375,14995.1201171875,15172.73046875,15122.009765625,14909.259765625,14783.1298828125,14560.8798828125,14604.849609375,14745.8603515625,14381.6396484375,14109.5703125,14180.419921875,14335.509765625,14409.7802734375,14664.91015625,14919.5498046875,15099.490234375,15154.9296875,15296.01953125,15313.240234375,15187.900390625,15529.1201171875,15482.7900390625,15812.4697265625,15817.1796875,15833.169921875,15837.990234375,16027.0595703125,15933.6201171875,16001.3896484375,15982.009765625,15961.98046875,16010.4296875,15987.599609375,15947.8701171875,15997.580078125,15839.669921875,15877.7099609375,15788.0498046875,16022.490234375,16084.6904296875,16221.73046875,16354.25,16562.369140625,16537.830078125,16623.44921875,16729.80078125,16811.849609375,16554.16015625,16757.41015625,16777.400390625,16878.4609375,16906.80078125,16898.470703125,16825.9296875,16543.939453125,16368.490234375,16282.009765625,16305.98046875,16649.869140625,16678.69921875,16793.05078125,16820.900390625,16832.919921875,16830.7109375,16736.279296875,16982.2890625,17314.0,17330.380859375,17404.2109375,17499.30078125,17516.990234375,17421.009765625,17596.26953125,17476.7109375,17137.240234375,17344.7109375,17642.73046875,17613.0390625,17572.73046875,17755.0703125,17783.169921875,17962.41015625,17882.66015625,17600.419921875,17807.630859375,17845.720703125,17685.98046875,17546.099609375,17478.91015625,18004.69921875,17937.609375,17933.330078125,17971.05078125,17874.5,18043.849609375,18302.91015625,18226.48046875,17897.869140625,18017.5703125,18297.990234375,18018.44921875,17951.689453125,18219.109375,18068.470703125,18014.810546875,17808.25,17985.009765625,18032.19921875,18019.7890625],\"decreasing\":{\"line\":{\"color\":\"#000000\"}},\"high\":[15245.1904296875,14849.25,14855.919921875,14771.1201171875,14678.48046875,14657.2099609375,14787.580078125,14901.849609375,14892.1796875,14819.8701171875,14803.0400390625,14784.6904296875,15021.3798828125,15070.6396484375,15241.9404296875,15248.2197265625,15333.98046875,15232.3701171875,15209.5,15187.0595703125,15103.8701171875,15023.91015625,14781.2197265625,14746.3701171875,14774.16015625,14643.6904296875,14372.509765625,14321.0400390625,14388.2001953125,14420.4404296875,14677.8603515625,14930.759765625,15149.7802734375,15180.1904296875,15335.4404296875,15343.1904296875,15382.1103515625,15535.2001953125,15524.66015625,15850.33984375,15904.6298828125,15842.6298828125,15876.8701171875,16056.759765625,15968.08984375,16119.3095703125,16007.4296875,16045.2998046875,16031.51953125,16166.509765625,16013.48046875,16013.75,15852.4501953125,15931.83984375,15990.9404296875,16042.509765625,16100.8603515625,16232.259765625,16354.25,16581.0390625,16660.7109375,16669.76953125,16764.3203125,16813.009765625,16860.6796875,16768.01953125,16839.25,16907.509765625,16922.009765625,16969.169921875,16919.509765625,16686.599609375,16471.080078125,16419.439453125,16415.390625,16655.23046875,16710.880859375,16827.369140625,16898.16015625,16900.369140625,16895.330078125,16749.109375,16996.98046875,17317.2109375,17450.30078125,17410.859375,17665.259765625,17631.33984375,17514.759765625,17603.94921875,17578.4609375,17375.3203125,17356.759765625,17682.2890625,17655.76953125,17680.619140625,17784.169921875,17814.119140625,17987.900390625,18041.44921875,17717.669921875,17815.1796875,17864.58984375,17864.16015625,17657.080078125,17482.130859375,18034.80078125,18091.619140625,18014.109375,17987.5390625,17931.009765625,18068.51953125,18333.259765625,18313.4296875,18097.5,18142.880859375,18337.94921875,18416.73046875,18003.05078125,18228.369140625,18163.740234375,18142.900390625,17930.470703125,18124.3203125,18039.8203125,18087.099609375],\"increasing\":{\"line\":{\"color\":\"#ff0000\"}},\"low\":[14967.599609375,14691.6904296875,14686.83984375,14615.4501953125,14505.6796875,14432.599609375,14510.169921875,14664.7802734375,14701.51953125,14504.1396484375,14592.5595703125,14584.3896484375,14575.9501953125,14816.3203125,15050.5400390625,15119.6201171875,15090.6904296875,14943.419921875,15047.26953125,14932.76953125,14865.8095703125,14749.2998046875,14552.1201171875,14419.0595703125,14610.330078125,14362.240234375,14058.330078125,14130.3701171875,14225.8603515625,14232.400390625,14441.8896484375,14792.8095703125,14965.2900390625,15064.91015625,15153.3095703125,15220.8798828125,15171.3203125,15237.169921875,15404.7099609375,15726.1201171875,15765.3095703125,15738.2197265625,15766.9404296875,15844.830078125,15866.8203125,15964.0400390625,15940.6201171875,15932.1904296875,15921.0703125,15976.6904296875,15825.669921875,15834.9296875,15695.580078125,15760.58984375,15776.9501953125,15875.48046875,15937.580078125,16061.8701171875,16175.4599609375,16357.2099609375,16419.259765625,16557.009765625,16629.2890625,16733.380859375,16552.060546875,16621.51953125,16703.5703125,16813.5703125,16859.55078125,16891.3203125,16757.890625,16453.150390625,16352.1396484375,16276.4296875,16249.1904296875,16349.3896484375,16513.73046875,16654.740234375,16618.859375,16776.919921875,16726.58984375,16561.490234375,16818.130859375,17041.849609375,17309.869140625,17286.01953125,17481.970703125,17430.369140625,17395.5390625,17414.619140625,17443.76953125,17128.740234375,17175.830078125,17378.369140625,17469.619140625,17475.4296875,17637.73046875,17728.55078125,17798.810546875,17859.66015625,17478.23046875,17619.919921875,17722.310546875,17663.400390625,17399.41015625,17319.439453125,17808.259765625,17902.779296875,17926.66015625,17871.060546875,17840.359375,17866.259765625,18064.439453125,18218.25,17804.5,17941.640625,18101.4296875,17995.380859375,17873.330078125,17919.330078125,18030.400390625,17913.630859375,17764.990234375,17973.08984375,17809.150390625,18005.0],\"name\":\"\\u65e5K\\u7dda\\u5716\",\"open\":[15225.33984375,14813.490234375,14756.6201171875,14662.6904296875,14668.4501953125,14600.1396484375,14530.9599609375,14853.349609375,14717.900390625,14744.0498046875,14613.23046875,14769.5498046875,14622.23046875,14871.5703125,15074.0400390625,15194.5302734375,15264.1103515625,15225.73046875,15054.48046875,15009.259765625,15022.2802734375,14981.1298828125,14752.58984375,14514.1103515625,14678.41015625,14642.080078125,14314.009765625,14245.75,14283.98046875,14340.8603515625,14453.6796875,14856.9501953125,14985.1201171875,15137.16015625,15201.76953125,15313.900390625,15351.1201171875,15252.3603515625,15469.2099609375,15744.3603515625,15881.7197265625,15765.2001953125,15803.98046875,15845.2001953125,15951.5498046875,16025.740234375,15974.849609375,15969.7197265625,15940.2900390625,16111.3603515625,15987.66015625,15892.58984375,15837.1201171875,15763.650390625,15990.2001953125,15888.23046875,15952.849609375,16069.6201171875,16209.6103515625,16392.1796875,16603.5390625,16587.0,16631.109375,16734.25,16763.640625,16719.609375,16799.01953125,16816.779296875,16896.140625,16963.51953125,16902.439453125,16667.30078125,16413.259765625,16290.7802734375,16281.740234375,16354.2197265625,16531.9609375,16702.55078125,16852.189453125,16855.0,16775.099609375,16705.509765625,16894.330078125,17060.140625,17403.619140625,17346.94921875,17562.3203125,17589.26953125,17432.869140625,17438.029296875,17556.490234375,17269.98046875,17216.990234375,17415.939453125,17634.689453125,17664.439453125,17674.58984375,17757.599609375,17820.98046875,17942.279296875,17519.80078125,17728.900390625,17815.3203125,17853.58984375,17591.169921875,17412.7890625,17857.759765625,18052.58984375,17970.2109375,17962.580078125,17895.029296875,17991.669921875,18069.2890625,18290.099609375,18088.7109375,18083.509765625,18161.73046875,18312.7890625,17959.6796875,18063.01953125,18151.759765625,18114.689453125,17926.919921875,18024.240234375,17902.51953125,18067.69921875],\"showlegend\":true,\"x\":[\"2023-09-20\",\"2023-09-21\",\"2023-09-22\",\"2023-09-25\",\"2023-09-26\",\"2023-09-27\",\"2023-09-28\",\"2023-09-29\",\"2023-10-02\",\"2023-10-03\",\"2023-10-04\",\"2023-10-05\",\"2023-10-06\",\"2023-10-09\",\"2023-10-10\",\"2023-10-11\",\"2023-10-12\",\"2023-10-13\",\"2023-10-16\",\"2023-10-17\",\"2023-10-18\",\"2023-10-19\",\"2023-10-20\",\"2023-10-23\",\"2023-10-24\",\"2023-10-25\",\"2023-10-26\",\"2023-10-27\",\"2023-10-30\",\"2023-10-31\",\"2023-11-01\",\"2023-11-02\",\"2023-11-03\",\"2023-11-06\",\"2023-11-07\",\"2023-11-08\",\"2023-11-09\",\"2023-11-10\",\"2023-11-13\",\"2023-11-14\",\"2023-11-15\",\"2023-11-16\",\"2023-11-17\",\"2023-11-20\",\"2023-11-21\",\"2023-11-22\",\"2023-11-24\",\"2023-11-27\",\"2023-11-28\",\"2023-11-29\",\"2023-11-30\",\"2023-12-01\",\"2023-12-04\",\"2023-12-05\",\"2023-12-06\",\"2023-12-07\",\"2023-12-08\",\"2023-12-11\",\"2023-12-12\",\"2023-12-13\",\"2023-12-14\",\"2023-12-15\",\"2023-12-18\",\"2023-12-19\",\"2023-12-20\",\"2023-12-21\",\"2023-12-22\",\"2023-12-26\",\"2023-12-27\",\"2023-12-28\",\"2023-12-29\",\"2024-01-02\",\"2024-01-03\",\"2024-01-04\",\"2024-01-05\",\"2024-01-08\",\"2024-01-09\",\"2024-01-10\",\"2024-01-11\",\"2024-01-12\",\"2024-01-16\",\"2024-01-17\",\"2024-01-18\",\"2024-01-19\",\"2024-01-22\",\"2024-01-23\",\"2024-01-24\",\"2024-01-25\",\"2024-01-26\",\"2024-01-29\",\"2024-01-30\",\"2024-01-31\",\"2024-02-01\",\"2024-02-02\",\"2024-02-05\",\"2024-02-06\",\"2024-02-07\",\"2024-02-08\",\"2024-02-09\",\"2024-02-12\",\"2024-02-13\",\"2024-02-14\",\"2024-02-15\",\"2024-02-16\",\"2024-02-20\",\"2024-02-21\",\"2024-02-22\",\"2024-02-23\",\"2024-02-26\",\"2024-02-27\",\"2024-02-28\",\"2024-02-29\",\"2024-03-01\",\"2024-03-04\",\"2024-03-05\",\"2024-03-06\",\"2024-03-07\",\"2024-03-08\",\"2024-03-11\",\"2024-03-12\",\"2024-03-13\",\"2024-03-14\",\"2024-03-15\",\"2024-03-18\",\"2024-03-19\",\"2024-03-20\"],\"yaxis\":\"y2\",\"type\":\"candlestick\"}],                        {\"legend\":{\"bgcolor\":\"#F5F6F9\",\"font\":{\"color\":\"#4D5663\"},\"orientation\":\"h\",\"x\":0.3,\"y\":0.95,\"yanchor\":\"bottom\"},\"margin\":{\"b\":30,\"l\":30,\"r\":30,\"t\":30},\"paper_bgcolor\":\"#F5F6F9\",\"plot_bgcolor\":\"#F5F6F9\",\"showlegend\":true,\"template\":{\"data\":{\"barpolar\":[{\"marker\":{\"line\":{\"color\":\"#E5ECF6\",\"width\":0.5},\"pattern\":{\"fillmode\":\"overlay\",\"size\":10,\"solidity\":0.2}},\"type\":\"barpolar\"}],\"bar\":[{\"error_x\":{\"color\":\"#2a3f5f\"},\"error_y\":{\"color\":\"#2a3f5f\"},\"marker\":{\"line\":{\"color\":\"#E5ECF6\",\"width\":0.5},\"pattern\":{\"fillmode\":\"overlay\",\"size\":10,\"solidity\":0.2}},\"type\":\"bar\"}],\"carpet\":[{\"aaxis\":{\"endlinecolor\":\"#2a3f5f\",\"gridcolor\":\"white\",\"linecolor\":\"white\",\"minorgridcolor\":\"white\",\"startlinecolor\":\"#2a3f5f\"},\"baxis\":{\"endlinecolor\":\"#2a3f5f\",\"gridcolor\":\"white\",\"linecolor\":\"white\",\"minorgridcolor\":\"white\",\"startlinecolor\":\"#2a3f5f\"},\"type\":\"carpet\"}],\"choropleth\":[{\"colorbar\":{\"outlinewidth\":0,\"ticks\":\"\"},\"type\":\"choropleth\"}],\"contourcarpet\":[{\"colorbar\":{\"outlinewidth\":0,\"ticks\":\"\"},\"type\":\"contourcarpet\"}],\"contour\":[{\"colorbar\":{\"outlinewidth\":0,\"ticks\":\"\"},\"colorscale\":[[0.0,\"#0d0887\"],[0.1111111111111111,\"#46039f\"],[0.2222222222222222,\"#7201a8\"],[0.3333333333333333,\"#9c179e\"],[0.4444444444444444,\"#bd3786\"],[0.5555555555555556,\"#d8576b\"],[0.6666666666666666,\"#ed7953\"],[0.7777777777777778,\"#fb9f3a\"],[0.8888888888888888,\"#fdca26\"],[1.0,\"#f0f921\"]],\"type\":\"contour\"}],\"heatmapgl\":[{\"colorbar\":{\"outlinewidth\":0,\"ticks\":\"\"},\"colorscale\":[[0.0,\"#0d0887\"],[0.1111111111111111,\"#46039f\"],[0.2222222222222222,\"#7201a8\"],[0.3333333333333333,\"#9c179e\"],[0.4444444444444444,\"#bd3786\"],[0.5555555555555556,\"#d8576b\"],[0.6666666666666666,\"#ed7953\"],[0.7777777777777778,\"#fb9f3a\"],[0.8888888888888888,\"#fdca26\"],[1.0,\"#f0f921\"]],\"type\":\"heatmapgl\"}],\"heatmap\":[{\"colorbar\":{\"outlinewidth\":0,\"ticks\":\"\"},\"colorscale\":[[0.0,\"#0d0887\"],[0.1111111111111111,\"#46039f\"],[0.2222222222222222,\"#7201a8\"],[0.3333333333333333,\"#9c179e\"],[0.4444444444444444,\"#bd3786\"],[0.5555555555555556,\"#d8576b\"],[0.6666666666666666,\"#ed7953\"],[0.7777777777777778,\"#fb9f3a\"],[0.8888888888888888,\"#fdca26\"],[1.0,\"#f0f921\"]],\"type\":\"heatmap\"}],\"histogram2dcontour\":[{\"colorbar\":{\"outlinewidth\":0,\"ticks\":\"\"},\"colorscale\":[[0.0,\"#0d0887\"],[0.1111111111111111,\"#46039f\"],[0.2222222222222222,\"#7201a8\"],[0.3333333333333333,\"#9c179e\"],[0.4444444444444444,\"#bd3786\"],[0.5555555555555556,\"#d8576b\"],[0.6666666666666666,\"#ed7953\"],[0.7777777777777778,\"#fb9f3a\"],[0.8888888888888888,\"#fdca26\"],[1.0,\"#f0f921\"]],\"type\":\"histogram2dcontour\"}],\"histogram2d\":[{\"colorbar\":{\"outlinewidth\":0,\"ticks\":\"\"},\"colorscale\":[[0.0,\"#0d0887\"],[0.1111111111111111,\"#46039f\"],[0.2222222222222222,\"#7201a8\"],[0.3333333333333333,\"#9c179e\"],[0.4444444444444444,\"#bd3786\"],[0.5555555555555556,\"#d8576b\"],[0.6666666666666666,\"#ed7953\"],[0.7777777777777778,\"#fb9f3a\"],[0.8888888888888888,\"#fdca26\"],[1.0,\"#f0f921\"]],\"type\":\"histogram2d\"}],\"histogram\":[{\"marker\":{\"pattern\":{\"fillmode\":\"overlay\",\"size\":10,\"solidity\":0.2}},\"type\":\"histogram\"}],\"mesh3d\":[{\"colorbar\":{\"outlinewidth\":0,\"ticks\":\"\"},\"type\":\"mesh3d\"}],\"parcoords\":[{\"line\":{\"colorbar\":{\"outlinewidth\":0,\"ticks\":\"\"}},\"type\":\"parcoords\"}],\"pie\":[{\"automargin\":true,\"type\":\"pie\"}],\"scatter3d\":[{\"line\":{\"colorbar\":{\"outlinewidth\":0,\"ticks\":\"\"}},\"marker\":{\"colorbar\":{\"outlinewidth\":0,\"ticks\":\"\"}},\"type\":\"scatter3d\"}],\"scattercarpet\":[{\"marker\":{\"colorbar\":{\"outlinewidth\":0,\"ticks\":\"\"}},\"type\":\"scattercarpet\"}],\"scattergeo\":[{\"marker\":{\"colorbar\":{\"outlinewidth\":0,\"ticks\":\"\"}},\"type\":\"scattergeo\"}],\"scattergl\":[{\"marker\":{\"colorbar\":{\"outlinewidth\":0,\"ticks\":\"\"}},\"type\":\"scattergl\"}],\"scattermapbox\":[{\"marker\":{\"colorbar\":{\"outlinewidth\":0,\"ticks\":\"\"}},\"type\":\"scattermapbox\"}],\"scatterpolargl\":[{\"marker\":{\"colorbar\":{\"outlinewidth\":0,\"ticks\":\"\"}},\"type\":\"scatterpolargl\"}],\"scatterpolar\":[{\"marker\":{\"colorbar\":{\"outlinewidth\":0,\"ticks\":\"\"}},\"type\":\"scatterpolar\"}],\"scatter\":[{\"fillpattern\":{\"fillmode\":\"overlay\",\"size\":10,\"solidity\":0.2},\"type\":\"scatter\"}],\"scatterternary\":[{\"marker\":{\"colorbar\":{\"outlinewidth\":0,\"ticks\":\"\"}},\"type\":\"scatterternary\"}],\"surface\":[{\"colorbar\":{\"outlinewidth\":0,\"ticks\":\"\"},\"colorscale\":[[0.0,\"#0d0887\"],[0.1111111111111111,\"#46039f\"],[0.2222222222222222,\"#7201a8\"],[0.3333333333333333,\"#9c179e\"],[0.4444444444444444,\"#bd3786\"],[0.5555555555555556,\"#d8576b\"],[0.6666666666666666,\"#ed7953\"],[0.7777777777777778,\"#fb9f3a\"],[0.8888888888888888,\"#fdca26\"],[1.0,\"#f0f921\"]],\"type\":\"surface\"}],\"table\":[{\"cells\":{\"fill\":{\"color\":\"#EBF0F8\"},\"line\":{\"color\":\"white\"}},\"header\":{\"fill\":{\"color\":\"#C8D4E3\"},\"line\":{\"color\":\"white\"}},\"type\":\"table\"}]},\"layout\":{\"annotationdefaults\":{\"arrowcolor\":\"#2a3f5f\",\"arrowhead\":0,\"arrowwidth\":1},\"autotypenumbers\":\"strict\",\"coloraxis\":{\"colorbar\":{\"outlinewidth\":0,\"ticks\":\"\"}},\"colorscale\":{\"diverging\":[[0,\"#8e0152\"],[0.1,\"#c51b7d\"],[0.2,\"#de77ae\"],[0.3,\"#f1b6da\"],[0.4,\"#fde0ef\"],[0.5,\"#f7f7f7\"],[0.6,\"#e6f5d0\"],[0.7,\"#b8e186\"],[0.8,\"#7fbc41\"],[0.9,\"#4d9221\"],[1,\"#276419\"]],\"sequential\":[[0.0,\"#0d0887\"],[0.1111111111111111,\"#46039f\"],[0.2222222222222222,\"#7201a8\"],[0.3333333333333333,\"#9c179e\"],[0.4444444444444444,\"#bd3786\"],[0.5555555555555556,\"#d8576b\"],[0.6666666666666666,\"#ed7953\"],[0.7777777777777778,\"#fb9f3a\"],[0.8888888888888888,\"#fdca26\"],[1.0,\"#f0f921\"]],\"sequentialminus\":[[0.0,\"#0d0887\"],[0.1111111111111111,\"#46039f\"],[0.2222222222222222,\"#7201a8\"],[0.3333333333333333,\"#9c179e\"],[0.4444444444444444,\"#bd3786\"],[0.5555555555555556,\"#d8576b\"],[0.6666666666666666,\"#ed7953\"],[0.7777777777777778,\"#fb9f3a\"],[0.8888888888888888,\"#fdca26\"],[1.0,\"#f0f921\"]]},\"colorway\":[\"#636efa\",\"#EF553B\",\"#00cc96\",\"#ab63fa\",\"#FFA15A\",\"#19d3f3\",\"#FF6692\",\"#B6E880\",\"#FF97FF\",\"#FECB52\"],\"font\":{\"color\":\"#2a3f5f\"},\"geo\":{\"bgcolor\":\"white\",\"lakecolor\":\"white\",\"landcolor\":\"#E5ECF6\",\"showlakes\":true,\"showland\":true,\"subunitcolor\":\"white\"},\"hoverlabel\":{\"align\":\"left\"},\"hovermode\":\"closest\",\"mapbox\":{\"style\":\"light\"},\"paper_bgcolor\":\"white\",\"plot_bgcolor\":\"#E5ECF6\",\"polar\":{\"angularaxis\":{\"gridcolor\":\"white\",\"linecolor\":\"white\",\"ticks\":\"\"},\"bgcolor\":\"#E5ECF6\",\"radialaxis\":{\"gridcolor\":\"white\",\"linecolor\":\"white\",\"ticks\":\"\"}},\"scene\":{\"xaxis\":{\"backgroundcolor\":\"#E5ECF6\",\"gridcolor\":\"white\",\"gridwidth\":2,\"linecolor\":\"white\",\"showbackground\":true,\"ticks\":\"\",\"zerolinecolor\":\"white\"},\"yaxis\":{\"backgroundcolor\":\"#E5ECF6\",\"gridcolor\":\"white\",\"gridwidth\":2,\"linecolor\":\"white\",\"showbackground\":true,\"ticks\":\"\",\"zerolinecolor\":\"white\"},\"zaxis\":{\"backgroundcolor\":\"#E5ECF6\",\"gridcolor\":\"white\",\"gridwidth\":2,\"linecolor\":\"white\",\"showbackground\":true,\"ticks\":\"\",\"zerolinecolor\":\"white\"}},\"shapedefaults\":{\"line\":{\"color\":\"#2a3f5f\"}},\"ternary\":{\"aaxis\":{\"gridcolor\":\"white\",\"linecolor\":\"white\",\"ticks\":\"\"},\"baxis\":{\"gridcolor\":\"white\",\"linecolor\":\"white\",\"ticks\":\"\"},\"bgcolor\":\"#E5ECF6\",\"caxis\":{\"gridcolor\":\"white\",\"linecolor\":\"white\",\"ticks\":\"\"}},\"title\":{\"x\":0.05},\"xaxis\":{\"automargin\":true,\"gridcolor\":\"white\",\"linecolor\":\"white\",\"ticks\":\"\",\"title\":{\"standoff\":15},\"zerolinecolor\":\"white\",\"zerolinewidth\":2},\"yaxis\":{\"automargin\":true,\"gridcolor\":\"white\",\"linecolor\":\"white\",\"ticks\":\"\",\"title\":{\"standoff\":15},\"zerolinecolor\":\"white\",\"zerolinewidth\":2}}},\"title\":{\"font\":{\"color\":\"#4D5663\"},\"text\":\"^NDX\"},\"xaxis\":{\"anchor\":\"y2\",\"gridcolor\":\"#E1E5ED\",\"rangeselector\":{\"bgcolor\":\"rgba(150, 200, 250, 1)\",\"buttons\":[{\"count\":1,\"label\":\"1m\",\"step\":\"month\",\"stepmode\":\"backward\"},{\"count\":1,\"label\":\"1y\",\"step\":\"year\",\"stepmode\":\"backward\"}],\"font\":{\"size\":13},\"visible\":false,\"x\":0,\"y\":0.9},\"rangeslider\":{\"visible\":false},\"showgrid\":true,\"tickfont\":{\"color\":\"#4D5663\"},\"title\":{\"font\":{\"color\":\"#4D5663\"},\"text\":\"\"},\"zerolinecolor\":\"#E1E5ED\"},\"yaxis\":{\"gridcolor\":\"#E1E5ED\",\"showgrid\":true,\"showticklabels\":false,\"tickfont\":{\"color\":\"#4D5663\"},\"title\":{\"font\":{\"color\":\"#4D5663\"},\"text\":\"\"},\"zerolinecolor\":\"#E1E5ED\"},\"yaxis3\":{\"domain\":[0.23,0.38],\"gridcolor\":\"#E1E5ED\",\"showgrid\":true,\"tickfont\":{\"color\":\"#4D5663\"},\"title\":{\"font\":{\"color\":\"#4D5663\"},\"text\":\"\"},\"zerolinecolor\":\"#E1E5ED\"},\"yaxis4\":{\"domain\":[0.0,0.15],\"gridcolor\":\"#E1E5ED\",\"showgrid\":true,\"tickfont\":{\"color\":\"#4D5663\"},\"title\":{\"font\":{\"color\":\"#4D5663\"},\"text\":\"\"},\"zerolinecolor\":\"#E1E5ED\"},\"yaxis2\":{\"domain\":[0.46,0.9],\"gridcolor\":\"#E1E5ED\",\"showgrid\":true,\"tickfont\":{\"color\":\"#4D5663\"},\"title\":{\"font\":{\"color\":\"#4D5663\"},\"text\":\"\"},\"zerolinecolor\":\"#E1E5ED\"}},                        {\"showLink\": true, \"linkText\": \"Export to plot.ly\", \"plotlyServerURL\": \"https://plot.ly\", \"responsive\": true}                    ).then(function(){\n",
       "                            \n",
       "var gd = document.getElementById('29835363-487e-4524-aaf5-70daaf37c371');\n",
       "var x = new MutationObserver(function (mutations, observer) {{\n",
       "        var display = window.getComputedStyle(gd).display;\n",
       "        if (!display || display === 'none') {{\n",
       "            console.log([gd, 'removed!']);\n",
       "            Plotly.purge(gd);\n",
       "            observer.disconnect();\n",
       "        }}\n",
       "}});\n",
       "\n",
       "// Listen for the removal of the full notebook cells\n",
       "var notebookContainer = gd.closest('#notebook-container');\n",
       "if (notebookContainer) {{\n",
       "    x.observe(notebookContainer, {childList: true});\n",
       "}}\n",
       "\n",
       "// Listen for the clearing of the current output cell\n",
       "var outputEl = gd.closest('.output');\n",
       "if (outputEl) {{\n",
       "    x.observe(outputEl, {childList: true});\n",
       "}}\n",
       "\n",
       "                        })                };                });            </script>        </div>"
      ]
     },
     "metadata": {},
     "output_type": "display_data"
    }
   ],
   "source": [
    "qf.add_bollinger_bands(periods=20, boll_std=2)\n",
    "qf.figure(up_color='#ff0000',down_color='#000000').iplot()"
   ]
  },
  {
   "cell_type": "code",
   "execution_count": 34,
   "metadata": {},
   "outputs": [
    {
     "data": {
      "application/vnd.plotly.v1+json": {
       "config": {
        "linkText": "Export to plot.ly",
        "plotlyServerURL": "https://plot.ly",
        "showLink": true
       },
       "data": [
        {
         "line": {
          "color": "rgba(55, 128, 191, 1.0)",
          "dash": "solid",
          "shape": "linear",
          "width": 1.3
         },
         "mode": "lines",
         "name": "ADX(14)",
         "text": "",
         "type": "scatter",
         "x": [
          "2023-09-20",
          "2023-09-21",
          "2023-09-22",
          "2023-09-25",
          "2023-09-26",
          "2023-09-27",
          "2023-09-28",
          "2023-09-29",
          "2023-10-02",
          "2023-10-03",
          "2023-10-04",
          "2023-10-05",
          "2023-10-06",
          "2023-10-09",
          "2023-10-10",
          "2023-10-11",
          "2023-10-12",
          "2023-10-13",
          "2023-10-16",
          "2023-10-17",
          "2023-10-18",
          "2023-10-19",
          "2023-10-20",
          "2023-10-23",
          "2023-10-24",
          "2023-10-25",
          "2023-10-26",
          "2023-10-27",
          "2023-10-30",
          "2023-10-31",
          "2023-11-01",
          "2023-11-02",
          "2023-11-03",
          "2023-11-06",
          "2023-11-07",
          "2023-11-08",
          "2023-11-09",
          "2023-11-10",
          "2023-11-13",
          "2023-11-14",
          "2023-11-15",
          "2023-11-16",
          "2023-11-17",
          "2023-11-20",
          "2023-11-21",
          "2023-11-22",
          "2023-11-24",
          "2023-11-27",
          "2023-11-28",
          "2023-11-29",
          "2023-11-30",
          "2023-12-01",
          "2023-12-04",
          "2023-12-05",
          "2023-12-06",
          "2023-12-07",
          "2023-12-08",
          "2023-12-11",
          "2023-12-12",
          "2023-12-13",
          "2023-12-14",
          "2023-12-15",
          "2023-12-18",
          "2023-12-19",
          "2023-12-20",
          "2023-12-21",
          "2023-12-22",
          "2023-12-26",
          "2023-12-27",
          "2023-12-28",
          "2023-12-29",
          "2024-01-02",
          "2024-01-03",
          "2024-01-04",
          "2024-01-05",
          "2024-01-08",
          "2024-01-09",
          "2024-01-10",
          "2024-01-11",
          "2024-01-12",
          "2024-01-16",
          "2024-01-17",
          "2024-01-18",
          "2024-01-19",
          "2024-01-22",
          "2024-01-23",
          "2024-01-24",
          "2024-01-25",
          "2024-01-26",
          "2024-01-29",
          "2024-01-30",
          "2024-01-31",
          "2024-02-01",
          "2024-02-02",
          "2024-02-05",
          "2024-02-06",
          "2024-02-07",
          "2024-02-08",
          "2024-02-09",
          "2024-02-12",
          "2024-02-13",
          "2024-02-14",
          "2024-02-15",
          "2024-02-16",
          "2024-02-20",
          "2024-02-21",
          "2024-02-22",
          "2024-02-23",
          "2024-02-26",
          "2024-02-27",
          "2024-02-28",
          "2024-02-29",
          "2024-03-01",
          "2024-03-04",
          "2024-03-05",
          "2024-03-06",
          "2024-03-07",
          "2024-03-08",
          "2024-03-11",
          "2024-03-12",
          "2024-03-13",
          "2024-03-14",
          "2024-03-15",
          "2024-03-18",
          "2024-03-19",
          "2024-03-20"
         ],
         "y": [
          "",
          "",
          "",
          "",
          "",
          "",
          "",
          "",
          "",
          "",
          "",
          "",
          "",
          "",
          "",
          "",
          "",
          "",
          "",
          "",
          "",
          "",
          "",
          "",
          "",
          "",
          "",
          25.897812057232162,
          27.712584685870286,
          29.16041583866366,
          28.826035136810493,
          27.236398664423234,
          25.722115291638733,
          24.432656147415724,
          23.81057032401925,
          23.26101597611174,
          22.492420861852597,
          22.36542737111636,
          22.24750484400414,
          23.203000333514524,
          24.24041141982362,
          25.03406048733093,
          25.87693604672643,
          27.177864281592033,
          28.385869071110086,
          29.909773992843956,
          31.14816539782678,
          32.4034634215163,
          33.47598781093304,
          34.858015153270465,
          34.93828213023001,
          35.01378416025013,
          34.05929916964578,
          33.51314223428399,
          33.25022027873634,
          33.2157549830933,
          33.41668664564126,
          34.08419005530599,
          35.09327698322313,
          36.62252802959701,
          38.219988033110475,
          39.72368740116925,
          41.33062355966944,
          42.92695339270979,
          42.84184266321337,
          42.762811271538126,
          42.92899682487532,
          43.3032537432317,
          43.69766979814757,
          44.21918814832442,
          43.467449229222034,
          40.66958603339861,
          37.999845118569226,
          35.90407379421028,
          34.095311934152534,
          32.21816552441141,
          30.737904323788293,
          29.885202569898333,
          29.390672377290905,
          28.940926947931846,
          28.167387856178845,
          26.39359652298643,
          25.908216495684133,
          26.54685649872352,
          27.504045921606803,
          28.24414899129776,
          29.57916532520661,
          30.49454636162773,
          31.12112606741864,
          31.950722162202066,
          32.72106139307239,
          31.503253946945286,
          30.372432746970123,
          30.437663045697654,
          30.498234037373216,
          30.633636605650207,
          31.085283300175043,
          31.59738241690419,
          32.57564556714453,
          33.62645924240123,
          32.30347213597924,
          31.419063529735354,
          30.769617271553734,
          29.84212216025577,
          27.718694244146665,
          26.083936530438205,
          25.82328625850555,
          25.73633476963848,
          25.655594101404766,
          25.306588583522792,
          24.82741329335173,
          24.84647665934778,
          25.623775249589723,
          26.345552511957244,
          25.03160199668554,
          23.966699453221285,
          23.6102231653409,
          22.815837266108264,
          21.569566903156105,
          21.167906983578682,
          20.794937058256785,
          19.927211193295644,
          18.504914351522046,
          17.901108851319695,
          16.681971530886024,
          15.72952027988357
         ],
         "yaxis": "y3"
        },
        {
         "line": {
          "color": "rgba(0, 128, 0, 1.0)",
          "dash": "solid",
          "shape": "linear",
          "width": 1.3
         },
         "mode": "lines",
         "name": "DI+(14)",
         "text": "",
         "type": "scatter",
         "x": [
          "2023-09-20",
          "2023-09-21",
          "2023-09-22",
          "2023-09-25",
          "2023-09-26",
          "2023-09-27",
          "2023-09-28",
          "2023-09-29",
          "2023-10-02",
          "2023-10-03",
          "2023-10-04",
          "2023-10-05",
          "2023-10-06",
          "2023-10-09",
          "2023-10-10",
          "2023-10-11",
          "2023-10-12",
          "2023-10-13",
          "2023-10-16",
          "2023-10-17",
          "2023-10-18",
          "2023-10-19",
          "2023-10-20",
          "2023-10-23",
          "2023-10-24",
          "2023-10-25",
          "2023-10-26",
          "2023-10-27",
          "2023-10-30",
          "2023-10-31",
          "2023-11-01",
          "2023-11-02",
          "2023-11-03",
          "2023-11-06",
          "2023-11-07",
          "2023-11-08",
          "2023-11-09",
          "2023-11-10",
          "2023-11-13",
          "2023-11-14",
          "2023-11-15",
          "2023-11-16",
          "2023-11-17",
          "2023-11-20",
          "2023-11-21",
          "2023-11-22",
          "2023-11-24",
          "2023-11-27",
          "2023-11-28",
          "2023-11-29",
          "2023-11-30",
          "2023-12-01",
          "2023-12-04",
          "2023-12-05",
          "2023-12-06",
          "2023-12-07",
          "2023-12-08",
          "2023-12-11",
          "2023-12-12",
          "2023-12-13",
          "2023-12-14",
          "2023-12-15",
          "2023-12-18",
          "2023-12-19",
          "2023-12-20",
          "2023-12-21",
          "2023-12-22",
          "2023-12-26",
          "2023-12-27",
          "2023-12-28",
          "2023-12-29",
          "2024-01-02",
          "2024-01-03",
          "2024-01-04",
          "2024-01-05",
          "2024-01-08",
          "2024-01-09",
          "2024-01-10",
          "2024-01-11",
          "2024-01-12",
          "2024-01-16",
          "2024-01-17",
          "2024-01-18",
          "2024-01-19",
          "2024-01-22",
          "2024-01-23",
          "2024-01-24",
          "2024-01-25",
          "2024-01-26",
          "2024-01-29",
          "2024-01-30",
          "2024-01-31",
          "2024-02-01",
          "2024-02-02",
          "2024-02-05",
          "2024-02-06",
          "2024-02-07",
          "2024-02-08",
          "2024-02-09",
          "2024-02-12",
          "2024-02-13",
          "2024-02-14",
          "2024-02-15",
          "2024-02-16",
          "2024-02-20",
          "2024-02-21",
          "2024-02-22",
          "2024-02-23",
          "2024-02-26",
          "2024-02-27",
          "2024-02-28",
          "2024-02-29",
          "2024-03-01",
          "2024-03-04",
          "2024-03-05",
          "2024-03-06",
          "2024-03-07",
          "2024-03-08",
          "2024-03-11",
          "2024-03-12",
          "2024-03-13",
          "2024-03-14",
          "2024-03-15",
          "2024-03-18",
          "2024-03-19",
          "2024-03-20"
         ],
         "y": [
          "",
          "",
          "",
          "",
          "",
          "",
          "",
          "",
          "",
          "",
          "",
          "",
          "",
          "",
          20.468894581236317,
          19.869321132927716,
          20.987194779883488,
          19.202188891764486,
          17.98031001872464,
          16.628658792145654,
          15.374631538582264,
          14.143436572294815,
          13.186773972636788,
          11.953104267370966,
          12.17405396889968,
          10.861283754535576,
          9.893039142050466,
          9.308519805005275,
          10.66267527467851,
          11.014272222029165,
          17.54881858342785,
          23.43441274833969,
          28.172040694110525,
          28.110360489460593,
          31.269789956289483,
          30.310926790876042,
          28.291618008876096,
          29.960627643926564,
          28.78668171868996,
          35.41765945582771,
          35.57134266051063,
          34.370512033959706,
          34.25168884512456,
          37.76472356210742,
          35.702563235917424,
          38.62033233614069,
          37.68867633806953,
          37.51140599223432,
          35.920018055634785,
          38.48231528284195,
          35.7120203805379,
          33.26749628755508,
          29.570490848839782,
          30.637412312523825,
          30.399562089761254,
          29.47090957994344,
          29.844065057811775,
          32.80958915580139,
          35.15433243852465,
          40.531798747019316,
          39.87760114054138,
          38.272873100031255,
          39.79982425667945,
          40.409471871350384,
          35.75692861980521,
          32.92775568686117,
          33.931501463424816,
          34.863659359692505,
          34.56843014251949,
          35.424189107890946,
          32.99699394518702,
          28.197843626258578,
          26.094904295683705,
          24.620521318657396,
          22.994490023251497,
          28.933829112245444,
          28.88207856840933,
          31.375975748089473,
          30.765783017485774,
          29.434248850132384,
          27.569373411995116,
          24.86279108335139,
          31.383839832864354,
          38.69700837038457,
          41.439035582257205,
          39.58586343362475,
          44.88031527676183,
          41.71595774683112,
          39.88574733046895,
          40.38120241807498,
          38.11318268919049,
          33.490942854706454,
          30.941562310320347,
          38.273179163566624,
          35.887318107343205,
          34.24908783960737,
          35.295008131038486,
          35.28616021177158,
          38.84783779150596,
          38.24437396449793,
          33.14206566028453,
          34.01127730047414,
          34.045760327701814,
          31.725000209893384,
          28.715948936581814,
          26.569411078167057,
          38.58100651580795,
          38.097867939839574,
          37.04683928680982,
          35.63662525748406,
          34.069562762906806,
          36.38556886844789,
          41.63043073206008,
          40.27248281520734,
          34.845573283122675,
          33.57702410439251,
          36.27083895852302,
          31.824746917063933,
          30.44072604323331,
          34.29223429917547,
          32.36220176999371,
          30.14253838454051,
          27.897228902375566,
          30.977881514430777,
          28.886011352611042,
          29.610159997728488
         ],
         "yaxis": "y3"
        },
        {
         "line": {
          "color": "rgba(219, 64, 82, 1.0)",
          "dash": "solid",
          "shape": "linear",
          "width": 1.3
         },
         "mode": "lines",
         "name": "DI-(14)",
         "text": "",
         "type": "scatter",
         "x": [
          "2023-09-20",
          "2023-09-21",
          "2023-09-22",
          "2023-09-25",
          "2023-09-26",
          "2023-09-27",
          "2023-09-28",
          "2023-09-29",
          "2023-10-02",
          "2023-10-03",
          "2023-10-04",
          "2023-10-05",
          "2023-10-06",
          "2023-10-09",
          "2023-10-10",
          "2023-10-11",
          "2023-10-12",
          "2023-10-13",
          "2023-10-16",
          "2023-10-17",
          "2023-10-18",
          "2023-10-19",
          "2023-10-20",
          "2023-10-23",
          "2023-10-24",
          "2023-10-25",
          "2023-10-26",
          "2023-10-27",
          "2023-10-30",
          "2023-10-31",
          "2023-11-01",
          "2023-11-02",
          "2023-11-03",
          "2023-11-06",
          "2023-11-07",
          "2023-11-08",
          "2023-11-09",
          "2023-11-10",
          "2023-11-13",
          "2023-11-14",
          "2023-11-15",
          "2023-11-16",
          "2023-11-17",
          "2023-11-20",
          "2023-11-21",
          "2023-11-22",
          "2023-11-24",
          "2023-11-27",
          "2023-11-28",
          "2023-11-29",
          "2023-11-30",
          "2023-12-01",
          "2023-12-04",
          "2023-12-05",
          "2023-12-06",
          "2023-12-07",
          "2023-12-08",
          "2023-12-11",
          "2023-12-12",
          "2023-12-13",
          "2023-12-14",
          "2023-12-15",
          "2023-12-18",
          "2023-12-19",
          "2023-12-20",
          "2023-12-21",
          "2023-12-22",
          "2023-12-26",
          "2023-12-27",
          "2023-12-28",
          "2023-12-29",
          "2024-01-02",
          "2024-01-03",
          "2024-01-04",
          "2024-01-05",
          "2024-01-08",
          "2024-01-09",
          "2024-01-10",
          "2024-01-11",
          "2024-01-12",
          "2024-01-16",
          "2024-01-17",
          "2024-01-18",
          "2024-01-19",
          "2024-01-22",
          "2024-01-23",
          "2024-01-24",
          "2024-01-25",
          "2024-01-26",
          "2024-01-29",
          "2024-01-30",
          "2024-01-31",
          "2024-02-01",
          "2024-02-02",
          "2024-02-05",
          "2024-02-06",
          "2024-02-07",
          "2024-02-08",
          "2024-02-09",
          "2024-02-12",
          "2024-02-13",
          "2024-02-14",
          "2024-02-15",
          "2024-02-16",
          "2024-02-20",
          "2024-02-21",
          "2024-02-22",
          "2024-02-23",
          "2024-02-26",
          "2024-02-27",
          "2024-02-28",
          "2024-02-29",
          "2024-03-01",
          "2024-03-04",
          "2024-03-05",
          "2024-03-06",
          "2024-03-07",
          "2024-03-08",
          "2024-03-11",
          "2024-03-12",
          "2024-03-13",
          "2024-03-14",
          "2024-03-15",
          "2024-03-18",
          "2024-03-19",
          "2024-03-20"
         ],
         "y": [
          "",
          "",
          "",
          "",
          "",
          "",
          "",
          "",
          "",
          "",
          "",
          "",
          "",
          "",
          21.252905730212824,
          20.43533720755638,
          18.95012887744021,
          21.673269513254446,
          20.29415017028715,
          22.153440962369302,
          22.453764763393462,
          24.053238515908742,
          28.199730170414448,
          29.364749087675953,
          27.910188539137383,
          31.874202041065256,
          37.41247164287932,
          35.201996903224625,
          33.13070805788312,
          31.33383412434064,
          28.92524444600908,
          26.730833550073097,
          24.96449042086973,
          24.105562490443795,
          22.77247841360363,
          21.89671986008164,
          22.00428581726977,
          19.67818901471175,
          18.907139419743082,
          16.811362116722805,
          16.083606329707823,
          16.416531255789693,
          15.811320589843518,
          14.653544962634252,
          13.853381312282371,
          12.96956021753194,
          13.502331168838355,
          12.933478838000202,
          12.811916905436318,
          11.879175009362946,
          16.81270391096172,
          15.656979347505551,
          19.044797535754423,
          17.834481517671872,
          16.42942783455712,
          14.923786143617944,
          14.034974439457054,
          13.154533230456298,
          12.28376040351856,
          11.26510317944234,
          10.287015019419774,
          9.786956827970755,
          9.268884345335925,
          8.966944550918692,
          14.698960053902468,
          13.535943499290093,
          12.841728495978614,
          12.19578622639286,
          11.886684127377796,
          11.495600167332672,
          16.364661501554217,
          25.874172027762327,
          27.87215461737702,
          29.288531293890607,
          28.43662613620988,
          24.739145422972214,
          22.92689193803769,
          21.445496777874165,
          19.27542986860498,
          18.389678116767104,
          19.114313613871698,
          23.25828560044208,
          21.09825413298673,
          18.6960130240209,
          17.781790926726558,
          17.840928071998665,
          16.208608894236082,
          16.876133654367145,
          17.393929927768088,
          16.2006717630097,
          15.290757224079549,
          24.415919945104037,
          22.557343686102428,
          20.03201587265827,
          18.78326655021576,
          17.4890898288198,
          16.24684505810135,
          15.7590015513615,
          14.627305547266568,
          13.687384237838664,
          24.443911293466574,
          22.7111718514453,
          21.617848788561332,
          22.14448208781914,
          28.781571624233546,
          29.2674987202032,
          24.441918672442423,
          23.051480429074168,
          22.41554546116548,
          23.37930224917985,
          23.384229238918333,
          21.787455397359434,
          19.71318184897158,
          19.070155251465476,
          29.71300773145656,
          27.40394145738275,
          24.70083495720822,
          24.758203733642997,
          27.339076111315634,
          24.859676558367344,
          23.46052641830954,
          25.344683208083882,
          27.88883008332858,
          25.319111898361495,
          28.408640128454262,
          27.69188576114344
         ],
         "yaxis": "y3"
        },
        {
         "close": [
          14969.919921875,
          14694.240234375,
          14701.099609375,
          14768.900390625,
          14545.830078125,
          14580.16015625,
          14702.76953125,
          14715.240234375,
          14837.5703125,
          14565.6201171875,
          14776.25,
          14723.2197265625,
          14973.240234375,
          15047.150390625,
          15131.51953125,
          15241.1201171875,
          15184.099609375,
          14995.1201171875,
          15172.73046875,
          15122.009765625,
          14909.259765625,
          14783.1298828125,
          14560.8798828125,
          14604.849609375,
          14745.8603515625,
          14381.6396484375,
          14109.5703125,
          14180.419921875,
          14335.509765625,
          14409.7802734375,
          14664.91015625,
          14919.5498046875,
          15099.490234375,
          15154.9296875,
          15296.01953125,
          15313.240234375,
          15187.900390625,
          15529.1201171875,
          15482.7900390625,
          15812.4697265625,
          15817.1796875,
          15833.169921875,
          15837.990234375,
          16027.0595703125,
          15933.6201171875,
          16001.3896484375,
          15982.009765625,
          15961.98046875,
          16010.4296875,
          15987.599609375,
          15947.8701171875,
          15997.580078125,
          15839.669921875,
          15877.7099609375,
          15788.0498046875,
          16022.490234375,
          16084.6904296875,
          16221.73046875,
          16354.25,
          16562.369140625,
          16537.830078125,
          16623.44921875,
          16729.80078125,
          16811.849609375,
          16554.16015625,
          16757.41015625,
          16777.400390625,
          16878.4609375,
          16906.80078125,
          16898.470703125,
          16825.9296875,
          16543.939453125,
          16368.490234375,
          16282.009765625,
          16305.98046875,
          16649.869140625,
          16678.69921875,
          16793.05078125,
          16820.900390625,
          16832.919921875,
          16830.7109375,
          16736.279296875,
          16982.2890625,
          17314,
          17330.380859375,
          17404.2109375,
          17499.30078125,
          17516.990234375,
          17421.009765625,
          17596.26953125,
          17476.7109375,
          17137.240234375,
          17344.7109375,
          17642.73046875,
          17613.0390625,
          17572.73046875,
          17755.0703125,
          17783.169921875,
          17962.41015625,
          17882.66015625,
          17600.419921875,
          17807.630859375,
          17845.720703125,
          17685.98046875,
          17546.099609375,
          17478.91015625,
          18004.69921875,
          17937.609375,
          17933.330078125,
          17971.05078125,
          17874.5,
          18043.849609375,
          18302.91015625,
          18226.48046875,
          17897.869140625,
          18017.5703125,
          18297.990234375,
          18018.44921875,
          17951.689453125,
          18219.109375,
          18068.470703125,
          18014.810546875,
          17808.25,
          17985.009765625,
          18032.19921875,
          18019.7890625
         ],
         "decreasing": {
          "line": {
           "color": "#000000"
          }
         },
         "high": [
          15245.1904296875,
          14849.25,
          14855.919921875,
          14771.1201171875,
          14678.48046875,
          14657.2099609375,
          14787.580078125,
          14901.849609375,
          14892.1796875,
          14819.8701171875,
          14803.0400390625,
          14784.6904296875,
          15021.3798828125,
          15070.6396484375,
          15241.9404296875,
          15248.2197265625,
          15333.98046875,
          15232.3701171875,
          15209.5,
          15187.0595703125,
          15103.8701171875,
          15023.91015625,
          14781.2197265625,
          14746.3701171875,
          14774.16015625,
          14643.6904296875,
          14372.509765625,
          14321.0400390625,
          14388.2001953125,
          14420.4404296875,
          14677.8603515625,
          14930.759765625,
          15149.7802734375,
          15180.1904296875,
          15335.4404296875,
          15343.1904296875,
          15382.1103515625,
          15535.2001953125,
          15524.66015625,
          15850.33984375,
          15904.6298828125,
          15842.6298828125,
          15876.8701171875,
          16056.759765625,
          15968.08984375,
          16119.3095703125,
          16007.4296875,
          16045.2998046875,
          16031.51953125,
          16166.509765625,
          16013.48046875,
          16013.75,
          15852.4501953125,
          15931.83984375,
          15990.9404296875,
          16042.509765625,
          16100.8603515625,
          16232.259765625,
          16354.25,
          16581.0390625,
          16660.7109375,
          16669.76953125,
          16764.3203125,
          16813.009765625,
          16860.6796875,
          16768.01953125,
          16839.25,
          16907.509765625,
          16922.009765625,
          16969.169921875,
          16919.509765625,
          16686.599609375,
          16471.080078125,
          16419.439453125,
          16415.390625,
          16655.23046875,
          16710.880859375,
          16827.369140625,
          16898.16015625,
          16900.369140625,
          16895.330078125,
          16749.109375,
          16996.98046875,
          17317.2109375,
          17450.30078125,
          17410.859375,
          17665.259765625,
          17631.33984375,
          17514.759765625,
          17603.94921875,
          17578.4609375,
          17375.3203125,
          17356.759765625,
          17682.2890625,
          17655.76953125,
          17680.619140625,
          17784.169921875,
          17814.119140625,
          17987.900390625,
          18041.44921875,
          17717.669921875,
          17815.1796875,
          17864.58984375,
          17864.16015625,
          17657.080078125,
          17482.130859375,
          18034.80078125,
          18091.619140625,
          18014.109375,
          17987.5390625,
          17931.009765625,
          18068.51953125,
          18333.259765625,
          18313.4296875,
          18097.5,
          18142.880859375,
          18337.94921875,
          18416.73046875,
          18003.05078125,
          18228.369140625,
          18163.740234375,
          18142.900390625,
          17930.470703125,
          18124.3203125,
          18039.8203125,
          18087.099609375
         ],
         "increasing": {
          "line": {
           "color": "#ff0000"
          }
         },
         "low": [
          14967.599609375,
          14691.6904296875,
          14686.83984375,
          14615.4501953125,
          14505.6796875,
          14432.599609375,
          14510.169921875,
          14664.7802734375,
          14701.51953125,
          14504.1396484375,
          14592.5595703125,
          14584.3896484375,
          14575.9501953125,
          14816.3203125,
          15050.5400390625,
          15119.6201171875,
          15090.6904296875,
          14943.419921875,
          15047.26953125,
          14932.76953125,
          14865.8095703125,
          14749.2998046875,
          14552.1201171875,
          14419.0595703125,
          14610.330078125,
          14362.240234375,
          14058.330078125,
          14130.3701171875,
          14225.8603515625,
          14232.400390625,
          14441.8896484375,
          14792.8095703125,
          14965.2900390625,
          15064.91015625,
          15153.3095703125,
          15220.8798828125,
          15171.3203125,
          15237.169921875,
          15404.7099609375,
          15726.1201171875,
          15765.3095703125,
          15738.2197265625,
          15766.9404296875,
          15844.830078125,
          15866.8203125,
          15964.0400390625,
          15940.6201171875,
          15932.1904296875,
          15921.0703125,
          15976.6904296875,
          15825.669921875,
          15834.9296875,
          15695.580078125,
          15760.58984375,
          15776.9501953125,
          15875.48046875,
          15937.580078125,
          16061.8701171875,
          16175.4599609375,
          16357.2099609375,
          16419.259765625,
          16557.009765625,
          16629.2890625,
          16733.380859375,
          16552.060546875,
          16621.51953125,
          16703.5703125,
          16813.5703125,
          16859.55078125,
          16891.3203125,
          16757.890625,
          16453.150390625,
          16352.1396484375,
          16276.4296875,
          16249.1904296875,
          16349.3896484375,
          16513.73046875,
          16654.740234375,
          16618.859375,
          16776.919921875,
          16726.58984375,
          16561.490234375,
          16818.130859375,
          17041.849609375,
          17309.869140625,
          17286.01953125,
          17481.970703125,
          17430.369140625,
          17395.5390625,
          17414.619140625,
          17443.76953125,
          17128.740234375,
          17175.830078125,
          17378.369140625,
          17469.619140625,
          17475.4296875,
          17637.73046875,
          17728.55078125,
          17798.810546875,
          17859.66015625,
          17478.23046875,
          17619.919921875,
          17722.310546875,
          17663.400390625,
          17399.41015625,
          17319.439453125,
          17808.259765625,
          17902.779296875,
          17926.66015625,
          17871.060546875,
          17840.359375,
          17866.259765625,
          18064.439453125,
          18218.25,
          17804.5,
          17941.640625,
          18101.4296875,
          17995.380859375,
          17873.330078125,
          17919.330078125,
          18030.400390625,
          17913.630859375,
          17764.990234375,
          17973.08984375,
          17809.150390625,
          18005
         ],
         "name": "日K線圖",
         "open": [
          15225.33984375,
          14813.490234375,
          14756.6201171875,
          14662.6904296875,
          14668.4501953125,
          14600.1396484375,
          14530.9599609375,
          14853.349609375,
          14717.900390625,
          14744.0498046875,
          14613.23046875,
          14769.5498046875,
          14622.23046875,
          14871.5703125,
          15074.0400390625,
          15194.5302734375,
          15264.1103515625,
          15225.73046875,
          15054.48046875,
          15009.259765625,
          15022.2802734375,
          14981.1298828125,
          14752.58984375,
          14514.1103515625,
          14678.41015625,
          14642.080078125,
          14314.009765625,
          14245.75,
          14283.98046875,
          14340.8603515625,
          14453.6796875,
          14856.9501953125,
          14985.1201171875,
          15137.16015625,
          15201.76953125,
          15313.900390625,
          15351.1201171875,
          15252.3603515625,
          15469.2099609375,
          15744.3603515625,
          15881.7197265625,
          15765.2001953125,
          15803.98046875,
          15845.2001953125,
          15951.5498046875,
          16025.740234375,
          15974.849609375,
          15969.7197265625,
          15940.2900390625,
          16111.3603515625,
          15987.66015625,
          15892.58984375,
          15837.1201171875,
          15763.650390625,
          15990.2001953125,
          15888.23046875,
          15952.849609375,
          16069.6201171875,
          16209.6103515625,
          16392.1796875,
          16603.5390625,
          16587,
          16631.109375,
          16734.25,
          16763.640625,
          16719.609375,
          16799.01953125,
          16816.779296875,
          16896.140625,
          16963.51953125,
          16902.439453125,
          16667.30078125,
          16413.259765625,
          16290.7802734375,
          16281.740234375,
          16354.2197265625,
          16531.9609375,
          16702.55078125,
          16852.189453125,
          16855,
          16775.099609375,
          16705.509765625,
          16894.330078125,
          17060.140625,
          17403.619140625,
          17346.94921875,
          17562.3203125,
          17589.26953125,
          17432.869140625,
          17438.029296875,
          17556.490234375,
          17269.98046875,
          17216.990234375,
          17415.939453125,
          17634.689453125,
          17664.439453125,
          17674.58984375,
          17757.599609375,
          17820.98046875,
          17942.279296875,
          17519.80078125,
          17728.900390625,
          17815.3203125,
          17853.58984375,
          17591.169921875,
          17412.7890625,
          17857.759765625,
          18052.58984375,
          17970.2109375,
          17962.580078125,
          17895.029296875,
          17991.669921875,
          18069.2890625,
          18290.099609375,
          18088.7109375,
          18083.509765625,
          18161.73046875,
          18312.7890625,
          17959.6796875,
          18063.01953125,
          18151.759765625,
          18114.689453125,
          17926.919921875,
          18024.240234375,
          17902.51953125,
          18067.69921875
         ],
         "showlegend": true,
         "type": "candlestick",
         "x": [
          "2023-09-20",
          "2023-09-21",
          "2023-09-22",
          "2023-09-25",
          "2023-09-26",
          "2023-09-27",
          "2023-09-28",
          "2023-09-29",
          "2023-10-02",
          "2023-10-03",
          "2023-10-04",
          "2023-10-05",
          "2023-10-06",
          "2023-10-09",
          "2023-10-10",
          "2023-10-11",
          "2023-10-12",
          "2023-10-13",
          "2023-10-16",
          "2023-10-17",
          "2023-10-18",
          "2023-10-19",
          "2023-10-20",
          "2023-10-23",
          "2023-10-24",
          "2023-10-25",
          "2023-10-26",
          "2023-10-27",
          "2023-10-30",
          "2023-10-31",
          "2023-11-01",
          "2023-11-02",
          "2023-11-03",
          "2023-11-06",
          "2023-11-07",
          "2023-11-08",
          "2023-11-09",
          "2023-11-10",
          "2023-11-13",
          "2023-11-14",
          "2023-11-15",
          "2023-11-16",
          "2023-11-17",
          "2023-11-20",
          "2023-11-21",
          "2023-11-22",
          "2023-11-24",
          "2023-11-27",
          "2023-11-28",
          "2023-11-29",
          "2023-11-30",
          "2023-12-01",
          "2023-12-04",
          "2023-12-05",
          "2023-12-06",
          "2023-12-07",
          "2023-12-08",
          "2023-12-11",
          "2023-12-12",
          "2023-12-13",
          "2023-12-14",
          "2023-12-15",
          "2023-12-18",
          "2023-12-19",
          "2023-12-20",
          "2023-12-21",
          "2023-12-22",
          "2023-12-26",
          "2023-12-27",
          "2023-12-28",
          "2023-12-29",
          "2024-01-02",
          "2024-01-03",
          "2024-01-04",
          "2024-01-05",
          "2024-01-08",
          "2024-01-09",
          "2024-01-10",
          "2024-01-11",
          "2024-01-12",
          "2024-01-16",
          "2024-01-17",
          "2024-01-18",
          "2024-01-19",
          "2024-01-22",
          "2024-01-23",
          "2024-01-24",
          "2024-01-25",
          "2024-01-26",
          "2024-01-29",
          "2024-01-30",
          "2024-01-31",
          "2024-02-01",
          "2024-02-02",
          "2024-02-05",
          "2024-02-06",
          "2024-02-07",
          "2024-02-08",
          "2024-02-09",
          "2024-02-12",
          "2024-02-13",
          "2024-02-14",
          "2024-02-15",
          "2024-02-16",
          "2024-02-20",
          "2024-02-21",
          "2024-02-22",
          "2024-02-23",
          "2024-02-26",
          "2024-02-27",
          "2024-02-28",
          "2024-02-29",
          "2024-03-01",
          "2024-03-04",
          "2024-03-05",
          "2024-03-06",
          "2024-03-07",
          "2024-03-08",
          "2024-03-11",
          "2024-03-12",
          "2024-03-13",
          "2024-03-14",
          "2024-03-15",
          "2024-03-18",
          "2024-03-19",
          "2024-03-20"
         ],
         "yaxis": "y2"
        }
       ],
       "layout": {
        "legend": {
         "bgcolor": "#F5F6F9",
         "font": {
          "color": "#4D5663"
         },
         "orientation": "h",
         "x": 0.3,
         "y": 0.95,
         "yanchor": "bottom"
        },
        "margin": {
         "b": 30,
         "l": 30,
         "r": 30,
         "t": 30
        },
        "paper_bgcolor": "#F5F6F9",
        "plot_bgcolor": "#F5F6F9",
        "showlegend": true,
        "template": {
         "data": {
          "bar": [
           {
            "error_x": {
             "color": "#2a3f5f"
            },
            "error_y": {
             "color": "#2a3f5f"
            },
            "marker": {
             "line": {
              "color": "#E5ECF6",
              "width": 0.5
             },
             "pattern": {
              "fillmode": "overlay",
              "size": 10,
              "solidity": 0.2
             }
            },
            "type": "bar"
           }
          ],
          "barpolar": [
           {
            "marker": {
             "line": {
              "color": "#E5ECF6",
              "width": 0.5
             },
             "pattern": {
              "fillmode": "overlay",
              "size": 10,
              "solidity": 0.2
             }
            },
            "type": "barpolar"
           }
          ],
          "carpet": [
           {
            "aaxis": {
             "endlinecolor": "#2a3f5f",
             "gridcolor": "white",
             "linecolor": "white",
             "minorgridcolor": "white",
             "startlinecolor": "#2a3f5f"
            },
            "baxis": {
             "endlinecolor": "#2a3f5f",
             "gridcolor": "white",
             "linecolor": "white",
             "minorgridcolor": "white",
             "startlinecolor": "#2a3f5f"
            },
            "type": "carpet"
           }
          ],
          "choropleth": [
           {
            "colorbar": {
             "outlinewidth": 0,
             "ticks": ""
            },
            "type": "choropleth"
           }
          ],
          "contour": [
           {
            "colorbar": {
             "outlinewidth": 0,
             "ticks": ""
            },
            "colorscale": [
             [
              0,
              "#0d0887"
             ],
             [
              0.1111111111111111,
              "#46039f"
             ],
             [
              0.2222222222222222,
              "#7201a8"
             ],
             [
              0.3333333333333333,
              "#9c179e"
             ],
             [
              0.4444444444444444,
              "#bd3786"
             ],
             [
              0.5555555555555556,
              "#d8576b"
             ],
             [
              0.6666666666666666,
              "#ed7953"
             ],
             [
              0.7777777777777778,
              "#fb9f3a"
             ],
             [
              0.8888888888888888,
              "#fdca26"
             ],
             [
              1,
              "#f0f921"
             ]
            ],
            "type": "contour"
           }
          ],
          "contourcarpet": [
           {
            "colorbar": {
             "outlinewidth": 0,
             "ticks": ""
            },
            "type": "contourcarpet"
           }
          ],
          "heatmap": [
           {
            "colorbar": {
             "outlinewidth": 0,
             "ticks": ""
            },
            "colorscale": [
             [
              0,
              "#0d0887"
             ],
             [
              0.1111111111111111,
              "#46039f"
             ],
             [
              0.2222222222222222,
              "#7201a8"
             ],
             [
              0.3333333333333333,
              "#9c179e"
             ],
             [
              0.4444444444444444,
              "#bd3786"
             ],
             [
              0.5555555555555556,
              "#d8576b"
             ],
             [
              0.6666666666666666,
              "#ed7953"
             ],
             [
              0.7777777777777778,
              "#fb9f3a"
             ],
             [
              0.8888888888888888,
              "#fdca26"
             ],
             [
              1,
              "#f0f921"
             ]
            ],
            "type": "heatmap"
           }
          ],
          "heatmapgl": [
           {
            "colorbar": {
             "outlinewidth": 0,
             "ticks": ""
            },
            "colorscale": [
             [
              0,
              "#0d0887"
             ],
             [
              0.1111111111111111,
              "#46039f"
             ],
             [
              0.2222222222222222,
              "#7201a8"
             ],
             [
              0.3333333333333333,
              "#9c179e"
             ],
             [
              0.4444444444444444,
              "#bd3786"
             ],
             [
              0.5555555555555556,
              "#d8576b"
             ],
             [
              0.6666666666666666,
              "#ed7953"
             ],
             [
              0.7777777777777778,
              "#fb9f3a"
             ],
             [
              0.8888888888888888,
              "#fdca26"
             ],
             [
              1,
              "#f0f921"
             ]
            ],
            "type": "heatmapgl"
           }
          ],
          "histogram": [
           {
            "marker": {
             "pattern": {
              "fillmode": "overlay",
              "size": 10,
              "solidity": 0.2
             }
            },
            "type": "histogram"
           }
          ],
          "histogram2d": [
           {
            "colorbar": {
             "outlinewidth": 0,
             "ticks": ""
            },
            "colorscale": [
             [
              0,
              "#0d0887"
             ],
             [
              0.1111111111111111,
              "#46039f"
             ],
             [
              0.2222222222222222,
              "#7201a8"
             ],
             [
              0.3333333333333333,
              "#9c179e"
             ],
             [
              0.4444444444444444,
              "#bd3786"
             ],
             [
              0.5555555555555556,
              "#d8576b"
             ],
             [
              0.6666666666666666,
              "#ed7953"
             ],
             [
              0.7777777777777778,
              "#fb9f3a"
             ],
             [
              0.8888888888888888,
              "#fdca26"
             ],
             [
              1,
              "#f0f921"
             ]
            ],
            "type": "histogram2d"
           }
          ],
          "histogram2dcontour": [
           {
            "colorbar": {
             "outlinewidth": 0,
             "ticks": ""
            },
            "colorscale": [
             [
              0,
              "#0d0887"
             ],
             [
              0.1111111111111111,
              "#46039f"
             ],
             [
              0.2222222222222222,
              "#7201a8"
             ],
             [
              0.3333333333333333,
              "#9c179e"
             ],
             [
              0.4444444444444444,
              "#bd3786"
             ],
             [
              0.5555555555555556,
              "#d8576b"
             ],
             [
              0.6666666666666666,
              "#ed7953"
             ],
             [
              0.7777777777777778,
              "#fb9f3a"
             ],
             [
              0.8888888888888888,
              "#fdca26"
             ],
             [
              1,
              "#f0f921"
             ]
            ],
            "type": "histogram2dcontour"
           }
          ],
          "mesh3d": [
           {
            "colorbar": {
             "outlinewidth": 0,
             "ticks": ""
            },
            "type": "mesh3d"
           }
          ],
          "parcoords": [
           {
            "line": {
             "colorbar": {
              "outlinewidth": 0,
              "ticks": ""
             }
            },
            "type": "parcoords"
           }
          ],
          "pie": [
           {
            "automargin": true,
            "type": "pie"
           }
          ],
          "scatter": [
           {
            "fillpattern": {
             "fillmode": "overlay",
             "size": 10,
             "solidity": 0.2
            },
            "type": "scatter"
           }
          ],
          "scatter3d": [
           {
            "line": {
             "colorbar": {
              "outlinewidth": 0,
              "ticks": ""
             }
            },
            "marker": {
             "colorbar": {
              "outlinewidth": 0,
              "ticks": ""
             }
            },
            "type": "scatter3d"
           }
          ],
          "scattercarpet": [
           {
            "marker": {
             "colorbar": {
              "outlinewidth": 0,
              "ticks": ""
             }
            },
            "type": "scattercarpet"
           }
          ],
          "scattergeo": [
           {
            "marker": {
             "colorbar": {
              "outlinewidth": 0,
              "ticks": ""
             }
            },
            "type": "scattergeo"
           }
          ],
          "scattergl": [
           {
            "marker": {
             "colorbar": {
              "outlinewidth": 0,
              "ticks": ""
             }
            },
            "type": "scattergl"
           }
          ],
          "scattermapbox": [
           {
            "marker": {
             "colorbar": {
              "outlinewidth": 0,
              "ticks": ""
             }
            },
            "type": "scattermapbox"
           }
          ],
          "scatterpolar": [
           {
            "marker": {
             "colorbar": {
              "outlinewidth": 0,
              "ticks": ""
             }
            },
            "type": "scatterpolar"
           }
          ],
          "scatterpolargl": [
           {
            "marker": {
             "colorbar": {
              "outlinewidth": 0,
              "ticks": ""
             }
            },
            "type": "scatterpolargl"
           }
          ],
          "scatterternary": [
           {
            "marker": {
             "colorbar": {
              "outlinewidth": 0,
              "ticks": ""
             }
            },
            "type": "scatterternary"
           }
          ],
          "surface": [
           {
            "colorbar": {
             "outlinewidth": 0,
             "ticks": ""
            },
            "colorscale": [
             [
              0,
              "#0d0887"
             ],
             [
              0.1111111111111111,
              "#46039f"
             ],
             [
              0.2222222222222222,
              "#7201a8"
             ],
             [
              0.3333333333333333,
              "#9c179e"
             ],
             [
              0.4444444444444444,
              "#bd3786"
             ],
             [
              0.5555555555555556,
              "#d8576b"
             ],
             [
              0.6666666666666666,
              "#ed7953"
             ],
             [
              0.7777777777777778,
              "#fb9f3a"
             ],
             [
              0.8888888888888888,
              "#fdca26"
             ],
             [
              1,
              "#f0f921"
             ]
            ],
            "type": "surface"
           }
          ],
          "table": [
           {
            "cells": {
             "fill": {
              "color": "#EBF0F8"
             },
             "line": {
              "color": "white"
             }
            },
            "header": {
             "fill": {
              "color": "#C8D4E3"
             },
             "line": {
              "color": "white"
             }
            },
            "type": "table"
           }
          ]
         },
         "layout": {
          "annotationdefaults": {
           "arrowcolor": "#2a3f5f",
           "arrowhead": 0,
           "arrowwidth": 1
          },
          "autotypenumbers": "strict",
          "coloraxis": {
           "colorbar": {
            "outlinewidth": 0,
            "ticks": ""
           }
          },
          "colorscale": {
           "diverging": [
            [
             0,
             "#8e0152"
            ],
            [
             0.1,
             "#c51b7d"
            ],
            [
             0.2,
             "#de77ae"
            ],
            [
             0.3,
             "#f1b6da"
            ],
            [
             0.4,
             "#fde0ef"
            ],
            [
             0.5,
             "#f7f7f7"
            ],
            [
             0.6,
             "#e6f5d0"
            ],
            [
             0.7,
             "#b8e186"
            ],
            [
             0.8,
             "#7fbc41"
            ],
            [
             0.9,
             "#4d9221"
            ],
            [
             1,
             "#276419"
            ]
           ],
           "sequential": [
            [
             0,
             "#0d0887"
            ],
            [
             0.1111111111111111,
             "#46039f"
            ],
            [
             0.2222222222222222,
             "#7201a8"
            ],
            [
             0.3333333333333333,
             "#9c179e"
            ],
            [
             0.4444444444444444,
             "#bd3786"
            ],
            [
             0.5555555555555556,
             "#d8576b"
            ],
            [
             0.6666666666666666,
             "#ed7953"
            ],
            [
             0.7777777777777778,
             "#fb9f3a"
            ],
            [
             0.8888888888888888,
             "#fdca26"
            ],
            [
             1,
             "#f0f921"
            ]
           ],
           "sequentialminus": [
            [
             0,
             "#0d0887"
            ],
            [
             0.1111111111111111,
             "#46039f"
            ],
            [
             0.2222222222222222,
             "#7201a8"
            ],
            [
             0.3333333333333333,
             "#9c179e"
            ],
            [
             0.4444444444444444,
             "#bd3786"
            ],
            [
             0.5555555555555556,
             "#d8576b"
            ],
            [
             0.6666666666666666,
             "#ed7953"
            ],
            [
             0.7777777777777778,
             "#fb9f3a"
            ],
            [
             0.8888888888888888,
             "#fdca26"
            ],
            [
             1,
             "#f0f921"
            ]
           ]
          },
          "colorway": [
           "#636efa",
           "#EF553B",
           "#00cc96",
           "#ab63fa",
           "#FFA15A",
           "#19d3f3",
           "#FF6692",
           "#B6E880",
           "#FF97FF",
           "#FECB52"
          ],
          "font": {
           "color": "#2a3f5f"
          },
          "geo": {
           "bgcolor": "white",
           "lakecolor": "white",
           "landcolor": "#E5ECF6",
           "showlakes": true,
           "showland": true,
           "subunitcolor": "white"
          },
          "hoverlabel": {
           "align": "left"
          },
          "hovermode": "closest",
          "mapbox": {
           "style": "light"
          },
          "paper_bgcolor": "white",
          "plot_bgcolor": "#E5ECF6",
          "polar": {
           "angularaxis": {
            "gridcolor": "white",
            "linecolor": "white",
            "ticks": ""
           },
           "bgcolor": "#E5ECF6",
           "radialaxis": {
            "gridcolor": "white",
            "linecolor": "white",
            "ticks": ""
           }
          },
          "scene": {
           "xaxis": {
            "backgroundcolor": "#E5ECF6",
            "gridcolor": "white",
            "gridwidth": 2,
            "linecolor": "white",
            "showbackground": true,
            "ticks": "",
            "zerolinecolor": "white"
           },
           "yaxis": {
            "backgroundcolor": "#E5ECF6",
            "gridcolor": "white",
            "gridwidth": 2,
            "linecolor": "white",
            "showbackground": true,
            "ticks": "",
            "zerolinecolor": "white"
           },
           "zaxis": {
            "backgroundcolor": "#E5ECF6",
            "gridcolor": "white",
            "gridwidth": 2,
            "linecolor": "white",
            "showbackground": true,
            "ticks": "",
            "zerolinecolor": "white"
           }
          },
          "shapedefaults": {
           "line": {
            "color": "#2a3f5f"
           }
          },
          "ternary": {
           "aaxis": {
            "gridcolor": "white",
            "linecolor": "white",
            "ticks": ""
           },
           "baxis": {
            "gridcolor": "white",
            "linecolor": "white",
            "ticks": ""
           },
           "bgcolor": "#E5ECF6",
           "caxis": {
            "gridcolor": "white",
            "linecolor": "white",
            "ticks": ""
           }
          },
          "title": {
           "x": 0.05
          },
          "xaxis": {
           "automargin": true,
           "gridcolor": "white",
           "linecolor": "white",
           "ticks": "",
           "title": {
            "standoff": 15
           },
           "zerolinecolor": "white",
           "zerolinewidth": 2
          },
          "yaxis": {
           "automargin": true,
           "gridcolor": "white",
           "linecolor": "white",
           "ticks": "",
           "title": {
            "standoff": 15
           },
           "zerolinecolor": "white",
           "zerolinewidth": 2
          }
         }
        },
        "title": {
         "font": {
          "color": "#4D5663"
         },
         "text": "^NDX"
        },
        "xaxis": {
         "anchor": "y2",
         "gridcolor": "#E1E5ED",
         "rangeselector": {
          "bgcolor": "rgba(150, 200, 250, 1)",
          "buttons": [
           {
            "count": 1,
            "label": "1m",
            "step": "month",
            "stepmode": "backward"
           },
           {
            "count": 1,
            "label": "1y",
            "step": "year",
            "stepmode": "backward"
           }
          ],
          "font": {
           "size": 13
          },
          "visible": false,
          "x": 0,
          "y": 0.9
         },
         "rangeslider": {
          "visible": false
         },
         "showgrid": true,
         "tickfont": {
          "color": "#4D5663"
         },
         "title": {
          "font": {
           "color": "#4D5663"
          },
          "text": ""
         },
         "zerolinecolor": "#E1E5ED"
        },
        "yaxis": {
         "gridcolor": "#E1E5ED",
         "showgrid": true,
         "showticklabels": false,
         "tickfont": {
          "color": "#4D5663"
         },
         "title": {
          "font": {
           "color": "#4D5663"
          },
          "text": ""
         },
         "zerolinecolor": "#E1E5ED"
        },
        "yaxis2": {
         "domain": [
          0.23,
          0.9
         ],
         "gridcolor": "#E1E5ED",
         "showgrid": true,
         "tickfont": {
          "color": "#4D5663"
         },
         "title": {
          "font": {
           "color": "#4D5663"
          },
          "text": ""
         },
         "zerolinecolor": "#E1E5ED"
        },
        "yaxis3": {
         "domain": [
          0,
          0.15
         ],
         "gridcolor": "#E1E5ED",
         "showgrid": true,
         "tickfont": {
          "color": "#4D5663"
         },
         "title": {
          "font": {
           "color": "#4D5663"
          },
          "text": ""
         },
         "zerolinecolor": "#E1E5ED"
        }
       }
      },
      "text/html": [
       "<div>                            <div id=\"a3dd2349-a920-4296-bd9d-436e872c936b\" class=\"plotly-graph-div\" style=\"height:525px; width:100%;\"></div>            <script type=\"text/javascript\">                require([\"plotly\"], function(Plotly) {                    window.PLOTLYENV=window.PLOTLYENV || {};\n",
       "                    window.PLOTLYENV.BASE_URL='https://plot.ly';                                    if (document.getElementById(\"a3dd2349-a920-4296-bd9d-436e872c936b\")) {                    Plotly.newPlot(                        \"a3dd2349-a920-4296-bd9d-436e872c936b\",                        [{\"line\":{\"color\":\"rgba(55, 128, 191, 1.0)\",\"dash\":\"solid\",\"shape\":\"linear\",\"width\":1.3},\"mode\":\"lines\",\"name\":\"ADX(14)\",\"text\":\"\",\"x\":[\"2023-09-20\",\"2023-09-21\",\"2023-09-22\",\"2023-09-25\",\"2023-09-26\",\"2023-09-27\",\"2023-09-28\",\"2023-09-29\",\"2023-10-02\",\"2023-10-03\",\"2023-10-04\",\"2023-10-05\",\"2023-10-06\",\"2023-10-09\",\"2023-10-10\",\"2023-10-11\",\"2023-10-12\",\"2023-10-13\",\"2023-10-16\",\"2023-10-17\",\"2023-10-18\",\"2023-10-19\",\"2023-10-20\",\"2023-10-23\",\"2023-10-24\",\"2023-10-25\",\"2023-10-26\",\"2023-10-27\",\"2023-10-30\",\"2023-10-31\",\"2023-11-01\",\"2023-11-02\",\"2023-11-03\",\"2023-11-06\",\"2023-11-07\",\"2023-11-08\",\"2023-11-09\",\"2023-11-10\",\"2023-11-13\",\"2023-11-14\",\"2023-11-15\",\"2023-11-16\",\"2023-11-17\",\"2023-11-20\",\"2023-11-21\",\"2023-11-22\",\"2023-11-24\",\"2023-11-27\",\"2023-11-28\",\"2023-11-29\",\"2023-11-30\",\"2023-12-01\",\"2023-12-04\",\"2023-12-05\",\"2023-12-06\",\"2023-12-07\",\"2023-12-08\",\"2023-12-11\",\"2023-12-12\",\"2023-12-13\",\"2023-12-14\",\"2023-12-15\",\"2023-12-18\",\"2023-12-19\",\"2023-12-20\",\"2023-12-21\",\"2023-12-22\",\"2023-12-26\",\"2023-12-27\",\"2023-12-28\",\"2023-12-29\",\"2024-01-02\",\"2024-01-03\",\"2024-01-04\",\"2024-01-05\",\"2024-01-08\",\"2024-01-09\",\"2024-01-10\",\"2024-01-11\",\"2024-01-12\",\"2024-01-16\",\"2024-01-17\",\"2024-01-18\",\"2024-01-19\",\"2024-01-22\",\"2024-01-23\",\"2024-01-24\",\"2024-01-25\",\"2024-01-26\",\"2024-01-29\",\"2024-01-30\",\"2024-01-31\",\"2024-02-01\",\"2024-02-02\",\"2024-02-05\",\"2024-02-06\",\"2024-02-07\",\"2024-02-08\",\"2024-02-09\",\"2024-02-12\",\"2024-02-13\",\"2024-02-14\",\"2024-02-15\",\"2024-02-16\",\"2024-02-20\",\"2024-02-21\",\"2024-02-22\",\"2024-02-23\",\"2024-02-26\",\"2024-02-27\",\"2024-02-28\",\"2024-02-29\",\"2024-03-01\",\"2024-03-04\",\"2024-03-05\",\"2024-03-06\",\"2024-03-07\",\"2024-03-08\",\"2024-03-11\",\"2024-03-12\",\"2024-03-13\",\"2024-03-14\",\"2024-03-15\",\"2024-03-18\",\"2024-03-19\",\"2024-03-20\"],\"y\":[\"\",\"\",\"\",\"\",\"\",\"\",\"\",\"\",\"\",\"\",\"\",\"\",\"\",\"\",\"\",\"\",\"\",\"\",\"\",\"\",\"\",\"\",\"\",\"\",\"\",\"\",\"\",25.897812057232162,27.712584685870286,29.16041583866366,28.826035136810493,27.236398664423234,25.722115291638733,24.432656147415724,23.81057032401925,23.26101597611174,22.492420861852597,22.36542737111636,22.24750484400414,23.203000333514524,24.24041141982362,25.03406048733093,25.87693604672643,27.177864281592033,28.385869071110086,29.909773992843956,31.14816539782678,32.4034634215163,33.47598781093304,34.858015153270465,34.93828213023001,35.01378416025013,34.05929916964578,33.51314223428399,33.25022027873634,33.2157549830933,33.41668664564126,34.08419005530599,35.09327698322313,36.62252802959701,38.219988033110475,39.72368740116925,41.33062355966944,42.92695339270979,42.84184266321337,42.762811271538126,42.92899682487532,43.3032537432317,43.69766979814757,44.21918814832442,43.467449229222034,40.66958603339861,37.999845118569226,35.90407379421028,34.095311934152534,32.21816552441141,30.737904323788293,29.885202569898333,29.390672377290905,28.940926947931846,28.167387856178845,26.39359652298643,25.908216495684133,26.54685649872352,27.504045921606803,28.24414899129776,29.57916532520661,30.49454636162773,31.12112606741864,31.950722162202066,32.72106139307239,31.503253946945286,30.372432746970123,30.437663045697654,30.498234037373216,30.633636605650207,31.085283300175043,31.59738241690419,32.57564556714453,33.62645924240123,32.30347213597924,31.419063529735354,30.769617271553734,29.84212216025577,27.718694244146665,26.083936530438205,25.82328625850555,25.73633476963848,25.655594101404766,25.306588583522792,24.82741329335173,24.84647665934778,25.623775249589723,26.345552511957244,25.03160199668554,23.966699453221285,23.6102231653409,22.815837266108264,21.569566903156105,21.167906983578682,20.794937058256785,19.927211193295644,18.504914351522046,17.901108851319695,16.681971530886024,15.72952027988357],\"yaxis\":\"y3\",\"type\":\"scatter\"},{\"line\":{\"color\":\"rgba(0, 128, 0, 1.0)\",\"dash\":\"solid\",\"shape\":\"linear\",\"width\":1.3},\"mode\":\"lines\",\"name\":\"DI+(14)\",\"text\":\"\",\"x\":[\"2023-09-20\",\"2023-09-21\",\"2023-09-22\",\"2023-09-25\",\"2023-09-26\",\"2023-09-27\",\"2023-09-28\",\"2023-09-29\",\"2023-10-02\",\"2023-10-03\",\"2023-10-04\",\"2023-10-05\",\"2023-10-06\",\"2023-10-09\",\"2023-10-10\",\"2023-10-11\",\"2023-10-12\",\"2023-10-13\",\"2023-10-16\",\"2023-10-17\",\"2023-10-18\",\"2023-10-19\",\"2023-10-20\",\"2023-10-23\",\"2023-10-24\",\"2023-10-25\",\"2023-10-26\",\"2023-10-27\",\"2023-10-30\",\"2023-10-31\",\"2023-11-01\",\"2023-11-02\",\"2023-11-03\",\"2023-11-06\",\"2023-11-07\",\"2023-11-08\",\"2023-11-09\",\"2023-11-10\",\"2023-11-13\",\"2023-11-14\",\"2023-11-15\",\"2023-11-16\",\"2023-11-17\",\"2023-11-20\",\"2023-11-21\",\"2023-11-22\",\"2023-11-24\",\"2023-11-27\",\"2023-11-28\",\"2023-11-29\",\"2023-11-30\",\"2023-12-01\",\"2023-12-04\",\"2023-12-05\",\"2023-12-06\",\"2023-12-07\",\"2023-12-08\",\"2023-12-11\",\"2023-12-12\",\"2023-12-13\",\"2023-12-14\",\"2023-12-15\",\"2023-12-18\",\"2023-12-19\",\"2023-12-20\",\"2023-12-21\",\"2023-12-22\",\"2023-12-26\",\"2023-12-27\",\"2023-12-28\",\"2023-12-29\",\"2024-01-02\",\"2024-01-03\",\"2024-01-04\",\"2024-01-05\",\"2024-01-08\",\"2024-01-09\",\"2024-01-10\",\"2024-01-11\",\"2024-01-12\",\"2024-01-16\",\"2024-01-17\",\"2024-01-18\",\"2024-01-19\",\"2024-01-22\",\"2024-01-23\",\"2024-01-24\",\"2024-01-25\",\"2024-01-26\",\"2024-01-29\",\"2024-01-30\",\"2024-01-31\",\"2024-02-01\",\"2024-02-02\",\"2024-02-05\",\"2024-02-06\",\"2024-02-07\",\"2024-02-08\",\"2024-02-09\",\"2024-02-12\",\"2024-02-13\",\"2024-02-14\",\"2024-02-15\",\"2024-02-16\",\"2024-02-20\",\"2024-02-21\",\"2024-02-22\",\"2024-02-23\",\"2024-02-26\",\"2024-02-27\",\"2024-02-28\",\"2024-02-29\",\"2024-03-01\",\"2024-03-04\",\"2024-03-05\",\"2024-03-06\",\"2024-03-07\",\"2024-03-08\",\"2024-03-11\",\"2024-03-12\",\"2024-03-13\",\"2024-03-14\",\"2024-03-15\",\"2024-03-18\",\"2024-03-19\",\"2024-03-20\"],\"y\":[\"\",\"\",\"\",\"\",\"\",\"\",\"\",\"\",\"\",\"\",\"\",\"\",\"\",\"\",20.468894581236317,19.869321132927716,20.987194779883488,19.202188891764486,17.98031001872464,16.628658792145654,15.374631538582264,14.143436572294815,13.186773972636788,11.953104267370966,12.17405396889968,10.861283754535576,9.893039142050466,9.308519805005275,10.66267527467851,11.014272222029165,17.54881858342785,23.43441274833969,28.172040694110525,28.110360489460593,31.269789956289483,30.310926790876042,28.291618008876096,29.960627643926564,28.78668171868996,35.41765945582771,35.57134266051063,34.370512033959706,34.25168884512456,37.76472356210742,35.702563235917424,38.62033233614069,37.68867633806953,37.51140599223432,35.920018055634785,38.48231528284195,35.7120203805379,33.26749628755508,29.570490848839782,30.637412312523825,30.399562089761254,29.47090957994344,29.844065057811775,32.80958915580139,35.15433243852465,40.531798747019316,39.87760114054138,38.272873100031255,39.79982425667945,40.409471871350384,35.75692861980521,32.92775568686117,33.931501463424816,34.863659359692505,34.56843014251949,35.424189107890946,32.99699394518702,28.197843626258578,26.094904295683705,24.620521318657396,22.994490023251497,28.933829112245444,28.88207856840933,31.375975748089473,30.765783017485774,29.434248850132384,27.569373411995116,24.86279108335139,31.383839832864354,38.69700837038457,41.439035582257205,39.58586343362475,44.88031527676183,41.71595774683112,39.88574733046895,40.38120241807498,38.11318268919049,33.490942854706454,30.941562310320347,38.273179163566624,35.887318107343205,34.24908783960737,35.295008131038486,35.28616021177158,38.84783779150596,38.24437396449793,33.14206566028453,34.01127730047414,34.045760327701814,31.725000209893384,28.715948936581814,26.569411078167057,38.58100651580795,38.097867939839574,37.04683928680982,35.63662525748406,34.069562762906806,36.38556886844789,41.63043073206008,40.27248281520734,34.845573283122675,33.57702410439251,36.27083895852302,31.824746917063933,30.44072604323331,34.29223429917547,32.36220176999371,30.14253838454051,27.897228902375566,30.977881514430777,28.886011352611042,29.610159997728488],\"yaxis\":\"y3\",\"type\":\"scatter\"},{\"line\":{\"color\":\"rgba(219, 64, 82, 1.0)\",\"dash\":\"solid\",\"shape\":\"linear\",\"width\":1.3},\"mode\":\"lines\",\"name\":\"DI-(14)\",\"text\":\"\",\"x\":[\"2023-09-20\",\"2023-09-21\",\"2023-09-22\",\"2023-09-25\",\"2023-09-26\",\"2023-09-27\",\"2023-09-28\",\"2023-09-29\",\"2023-10-02\",\"2023-10-03\",\"2023-10-04\",\"2023-10-05\",\"2023-10-06\",\"2023-10-09\",\"2023-10-10\",\"2023-10-11\",\"2023-10-12\",\"2023-10-13\",\"2023-10-16\",\"2023-10-17\",\"2023-10-18\",\"2023-10-19\",\"2023-10-20\",\"2023-10-23\",\"2023-10-24\",\"2023-10-25\",\"2023-10-26\",\"2023-10-27\",\"2023-10-30\",\"2023-10-31\",\"2023-11-01\",\"2023-11-02\",\"2023-11-03\",\"2023-11-06\",\"2023-11-07\",\"2023-11-08\",\"2023-11-09\",\"2023-11-10\",\"2023-11-13\",\"2023-11-14\",\"2023-11-15\",\"2023-11-16\",\"2023-11-17\",\"2023-11-20\",\"2023-11-21\",\"2023-11-22\",\"2023-11-24\",\"2023-11-27\",\"2023-11-28\",\"2023-11-29\",\"2023-11-30\",\"2023-12-01\",\"2023-12-04\",\"2023-12-05\",\"2023-12-06\",\"2023-12-07\",\"2023-12-08\",\"2023-12-11\",\"2023-12-12\",\"2023-12-13\",\"2023-12-14\",\"2023-12-15\",\"2023-12-18\",\"2023-12-19\",\"2023-12-20\",\"2023-12-21\",\"2023-12-22\",\"2023-12-26\",\"2023-12-27\",\"2023-12-28\",\"2023-12-29\",\"2024-01-02\",\"2024-01-03\",\"2024-01-04\",\"2024-01-05\",\"2024-01-08\",\"2024-01-09\",\"2024-01-10\",\"2024-01-11\",\"2024-01-12\",\"2024-01-16\",\"2024-01-17\",\"2024-01-18\",\"2024-01-19\",\"2024-01-22\",\"2024-01-23\",\"2024-01-24\",\"2024-01-25\",\"2024-01-26\",\"2024-01-29\",\"2024-01-30\",\"2024-01-31\",\"2024-02-01\",\"2024-02-02\",\"2024-02-05\",\"2024-02-06\",\"2024-02-07\",\"2024-02-08\",\"2024-02-09\",\"2024-02-12\",\"2024-02-13\",\"2024-02-14\",\"2024-02-15\",\"2024-02-16\",\"2024-02-20\",\"2024-02-21\",\"2024-02-22\",\"2024-02-23\",\"2024-02-26\",\"2024-02-27\",\"2024-02-28\",\"2024-02-29\",\"2024-03-01\",\"2024-03-04\",\"2024-03-05\",\"2024-03-06\",\"2024-03-07\",\"2024-03-08\",\"2024-03-11\",\"2024-03-12\",\"2024-03-13\",\"2024-03-14\",\"2024-03-15\",\"2024-03-18\",\"2024-03-19\",\"2024-03-20\"],\"y\":[\"\",\"\",\"\",\"\",\"\",\"\",\"\",\"\",\"\",\"\",\"\",\"\",\"\",\"\",21.252905730212824,20.43533720755638,18.95012887744021,21.673269513254446,20.29415017028715,22.153440962369302,22.453764763393462,24.053238515908742,28.199730170414448,29.364749087675953,27.910188539137383,31.874202041065256,37.41247164287932,35.201996903224625,33.13070805788312,31.33383412434064,28.92524444600908,26.730833550073097,24.96449042086973,24.105562490443795,22.77247841360363,21.89671986008164,22.00428581726977,19.67818901471175,18.907139419743082,16.811362116722805,16.083606329707823,16.416531255789693,15.811320589843518,14.653544962634252,13.853381312282371,12.96956021753194,13.502331168838355,12.933478838000202,12.811916905436318,11.879175009362946,16.81270391096172,15.656979347505551,19.044797535754423,17.834481517671872,16.42942783455712,14.923786143617944,14.034974439457054,13.154533230456298,12.28376040351856,11.26510317944234,10.287015019419774,9.786956827970755,9.268884345335925,8.966944550918692,14.698960053902468,13.535943499290093,12.841728495978614,12.19578622639286,11.886684127377796,11.495600167332672,16.364661501554217,25.874172027762327,27.87215461737702,29.288531293890607,28.43662613620988,24.739145422972214,22.92689193803769,21.445496777874165,19.27542986860498,18.389678116767104,19.114313613871698,23.25828560044208,21.09825413298673,18.6960130240209,17.781790926726558,17.840928071998665,16.208608894236082,16.876133654367145,17.393929927768088,16.2006717630097,15.290757224079549,24.415919945104037,22.557343686102428,20.03201587265827,18.78326655021576,17.4890898288198,16.24684505810135,15.7590015513615,14.627305547266568,13.687384237838664,24.443911293466574,22.7111718514453,21.617848788561332,22.14448208781914,28.781571624233546,29.2674987202032,24.441918672442423,23.051480429074168,22.41554546116548,23.37930224917985,23.384229238918333,21.787455397359434,19.71318184897158,19.070155251465476,29.71300773145656,27.40394145738275,24.70083495720822,24.758203733642997,27.339076111315634,24.859676558367344,23.46052641830954,25.344683208083882,27.88883008332858,25.319111898361495,28.408640128454262,27.69188576114344],\"yaxis\":\"y3\",\"type\":\"scatter\"},{\"close\":[14969.919921875,14694.240234375,14701.099609375,14768.900390625,14545.830078125,14580.16015625,14702.76953125,14715.240234375,14837.5703125,14565.6201171875,14776.25,14723.2197265625,14973.240234375,15047.150390625,15131.51953125,15241.1201171875,15184.099609375,14995.1201171875,15172.73046875,15122.009765625,14909.259765625,14783.1298828125,14560.8798828125,14604.849609375,14745.8603515625,14381.6396484375,14109.5703125,14180.419921875,14335.509765625,14409.7802734375,14664.91015625,14919.5498046875,15099.490234375,15154.9296875,15296.01953125,15313.240234375,15187.900390625,15529.1201171875,15482.7900390625,15812.4697265625,15817.1796875,15833.169921875,15837.990234375,16027.0595703125,15933.6201171875,16001.3896484375,15982.009765625,15961.98046875,16010.4296875,15987.599609375,15947.8701171875,15997.580078125,15839.669921875,15877.7099609375,15788.0498046875,16022.490234375,16084.6904296875,16221.73046875,16354.25,16562.369140625,16537.830078125,16623.44921875,16729.80078125,16811.849609375,16554.16015625,16757.41015625,16777.400390625,16878.4609375,16906.80078125,16898.470703125,16825.9296875,16543.939453125,16368.490234375,16282.009765625,16305.98046875,16649.869140625,16678.69921875,16793.05078125,16820.900390625,16832.919921875,16830.7109375,16736.279296875,16982.2890625,17314.0,17330.380859375,17404.2109375,17499.30078125,17516.990234375,17421.009765625,17596.26953125,17476.7109375,17137.240234375,17344.7109375,17642.73046875,17613.0390625,17572.73046875,17755.0703125,17783.169921875,17962.41015625,17882.66015625,17600.419921875,17807.630859375,17845.720703125,17685.98046875,17546.099609375,17478.91015625,18004.69921875,17937.609375,17933.330078125,17971.05078125,17874.5,18043.849609375,18302.91015625,18226.48046875,17897.869140625,18017.5703125,18297.990234375,18018.44921875,17951.689453125,18219.109375,18068.470703125,18014.810546875,17808.25,17985.009765625,18032.19921875,18019.7890625],\"decreasing\":{\"line\":{\"color\":\"#000000\"}},\"high\":[15245.1904296875,14849.25,14855.919921875,14771.1201171875,14678.48046875,14657.2099609375,14787.580078125,14901.849609375,14892.1796875,14819.8701171875,14803.0400390625,14784.6904296875,15021.3798828125,15070.6396484375,15241.9404296875,15248.2197265625,15333.98046875,15232.3701171875,15209.5,15187.0595703125,15103.8701171875,15023.91015625,14781.2197265625,14746.3701171875,14774.16015625,14643.6904296875,14372.509765625,14321.0400390625,14388.2001953125,14420.4404296875,14677.8603515625,14930.759765625,15149.7802734375,15180.1904296875,15335.4404296875,15343.1904296875,15382.1103515625,15535.2001953125,15524.66015625,15850.33984375,15904.6298828125,15842.6298828125,15876.8701171875,16056.759765625,15968.08984375,16119.3095703125,16007.4296875,16045.2998046875,16031.51953125,16166.509765625,16013.48046875,16013.75,15852.4501953125,15931.83984375,15990.9404296875,16042.509765625,16100.8603515625,16232.259765625,16354.25,16581.0390625,16660.7109375,16669.76953125,16764.3203125,16813.009765625,16860.6796875,16768.01953125,16839.25,16907.509765625,16922.009765625,16969.169921875,16919.509765625,16686.599609375,16471.080078125,16419.439453125,16415.390625,16655.23046875,16710.880859375,16827.369140625,16898.16015625,16900.369140625,16895.330078125,16749.109375,16996.98046875,17317.2109375,17450.30078125,17410.859375,17665.259765625,17631.33984375,17514.759765625,17603.94921875,17578.4609375,17375.3203125,17356.759765625,17682.2890625,17655.76953125,17680.619140625,17784.169921875,17814.119140625,17987.900390625,18041.44921875,17717.669921875,17815.1796875,17864.58984375,17864.16015625,17657.080078125,17482.130859375,18034.80078125,18091.619140625,18014.109375,17987.5390625,17931.009765625,18068.51953125,18333.259765625,18313.4296875,18097.5,18142.880859375,18337.94921875,18416.73046875,18003.05078125,18228.369140625,18163.740234375,18142.900390625,17930.470703125,18124.3203125,18039.8203125,18087.099609375],\"increasing\":{\"line\":{\"color\":\"#ff0000\"}},\"low\":[14967.599609375,14691.6904296875,14686.83984375,14615.4501953125,14505.6796875,14432.599609375,14510.169921875,14664.7802734375,14701.51953125,14504.1396484375,14592.5595703125,14584.3896484375,14575.9501953125,14816.3203125,15050.5400390625,15119.6201171875,15090.6904296875,14943.419921875,15047.26953125,14932.76953125,14865.8095703125,14749.2998046875,14552.1201171875,14419.0595703125,14610.330078125,14362.240234375,14058.330078125,14130.3701171875,14225.8603515625,14232.400390625,14441.8896484375,14792.8095703125,14965.2900390625,15064.91015625,15153.3095703125,15220.8798828125,15171.3203125,15237.169921875,15404.7099609375,15726.1201171875,15765.3095703125,15738.2197265625,15766.9404296875,15844.830078125,15866.8203125,15964.0400390625,15940.6201171875,15932.1904296875,15921.0703125,15976.6904296875,15825.669921875,15834.9296875,15695.580078125,15760.58984375,15776.9501953125,15875.48046875,15937.580078125,16061.8701171875,16175.4599609375,16357.2099609375,16419.259765625,16557.009765625,16629.2890625,16733.380859375,16552.060546875,16621.51953125,16703.5703125,16813.5703125,16859.55078125,16891.3203125,16757.890625,16453.150390625,16352.1396484375,16276.4296875,16249.1904296875,16349.3896484375,16513.73046875,16654.740234375,16618.859375,16776.919921875,16726.58984375,16561.490234375,16818.130859375,17041.849609375,17309.869140625,17286.01953125,17481.970703125,17430.369140625,17395.5390625,17414.619140625,17443.76953125,17128.740234375,17175.830078125,17378.369140625,17469.619140625,17475.4296875,17637.73046875,17728.55078125,17798.810546875,17859.66015625,17478.23046875,17619.919921875,17722.310546875,17663.400390625,17399.41015625,17319.439453125,17808.259765625,17902.779296875,17926.66015625,17871.060546875,17840.359375,17866.259765625,18064.439453125,18218.25,17804.5,17941.640625,18101.4296875,17995.380859375,17873.330078125,17919.330078125,18030.400390625,17913.630859375,17764.990234375,17973.08984375,17809.150390625,18005.0],\"name\":\"\\u65e5K\\u7dda\\u5716\",\"open\":[15225.33984375,14813.490234375,14756.6201171875,14662.6904296875,14668.4501953125,14600.1396484375,14530.9599609375,14853.349609375,14717.900390625,14744.0498046875,14613.23046875,14769.5498046875,14622.23046875,14871.5703125,15074.0400390625,15194.5302734375,15264.1103515625,15225.73046875,15054.48046875,15009.259765625,15022.2802734375,14981.1298828125,14752.58984375,14514.1103515625,14678.41015625,14642.080078125,14314.009765625,14245.75,14283.98046875,14340.8603515625,14453.6796875,14856.9501953125,14985.1201171875,15137.16015625,15201.76953125,15313.900390625,15351.1201171875,15252.3603515625,15469.2099609375,15744.3603515625,15881.7197265625,15765.2001953125,15803.98046875,15845.2001953125,15951.5498046875,16025.740234375,15974.849609375,15969.7197265625,15940.2900390625,16111.3603515625,15987.66015625,15892.58984375,15837.1201171875,15763.650390625,15990.2001953125,15888.23046875,15952.849609375,16069.6201171875,16209.6103515625,16392.1796875,16603.5390625,16587.0,16631.109375,16734.25,16763.640625,16719.609375,16799.01953125,16816.779296875,16896.140625,16963.51953125,16902.439453125,16667.30078125,16413.259765625,16290.7802734375,16281.740234375,16354.2197265625,16531.9609375,16702.55078125,16852.189453125,16855.0,16775.099609375,16705.509765625,16894.330078125,17060.140625,17403.619140625,17346.94921875,17562.3203125,17589.26953125,17432.869140625,17438.029296875,17556.490234375,17269.98046875,17216.990234375,17415.939453125,17634.689453125,17664.439453125,17674.58984375,17757.599609375,17820.98046875,17942.279296875,17519.80078125,17728.900390625,17815.3203125,17853.58984375,17591.169921875,17412.7890625,17857.759765625,18052.58984375,17970.2109375,17962.580078125,17895.029296875,17991.669921875,18069.2890625,18290.099609375,18088.7109375,18083.509765625,18161.73046875,18312.7890625,17959.6796875,18063.01953125,18151.759765625,18114.689453125,17926.919921875,18024.240234375,17902.51953125,18067.69921875],\"showlegend\":true,\"x\":[\"2023-09-20\",\"2023-09-21\",\"2023-09-22\",\"2023-09-25\",\"2023-09-26\",\"2023-09-27\",\"2023-09-28\",\"2023-09-29\",\"2023-10-02\",\"2023-10-03\",\"2023-10-04\",\"2023-10-05\",\"2023-10-06\",\"2023-10-09\",\"2023-10-10\",\"2023-10-11\",\"2023-10-12\",\"2023-10-13\",\"2023-10-16\",\"2023-10-17\",\"2023-10-18\",\"2023-10-19\",\"2023-10-20\",\"2023-10-23\",\"2023-10-24\",\"2023-10-25\",\"2023-10-26\",\"2023-10-27\",\"2023-10-30\",\"2023-10-31\",\"2023-11-01\",\"2023-11-02\",\"2023-11-03\",\"2023-11-06\",\"2023-11-07\",\"2023-11-08\",\"2023-11-09\",\"2023-11-10\",\"2023-11-13\",\"2023-11-14\",\"2023-11-15\",\"2023-11-16\",\"2023-11-17\",\"2023-11-20\",\"2023-11-21\",\"2023-11-22\",\"2023-11-24\",\"2023-11-27\",\"2023-11-28\",\"2023-11-29\",\"2023-11-30\",\"2023-12-01\",\"2023-12-04\",\"2023-12-05\",\"2023-12-06\",\"2023-12-07\",\"2023-12-08\",\"2023-12-11\",\"2023-12-12\",\"2023-12-13\",\"2023-12-14\",\"2023-12-15\",\"2023-12-18\",\"2023-12-19\",\"2023-12-20\",\"2023-12-21\",\"2023-12-22\",\"2023-12-26\",\"2023-12-27\",\"2023-12-28\",\"2023-12-29\",\"2024-01-02\",\"2024-01-03\",\"2024-01-04\",\"2024-01-05\",\"2024-01-08\",\"2024-01-09\",\"2024-01-10\",\"2024-01-11\",\"2024-01-12\",\"2024-01-16\",\"2024-01-17\",\"2024-01-18\",\"2024-01-19\",\"2024-01-22\",\"2024-01-23\",\"2024-01-24\",\"2024-01-25\",\"2024-01-26\",\"2024-01-29\",\"2024-01-30\",\"2024-01-31\",\"2024-02-01\",\"2024-02-02\",\"2024-02-05\",\"2024-02-06\",\"2024-02-07\",\"2024-02-08\",\"2024-02-09\",\"2024-02-12\",\"2024-02-13\",\"2024-02-14\",\"2024-02-15\",\"2024-02-16\",\"2024-02-20\",\"2024-02-21\",\"2024-02-22\",\"2024-02-23\",\"2024-02-26\",\"2024-02-27\",\"2024-02-28\",\"2024-02-29\",\"2024-03-01\",\"2024-03-04\",\"2024-03-05\",\"2024-03-06\",\"2024-03-07\",\"2024-03-08\",\"2024-03-11\",\"2024-03-12\",\"2024-03-13\",\"2024-03-14\",\"2024-03-15\",\"2024-03-18\",\"2024-03-19\",\"2024-03-20\"],\"yaxis\":\"y2\",\"type\":\"candlestick\"}],                        {\"legend\":{\"bgcolor\":\"#F5F6F9\",\"font\":{\"color\":\"#4D5663\"},\"orientation\":\"h\",\"x\":0.3,\"y\":0.95,\"yanchor\":\"bottom\"},\"margin\":{\"b\":30,\"l\":30,\"r\":30,\"t\":30},\"paper_bgcolor\":\"#F5F6F9\",\"plot_bgcolor\":\"#F5F6F9\",\"showlegend\":true,\"template\":{\"data\":{\"barpolar\":[{\"marker\":{\"line\":{\"color\":\"#E5ECF6\",\"width\":0.5},\"pattern\":{\"fillmode\":\"overlay\",\"size\":10,\"solidity\":0.2}},\"type\":\"barpolar\"}],\"bar\":[{\"error_x\":{\"color\":\"#2a3f5f\"},\"error_y\":{\"color\":\"#2a3f5f\"},\"marker\":{\"line\":{\"color\":\"#E5ECF6\",\"width\":0.5},\"pattern\":{\"fillmode\":\"overlay\",\"size\":10,\"solidity\":0.2}},\"type\":\"bar\"}],\"carpet\":[{\"aaxis\":{\"endlinecolor\":\"#2a3f5f\",\"gridcolor\":\"white\",\"linecolor\":\"white\",\"minorgridcolor\":\"white\",\"startlinecolor\":\"#2a3f5f\"},\"baxis\":{\"endlinecolor\":\"#2a3f5f\",\"gridcolor\":\"white\",\"linecolor\":\"white\",\"minorgridcolor\":\"white\",\"startlinecolor\":\"#2a3f5f\"},\"type\":\"carpet\"}],\"choropleth\":[{\"colorbar\":{\"outlinewidth\":0,\"ticks\":\"\"},\"type\":\"choropleth\"}],\"contourcarpet\":[{\"colorbar\":{\"outlinewidth\":0,\"ticks\":\"\"},\"type\":\"contourcarpet\"}],\"contour\":[{\"colorbar\":{\"outlinewidth\":0,\"ticks\":\"\"},\"colorscale\":[[0.0,\"#0d0887\"],[0.1111111111111111,\"#46039f\"],[0.2222222222222222,\"#7201a8\"],[0.3333333333333333,\"#9c179e\"],[0.4444444444444444,\"#bd3786\"],[0.5555555555555556,\"#d8576b\"],[0.6666666666666666,\"#ed7953\"],[0.7777777777777778,\"#fb9f3a\"],[0.8888888888888888,\"#fdca26\"],[1.0,\"#f0f921\"]],\"type\":\"contour\"}],\"heatmapgl\":[{\"colorbar\":{\"outlinewidth\":0,\"ticks\":\"\"},\"colorscale\":[[0.0,\"#0d0887\"],[0.1111111111111111,\"#46039f\"],[0.2222222222222222,\"#7201a8\"],[0.3333333333333333,\"#9c179e\"],[0.4444444444444444,\"#bd3786\"],[0.5555555555555556,\"#d8576b\"],[0.6666666666666666,\"#ed7953\"],[0.7777777777777778,\"#fb9f3a\"],[0.8888888888888888,\"#fdca26\"],[1.0,\"#f0f921\"]],\"type\":\"heatmapgl\"}],\"heatmap\":[{\"colorbar\":{\"outlinewidth\":0,\"ticks\":\"\"},\"colorscale\":[[0.0,\"#0d0887\"],[0.1111111111111111,\"#46039f\"],[0.2222222222222222,\"#7201a8\"],[0.3333333333333333,\"#9c179e\"],[0.4444444444444444,\"#bd3786\"],[0.5555555555555556,\"#d8576b\"],[0.6666666666666666,\"#ed7953\"],[0.7777777777777778,\"#fb9f3a\"],[0.8888888888888888,\"#fdca26\"],[1.0,\"#f0f921\"]],\"type\":\"heatmap\"}],\"histogram2dcontour\":[{\"colorbar\":{\"outlinewidth\":0,\"ticks\":\"\"},\"colorscale\":[[0.0,\"#0d0887\"],[0.1111111111111111,\"#46039f\"],[0.2222222222222222,\"#7201a8\"],[0.3333333333333333,\"#9c179e\"],[0.4444444444444444,\"#bd3786\"],[0.5555555555555556,\"#d8576b\"],[0.6666666666666666,\"#ed7953\"],[0.7777777777777778,\"#fb9f3a\"],[0.8888888888888888,\"#fdca26\"],[1.0,\"#f0f921\"]],\"type\":\"histogram2dcontour\"}],\"histogram2d\":[{\"colorbar\":{\"outlinewidth\":0,\"ticks\":\"\"},\"colorscale\":[[0.0,\"#0d0887\"],[0.1111111111111111,\"#46039f\"],[0.2222222222222222,\"#7201a8\"],[0.3333333333333333,\"#9c179e\"],[0.4444444444444444,\"#bd3786\"],[0.5555555555555556,\"#d8576b\"],[0.6666666666666666,\"#ed7953\"],[0.7777777777777778,\"#fb9f3a\"],[0.8888888888888888,\"#fdca26\"],[1.0,\"#f0f921\"]],\"type\":\"histogram2d\"}],\"histogram\":[{\"marker\":{\"pattern\":{\"fillmode\":\"overlay\",\"size\":10,\"solidity\":0.2}},\"type\":\"histogram\"}],\"mesh3d\":[{\"colorbar\":{\"outlinewidth\":0,\"ticks\":\"\"},\"type\":\"mesh3d\"}],\"parcoords\":[{\"line\":{\"colorbar\":{\"outlinewidth\":0,\"ticks\":\"\"}},\"type\":\"parcoords\"}],\"pie\":[{\"automargin\":true,\"type\":\"pie\"}],\"scatter3d\":[{\"line\":{\"colorbar\":{\"outlinewidth\":0,\"ticks\":\"\"}},\"marker\":{\"colorbar\":{\"outlinewidth\":0,\"ticks\":\"\"}},\"type\":\"scatter3d\"}],\"scattercarpet\":[{\"marker\":{\"colorbar\":{\"outlinewidth\":0,\"ticks\":\"\"}},\"type\":\"scattercarpet\"}],\"scattergeo\":[{\"marker\":{\"colorbar\":{\"outlinewidth\":0,\"ticks\":\"\"}},\"type\":\"scattergeo\"}],\"scattergl\":[{\"marker\":{\"colorbar\":{\"outlinewidth\":0,\"ticks\":\"\"}},\"type\":\"scattergl\"}],\"scattermapbox\":[{\"marker\":{\"colorbar\":{\"outlinewidth\":0,\"ticks\":\"\"}},\"type\":\"scattermapbox\"}],\"scatterpolargl\":[{\"marker\":{\"colorbar\":{\"outlinewidth\":0,\"ticks\":\"\"}},\"type\":\"scatterpolargl\"}],\"scatterpolar\":[{\"marker\":{\"colorbar\":{\"outlinewidth\":0,\"ticks\":\"\"}},\"type\":\"scatterpolar\"}],\"scatter\":[{\"fillpattern\":{\"fillmode\":\"overlay\",\"size\":10,\"solidity\":0.2},\"type\":\"scatter\"}],\"scatterternary\":[{\"marker\":{\"colorbar\":{\"outlinewidth\":0,\"ticks\":\"\"}},\"type\":\"scatterternary\"}],\"surface\":[{\"colorbar\":{\"outlinewidth\":0,\"ticks\":\"\"},\"colorscale\":[[0.0,\"#0d0887\"],[0.1111111111111111,\"#46039f\"],[0.2222222222222222,\"#7201a8\"],[0.3333333333333333,\"#9c179e\"],[0.4444444444444444,\"#bd3786\"],[0.5555555555555556,\"#d8576b\"],[0.6666666666666666,\"#ed7953\"],[0.7777777777777778,\"#fb9f3a\"],[0.8888888888888888,\"#fdca26\"],[1.0,\"#f0f921\"]],\"type\":\"surface\"}],\"table\":[{\"cells\":{\"fill\":{\"color\":\"#EBF0F8\"},\"line\":{\"color\":\"white\"}},\"header\":{\"fill\":{\"color\":\"#C8D4E3\"},\"line\":{\"color\":\"white\"}},\"type\":\"table\"}]},\"layout\":{\"annotationdefaults\":{\"arrowcolor\":\"#2a3f5f\",\"arrowhead\":0,\"arrowwidth\":1},\"autotypenumbers\":\"strict\",\"coloraxis\":{\"colorbar\":{\"outlinewidth\":0,\"ticks\":\"\"}},\"colorscale\":{\"diverging\":[[0,\"#8e0152\"],[0.1,\"#c51b7d\"],[0.2,\"#de77ae\"],[0.3,\"#f1b6da\"],[0.4,\"#fde0ef\"],[0.5,\"#f7f7f7\"],[0.6,\"#e6f5d0\"],[0.7,\"#b8e186\"],[0.8,\"#7fbc41\"],[0.9,\"#4d9221\"],[1,\"#276419\"]],\"sequential\":[[0.0,\"#0d0887\"],[0.1111111111111111,\"#46039f\"],[0.2222222222222222,\"#7201a8\"],[0.3333333333333333,\"#9c179e\"],[0.4444444444444444,\"#bd3786\"],[0.5555555555555556,\"#d8576b\"],[0.6666666666666666,\"#ed7953\"],[0.7777777777777778,\"#fb9f3a\"],[0.8888888888888888,\"#fdca26\"],[1.0,\"#f0f921\"]],\"sequentialminus\":[[0.0,\"#0d0887\"],[0.1111111111111111,\"#46039f\"],[0.2222222222222222,\"#7201a8\"],[0.3333333333333333,\"#9c179e\"],[0.4444444444444444,\"#bd3786\"],[0.5555555555555556,\"#d8576b\"],[0.6666666666666666,\"#ed7953\"],[0.7777777777777778,\"#fb9f3a\"],[0.8888888888888888,\"#fdca26\"],[1.0,\"#f0f921\"]]},\"colorway\":[\"#636efa\",\"#EF553B\",\"#00cc96\",\"#ab63fa\",\"#FFA15A\",\"#19d3f3\",\"#FF6692\",\"#B6E880\",\"#FF97FF\",\"#FECB52\"],\"font\":{\"color\":\"#2a3f5f\"},\"geo\":{\"bgcolor\":\"white\",\"lakecolor\":\"white\",\"landcolor\":\"#E5ECF6\",\"showlakes\":true,\"showland\":true,\"subunitcolor\":\"white\"},\"hoverlabel\":{\"align\":\"left\"},\"hovermode\":\"closest\",\"mapbox\":{\"style\":\"light\"},\"paper_bgcolor\":\"white\",\"plot_bgcolor\":\"#E5ECF6\",\"polar\":{\"angularaxis\":{\"gridcolor\":\"white\",\"linecolor\":\"white\",\"ticks\":\"\"},\"bgcolor\":\"#E5ECF6\",\"radialaxis\":{\"gridcolor\":\"white\",\"linecolor\":\"white\",\"ticks\":\"\"}},\"scene\":{\"xaxis\":{\"backgroundcolor\":\"#E5ECF6\",\"gridcolor\":\"white\",\"gridwidth\":2,\"linecolor\":\"white\",\"showbackground\":true,\"ticks\":\"\",\"zerolinecolor\":\"white\"},\"yaxis\":{\"backgroundcolor\":\"#E5ECF6\",\"gridcolor\":\"white\",\"gridwidth\":2,\"linecolor\":\"white\",\"showbackground\":true,\"ticks\":\"\",\"zerolinecolor\":\"white\"},\"zaxis\":{\"backgroundcolor\":\"#E5ECF6\",\"gridcolor\":\"white\",\"gridwidth\":2,\"linecolor\":\"white\",\"showbackground\":true,\"ticks\":\"\",\"zerolinecolor\":\"white\"}},\"shapedefaults\":{\"line\":{\"color\":\"#2a3f5f\"}},\"ternary\":{\"aaxis\":{\"gridcolor\":\"white\",\"linecolor\":\"white\",\"ticks\":\"\"},\"baxis\":{\"gridcolor\":\"white\",\"linecolor\":\"white\",\"ticks\":\"\"},\"bgcolor\":\"#E5ECF6\",\"caxis\":{\"gridcolor\":\"white\",\"linecolor\":\"white\",\"ticks\":\"\"}},\"title\":{\"x\":0.05},\"xaxis\":{\"automargin\":true,\"gridcolor\":\"white\",\"linecolor\":\"white\",\"ticks\":\"\",\"title\":{\"standoff\":15},\"zerolinecolor\":\"white\",\"zerolinewidth\":2},\"yaxis\":{\"automargin\":true,\"gridcolor\":\"white\",\"linecolor\":\"white\",\"ticks\":\"\",\"title\":{\"standoff\":15},\"zerolinecolor\":\"white\",\"zerolinewidth\":2}}},\"title\":{\"font\":{\"color\":\"#4D5663\"},\"text\":\"^NDX\"},\"xaxis\":{\"anchor\":\"y2\",\"gridcolor\":\"#E1E5ED\",\"rangeselector\":{\"bgcolor\":\"rgba(150, 200, 250, 1)\",\"buttons\":[{\"count\":1,\"label\":\"1m\",\"step\":\"month\",\"stepmode\":\"backward\"},{\"count\":1,\"label\":\"1y\",\"step\":\"year\",\"stepmode\":\"backward\"}],\"font\":{\"size\":13},\"visible\":false,\"x\":0,\"y\":0.9},\"rangeslider\":{\"visible\":false},\"showgrid\":true,\"tickfont\":{\"color\":\"#4D5663\"},\"title\":{\"font\":{\"color\":\"#4D5663\"},\"text\":\"\"},\"zerolinecolor\":\"#E1E5ED\"},\"yaxis\":{\"gridcolor\":\"#E1E5ED\",\"showgrid\":true,\"showticklabels\":false,\"tickfont\":{\"color\":\"#4D5663\"},\"title\":{\"font\":{\"color\":\"#4D5663\"},\"text\":\"\"},\"zerolinecolor\":\"#E1E5ED\"},\"yaxis3\":{\"domain\":[0.0,0.15],\"gridcolor\":\"#E1E5ED\",\"showgrid\":true,\"tickfont\":{\"color\":\"#4D5663\"},\"title\":{\"font\":{\"color\":\"#4D5663\"},\"text\":\"\"},\"zerolinecolor\":\"#E1E5ED\"},\"yaxis2\":{\"domain\":[0.23,0.9],\"gridcolor\":\"#E1E5ED\",\"showgrid\":true,\"tickfont\":{\"color\":\"#4D5663\"},\"title\":{\"font\":{\"color\":\"#4D5663\"},\"text\":\"\"},\"zerolinecolor\":\"#E1E5ED\"}},                        {\"showLink\": true, \"linkText\": \"Export to plot.ly\", \"plotlyServerURL\": \"https://plot.ly\", \"responsive\": true}                    ).then(function(){\n",
       "                            \n",
       "var gd = document.getElementById('a3dd2349-a920-4296-bd9d-436e872c936b');\n",
       "var x = new MutationObserver(function (mutations, observer) {{\n",
       "        var display = window.getComputedStyle(gd).display;\n",
       "        if (!display || display === 'none') {{\n",
       "            console.log([gd, 'removed!']);\n",
       "            Plotly.purge(gd);\n",
       "            observer.disconnect();\n",
       "        }}\n",
       "}});\n",
       "\n",
       "// Listen for the removal of the full notebook cells\n",
       "var notebookContainer = gd.closest('#notebook-container');\n",
       "if (notebookContainer) {{\n",
       "    x.observe(notebookContainer, {childList: true});\n",
       "}}\n",
       "\n",
       "// Listen for the clearing of the current output cell\n",
       "var outputEl = gd.closest('.output');\n",
       "if (outputEl) {{\n",
       "    x.observe(outputEl, {childList: true});\n",
       "}}\n",
       "\n",
       "                        })                };                });            </script>        </div>"
      ]
     },
     "metadata": {},
     "output_type": "display_data"
    }
   ],
   "source": [
    "qf = cf.QuantFig(prices, title=x,legend='top', name='日K線圖')\n",
    "qf.add_dmi(periods=14)\n",
    "qf.figure(up_color='#ff0000',down_color='#000000').iplot()\n",
    "#當+DI線向上穿越-DI線時，是買進的交易信號；  \n",
    "#當+DI線向下穿越-DI線時，是賣出的交易信號。"
   ]
  },
  {
   "cell_type": "code",
   "execution_count": 35,
   "metadata": {},
   "outputs": [
    {
     "data": {
      "application/vnd.plotly.v1+json": {
       "config": {
        "linkText": "Export to plot.ly",
        "plotlyServerURL": "https://plot.ly",
        "showLink": true
       },
       "data": [
        {
         "line": {
          "color": "rgba(219, 64, 82, 1.0)",
          "dash": "solid",
          "shape": "linear",
          "width": 1.3
         },
         "mode": "lines",
         "name": " MACD([12,26])",
         "text": "",
         "type": "scatter",
         "x": [
          "2023-09-20",
          "2023-09-21",
          "2023-09-22",
          "2023-09-25",
          "2023-09-26",
          "2023-09-27",
          "2023-09-28",
          "2023-09-29",
          "2023-10-02",
          "2023-10-03",
          "2023-10-04",
          "2023-10-05",
          "2023-10-06",
          "2023-10-09",
          "2023-10-10",
          "2023-10-11",
          "2023-10-12",
          "2023-10-13",
          "2023-10-16",
          "2023-10-17",
          "2023-10-18",
          "2023-10-19",
          "2023-10-20",
          "2023-10-23",
          "2023-10-24",
          "2023-10-25",
          "2023-10-26",
          "2023-10-27",
          "2023-10-30",
          "2023-10-31",
          "2023-11-01",
          "2023-11-02",
          "2023-11-03",
          "2023-11-06",
          "2023-11-07",
          "2023-11-08",
          "2023-11-09",
          "2023-11-10",
          "2023-11-13",
          "2023-11-14",
          "2023-11-15",
          "2023-11-16",
          "2023-11-17",
          "2023-11-20",
          "2023-11-21",
          "2023-11-22",
          "2023-11-24",
          "2023-11-27",
          "2023-11-28",
          "2023-11-29",
          "2023-11-30",
          "2023-12-01",
          "2023-12-04",
          "2023-12-05",
          "2023-12-06",
          "2023-12-07",
          "2023-12-08",
          "2023-12-11",
          "2023-12-12",
          "2023-12-13",
          "2023-12-14",
          "2023-12-15",
          "2023-12-18",
          "2023-12-19",
          "2023-12-20",
          "2023-12-21",
          "2023-12-22",
          "2023-12-26",
          "2023-12-27",
          "2023-12-28",
          "2023-12-29",
          "2024-01-02",
          "2024-01-03",
          "2024-01-04",
          "2024-01-05",
          "2024-01-08",
          "2024-01-09",
          "2024-01-10",
          "2024-01-11",
          "2024-01-12",
          "2024-01-16",
          "2024-01-17",
          "2024-01-18",
          "2024-01-19",
          "2024-01-22",
          "2024-01-23",
          "2024-01-24",
          "2024-01-25",
          "2024-01-26",
          "2024-01-29",
          "2024-01-30",
          "2024-01-31",
          "2024-02-01",
          "2024-02-02",
          "2024-02-05",
          "2024-02-06",
          "2024-02-07",
          "2024-02-08",
          "2024-02-09",
          "2024-02-12",
          "2024-02-13",
          "2024-02-14",
          "2024-02-15",
          "2024-02-16",
          "2024-02-20",
          "2024-02-21",
          "2024-02-22",
          "2024-02-23",
          "2024-02-26",
          "2024-02-27",
          "2024-02-28",
          "2024-02-29",
          "2024-03-01",
          "2024-03-04",
          "2024-03-05",
          "2024-03-06",
          "2024-03-07",
          "2024-03-08",
          "2024-03-11",
          "2024-03-12",
          "2024-03-13",
          "2024-03-14",
          "2024-03-15",
          "2024-03-18",
          "2024-03-19",
          "2024-03-20"
         ],
         "y": [
          0,
          -21.99154202279351,
          -38.4235801657469,
          -45.45119923597122,
          -68.23398897206243,
          -82.56757596361967,
          -83.0758483819227,
          -81.53252027367671,
          -69.63568979401134,
          -81.2152747731161,
          -72.55968517599831,
          -69.1816845387857,
          -45.80205168369139,
          -21.066747931879945,
          5.283142270331155,
          34.6105030759627,
          52.64471387509184,
          51.09885442497762,
          63.47373498699926,
          68.39971084770514,
          54.508099788739855,
          32.941540930845804,
          -2.060082572412284,
          -25.951973710180027,
          -33.126222675409736,
          -67.42420917750678,
          -115.23102073766859,
          -145.72150516386318,
          -155.5775780172753,
          -155.60189569211616,
          -133.49546566095705,
          -94.34116287616234,
          -48.235379546895274,
          -7.1404034180159215,
          36.39291759085609,
          71.45921757540418,
          88.1198443573121,
          127.38863447510266,
          153.0072115605508,
          197.63430871797573,
          230.72203917287516,
          255.29173797887415,
          272.0167207986324,
          297.1028883156923,
          305.9176456559453,
          314.74367004610576,
          316.5258504118028,
          312.71723470359393,
          310.03444230025707,
          302.5781805691495,
          290.11889145353234,
          281.01660892829386,
          258.08590093640487,
          240.21362968920948,
          216.32128357315378,
          213.83880982683513,
          214.41878119209287,
          223.36162476595928,
          238.3940531384651,
          264.0569520768822,
          279.1964838425738,
          294.7062309585144,
          311.98315199284116,
          328.5090433431815,
          317.15656260378273,
          320.86152427401066,
          321.70239300539833,
          326.7568791638296,
          329.2539498245533,
          326.79365479577973,
          315.3551813211452,
          280.30467564220453,
          235.65314889212823,
          191.0855261660854,
          155.90245304122618,
          153.99341569364333,
          153.04265573392695,
          159.6757444465875,
          165.27456347990665,
          168.7364548053847,
          169.3496249842574,
          160.36711034537802,
          171.12669288220786,
          204.06767486539684,
          228.85731420561206,
          251.560914630787,
          274.06735931283765,
          289.98846340917225,
          291.5009894714349,
          303.3449044194058,
          299.6299652969392,
          266.22452994831474,
          253.56865201907203,
          264.5370447153182,
          267.74730237231415,
          263.9957098400737,
          272.59355838501506,
          278.46484949276055,
          294.1898415701362,
          296.7955779091608,
          272.9399329493208,
          267.6688336736697,
          263.5272040141281,
          244.5363677322748,
          215.712181091425,
          185.31102799142536,
          201.32394119807577,
          206.223484622682,
          207.37066465338285,
          208.91531290788407,
          200.04264949863864,
          204.3208148176236,
          226.01001001975965,
          234.3304014457135,
          211.96478563048004,
          201.57512557574955,
          213.5076064736022,
          198.12371297934078,
          178.48741953108402,
          182.40145781058163,
          171.37260277673704,
          156.49821553908623,
          126.58327347353043,
          115.80359049797335,
          109.80267171514788,
          102.85980069766447
         ],
         "yaxis": "y3"
        },
        {
         "line": {
          "color": "rgba(55, 128, 191, 1.0)",
          "dash": "solid",
          "shape": "linear",
          "width": 1.3
         },
         "mode": "lines",
         "name": "MACD SIGNAL(9)",
         "text": "",
         "type": "scatter",
         "x": [
          "2023-09-20",
          "2023-09-21",
          "2023-09-22",
          "2023-09-25",
          "2023-09-26",
          "2023-09-27",
          "2023-09-28",
          "2023-09-29",
          "2023-10-02",
          "2023-10-03",
          "2023-10-04",
          "2023-10-05",
          "2023-10-06",
          "2023-10-09",
          "2023-10-10",
          "2023-10-11",
          "2023-10-12",
          "2023-10-13",
          "2023-10-16",
          "2023-10-17",
          "2023-10-18",
          "2023-10-19",
          "2023-10-20",
          "2023-10-23",
          "2023-10-24",
          "2023-10-25",
          "2023-10-26",
          "2023-10-27",
          "2023-10-30",
          "2023-10-31",
          "2023-11-01",
          "2023-11-02",
          "2023-11-03",
          "2023-11-06",
          "2023-11-07",
          "2023-11-08",
          "2023-11-09",
          "2023-11-10",
          "2023-11-13",
          "2023-11-14",
          "2023-11-15",
          "2023-11-16",
          "2023-11-17",
          "2023-11-20",
          "2023-11-21",
          "2023-11-22",
          "2023-11-24",
          "2023-11-27",
          "2023-11-28",
          "2023-11-29",
          "2023-11-30",
          "2023-12-01",
          "2023-12-04",
          "2023-12-05",
          "2023-12-06",
          "2023-12-07",
          "2023-12-08",
          "2023-12-11",
          "2023-12-12",
          "2023-12-13",
          "2023-12-14",
          "2023-12-15",
          "2023-12-18",
          "2023-12-19",
          "2023-12-20",
          "2023-12-21",
          "2023-12-22",
          "2023-12-26",
          "2023-12-27",
          "2023-12-28",
          "2023-12-29",
          "2024-01-02",
          "2024-01-03",
          "2024-01-04",
          "2024-01-05",
          "2024-01-08",
          "2024-01-09",
          "2024-01-10",
          "2024-01-11",
          "2024-01-12",
          "2024-01-16",
          "2024-01-17",
          "2024-01-18",
          "2024-01-19",
          "2024-01-22",
          "2024-01-23",
          "2024-01-24",
          "2024-01-25",
          "2024-01-26",
          "2024-01-29",
          "2024-01-30",
          "2024-01-31",
          "2024-02-01",
          "2024-02-02",
          "2024-02-05",
          "2024-02-06",
          "2024-02-07",
          "2024-02-08",
          "2024-02-09",
          "2024-02-12",
          "2024-02-13",
          "2024-02-14",
          "2024-02-15",
          "2024-02-16",
          "2024-02-20",
          "2024-02-21",
          "2024-02-22",
          "2024-02-23",
          "2024-02-26",
          "2024-02-27",
          "2024-02-28",
          "2024-02-29",
          "2024-03-01",
          "2024-03-04",
          "2024-03-05",
          "2024-03-06",
          "2024-03-07",
          "2024-03-08",
          "2024-03-11",
          "2024-03-12",
          "2024-03-13",
          "2024-03-14",
          "2024-03-15",
          "2024-03-18",
          "2024-03-19",
          "2024-03-20"
         ],
         "y": [
          0,
          -4.398308404558702,
          -11.203362756796341,
          -18.052930052631318,
          -28.08914183651754,
          -38.98482866193797,
          -47.803032605934916,
          -54.548930139483275,
          -57.566282070388894,
          -62.29608061093434,
          -64.34880152394713,
          -65.31537812691485,
          -61.41271283827017,
          -53.343519856992124,
          -41.618187431527474,
          -26.37244933002944,
          -10.569016689005185,
          1.7645575337913755,
          14.106393024432954,
          24.965056589087393,
          30.873665229017888,
          31.287240369383472,
          24.617775781024324,
          14.503825882783456,
          4.977816171144818,
          -9.502588898585502,
          -30.64827526640212,
          -53.66292124589434,
          -74.04585260017053,
          -90.35706121855966,
          -98.98474210703914,
          -98.05602626086379,
          -88.09189691807009,
          -71.90159821805926,
          -50.2426950562762,
          -25.902312529940126,
          -3.0978811524896805,
          22.999421973028788,
          49.00097989053319,
          78.7276456560217,
          109.1265243593924,
          138.35956708328877,
          165.0909978263575,
          191.49337592422447,
          214.37822987056865,
          234.4513179056761,
          250.86622440690147,
          263.23642646624,
          272.59602963304343,
          278.59245982026465,
          280.89774614691817,
          280.9215187031933,
          276.3543951498357,
          269.12624205771044,
          258.56525036079915,
          249.61996225400634,
          242.57972604162367,
          238.7361057864908,
          238.66769525688568,
          243.745546620885,
          250.83573406522277,
          259.6098334438811,
          270.0844971536731,
          281.7694063915748,
          288.8468376340164,
          295.2497749620153,
          300.5402985706919,
          305.78361468931945,
          310.4776817163662,
          313.7408763322489,
          314.0637373300282,
          307.31192499246345,
          292.98016977239644,
          272.60124105113425,
          249.26148344915265,
          230.2078698980508,
          214.77482706522605,
          203.75501054149836,
          196.05892112918002,
          190.59442786442096,
          186.34546728838825,
          181.1497958997862,
          179.14517529627054,
          184.1296752100958,
          193.07520300919907,
          204.77234533351668,
          218.63134812938088,
          232.90277118533916,
          244.62241484255833,
          256.3669127579278,
          265.01952326573013,
          265.2605246022471,
          262.9221500856121,
          263.24512901155333,
          264.1455636837055,
          264.1155929149792,
          265.8111860089864,
          268.34191870574125,
          273.51150327862024,
          278.1683182047284,
          277.1226411536469,
          275.23187965765146,
          272.89094452894676,
          267.22002916961236,
          256.9184595539749,
          242.59697324146504,
          234.3423668327872,
          228.7185903907662,
          224.44900524328955,
          221.34226677620848,
          217.08234332069452,
          214.53003762008035,
          216.82603210001622,
          220.3269059691557,
          218.65448190142058,
          215.2386106362864,
          214.8924098037496,
          211.53867043886783,
          204.92842025731107,
          200.42302776796518,
          194.61294276971955,
          186.9899973235929,
          174.9086525535804,
          163.087640142459,
          152.43064645699678,
          142.51647730513034
         ],
         "yaxis": "y3"
        },
        {
         "close": [
          14969.919921875,
          14694.240234375,
          14701.099609375,
          14768.900390625,
          14545.830078125,
          14580.16015625,
          14702.76953125,
          14715.240234375,
          14837.5703125,
          14565.6201171875,
          14776.25,
          14723.2197265625,
          14973.240234375,
          15047.150390625,
          15131.51953125,
          15241.1201171875,
          15184.099609375,
          14995.1201171875,
          15172.73046875,
          15122.009765625,
          14909.259765625,
          14783.1298828125,
          14560.8798828125,
          14604.849609375,
          14745.8603515625,
          14381.6396484375,
          14109.5703125,
          14180.419921875,
          14335.509765625,
          14409.7802734375,
          14664.91015625,
          14919.5498046875,
          15099.490234375,
          15154.9296875,
          15296.01953125,
          15313.240234375,
          15187.900390625,
          15529.1201171875,
          15482.7900390625,
          15812.4697265625,
          15817.1796875,
          15833.169921875,
          15837.990234375,
          16027.0595703125,
          15933.6201171875,
          16001.3896484375,
          15982.009765625,
          15961.98046875,
          16010.4296875,
          15987.599609375,
          15947.8701171875,
          15997.580078125,
          15839.669921875,
          15877.7099609375,
          15788.0498046875,
          16022.490234375,
          16084.6904296875,
          16221.73046875,
          16354.25,
          16562.369140625,
          16537.830078125,
          16623.44921875,
          16729.80078125,
          16811.849609375,
          16554.16015625,
          16757.41015625,
          16777.400390625,
          16878.4609375,
          16906.80078125,
          16898.470703125,
          16825.9296875,
          16543.939453125,
          16368.490234375,
          16282.009765625,
          16305.98046875,
          16649.869140625,
          16678.69921875,
          16793.05078125,
          16820.900390625,
          16832.919921875,
          16830.7109375,
          16736.279296875,
          16982.2890625,
          17314,
          17330.380859375,
          17404.2109375,
          17499.30078125,
          17516.990234375,
          17421.009765625,
          17596.26953125,
          17476.7109375,
          17137.240234375,
          17344.7109375,
          17642.73046875,
          17613.0390625,
          17572.73046875,
          17755.0703125,
          17783.169921875,
          17962.41015625,
          17882.66015625,
          17600.419921875,
          17807.630859375,
          17845.720703125,
          17685.98046875,
          17546.099609375,
          17478.91015625,
          18004.69921875,
          17937.609375,
          17933.330078125,
          17971.05078125,
          17874.5,
          18043.849609375,
          18302.91015625,
          18226.48046875,
          17897.869140625,
          18017.5703125,
          18297.990234375,
          18018.44921875,
          17951.689453125,
          18219.109375,
          18068.470703125,
          18014.810546875,
          17808.25,
          17985.009765625,
          18032.19921875,
          18019.7890625
         ],
         "decreasing": {
          "line": {
           "color": "#000000"
          }
         },
         "high": [
          15245.1904296875,
          14849.25,
          14855.919921875,
          14771.1201171875,
          14678.48046875,
          14657.2099609375,
          14787.580078125,
          14901.849609375,
          14892.1796875,
          14819.8701171875,
          14803.0400390625,
          14784.6904296875,
          15021.3798828125,
          15070.6396484375,
          15241.9404296875,
          15248.2197265625,
          15333.98046875,
          15232.3701171875,
          15209.5,
          15187.0595703125,
          15103.8701171875,
          15023.91015625,
          14781.2197265625,
          14746.3701171875,
          14774.16015625,
          14643.6904296875,
          14372.509765625,
          14321.0400390625,
          14388.2001953125,
          14420.4404296875,
          14677.8603515625,
          14930.759765625,
          15149.7802734375,
          15180.1904296875,
          15335.4404296875,
          15343.1904296875,
          15382.1103515625,
          15535.2001953125,
          15524.66015625,
          15850.33984375,
          15904.6298828125,
          15842.6298828125,
          15876.8701171875,
          16056.759765625,
          15968.08984375,
          16119.3095703125,
          16007.4296875,
          16045.2998046875,
          16031.51953125,
          16166.509765625,
          16013.48046875,
          16013.75,
          15852.4501953125,
          15931.83984375,
          15990.9404296875,
          16042.509765625,
          16100.8603515625,
          16232.259765625,
          16354.25,
          16581.0390625,
          16660.7109375,
          16669.76953125,
          16764.3203125,
          16813.009765625,
          16860.6796875,
          16768.01953125,
          16839.25,
          16907.509765625,
          16922.009765625,
          16969.169921875,
          16919.509765625,
          16686.599609375,
          16471.080078125,
          16419.439453125,
          16415.390625,
          16655.23046875,
          16710.880859375,
          16827.369140625,
          16898.16015625,
          16900.369140625,
          16895.330078125,
          16749.109375,
          16996.98046875,
          17317.2109375,
          17450.30078125,
          17410.859375,
          17665.259765625,
          17631.33984375,
          17514.759765625,
          17603.94921875,
          17578.4609375,
          17375.3203125,
          17356.759765625,
          17682.2890625,
          17655.76953125,
          17680.619140625,
          17784.169921875,
          17814.119140625,
          17987.900390625,
          18041.44921875,
          17717.669921875,
          17815.1796875,
          17864.58984375,
          17864.16015625,
          17657.080078125,
          17482.130859375,
          18034.80078125,
          18091.619140625,
          18014.109375,
          17987.5390625,
          17931.009765625,
          18068.51953125,
          18333.259765625,
          18313.4296875,
          18097.5,
          18142.880859375,
          18337.94921875,
          18416.73046875,
          18003.05078125,
          18228.369140625,
          18163.740234375,
          18142.900390625,
          17930.470703125,
          18124.3203125,
          18039.8203125,
          18087.099609375
         ],
         "increasing": {
          "line": {
           "color": "#ff0000"
          }
         },
         "low": [
          14967.599609375,
          14691.6904296875,
          14686.83984375,
          14615.4501953125,
          14505.6796875,
          14432.599609375,
          14510.169921875,
          14664.7802734375,
          14701.51953125,
          14504.1396484375,
          14592.5595703125,
          14584.3896484375,
          14575.9501953125,
          14816.3203125,
          15050.5400390625,
          15119.6201171875,
          15090.6904296875,
          14943.419921875,
          15047.26953125,
          14932.76953125,
          14865.8095703125,
          14749.2998046875,
          14552.1201171875,
          14419.0595703125,
          14610.330078125,
          14362.240234375,
          14058.330078125,
          14130.3701171875,
          14225.8603515625,
          14232.400390625,
          14441.8896484375,
          14792.8095703125,
          14965.2900390625,
          15064.91015625,
          15153.3095703125,
          15220.8798828125,
          15171.3203125,
          15237.169921875,
          15404.7099609375,
          15726.1201171875,
          15765.3095703125,
          15738.2197265625,
          15766.9404296875,
          15844.830078125,
          15866.8203125,
          15964.0400390625,
          15940.6201171875,
          15932.1904296875,
          15921.0703125,
          15976.6904296875,
          15825.669921875,
          15834.9296875,
          15695.580078125,
          15760.58984375,
          15776.9501953125,
          15875.48046875,
          15937.580078125,
          16061.8701171875,
          16175.4599609375,
          16357.2099609375,
          16419.259765625,
          16557.009765625,
          16629.2890625,
          16733.380859375,
          16552.060546875,
          16621.51953125,
          16703.5703125,
          16813.5703125,
          16859.55078125,
          16891.3203125,
          16757.890625,
          16453.150390625,
          16352.1396484375,
          16276.4296875,
          16249.1904296875,
          16349.3896484375,
          16513.73046875,
          16654.740234375,
          16618.859375,
          16776.919921875,
          16726.58984375,
          16561.490234375,
          16818.130859375,
          17041.849609375,
          17309.869140625,
          17286.01953125,
          17481.970703125,
          17430.369140625,
          17395.5390625,
          17414.619140625,
          17443.76953125,
          17128.740234375,
          17175.830078125,
          17378.369140625,
          17469.619140625,
          17475.4296875,
          17637.73046875,
          17728.55078125,
          17798.810546875,
          17859.66015625,
          17478.23046875,
          17619.919921875,
          17722.310546875,
          17663.400390625,
          17399.41015625,
          17319.439453125,
          17808.259765625,
          17902.779296875,
          17926.66015625,
          17871.060546875,
          17840.359375,
          17866.259765625,
          18064.439453125,
          18218.25,
          17804.5,
          17941.640625,
          18101.4296875,
          17995.380859375,
          17873.330078125,
          17919.330078125,
          18030.400390625,
          17913.630859375,
          17764.990234375,
          17973.08984375,
          17809.150390625,
          18005
         ],
         "name": "日K線圖",
         "open": [
          15225.33984375,
          14813.490234375,
          14756.6201171875,
          14662.6904296875,
          14668.4501953125,
          14600.1396484375,
          14530.9599609375,
          14853.349609375,
          14717.900390625,
          14744.0498046875,
          14613.23046875,
          14769.5498046875,
          14622.23046875,
          14871.5703125,
          15074.0400390625,
          15194.5302734375,
          15264.1103515625,
          15225.73046875,
          15054.48046875,
          15009.259765625,
          15022.2802734375,
          14981.1298828125,
          14752.58984375,
          14514.1103515625,
          14678.41015625,
          14642.080078125,
          14314.009765625,
          14245.75,
          14283.98046875,
          14340.8603515625,
          14453.6796875,
          14856.9501953125,
          14985.1201171875,
          15137.16015625,
          15201.76953125,
          15313.900390625,
          15351.1201171875,
          15252.3603515625,
          15469.2099609375,
          15744.3603515625,
          15881.7197265625,
          15765.2001953125,
          15803.98046875,
          15845.2001953125,
          15951.5498046875,
          16025.740234375,
          15974.849609375,
          15969.7197265625,
          15940.2900390625,
          16111.3603515625,
          15987.66015625,
          15892.58984375,
          15837.1201171875,
          15763.650390625,
          15990.2001953125,
          15888.23046875,
          15952.849609375,
          16069.6201171875,
          16209.6103515625,
          16392.1796875,
          16603.5390625,
          16587,
          16631.109375,
          16734.25,
          16763.640625,
          16719.609375,
          16799.01953125,
          16816.779296875,
          16896.140625,
          16963.51953125,
          16902.439453125,
          16667.30078125,
          16413.259765625,
          16290.7802734375,
          16281.740234375,
          16354.2197265625,
          16531.9609375,
          16702.55078125,
          16852.189453125,
          16855,
          16775.099609375,
          16705.509765625,
          16894.330078125,
          17060.140625,
          17403.619140625,
          17346.94921875,
          17562.3203125,
          17589.26953125,
          17432.869140625,
          17438.029296875,
          17556.490234375,
          17269.98046875,
          17216.990234375,
          17415.939453125,
          17634.689453125,
          17664.439453125,
          17674.58984375,
          17757.599609375,
          17820.98046875,
          17942.279296875,
          17519.80078125,
          17728.900390625,
          17815.3203125,
          17853.58984375,
          17591.169921875,
          17412.7890625,
          17857.759765625,
          18052.58984375,
          17970.2109375,
          17962.580078125,
          17895.029296875,
          17991.669921875,
          18069.2890625,
          18290.099609375,
          18088.7109375,
          18083.509765625,
          18161.73046875,
          18312.7890625,
          17959.6796875,
          18063.01953125,
          18151.759765625,
          18114.689453125,
          17926.919921875,
          18024.240234375,
          17902.51953125,
          18067.69921875
         ],
         "showlegend": true,
         "type": "candlestick",
         "x": [
          "2023-09-20",
          "2023-09-21",
          "2023-09-22",
          "2023-09-25",
          "2023-09-26",
          "2023-09-27",
          "2023-09-28",
          "2023-09-29",
          "2023-10-02",
          "2023-10-03",
          "2023-10-04",
          "2023-10-05",
          "2023-10-06",
          "2023-10-09",
          "2023-10-10",
          "2023-10-11",
          "2023-10-12",
          "2023-10-13",
          "2023-10-16",
          "2023-10-17",
          "2023-10-18",
          "2023-10-19",
          "2023-10-20",
          "2023-10-23",
          "2023-10-24",
          "2023-10-25",
          "2023-10-26",
          "2023-10-27",
          "2023-10-30",
          "2023-10-31",
          "2023-11-01",
          "2023-11-02",
          "2023-11-03",
          "2023-11-06",
          "2023-11-07",
          "2023-11-08",
          "2023-11-09",
          "2023-11-10",
          "2023-11-13",
          "2023-11-14",
          "2023-11-15",
          "2023-11-16",
          "2023-11-17",
          "2023-11-20",
          "2023-11-21",
          "2023-11-22",
          "2023-11-24",
          "2023-11-27",
          "2023-11-28",
          "2023-11-29",
          "2023-11-30",
          "2023-12-01",
          "2023-12-04",
          "2023-12-05",
          "2023-12-06",
          "2023-12-07",
          "2023-12-08",
          "2023-12-11",
          "2023-12-12",
          "2023-12-13",
          "2023-12-14",
          "2023-12-15",
          "2023-12-18",
          "2023-12-19",
          "2023-12-20",
          "2023-12-21",
          "2023-12-22",
          "2023-12-26",
          "2023-12-27",
          "2023-12-28",
          "2023-12-29",
          "2024-01-02",
          "2024-01-03",
          "2024-01-04",
          "2024-01-05",
          "2024-01-08",
          "2024-01-09",
          "2024-01-10",
          "2024-01-11",
          "2024-01-12",
          "2024-01-16",
          "2024-01-17",
          "2024-01-18",
          "2024-01-19",
          "2024-01-22",
          "2024-01-23",
          "2024-01-24",
          "2024-01-25",
          "2024-01-26",
          "2024-01-29",
          "2024-01-30",
          "2024-01-31",
          "2024-02-01",
          "2024-02-02",
          "2024-02-05",
          "2024-02-06",
          "2024-02-07",
          "2024-02-08",
          "2024-02-09",
          "2024-02-12",
          "2024-02-13",
          "2024-02-14",
          "2024-02-15",
          "2024-02-16",
          "2024-02-20",
          "2024-02-21",
          "2024-02-22",
          "2024-02-23",
          "2024-02-26",
          "2024-02-27",
          "2024-02-28",
          "2024-02-29",
          "2024-03-01",
          "2024-03-04",
          "2024-03-05",
          "2024-03-06",
          "2024-03-07",
          "2024-03-08",
          "2024-03-11",
          "2024-03-12",
          "2024-03-13",
          "2024-03-14",
          "2024-03-15",
          "2024-03-18",
          "2024-03-19",
          "2024-03-20"
         ],
         "yaxis": "y2"
        }
       ],
       "layout": {
        "legend": {
         "bgcolor": "#F5F6F9",
         "font": {
          "color": "#4D5663"
         },
         "orientation": "h",
         "x": 0.3,
         "y": 0.95,
         "yanchor": "bottom"
        },
        "margin": {
         "b": 30,
         "l": 30,
         "r": 30,
         "t": 30
        },
        "paper_bgcolor": "#F5F6F9",
        "plot_bgcolor": "#F5F6F9",
        "showlegend": true,
        "template": {
         "data": {
          "bar": [
           {
            "error_x": {
             "color": "#2a3f5f"
            },
            "error_y": {
             "color": "#2a3f5f"
            },
            "marker": {
             "line": {
              "color": "#E5ECF6",
              "width": 0.5
             },
             "pattern": {
              "fillmode": "overlay",
              "size": 10,
              "solidity": 0.2
             }
            },
            "type": "bar"
           }
          ],
          "barpolar": [
           {
            "marker": {
             "line": {
              "color": "#E5ECF6",
              "width": 0.5
             },
             "pattern": {
              "fillmode": "overlay",
              "size": 10,
              "solidity": 0.2
             }
            },
            "type": "barpolar"
           }
          ],
          "carpet": [
           {
            "aaxis": {
             "endlinecolor": "#2a3f5f",
             "gridcolor": "white",
             "linecolor": "white",
             "minorgridcolor": "white",
             "startlinecolor": "#2a3f5f"
            },
            "baxis": {
             "endlinecolor": "#2a3f5f",
             "gridcolor": "white",
             "linecolor": "white",
             "minorgridcolor": "white",
             "startlinecolor": "#2a3f5f"
            },
            "type": "carpet"
           }
          ],
          "choropleth": [
           {
            "colorbar": {
             "outlinewidth": 0,
             "ticks": ""
            },
            "type": "choropleth"
           }
          ],
          "contour": [
           {
            "colorbar": {
             "outlinewidth": 0,
             "ticks": ""
            },
            "colorscale": [
             [
              0,
              "#0d0887"
             ],
             [
              0.1111111111111111,
              "#46039f"
             ],
             [
              0.2222222222222222,
              "#7201a8"
             ],
             [
              0.3333333333333333,
              "#9c179e"
             ],
             [
              0.4444444444444444,
              "#bd3786"
             ],
             [
              0.5555555555555556,
              "#d8576b"
             ],
             [
              0.6666666666666666,
              "#ed7953"
             ],
             [
              0.7777777777777778,
              "#fb9f3a"
             ],
             [
              0.8888888888888888,
              "#fdca26"
             ],
             [
              1,
              "#f0f921"
             ]
            ],
            "type": "contour"
           }
          ],
          "contourcarpet": [
           {
            "colorbar": {
             "outlinewidth": 0,
             "ticks": ""
            },
            "type": "contourcarpet"
           }
          ],
          "heatmap": [
           {
            "colorbar": {
             "outlinewidth": 0,
             "ticks": ""
            },
            "colorscale": [
             [
              0,
              "#0d0887"
             ],
             [
              0.1111111111111111,
              "#46039f"
             ],
             [
              0.2222222222222222,
              "#7201a8"
             ],
             [
              0.3333333333333333,
              "#9c179e"
             ],
             [
              0.4444444444444444,
              "#bd3786"
             ],
             [
              0.5555555555555556,
              "#d8576b"
             ],
             [
              0.6666666666666666,
              "#ed7953"
             ],
             [
              0.7777777777777778,
              "#fb9f3a"
             ],
             [
              0.8888888888888888,
              "#fdca26"
             ],
             [
              1,
              "#f0f921"
             ]
            ],
            "type": "heatmap"
           }
          ],
          "heatmapgl": [
           {
            "colorbar": {
             "outlinewidth": 0,
             "ticks": ""
            },
            "colorscale": [
             [
              0,
              "#0d0887"
             ],
             [
              0.1111111111111111,
              "#46039f"
             ],
             [
              0.2222222222222222,
              "#7201a8"
             ],
             [
              0.3333333333333333,
              "#9c179e"
             ],
             [
              0.4444444444444444,
              "#bd3786"
             ],
             [
              0.5555555555555556,
              "#d8576b"
             ],
             [
              0.6666666666666666,
              "#ed7953"
             ],
             [
              0.7777777777777778,
              "#fb9f3a"
             ],
             [
              0.8888888888888888,
              "#fdca26"
             ],
             [
              1,
              "#f0f921"
             ]
            ],
            "type": "heatmapgl"
           }
          ],
          "histogram": [
           {
            "marker": {
             "pattern": {
              "fillmode": "overlay",
              "size": 10,
              "solidity": 0.2
             }
            },
            "type": "histogram"
           }
          ],
          "histogram2d": [
           {
            "colorbar": {
             "outlinewidth": 0,
             "ticks": ""
            },
            "colorscale": [
             [
              0,
              "#0d0887"
             ],
             [
              0.1111111111111111,
              "#46039f"
             ],
             [
              0.2222222222222222,
              "#7201a8"
             ],
             [
              0.3333333333333333,
              "#9c179e"
             ],
             [
              0.4444444444444444,
              "#bd3786"
             ],
             [
              0.5555555555555556,
              "#d8576b"
             ],
             [
              0.6666666666666666,
              "#ed7953"
             ],
             [
              0.7777777777777778,
              "#fb9f3a"
             ],
             [
              0.8888888888888888,
              "#fdca26"
             ],
             [
              1,
              "#f0f921"
             ]
            ],
            "type": "histogram2d"
           }
          ],
          "histogram2dcontour": [
           {
            "colorbar": {
             "outlinewidth": 0,
             "ticks": ""
            },
            "colorscale": [
             [
              0,
              "#0d0887"
             ],
             [
              0.1111111111111111,
              "#46039f"
             ],
             [
              0.2222222222222222,
              "#7201a8"
             ],
             [
              0.3333333333333333,
              "#9c179e"
             ],
             [
              0.4444444444444444,
              "#bd3786"
             ],
             [
              0.5555555555555556,
              "#d8576b"
             ],
             [
              0.6666666666666666,
              "#ed7953"
             ],
             [
              0.7777777777777778,
              "#fb9f3a"
             ],
             [
              0.8888888888888888,
              "#fdca26"
             ],
             [
              1,
              "#f0f921"
             ]
            ],
            "type": "histogram2dcontour"
           }
          ],
          "mesh3d": [
           {
            "colorbar": {
             "outlinewidth": 0,
             "ticks": ""
            },
            "type": "mesh3d"
           }
          ],
          "parcoords": [
           {
            "line": {
             "colorbar": {
              "outlinewidth": 0,
              "ticks": ""
             }
            },
            "type": "parcoords"
           }
          ],
          "pie": [
           {
            "automargin": true,
            "type": "pie"
           }
          ],
          "scatter": [
           {
            "fillpattern": {
             "fillmode": "overlay",
             "size": 10,
             "solidity": 0.2
            },
            "type": "scatter"
           }
          ],
          "scatter3d": [
           {
            "line": {
             "colorbar": {
              "outlinewidth": 0,
              "ticks": ""
             }
            },
            "marker": {
             "colorbar": {
              "outlinewidth": 0,
              "ticks": ""
             }
            },
            "type": "scatter3d"
           }
          ],
          "scattercarpet": [
           {
            "marker": {
             "colorbar": {
              "outlinewidth": 0,
              "ticks": ""
             }
            },
            "type": "scattercarpet"
           }
          ],
          "scattergeo": [
           {
            "marker": {
             "colorbar": {
              "outlinewidth": 0,
              "ticks": ""
             }
            },
            "type": "scattergeo"
           }
          ],
          "scattergl": [
           {
            "marker": {
             "colorbar": {
              "outlinewidth": 0,
              "ticks": ""
             }
            },
            "type": "scattergl"
           }
          ],
          "scattermapbox": [
           {
            "marker": {
             "colorbar": {
              "outlinewidth": 0,
              "ticks": ""
             }
            },
            "type": "scattermapbox"
           }
          ],
          "scatterpolar": [
           {
            "marker": {
             "colorbar": {
              "outlinewidth": 0,
              "ticks": ""
             }
            },
            "type": "scatterpolar"
           }
          ],
          "scatterpolargl": [
           {
            "marker": {
             "colorbar": {
              "outlinewidth": 0,
              "ticks": ""
             }
            },
            "type": "scatterpolargl"
           }
          ],
          "scatterternary": [
           {
            "marker": {
             "colorbar": {
              "outlinewidth": 0,
              "ticks": ""
             }
            },
            "type": "scatterternary"
           }
          ],
          "surface": [
           {
            "colorbar": {
             "outlinewidth": 0,
             "ticks": ""
            },
            "colorscale": [
             [
              0,
              "#0d0887"
             ],
             [
              0.1111111111111111,
              "#46039f"
             ],
             [
              0.2222222222222222,
              "#7201a8"
             ],
             [
              0.3333333333333333,
              "#9c179e"
             ],
             [
              0.4444444444444444,
              "#bd3786"
             ],
             [
              0.5555555555555556,
              "#d8576b"
             ],
             [
              0.6666666666666666,
              "#ed7953"
             ],
             [
              0.7777777777777778,
              "#fb9f3a"
             ],
             [
              0.8888888888888888,
              "#fdca26"
             ],
             [
              1,
              "#f0f921"
             ]
            ],
            "type": "surface"
           }
          ],
          "table": [
           {
            "cells": {
             "fill": {
              "color": "#EBF0F8"
             },
             "line": {
              "color": "white"
             }
            },
            "header": {
             "fill": {
              "color": "#C8D4E3"
             },
             "line": {
              "color": "white"
             }
            },
            "type": "table"
           }
          ]
         },
         "layout": {
          "annotationdefaults": {
           "arrowcolor": "#2a3f5f",
           "arrowhead": 0,
           "arrowwidth": 1
          },
          "autotypenumbers": "strict",
          "coloraxis": {
           "colorbar": {
            "outlinewidth": 0,
            "ticks": ""
           }
          },
          "colorscale": {
           "diverging": [
            [
             0,
             "#8e0152"
            ],
            [
             0.1,
             "#c51b7d"
            ],
            [
             0.2,
             "#de77ae"
            ],
            [
             0.3,
             "#f1b6da"
            ],
            [
             0.4,
             "#fde0ef"
            ],
            [
             0.5,
             "#f7f7f7"
            ],
            [
             0.6,
             "#e6f5d0"
            ],
            [
             0.7,
             "#b8e186"
            ],
            [
             0.8,
             "#7fbc41"
            ],
            [
             0.9,
             "#4d9221"
            ],
            [
             1,
             "#276419"
            ]
           ],
           "sequential": [
            [
             0,
             "#0d0887"
            ],
            [
             0.1111111111111111,
             "#46039f"
            ],
            [
             0.2222222222222222,
             "#7201a8"
            ],
            [
             0.3333333333333333,
             "#9c179e"
            ],
            [
             0.4444444444444444,
             "#bd3786"
            ],
            [
             0.5555555555555556,
             "#d8576b"
            ],
            [
             0.6666666666666666,
             "#ed7953"
            ],
            [
             0.7777777777777778,
             "#fb9f3a"
            ],
            [
             0.8888888888888888,
             "#fdca26"
            ],
            [
             1,
             "#f0f921"
            ]
           ],
           "sequentialminus": [
            [
             0,
             "#0d0887"
            ],
            [
             0.1111111111111111,
             "#46039f"
            ],
            [
             0.2222222222222222,
             "#7201a8"
            ],
            [
             0.3333333333333333,
             "#9c179e"
            ],
            [
             0.4444444444444444,
             "#bd3786"
            ],
            [
             0.5555555555555556,
             "#d8576b"
            ],
            [
             0.6666666666666666,
             "#ed7953"
            ],
            [
             0.7777777777777778,
             "#fb9f3a"
            ],
            [
             0.8888888888888888,
             "#fdca26"
            ],
            [
             1,
             "#f0f921"
            ]
           ]
          },
          "colorway": [
           "#636efa",
           "#EF553B",
           "#00cc96",
           "#ab63fa",
           "#FFA15A",
           "#19d3f3",
           "#FF6692",
           "#B6E880",
           "#FF97FF",
           "#FECB52"
          ],
          "font": {
           "color": "#2a3f5f"
          },
          "geo": {
           "bgcolor": "white",
           "lakecolor": "white",
           "landcolor": "#E5ECF6",
           "showlakes": true,
           "showland": true,
           "subunitcolor": "white"
          },
          "hoverlabel": {
           "align": "left"
          },
          "hovermode": "closest",
          "mapbox": {
           "style": "light"
          },
          "paper_bgcolor": "white",
          "plot_bgcolor": "#E5ECF6",
          "polar": {
           "angularaxis": {
            "gridcolor": "white",
            "linecolor": "white",
            "ticks": ""
           },
           "bgcolor": "#E5ECF6",
           "radialaxis": {
            "gridcolor": "white",
            "linecolor": "white",
            "ticks": ""
           }
          },
          "scene": {
           "xaxis": {
            "backgroundcolor": "#E5ECF6",
            "gridcolor": "white",
            "gridwidth": 2,
            "linecolor": "white",
            "showbackground": true,
            "ticks": "",
            "zerolinecolor": "white"
           },
           "yaxis": {
            "backgroundcolor": "#E5ECF6",
            "gridcolor": "white",
            "gridwidth": 2,
            "linecolor": "white",
            "showbackground": true,
            "ticks": "",
            "zerolinecolor": "white"
           },
           "zaxis": {
            "backgroundcolor": "#E5ECF6",
            "gridcolor": "white",
            "gridwidth": 2,
            "linecolor": "white",
            "showbackground": true,
            "ticks": "",
            "zerolinecolor": "white"
           }
          },
          "shapedefaults": {
           "line": {
            "color": "#2a3f5f"
           }
          },
          "ternary": {
           "aaxis": {
            "gridcolor": "white",
            "linecolor": "white",
            "ticks": ""
           },
           "baxis": {
            "gridcolor": "white",
            "linecolor": "white",
            "ticks": ""
           },
           "bgcolor": "#E5ECF6",
           "caxis": {
            "gridcolor": "white",
            "linecolor": "white",
            "ticks": ""
           }
          },
          "title": {
           "x": 0.05
          },
          "xaxis": {
           "automargin": true,
           "gridcolor": "white",
           "linecolor": "white",
           "ticks": "",
           "title": {
            "standoff": 15
           },
           "zerolinecolor": "white",
           "zerolinewidth": 2
          },
          "yaxis": {
           "automargin": true,
           "gridcolor": "white",
           "linecolor": "white",
           "ticks": "",
           "title": {
            "standoff": 15
           },
           "zerolinecolor": "white",
           "zerolinewidth": 2
          }
         }
        },
        "title": {
         "font": {
          "color": "#4D5663"
         },
         "text": "^NDX"
        },
        "xaxis": {
         "anchor": "y2",
         "gridcolor": "#E1E5ED",
         "rangeselector": {
          "bgcolor": "rgba(150, 200, 250, 1)",
          "buttons": [
           {
            "count": 1,
            "label": "1m",
            "step": "month",
            "stepmode": "backward"
           },
           {
            "count": 1,
            "label": "1y",
            "step": "year",
            "stepmode": "backward"
           }
          ],
          "font": {
           "size": 13
          },
          "visible": false,
          "x": 0,
          "y": 0.9
         },
         "rangeslider": {
          "visible": false
         },
         "showgrid": true,
         "tickfont": {
          "color": "#4D5663"
         },
         "title": {
          "font": {
           "color": "#4D5663"
          },
          "text": ""
         },
         "zerolinecolor": "#E1E5ED"
        },
        "yaxis": {
         "gridcolor": "#E1E5ED",
         "showgrid": true,
         "showticklabels": false,
         "tickfont": {
          "color": "#4D5663"
         },
         "title": {
          "font": {
           "color": "#4D5663"
          },
          "text": ""
         },
         "zerolinecolor": "#E1E5ED"
        },
        "yaxis2": {
         "domain": [
          0.23,
          0.9
         ],
         "gridcolor": "#E1E5ED",
         "showgrid": true,
         "tickfont": {
          "color": "#4D5663"
         },
         "title": {
          "font": {
           "color": "#4D5663"
          },
          "text": ""
         },
         "zerolinecolor": "#E1E5ED"
        },
        "yaxis3": {
         "domain": [
          0,
          0.15
         ],
         "gridcolor": "#E1E5ED",
         "showgrid": true,
         "tickfont": {
          "color": "#4D5663"
         },
         "title": {
          "font": {
           "color": "#4D5663"
          },
          "text": ""
         },
         "zerolinecolor": "#E1E5ED"
        }
       }
      },
      "text/html": [
       "<div>                            <div id=\"f4568ea1-f2f1-4114-abd1-229e01683167\" class=\"plotly-graph-div\" style=\"height:525px; width:100%;\"></div>            <script type=\"text/javascript\">                require([\"plotly\"], function(Plotly) {                    window.PLOTLYENV=window.PLOTLYENV || {};\n",
       "                    window.PLOTLYENV.BASE_URL='https://plot.ly';                                    if (document.getElementById(\"f4568ea1-f2f1-4114-abd1-229e01683167\")) {                    Plotly.newPlot(                        \"f4568ea1-f2f1-4114-abd1-229e01683167\",                        [{\"line\":{\"color\":\"rgba(219, 64, 82, 1.0)\",\"dash\":\"solid\",\"shape\":\"linear\",\"width\":1.3},\"mode\":\"lines\",\"name\":\" MACD([12,26])\",\"text\":\"\",\"x\":[\"2023-09-20\",\"2023-09-21\",\"2023-09-22\",\"2023-09-25\",\"2023-09-26\",\"2023-09-27\",\"2023-09-28\",\"2023-09-29\",\"2023-10-02\",\"2023-10-03\",\"2023-10-04\",\"2023-10-05\",\"2023-10-06\",\"2023-10-09\",\"2023-10-10\",\"2023-10-11\",\"2023-10-12\",\"2023-10-13\",\"2023-10-16\",\"2023-10-17\",\"2023-10-18\",\"2023-10-19\",\"2023-10-20\",\"2023-10-23\",\"2023-10-24\",\"2023-10-25\",\"2023-10-26\",\"2023-10-27\",\"2023-10-30\",\"2023-10-31\",\"2023-11-01\",\"2023-11-02\",\"2023-11-03\",\"2023-11-06\",\"2023-11-07\",\"2023-11-08\",\"2023-11-09\",\"2023-11-10\",\"2023-11-13\",\"2023-11-14\",\"2023-11-15\",\"2023-11-16\",\"2023-11-17\",\"2023-11-20\",\"2023-11-21\",\"2023-11-22\",\"2023-11-24\",\"2023-11-27\",\"2023-11-28\",\"2023-11-29\",\"2023-11-30\",\"2023-12-01\",\"2023-12-04\",\"2023-12-05\",\"2023-12-06\",\"2023-12-07\",\"2023-12-08\",\"2023-12-11\",\"2023-12-12\",\"2023-12-13\",\"2023-12-14\",\"2023-12-15\",\"2023-12-18\",\"2023-12-19\",\"2023-12-20\",\"2023-12-21\",\"2023-12-22\",\"2023-12-26\",\"2023-12-27\",\"2023-12-28\",\"2023-12-29\",\"2024-01-02\",\"2024-01-03\",\"2024-01-04\",\"2024-01-05\",\"2024-01-08\",\"2024-01-09\",\"2024-01-10\",\"2024-01-11\",\"2024-01-12\",\"2024-01-16\",\"2024-01-17\",\"2024-01-18\",\"2024-01-19\",\"2024-01-22\",\"2024-01-23\",\"2024-01-24\",\"2024-01-25\",\"2024-01-26\",\"2024-01-29\",\"2024-01-30\",\"2024-01-31\",\"2024-02-01\",\"2024-02-02\",\"2024-02-05\",\"2024-02-06\",\"2024-02-07\",\"2024-02-08\",\"2024-02-09\",\"2024-02-12\",\"2024-02-13\",\"2024-02-14\",\"2024-02-15\",\"2024-02-16\",\"2024-02-20\",\"2024-02-21\",\"2024-02-22\",\"2024-02-23\",\"2024-02-26\",\"2024-02-27\",\"2024-02-28\",\"2024-02-29\",\"2024-03-01\",\"2024-03-04\",\"2024-03-05\",\"2024-03-06\",\"2024-03-07\",\"2024-03-08\",\"2024-03-11\",\"2024-03-12\",\"2024-03-13\",\"2024-03-14\",\"2024-03-15\",\"2024-03-18\",\"2024-03-19\",\"2024-03-20\"],\"y\":[0.0,-21.99154202279351,-38.4235801657469,-45.45119923597122,-68.23398897206243,-82.56757596361967,-83.0758483819227,-81.53252027367671,-69.63568979401134,-81.2152747731161,-72.55968517599831,-69.1816845387857,-45.80205168369139,-21.066747931879945,5.283142270331155,34.6105030759627,52.64471387509184,51.09885442497762,63.47373498699926,68.39971084770514,54.508099788739855,32.941540930845804,-2.060082572412284,-25.951973710180027,-33.126222675409736,-67.42420917750678,-115.23102073766859,-145.72150516386318,-155.5775780172753,-155.60189569211616,-133.49546566095705,-94.34116287616234,-48.235379546895274,-7.1404034180159215,36.39291759085609,71.45921757540418,88.1198443573121,127.38863447510266,153.0072115605508,197.63430871797573,230.72203917287516,255.29173797887415,272.0167207986324,297.1028883156923,305.9176456559453,314.74367004610576,316.5258504118028,312.71723470359393,310.03444230025707,302.5781805691495,290.11889145353234,281.01660892829386,258.08590093640487,240.21362968920948,216.32128357315378,213.83880982683513,214.41878119209287,223.36162476595928,238.3940531384651,264.0569520768822,279.1964838425738,294.7062309585144,311.98315199284116,328.5090433431815,317.15656260378273,320.86152427401066,321.70239300539833,326.7568791638296,329.2539498245533,326.79365479577973,315.3551813211452,280.30467564220453,235.65314889212823,191.0855261660854,155.90245304122618,153.99341569364333,153.04265573392695,159.6757444465875,165.27456347990665,168.7364548053847,169.3496249842574,160.36711034537802,171.12669288220786,204.06767486539684,228.85731420561206,251.560914630787,274.06735931283765,289.98846340917225,291.5009894714349,303.3449044194058,299.6299652969392,266.22452994831474,253.56865201907203,264.5370447153182,267.74730237231415,263.9957098400737,272.59355838501506,278.46484949276055,294.1898415701362,296.7955779091608,272.9399329493208,267.6688336736697,263.5272040141281,244.5363677322748,215.712181091425,185.31102799142536,201.32394119807577,206.223484622682,207.37066465338285,208.91531290788407,200.04264949863864,204.3208148176236,226.01001001975965,234.3304014457135,211.96478563048004,201.57512557574955,213.5076064736022,198.12371297934078,178.48741953108402,182.40145781058163,171.37260277673704,156.49821553908623,126.58327347353043,115.80359049797335,109.80267171514788,102.85980069766447],\"yaxis\":\"y3\",\"type\":\"scatter\"},{\"line\":{\"color\":\"rgba(55, 128, 191, 1.0)\",\"dash\":\"solid\",\"shape\":\"linear\",\"width\":1.3},\"mode\":\"lines\",\"name\":\"MACD SIGNAL(9)\",\"text\":\"\",\"x\":[\"2023-09-20\",\"2023-09-21\",\"2023-09-22\",\"2023-09-25\",\"2023-09-26\",\"2023-09-27\",\"2023-09-28\",\"2023-09-29\",\"2023-10-02\",\"2023-10-03\",\"2023-10-04\",\"2023-10-05\",\"2023-10-06\",\"2023-10-09\",\"2023-10-10\",\"2023-10-11\",\"2023-10-12\",\"2023-10-13\",\"2023-10-16\",\"2023-10-17\",\"2023-10-18\",\"2023-10-19\",\"2023-10-20\",\"2023-10-23\",\"2023-10-24\",\"2023-10-25\",\"2023-10-26\",\"2023-10-27\",\"2023-10-30\",\"2023-10-31\",\"2023-11-01\",\"2023-11-02\",\"2023-11-03\",\"2023-11-06\",\"2023-11-07\",\"2023-11-08\",\"2023-11-09\",\"2023-11-10\",\"2023-11-13\",\"2023-11-14\",\"2023-11-15\",\"2023-11-16\",\"2023-11-17\",\"2023-11-20\",\"2023-11-21\",\"2023-11-22\",\"2023-11-24\",\"2023-11-27\",\"2023-11-28\",\"2023-11-29\",\"2023-11-30\",\"2023-12-01\",\"2023-12-04\",\"2023-12-05\",\"2023-12-06\",\"2023-12-07\",\"2023-12-08\",\"2023-12-11\",\"2023-12-12\",\"2023-12-13\",\"2023-12-14\",\"2023-12-15\",\"2023-12-18\",\"2023-12-19\",\"2023-12-20\",\"2023-12-21\",\"2023-12-22\",\"2023-12-26\",\"2023-12-27\",\"2023-12-28\",\"2023-12-29\",\"2024-01-02\",\"2024-01-03\",\"2024-01-04\",\"2024-01-05\",\"2024-01-08\",\"2024-01-09\",\"2024-01-10\",\"2024-01-11\",\"2024-01-12\",\"2024-01-16\",\"2024-01-17\",\"2024-01-18\",\"2024-01-19\",\"2024-01-22\",\"2024-01-23\",\"2024-01-24\",\"2024-01-25\",\"2024-01-26\",\"2024-01-29\",\"2024-01-30\",\"2024-01-31\",\"2024-02-01\",\"2024-02-02\",\"2024-02-05\",\"2024-02-06\",\"2024-02-07\",\"2024-02-08\",\"2024-02-09\",\"2024-02-12\",\"2024-02-13\",\"2024-02-14\",\"2024-02-15\",\"2024-02-16\",\"2024-02-20\",\"2024-02-21\",\"2024-02-22\",\"2024-02-23\",\"2024-02-26\",\"2024-02-27\",\"2024-02-28\",\"2024-02-29\",\"2024-03-01\",\"2024-03-04\",\"2024-03-05\",\"2024-03-06\",\"2024-03-07\",\"2024-03-08\",\"2024-03-11\",\"2024-03-12\",\"2024-03-13\",\"2024-03-14\",\"2024-03-15\",\"2024-03-18\",\"2024-03-19\",\"2024-03-20\"],\"y\":[0.0,-4.398308404558702,-11.203362756796341,-18.052930052631318,-28.08914183651754,-38.98482866193797,-47.803032605934916,-54.548930139483275,-57.566282070388894,-62.29608061093434,-64.34880152394713,-65.31537812691485,-61.41271283827017,-53.343519856992124,-41.618187431527474,-26.37244933002944,-10.569016689005185,1.7645575337913755,14.106393024432954,24.965056589087393,30.873665229017888,31.287240369383472,24.617775781024324,14.503825882783456,4.977816171144818,-9.502588898585502,-30.64827526640212,-53.66292124589434,-74.04585260017053,-90.35706121855966,-98.98474210703914,-98.05602626086379,-88.09189691807009,-71.90159821805926,-50.2426950562762,-25.902312529940126,-3.0978811524896805,22.999421973028788,49.00097989053319,78.7276456560217,109.1265243593924,138.35956708328877,165.0909978263575,191.49337592422447,214.37822987056865,234.4513179056761,250.86622440690147,263.23642646624,272.59602963304343,278.59245982026465,280.89774614691817,280.9215187031933,276.3543951498357,269.12624205771044,258.56525036079915,249.61996225400634,242.57972604162367,238.7361057864908,238.66769525688568,243.745546620885,250.83573406522277,259.6098334438811,270.0844971536731,281.7694063915748,288.8468376340164,295.2497749620153,300.5402985706919,305.78361468931945,310.4776817163662,313.7408763322489,314.0637373300282,307.31192499246345,292.98016977239644,272.60124105113425,249.26148344915265,230.2078698980508,214.77482706522605,203.75501054149836,196.05892112918002,190.59442786442096,186.34546728838825,181.1497958997862,179.14517529627054,184.1296752100958,193.07520300919907,204.77234533351668,218.63134812938088,232.90277118533916,244.62241484255833,256.3669127579278,265.01952326573013,265.2605246022471,262.9221500856121,263.24512901155333,264.1455636837055,264.1155929149792,265.8111860089864,268.34191870574125,273.51150327862024,278.1683182047284,277.1226411536469,275.23187965765146,272.89094452894676,267.22002916961236,256.9184595539749,242.59697324146504,234.3423668327872,228.7185903907662,224.44900524328955,221.34226677620848,217.08234332069452,214.53003762008035,216.82603210001622,220.3269059691557,218.65448190142058,215.2386106362864,214.8924098037496,211.53867043886783,204.92842025731107,200.42302776796518,194.61294276971955,186.9899973235929,174.9086525535804,163.087640142459,152.43064645699678,142.51647730513034],\"yaxis\":\"y3\",\"type\":\"scatter\"},{\"close\":[14969.919921875,14694.240234375,14701.099609375,14768.900390625,14545.830078125,14580.16015625,14702.76953125,14715.240234375,14837.5703125,14565.6201171875,14776.25,14723.2197265625,14973.240234375,15047.150390625,15131.51953125,15241.1201171875,15184.099609375,14995.1201171875,15172.73046875,15122.009765625,14909.259765625,14783.1298828125,14560.8798828125,14604.849609375,14745.8603515625,14381.6396484375,14109.5703125,14180.419921875,14335.509765625,14409.7802734375,14664.91015625,14919.5498046875,15099.490234375,15154.9296875,15296.01953125,15313.240234375,15187.900390625,15529.1201171875,15482.7900390625,15812.4697265625,15817.1796875,15833.169921875,15837.990234375,16027.0595703125,15933.6201171875,16001.3896484375,15982.009765625,15961.98046875,16010.4296875,15987.599609375,15947.8701171875,15997.580078125,15839.669921875,15877.7099609375,15788.0498046875,16022.490234375,16084.6904296875,16221.73046875,16354.25,16562.369140625,16537.830078125,16623.44921875,16729.80078125,16811.849609375,16554.16015625,16757.41015625,16777.400390625,16878.4609375,16906.80078125,16898.470703125,16825.9296875,16543.939453125,16368.490234375,16282.009765625,16305.98046875,16649.869140625,16678.69921875,16793.05078125,16820.900390625,16832.919921875,16830.7109375,16736.279296875,16982.2890625,17314.0,17330.380859375,17404.2109375,17499.30078125,17516.990234375,17421.009765625,17596.26953125,17476.7109375,17137.240234375,17344.7109375,17642.73046875,17613.0390625,17572.73046875,17755.0703125,17783.169921875,17962.41015625,17882.66015625,17600.419921875,17807.630859375,17845.720703125,17685.98046875,17546.099609375,17478.91015625,18004.69921875,17937.609375,17933.330078125,17971.05078125,17874.5,18043.849609375,18302.91015625,18226.48046875,17897.869140625,18017.5703125,18297.990234375,18018.44921875,17951.689453125,18219.109375,18068.470703125,18014.810546875,17808.25,17985.009765625,18032.19921875,18019.7890625],\"decreasing\":{\"line\":{\"color\":\"#000000\"}},\"high\":[15245.1904296875,14849.25,14855.919921875,14771.1201171875,14678.48046875,14657.2099609375,14787.580078125,14901.849609375,14892.1796875,14819.8701171875,14803.0400390625,14784.6904296875,15021.3798828125,15070.6396484375,15241.9404296875,15248.2197265625,15333.98046875,15232.3701171875,15209.5,15187.0595703125,15103.8701171875,15023.91015625,14781.2197265625,14746.3701171875,14774.16015625,14643.6904296875,14372.509765625,14321.0400390625,14388.2001953125,14420.4404296875,14677.8603515625,14930.759765625,15149.7802734375,15180.1904296875,15335.4404296875,15343.1904296875,15382.1103515625,15535.2001953125,15524.66015625,15850.33984375,15904.6298828125,15842.6298828125,15876.8701171875,16056.759765625,15968.08984375,16119.3095703125,16007.4296875,16045.2998046875,16031.51953125,16166.509765625,16013.48046875,16013.75,15852.4501953125,15931.83984375,15990.9404296875,16042.509765625,16100.8603515625,16232.259765625,16354.25,16581.0390625,16660.7109375,16669.76953125,16764.3203125,16813.009765625,16860.6796875,16768.01953125,16839.25,16907.509765625,16922.009765625,16969.169921875,16919.509765625,16686.599609375,16471.080078125,16419.439453125,16415.390625,16655.23046875,16710.880859375,16827.369140625,16898.16015625,16900.369140625,16895.330078125,16749.109375,16996.98046875,17317.2109375,17450.30078125,17410.859375,17665.259765625,17631.33984375,17514.759765625,17603.94921875,17578.4609375,17375.3203125,17356.759765625,17682.2890625,17655.76953125,17680.619140625,17784.169921875,17814.119140625,17987.900390625,18041.44921875,17717.669921875,17815.1796875,17864.58984375,17864.16015625,17657.080078125,17482.130859375,18034.80078125,18091.619140625,18014.109375,17987.5390625,17931.009765625,18068.51953125,18333.259765625,18313.4296875,18097.5,18142.880859375,18337.94921875,18416.73046875,18003.05078125,18228.369140625,18163.740234375,18142.900390625,17930.470703125,18124.3203125,18039.8203125,18087.099609375],\"increasing\":{\"line\":{\"color\":\"#ff0000\"}},\"low\":[14967.599609375,14691.6904296875,14686.83984375,14615.4501953125,14505.6796875,14432.599609375,14510.169921875,14664.7802734375,14701.51953125,14504.1396484375,14592.5595703125,14584.3896484375,14575.9501953125,14816.3203125,15050.5400390625,15119.6201171875,15090.6904296875,14943.419921875,15047.26953125,14932.76953125,14865.8095703125,14749.2998046875,14552.1201171875,14419.0595703125,14610.330078125,14362.240234375,14058.330078125,14130.3701171875,14225.8603515625,14232.400390625,14441.8896484375,14792.8095703125,14965.2900390625,15064.91015625,15153.3095703125,15220.8798828125,15171.3203125,15237.169921875,15404.7099609375,15726.1201171875,15765.3095703125,15738.2197265625,15766.9404296875,15844.830078125,15866.8203125,15964.0400390625,15940.6201171875,15932.1904296875,15921.0703125,15976.6904296875,15825.669921875,15834.9296875,15695.580078125,15760.58984375,15776.9501953125,15875.48046875,15937.580078125,16061.8701171875,16175.4599609375,16357.2099609375,16419.259765625,16557.009765625,16629.2890625,16733.380859375,16552.060546875,16621.51953125,16703.5703125,16813.5703125,16859.55078125,16891.3203125,16757.890625,16453.150390625,16352.1396484375,16276.4296875,16249.1904296875,16349.3896484375,16513.73046875,16654.740234375,16618.859375,16776.919921875,16726.58984375,16561.490234375,16818.130859375,17041.849609375,17309.869140625,17286.01953125,17481.970703125,17430.369140625,17395.5390625,17414.619140625,17443.76953125,17128.740234375,17175.830078125,17378.369140625,17469.619140625,17475.4296875,17637.73046875,17728.55078125,17798.810546875,17859.66015625,17478.23046875,17619.919921875,17722.310546875,17663.400390625,17399.41015625,17319.439453125,17808.259765625,17902.779296875,17926.66015625,17871.060546875,17840.359375,17866.259765625,18064.439453125,18218.25,17804.5,17941.640625,18101.4296875,17995.380859375,17873.330078125,17919.330078125,18030.400390625,17913.630859375,17764.990234375,17973.08984375,17809.150390625,18005.0],\"name\":\"\\u65e5K\\u7dda\\u5716\",\"open\":[15225.33984375,14813.490234375,14756.6201171875,14662.6904296875,14668.4501953125,14600.1396484375,14530.9599609375,14853.349609375,14717.900390625,14744.0498046875,14613.23046875,14769.5498046875,14622.23046875,14871.5703125,15074.0400390625,15194.5302734375,15264.1103515625,15225.73046875,15054.48046875,15009.259765625,15022.2802734375,14981.1298828125,14752.58984375,14514.1103515625,14678.41015625,14642.080078125,14314.009765625,14245.75,14283.98046875,14340.8603515625,14453.6796875,14856.9501953125,14985.1201171875,15137.16015625,15201.76953125,15313.900390625,15351.1201171875,15252.3603515625,15469.2099609375,15744.3603515625,15881.7197265625,15765.2001953125,15803.98046875,15845.2001953125,15951.5498046875,16025.740234375,15974.849609375,15969.7197265625,15940.2900390625,16111.3603515625,15987.66015625,15892.58984375,15837.1201171875,15763.650390625,15990.2001953125,15888.23046875,15952.849609375,16069.6201171875,16209.6103515625,16392.1796875,16603.5390625,16587.0,16631.109375,16734.25,16763.640625,16719.609375,16799.01953125,16816.779296875,16896.140625,16963.51953125,16902.439453125,16667.30078125,16413.259765625,16290.7802734375,16281.740234375,16354.2197265625,16531.9609375,16702.55078125,16852.189453125,16855.0,16775.099609375,16705.509765625,16894.330078125,17060.140625,17403.619140625,17346.94921875,17562.3203125,17589.26953125,17432.869140625,17438.029296875,17556.490234375,17269.98046875,17216.990234375,17415.939453125,17634.689453125,17664.439453125,17674.58984375,17757.599609375,17820.98046875,17942.279296875,17519.80078125,17728.900390625,17815.3203125,17853.58984375,17591.169921875,17412.7890625,17857.759765625,18052.58984375,17970.2109375,17962.580078125,17895.029296875,17991.669921875,18069.2890625,18290.099609375,18088.7109375,18083.509765625,18161.73046875,18312.7890625,17959.6796875,18063.01953125,18151.759765625,18114.689453125,17926.919921875,18024.240234375,17902.51953125,18067.69921875],\"showlegend\":true,\"x\":[\"2023-09-20\",\"2023-09-21\",\"2023-09-22\",\"2023-09-25\",\"2023-09-26\",\"2023-09-27\",\"2023-09-28\",\"2023-09-29\",\"2023-10-02\",\"2023-10-03\",\"2023-10-04\",\"2023-10-05\",\"2023-10-06\",\"2023-10-09\",\"2023-10-10\",\"2023-10-11\",\"2023-10-12\",\"2023-10-13\",\"2023-10-16\",\"2023-10-17\",\"2023-10-18\",\"2023-10-19\",\"2023-10-20\",\"2023-10-23\",\"2023-10-24\",\"2023-10-25\",\"2023-10-26\",\"2023-10-27\",\"2023-10-30\",\"2023-10-31\",\"2023-11-01\",\"2023-11-02\",\"2023-11-03\",\"2023-11-06\",\"2023-11-07\",\"2023-11-08\",\"2023-11-09\",\"2023-11-10\",\"2023-11-13\",\"2023-11-14\",\"2023-11-15\",\"2023-11-16\",\"2023-11-17\",\"2023-11-20\",\"2023-11-21\",\"2023-11-22\",\"2023-11-24\",\"2023-11-27\",\"2023-11-28\",\"2023-11-29\",\"2023-11-30\",\"2023-12-01\",\"2023-12-04\",\"2023-12-05\",\"2023-12-06\",\"2023-12-07\",\"2023-12-08\",\"2023-12-11\",\"2023-12-12\",\"2023-12-13\",\"2023-12-14\",\"2023-12-15\",\"2023-12-18\",\"2023-12-19\",\"2023-12-20\",\"2023-12-21\",\"2023-12-22\",\"2023-12-26\",\"2023-12-27\",\"2023-12-28\",\"2023-12-29\",\"2024-01-02\",\"2024-01-03\",\"2024-01-04\",\"2024-01-05\",\"2024-01-08\",\"2024-01-09\",\"2024-01-10\",\"2024-01-11\",\"2024-01-12\",\"2024-01-16\",\"2024-01-17\",\"2024-01-18\",\"2024-01-19\",\"2024-01-22\",\"2024-01-23\",\"2024-01-24\",\"2024-01-25\",\"2024-01-26\",\"2024-01-29\",\"2024-01-30\",\"2024-01-31\",\"2024-02-01\",\"2024-02-02\",\"2024-02-05\",\"2024-02-06\",\"2024-02-07\",\"2024-02-08\",\"2024-02-09\",\"2024-02-12\",\"2024-02-13\",\"2024-02-14\",\"2024-02-15\",\"2024-02-16\",\"2024-02-20\",\"2024-02-21\",\"2024-02-22\",\"2024-02-23\",\"2024-02-26\",\"2024-02-27\",\"2024-02-28\",\"2024-02-29\",\"2024-03-01\",\"2024-03-04\",\"2024-03-05\",\"2024-03-06\",\"2024-03-07\",\"2024-03-08\",\"2024-03-11\",\"2024-03-12\",\"2024-03-13\",\"2024-03-14\",\"2024-03-15\",\"2024-03-18\",\"2024-03-19\",\"2024-03-20\"],\"yaxis\":\"y2\",\"type\":\"candlestick\"}],                        {\"legend\":{\"bgcolor\":\"#F5F6F9\",\"font\":{\"color\":\"#4D5663\"},\"orientation\":\"h\",\"x\":0.3,\"y\":0.95,\"yanchor\":\"bottom\"},\"margin\":{\"b\":30,\"l\":30,\"r\":30,\"t\":30},\"paper_bgcolor\":\"#F5F6F9\",\"plot_bgcolor\":\"#F5F6F9\",\"showlegend\":true,\"template\":{\"data\":{\"barpolar\":[{\"marker\":{\"line\":{\"color\":\"#E5ECF6\",\"width\":0.5},\"pattern\":{\"fillmode\":\"overlay\",\"size\":10,\"solidity\":0.2}},\"type\":\"barpolar\"}],\"bar\":[{\"error_x\":{\"color\":\"#2a3f5f\"},\"error_y\":{\"color\":\"#2a3f5f\"},\"marker\":{\"line\":{\"color\":\"#E5ECF6\",\"width\":0.5},\"pattern\":{\"fillmode\":\"overlay\",\"size\":10,\"solidity\":0.2}},\"type\":\"bar\"}],\"carpet\":[{\"aaxis\":{\"endlinecolor\":\"#2a3f5f\",\"gridcolor\":\"white\",\"linecolor\":\"white\",\"minorgridcolor\":\"white\",\"startlinecolor\":\"#2a3f5f\"},\"baxis\":{\"endlinecolor\":\"#2a3f5f\",\"gridcolor\":\"white\",\"linecolor\":\"white\",\"minorgridcolor\":\"white\",\"startlinecolor\":\"#2a3f5f\"},\"type\":\"carpet\"}],\"choropleth\":[{\"colorbar\":{\"outlinewidth\":0,\"ticks\":\"\"},\"type\":\"choropleth\"}],\"contourcarpet\":[{\"colorbar\":{\"outlinewidth\":0,\"ticks\":\"\"},\"type\":\"contourcarpet\"}],\"contour\":[{\"colorbar\":{\"outlinewidth\":0,\"ticks\":\"\"},\"colorscale\":[[0.0,\"#0d0887\"],[0.1111111111111111,\"#46039f\"],[0.2222222222222222,\"#7201a8\"],[0.3333333333333333,\"#9c179e\"],[0.4444444444444444,\"#bd3786\"],[0.5555555555555556,\"#d8576b\"],[0.6666666666666666,\"#ed7953\"],[0.7777777777777778,\"#fb9f3a\"],[0.8888888888888888,\"#fdca26\"],[1.0,\"#f0f921\"]],\"type\":\"contour\"}],\"heatmapgl\":[{\"colorbar\":{\"outlinewidth\":0,\"ticks\":\"\"},\"colorscale\":[[0.0,\"#0d0887\"],[0.1111111111111111,\"#46039f\"],[0.2222222222222222,\"#7201a8\"],[0.3333333333333333,\"#9c179e\"],[0.4444444444444444,\"#bd3786\"],[0.5555555555555556,\"#d8576b\"],[0.6666666666666666,\"#ed7953\"],[0.7777777777777778,\"#fb9f3a\"],[0.8888888888888888,\"#fdca26\"],[1.0,\"#f0f921\"]],\"type\":\"heatmapgl\"}],\"heatmap\":[{\"colorbar\":{\"outlinewidth\":0,\"ticks\":\"\"},\"colorscale\":[[0.0,\"#0d0887\"],[0.1111111111111111,\"#46039f\"],[0.2222222222222222,\"#7201a8\"],[0.3333333333333333,\"#9c179e\"],[0.4444444444444444,\"#bd3786\"],[0.5555555555555556,\"#d8576b\"],[0.6666666666666666,\"#ed7953\"],[0.7777777777777778,\"#fb9f3a\"],[0.8888888888888888,\"#fdca26\"],[1.0,\"#f0f921\"]],\"type\":\"heatmap\"}],\"histogram2dcontour\":[{\"colorbar\":{\"outlinewidth\":0,\"ticks\":\"\"},\"colorscale\":[[0.0,\"#0d0887\"],[0.1111111111111111,\"#46039f\"],[0.2222222222222222,\"#7201a8\"],[0.3333333333333333,\"#9c179e\"],[0.4444444444444444,\"#bd3786\"],[0.5555555555555556,\"#d8576b\"],[0.6666666666666666,\"#ed7953\"],[0.7777777777777778,\"#fb9f3a\"],[0.8888888888888888,\"#fdca26\"],[1.0,\"#f0f921\"]],\"type\":\"histogram2dcontour\"}],\"histogram2d\":[{\"colorbar\":{\"outlinewidth\":0,\"ticks\":\"\"},\"colorscale\":[[0.0,\"#0d0887\"],[0.1111111111111111,\"#46039f\"],[0.2222222222222222,\"#7201a8\"],[0.3333333333333333,\"#9c179e\"],[0.4444444444444444,\"#bd3786\"],[0.5555555555555556,\"#d8576b\"],[0.6666666666666666,\"#ed7953\"],[0.7777777777777778,\"#fb9f3a\"],[0.8888888888888888,\"#fdca26\"],[1.0,\"#f0f921\"]],\"type\":\"histogram2d\"}],\"histogram\":[{\"marker\":{\"pattern\":{\"fillmode\":\"overlay\",\"size\":10,\"solidity\":0.2}},\"type\":\"histogram\"}],\"mesh3d\":[{\"colorbar\":{\"outlinewidth\":0,\"ticks\":\"\"},\"type\":\"mesh3d\"}],\"parcoords\":[{\"line\":{\"colorbar\":{\"outlinewidth\":0,\"ticks\":\"\"}},\"type\":\"parcoords\"}],\"pie\":[{\"automargin\":true,\"type\":\"pie\"}],\"scatter3d\":[{\"line\":{\"colorbar\":{\"outlinewidth\":0,\"ticks\":\"\"}},\"marker\":{\"colorbar\":{\"outlinewidth\":0,\"ticks\":\"\"}},\"type\":\"scatter3d\"}],\"scattercarpet\":[{\"marker\":{\"colorbar\":{\"outlinewidth\":0,\"ticks\":\"\"}},\"type\":\"scattercarpet\"}],\"scattergeo\":[{\"marker\":{\"colorbar\":{\"outlinewidth\":0,\"ticks\":\"\"}},\"type\":\"scattergeo\"}],\"scattergl\":[{\"marker\":{\"colorbar\":{\"outlinewidth\":0,\"ticks\":\"\"}},\"type\":\"scattergl\"}],\"scattermapbox\":[{\"marker\":{\"colorbar\":{\"outlinewidth\":0,\"ticks\":\"\"}},\"type\":\"scattermapbox\"}],\"scatterpolargl\":[{\"marker\":{\"colorbar\":{\"outlinewidth\":0,\"ticks\":\"\"}},\"type\":\"scatterpolargl\"}],\"scatterpolar\":[{\"marker\":{\"colorbar\":{\"outlinewidth\":0,\"ticks\":\"\"}},\"type\":\"scatterpolar\"}],\"scatter\":[{\"fillpattern\":{\"fillmode\":\"overlay\",\"size\":10,\"solidity\":0.2},\"type\":\"scatter\"}],\"scatterternary\":[{\"marker\":{\"colorbar\":{\"outlinewidth\":0,\"ticks\":\"\"}},\"type\":\"scatterternary\"}],\"surface\":[{\"colorbar\":{\"outlinewidth\":0,\"ticks\":\"\"},\"colorscale\":[[0.0,\"#0d0887\"],[0.1111111111111111,\"#46039f\"],[0.2222222222222222,\"#7201a8\"],[0.3333333333333333,\"#9c179e\"],[0.4444444444444444,\"#bd3786\"],[0.5555555555555556,\"#d8576b\"],[0.6666666666666666,\"#ed7953\"],[0.7777777777777778,\"#fb9f3a\"],[0.8888888888888888,\"#fdca26\"],[1.0,\"#f0f921\"]],\"type\":\"surface\"}],\"table\":[{\"cells\":{\"fill\":{\"color\":\"#EBF0F8\"},\"line\":{\"color\":\"white\"}},\"header\":{\"fill\":{\"color\":\"#C8D4E3\"},\"line\":{\"color\":\"white\"}},\"type\":\"table\"}]},\"layout\":{\"annotationdefaults\":{\"arrowcolor\":\"#2a3f5f\",\"arrowhead\":0,\"arrowwidth\":1},\"autotypenumbers\":\"strict\",\"coloraxis\":{\"colorbar\":{\"outlinewidth\":0,\"ticks\":\"\"}},\"colorscale\":{\"diverging\":[[0,\"#8e0152\"],[0.1,\"#c51b7d\"],[0.2,\"#de77ae\"],[0.3,\"#f1b6da\"],[0.4,\"#fde0ef\"],[0.5,\"#f7f7f7\"],[0.6,\"#e6f5d0\"],[0.7,\"#b8e186\"],[0.8,\"#7fbc41\"],[0.9,\"#4d9221\"],[1,\"#276419\"]],\"sequential\":[[0.0,\"#0d0887\"],[0.1111111111111111,\"#46039f\"],[0.2222222222222222,\"#7201a8\"],[0.3333333333333333,\"#9c179e\"],[0.4444444444444444,\"#bd3786\"],[0.5555555555555556,\"#d8576b\"],[0.6666666666666666,\"#ed7953\"],[0.7777777777777778,\"#fb9f3a\"],[0.8888888888888888,\"#fdca26\"],[1.0,\"#f0f921\"]],\"sequentialminus\":[[0.0,\"#0d0887\"],[0.1111111111111111,\"#46039f\"],[0.2222222222222222,\"#7201a8\"],[0.3333333333333333,\"#9c179e\"],[0.4444444444444444,\"#bd3786\"],[0.5555555555555556,\"#d8576b\"],[0.6666666666666666,\"#ed7953\"],[0.7777777777777778,\"#fb9f3a\"],[0.8888888888888888,\"#fdca26\"],[1.0,\"#f0f921\"]]},\"colorway\":[\"#636efa\",\"#EF553B\",\"#00cc96\",\"#ab63fa\",\"#FFA15A\",\"#19d3f3\",\"#FF6692\",\"#B6E880\",\"#FF97FF\",\"#FECB52\"],\"font\":{\"color\":\"#2a3f5f\"},\"geo\":{\"bgcolor\":\"white\",\"lakecolor\":\"white\",\"landcolor\":\"#E5ECF6\",\"showlakes\":true,\"showland\":true,\"subunitcolor\":\"white\"},\"hoverlabel\":{\"align\":\"left\"},\"hovermode\":\"closest\",\"mapbox\":{\"style\":\"light\"},\"paper_bgcolor\":\"white\",\"plot_bgcolor\":\"#E5ECF6\",\"polar\":{\"angularaxis\":{\"gridcolor\":\"white\",\"linecolor\":\"white\",\"ticks\":\"\"},\"bgcolor\":\"#E5ECF6\",\"radialaxis\":{\"gridcolor\":\"white\",\"linecolor\":\"white\",\"ticks\":\"\"}},\"scene\":{\"xaxis\":{\"backgroundcolor\":\"#E5ECF6\",\"gridcolor\":\"white\",\"gridwidth\":2,\"linecolor\":\"white\",\"showbackground\":true,\"ticks\":\"\",\"zerolinecolor\":\"white\"},\"yaxis\":{\"backgroundcolor\":\"#E5ECF6\",\"gridcolor\":\"white\",\"gridwidth\":2,\"linecolor\":\"white\",\"showbackground\":true,\"ticks\":\"\",\"zerolinecolor\":\"white\"},\"zaxis\":{\"backgroundcolor\":\"#E5ECF6\",\"gridcolor\":\"white\",\"gridwidth\":2,\"linecolor\":\"white\",\"showbackground\":true,\"ticks\":\"\",\"zerolinecolor\":\"white\"}},\"shapedefaults\":{\"line\":{\"color\":\"#2a3f5f\"}},\"ternary\":{\"aaxis\":{\"gridcolor\":\"white\",\"linecolor\":\"white\",\"ticks\":\"\"},\"baxis\":{\"gridcolor\":\"white\",\"linecolor\":\"white\",\"ticks\":\"\"},\"bgcolor\":\"#E5ECF6\",\"caxis\":{\"gridcolor\":\"white\",\"linecolor\":\"white\",\"ticks\":\"\"}},\"title\":{\"x\":0.05},\"xaxis\":{\"automargin\":true,\"gridcolor\":\"white\",\"linecolor\":\"white\",\"ticks\":\"\",\"title\":{\"standoff\":15},\"zerolinecolor\":\"white\",\"zerolinewidth\":2},\"yaxis\":{\"automargin\":true,\"gridcolor\":\"white\",\"linecolor\":\"white\",\"ticks\":\"\",\"title\":{\"standoff\":15},\"zerolinecolor\":\"white\",\"zerolinewidth\":2}}},\"title\":{\"font\":{\"color\":\"#4D5663\"},\"text\":\"^NDX\"},\"xaxis\":{\"anchor\":\"y2\",\"gridcolor\":\"#E1E5ED\",\"rangeselector\":{\"bgcolor\":\"rgba(150, 200, 250, 1)\",\"buttons\":[{\"count\":1,\"label\":\"1m\",\"step\":\"month\",\"stepmode\":\"backward\"},{\"count\":1,\"label\":\"1y\",\"step\":\"year\",\"stepmode\":\"backward\"}],\"font\":{\"size\":13},\"visible\":false,\"x\":0,\"y\":0.9},\"rangeslider\":{\"visible\":false},\"showgrid\":true,\"tickfont\":{\"color\":\"#4D5663\"},\"title\":{\"font\":{\"color\":\"#4D5663\"},\"text\":\"\"},\"zerolinecolor\":\"#E1E5ED\"},\"yaxis\":{\"gridcolor\":\"#E1E5ED\",\"showgrid\":true,\"showticklabels\":false,\"tickfont\":{\"color\":\"#4D5663\"},\"title\":{\"font\":{\"color\":\"#4D5663\"},\"text\":\"\"},\"zerolinecolor\":\"#E1E5ED\"},\"yaxis3\":{\"domain\":[0.0,0.15],\"gridcolor\":\"#E1E5ED\",\"showgrid\":true,\"tickfont\":{\"color\":\"#4D5663\"},\"title\":{\"font\":{\"color\":\"#4D5663\"},\"text\":\"\"},\"zerolinecolor\":\"#E1E5ED\"},\"yaxis2\":{\"domain\":[0.23,0.9],\"gridcolor\":\"#E1E5ED\",\"showgrid\":true,\"tickfont\":{\"color\":\"#4D5663\"},\"title\":{\"font\":{\"color\":\"#4D5663\"},\"text\":\"\"},\"zerolinecolor\":\"#E1E5ED\"}},                        {\"showLink\": true, \"linkText\": \"Export to plot.ly\", \"plotlyServerURL\": \"https://plot.ly\", \"responsive\": true}                    ).then(function(){\n",
       "                            \n",
       "var gd = document.getElementById('f4568ea1-f2f1-4114-abd1-229e01683167');\n",
       "var x = new MutationObserver(function (mutations, observer) {{\n",
       "        var display = window.getComputedStyle(gd).display;\n",
       "        if (!display || display === 'none') {{\n",
       "            console.log([gd, 'removed!']);\n",
       "            Plotly.purge(gd);\n",
       "            observer.disconnect();\n",
       "        }}\n",
       "}});\n",
       "\n",
       "// Listen for the removal of the full notebook cells\n",
       "var notebookContainer = gd.closest('#notebook-container');\n",
       "if (notebookContainer) {{\n",
       "    x.observe(notebookContainer, {childList: true});\n",
       "}}\n",
       "\n",
       "// Listen for the clearing of the current output cell\n",
       "var outputEl = gd.closest('.output');\n",
       "if (outputEl) {{\n",
       "    x.observe(outputEl, {childList: true});\n",
       "}}\n",
       "\n",
       "                        })                };                });            </script>        </div>"
      ]
     },
     "metadata": {},
     "output_type": "display_data"
    }
   ],
   "source": [
    "qf = cf.QuantFig(prices, title=x,legend='top', name='日K線圖')\n",
    "qf.add_macd(colors=['red','blue'])\n",
    "qf.figure(up_color='#ff0000',down_color='#000000').iplot()\n",
    "#紅線(快線)往上交叉藍線(慢線)買進"
   ]
  },
  {
   "cell_type": "code",
   "execution_count": 36,
   "metadata": {},
   "outputs": [
    {
     "data": {
      "application/vnd.plotly.v1+json": {
       "config": {
        "linkText": "Export to plot.ly",
        "plotlyServerURL": "https://plot.ly",
        "showLink": true
       },
       "data": [
        {
         "line": {
          "color": "rgba(219, 64, 82, 1.0)",
          "dash": "solid",
          "shape": "linear",
          "width": 1.3
         },
         "mode": "lines",
         "name": " MACD([12,26])",
         "text": "",
         "type": "scatter",
         "x": [
          "2023-09-20",
          "2023-09-21",
          "2023-09-22",
          "2023-09-25",
          "2023-09-26",
          "2023-09-27",
          "2023-09-28",
          "2023-09-29",
          "2023-10-02",
          "2023-10-03",
          "2023-10-04",
          "2023-10-05",
          "2023-10-06",
          "2023-10-09",
          "2023-10-10",
          "2023-10-11",
          "2023-10-12",
          "2023-10-13",
          "2023-10-16",
          "2023-10-17",
          "2023-10-18",
          "2023-10-19",
          "2023-10-20",
          "2023-10-23",
          "2023-10-24",
          "2023-10-25",
          "2023-10-26",
          "2023-10-27",
          "2023-10-30",
          "2023-10-31",
          "2023-11-01",
          "2023-11-02",
          "2023-11-03",
          "2023-11-06",
          "2023-11-07",
          "2023-11-08",
          "2023-11-09",
          "2023-11-10",
          "2023-11-13",
          "2023-11-14",
          "2023-11-15",
          "2023-11-16",
          "2023-11-17",
          "2023-11-20",
          "2023-11-21",
          "2023-11-22",
          "2023-11-24",
          "2023-11-27",
          "2023-11-28",
          "2023-11-29",
          "2023-11-30",
          "2023-12-01",
          "2023-12-04",
          "2023-12-05",
          "2023-12-06",
          "2023-12-07",
          "2023-12-08",
          "2023-12-11",
          "2023-12-12",
          "2023-12-13",
          "2023-12-14",
          "2023-12-15",
          "2023-12-18",
          "2023-12-19",
          "2023-12-20",
          "2023-12-21",
          "2023-12-22",
          "2023-12-26",
          "2023-12-27",
          "2023-12-28",
          "2023-12-29",
          "2024-01-02",
          "2024-01-03",
          "2024-01-04",
          "2024-01-05",
          "2024-01-08",
          "2024-01-09",
          "2024-01-10",
          "2024-01-11",
          "2024-01-12",
          "2024-01-16",
          "2024-01-17",
          "2024-01-18",
          "2024-01-19",
          "2024-01-22",
          "2024-01-23",
          "2024-01-24",
          "2024-01-25",
          "2024-01-26",
          "2024-01-29",
          "2024-01-30",
          "2024-01-31",
          "2024-02-01",
          "2024-02-02",
          "2024-02-05",
          "2024-02-06",
          "2024-02-07",
          "2024-02-08",
          "2024-02-09",
          "2024-02-12",
          "2024-02-13",
          "2024-02-14",
          "2024-02-15",
          "2024-02-16",
          "2024-02-20",
          "2024-02-21",
          "2024-02-22",
          "2024-02-23",
          "2024-02-26",
          "2024-02-27",
          "2024-02-28",
          "2024-02-29",
          "2024-03-01",
          "2024-03-04",
          "2024-03-05",
          "2024-03-06",
          "2024-03-07",
          "2024-03-08",
          "2024-03-11",
          "2024-03-12",
          "2024-03-13",
          "2024-03-14",
          "2024-03-15",
          "2024-03-18",
          "2024-03-19",
          "2024-03-20"
         ],
         "y": [
          0,
          -21.99154202279351,
          -38.4235801657469,
          -45.45119923597122,
          -68.23398897206243,
          -82.56757596361967,
          -83.0758483819227,
          -81.53252027367671,
          -69.63568979401134,
          -81.2152747731161,
          -72.55968517599831,
          -69.1816845387857,
          -45.80205168369139,
          -21.066747931879945,
          5.283142270331155,
          34.6105030759627,
          52.64471387509184,
          51.09885442497762,
          63.47373498699926,
          68.39971084770514,
          54.508099788739855,
          32.941540930845804,
          -2.060082572412284,
          -25.951973710180027,
          -33.126222675409736,
          -67.42420917750678,
          -115.23102073766859,
          -145.72150516386318,
          -155.5775780172753,
          -155.60189569211616,
          -133.49546566095705,
          -94.34116287616234,
          -48.235379546895274,
          -7.1404034180159215,
          36.39291759085609,
          71.45921757540418,
          88.1198443573121,
          127.38863447510266,
          153.0072115605508,
          197.63430871797573,
          230.72203917287516,
          255.29173797887415,
          272.0167207986324,
          297.1028883156923,
          305.9176456559453,
          314.74367004610576,
          316.5258504118028,
          312.71723470359393,
          310.03444230025707,
          302.5781805691495,
          290.11889145353234,
          281.01660892829386,
          258.08590093640487,
          240.21362968920948,
          216.32128357315378,
          213.83880982683513,
          214.41878119209287,
          223.36162476595928,
          238.3940531384651,
          264.0569520768822,
          279.1964838425738,
          294.7062309585144,
          311.98315199284116,
          328.5090433431815,
          317.15656260378273,
          320.86152427401066,
          321.70239300539833,
          326.7568791638296,
          329.2539498245533,
          326.79365479577973,
          315.3551813211452,
          280.30467564220453,
          235.65314889212823,
          191.0855261660854,
          155.90245304122618,
          153.99341569364333,
          153.04265573392695,
          159.6757444465875,
          165.27456347990665,
          168.7364548053847,
          169.3496249842574,
          160.36711034537802,
          171.12669288220786,
          204.06767486539684,
          228.85731420561206,
          251.560914630787,
          274.06735931283765,
          289.98846340917225,
          291.5009894714349,
          303.3449044194058,
          299.6299652969392,
          266.22452994831474,
          253.56865201907203,
          264.5370447153182,
          267.74730237231415,
          263.9957098400737,
          272.59355838501506,
          278.46484949276055,
          294.1898415701362,
          296.7955779091608,
          272.9399329493208,
          267.6688336736697,
          263.5272040141281,
          244.5363677322748,
          215.712181091425,
          185.31102799142536,
          201.32394119807577,
          206.223484622682,
          207.37066465338285,
          208.91531290788407,
          200.04264949863864,
          204.3208148176236,
          226.01001001975965,
          234.3304014457135,
          211.96478563048004,
          201.57512557574955,
          213.5076064736022,
          198.12371297934078,
          178.48741953108402,
          182.40145781058163,
          171.37260277673704,
          156.49821553908623,
          126.58327347353043,
          115.80359049797335,
          109.80267171514788,
          102.85980069766447
         ],
         "yaxis": "y3"
        },
        {
         "line": {
          "color": "rgba(55, 128, 191, 1.0)",
          "dash": "solid",
          "shape": "linear",
          "width": 1.3
         },
         "mode": "lines",
         "name": "MACD SIGNAL(9)",
         "text": "",
         "type": "scatter",
         "x": [
          "2023-09-20",
          "2023-09-21",
          "2023-09-22",
          "2023-09-25",
          "2023-09-26",
          "2023-09-27",
          "2023-09-28",
          "2023-09-29",
          "2023-10-02",
          "2023-10-03",
          "2023-10-04",
          "2023-10-05",
          "2023-10-06",
          "2023-10-09",
          "2023-10-10",
          "2023-10-11",
          "2023-10-12",
          "2023-10-13",
          "2023-10-16",
          "2023-10-17",
          "2023-10-18",
          "2023-10-19",
          "2023-10-20",
          "2023-10-23",
          "2023-10-24",
          "2023-10-25",
          "2023-10-26",
          "2023-10-27",
          "2023-10-30",
          "2023-10-31",
          "2023-11-01",
          "2023-11-02",
          "2023-11-03",
          "2023-11-06",
          "2023-11-07",
          "2023-11-08",
          "2023-11-09",
          "2023-11-10",
          "2023-11-13",
          "2023-11-14",
          "2023-11-15",
          "2023-11-16",
          "2023-11-17",
          "2023-11-20",
          "2023-11-21",
          "2023-11-22",
          "2023-11-24",
          "2023-11-27",
          "2023-11-28",
          "2023-11-29",
          "2023-11-30",
          "2023-12-01",
          "2023-12-04",
          "2023-12-05",
          "2023-12-06",
          "2023-12-07",
          "2023-12-08",
          "2023-12-11",
          "2023-12-12",
          "2023-12-13",
          "2023-12-14",
          "2023-12-15",
          "2023-12-18",
          "2023-12-19",
          "2023-12-20",
          "2023-12-21",
          "2023-12-22",
          "2023-12-26",
          "2023-12-27",
          "2023-12-28",
          "2023-12-29",
          "2024-01-02",
          "2024-01-03",
          "2024-01-04",
          "2024-01-05",
          "2024-01-08",
          "2024-01-09",
          "2024-01-10",
          "2024-01-11",
          "2024-01-12",
          "2024-01-16",
          "2024-01-17",
          "2024-01-18",
          "2024-01-19",
          "2024-01-22",
          "2024-01-23",
          "2024-01-24",
          "2024-01-25",
          "2024-01-26",
          "2024-01-29",
          "2024-01-30",
          "2024-01-31",
          "2024-02-01",
          "2024-02-02",
          "2024-02-05",
          "2024-02-06",
          "2024-02-07",
          "2024-02-08",
          "2024-02-09",
          "2024-02-12",
          "2024-02-13",
          "2024-02-14",
          "2024-02-15",
          "2024-02-16",
          "2024-02-20",
          "2024-02-21",
          "2024-02-22",
          "2024-02-23",
          "2024-02-26",
          "2024-02-27",
          "2024-02-28",
          "2024-02-29",
          "2024-03-01",
          "2024-03-04",
          "2024-03-05",
          "2024-03-06",
          "2024-03-07",
          "2024-03-08",
          "2024-03-11",
          "2024-03-12",
          "2024-03-13",
          "2024-03-14",
          "2024-03-15",
          "2024-03-18",
          "2024-03-19",
          "2024-03-20"
         ],
         "y": [
          0,
          -4.398308404558702,
          -11.203362756796341,
          -18.052930052631318,
          -28.08914183651754,
          -38.98482866193797,
          -47.803032605934916,
          -54.548930139483275,
          -57.566282070388894,
          -62.29608061093434,
          -64.34880152394713,
          -65.31537812691485,
          -61.41271283827017,
          -53.343519856992124,
          -41.618187431527474,
          -26.37244933002944,
          -10.569016689005185,
          1.7645575337913755,
          14.106393024432954,
          24.965056589087393,
          30.873665229017888,
          31.287240369383472,
          24.617775781024324,
          14.503825882783456,
          4.977816171144818,
          -9.502588898585502,
          -30.64827526640212,
          -53.66292124589434,
          -74.04585260017053,
          -90.35706121855966,
          -98.98474210703914,
          -98.05602626086379,
          -88.09189691807009,
          -71.90159821805926,
          -50.2426950562762,
          -25.902312529940126,
          -3.0978811524896805,
          22.999421973028788,
          49.00097989053319,
          78.7276456560217,
          109.1265243593924,
          138.35956708328877,
          165.0909978263575,
          191.49337592422447,
          214.37822987056865,
          234.4513179056761,
          250.86622440690147,
          263.23642646624,
          272.59602963304343,
          278.59245982026465,
          280.89774614691817,
          280.9215187031933,
          276.3543951498357,
          269.12624205771044,
          258.56525036079915,
          249.61996225400634,
          242.57972604162367,
          238.7361057864908,
          238.66769525688568,
          243.745546620885,
          250.83573406522277,
          259.6098334438811,
          270.0844971536731,
          281.7694063915748,
          288.8468376340164,
          295.2497749620153,
          300.5402985706919,
          305.78361468931945,
          310.4776817163662,
          313.7408763322489,
          314.0637373300282,
          307.31192499246345,
          292.98016977239644,
          272.60124105113425,
          249.26148344915265,
          230.2078698980508,
          214.77482706522605,
          203.75501054149836,
          196.05892112918002,
          190.59442786442096,
          186.34546728838825,
          181.1497958997862,
          179.14517529627054,
          184.1296752100958,
          193.07520300919907,
          204.77234533351668,
          218.63134812938088,
          232.90277118533916,
          244.62241484255833,
          256.3669127579278,
          265.01952326573013,
          265.2605246022471,
          262.9221500856121,
          263.24512901155333,
          264.1455636837055,
          264.1155929149792,
          265.8111860089864,
          268.34191870574125,
          273.51150327862024,
          278.1683182047284,
          277.1226411536469,
          275.23187965765146,
          272.89094452894676,
          267.22002916961236,
          256.9184595539749,
          242.59697324146504,
          234.3423668327872,
          228.7185903907662,
          224.44900524328955,
          221.34226677620848,
          217.08234332069452,
          214.53003762008035,
          216.82603210001622,
          220.3269059691557,
          218.65448190142058,
          215.2386106362864,
          214.8924098037496,
          211.53867043886783,
          204.92842025731107,
          200.42302776796518,
          194.61294276971955,
          186.9899973235929,
          174.9086525535804,
          163.087640142459,
          152.43064645699678,
          142.51647730513034
         ],
         "yaxis": "y3"
        },
        {
         "line": {
          "color": "rgba(0, 0, 255, 1.0)",
          "dash": "solid",
          "shape": "linear",
          "width": 1.3
         },
         "mode": "lines",
         "name": "EMA 5日均線",
         "text": "",
         "type": "scatter",
         "x": [
          "2023-09-20",
          "2023-09-21",
          "2023-09-22",
          "2023-09-25",
          "2023-09-26",
          "2023-09-27",
          "2023-09-28",
          "2023-09-29",
          "2023-10-02",
          "2023-10-03",
          "2023-10-04",
          "2023-10-05",
          "2023-10-06",
          "2023-10-09",
          "2023-10-10",
          "2023-10-11",
          "2023-10-12",
          "2023-10-13",
          "2023-10-16",
          "2023-10-17",
          "2023-10-18",
          "2023-10-19",
          "2023-10-20",
          "2023-10-23",
          "2023-10-24",
          "2023-10-25",
          "2023-10-26",
          "2023-10-27",
          "2023-10-30",
          "2023-10-31",
          "2023-11-01",
          "2023-11-02",
          "2023-11-03",
          "2023-11-06",
          "2023-11-07",
          "2023-11-08",
          "2023-11-09",
          "2023-11-10",
          "2023-11-13",
          "2023-11-14",
          "2023-11-15",
          "2023-11-16",
          "2023-11-17",
          "2023-11-20",
          "2023-11-21",
          "2023-11-22",
          "2023-11-24",
          "2023-11-27",
          "2023-11-28",
          "2023-11-29",
          "2023-11-30",
          "2023-12-01",
          "2023-12-04",
          "2023-12-05",
          "2023-12-06",
          "2023-12-07",
          "2023-12-08",
          "2023-12-11",
          "2023-12-12",
          "2023-12-13",
          "2023-12-14",
          "2023-12-15",
          "2023-12-18",
          "2023-12-19",
          "2023-12-20",
          "2023-12-21",
          "2023-12-22",
          "2023-12-26",
          "2023-12-27",
          "2023-12-28",
          "2023-12-29",
          "2024-01-02",
          "2024-01-03",
          "2024-01-04",
          "2024-01-05",
          "2024-01-08",
          "2024-01-09",
          "2024-01-10",
          "2024-01-11",
          "2024-01-12",
          "2024-01-16",
          "2024-01-17",
          "2024-01-18",
          "2024-01-19",
          "2024-01-22",
          "2024-01-23",
          "2024-01-24",
          "2024-01-25",
          "2024-01-26",
          "2024-01-29",
          "2024-01-30",
          "2024-01-31",
          "2024-02-01",
          "2024-02-02",
          "2024-02-05",
          "2024-02-06",
          "2024-02-07",
          "2024-02-08",
          "2024-02-09",
          "2024-02-12",
          "2024-02-13",
          "2024-02-14",
          "2024-02-15",
          "2024-02-16",
          "2024-02-20",
          "2024-02-21",
          "2024-02-22",
          "2024-02-23",
          "2024-02-26",
          "2024-02-27",
          "2024-02-28",
          "2024-02-29",
          "2024-03-01",
          "2024-03-04",
          "2024-03-05",
          "2024-03-06",
          "2024-03-07",
          "2024-03-08",
          "2024-03-11",
          "2024-03-12",
          "2024-03-13",
          "2024-03-14",
          "2024-03-15",
          "2024-03-18",
          "2024-03-19",
          "2024-03-20"
         ],
         "y": [
          "",
          "",
          "",
          "",
          14716.832778742286,
          14671.275237911525,
          14681.773335691018,
          14692.92896858568,
          14741.142749890456,
          14682.635205656137,
          14713.840137104093,
          14716.966666923563,
          14802.391189407377,
          14883.977589813252,
          14966.49157029217,
          15058.034419257281,
          15100.05614929652,
          15065.077471926848,
          15100.961804201233,
          15107.97779134249,
          15041.73844943666,
          14955.535593895274,
          14823.983690201017,
          14750.938996592346,
          14749.246114915732,
          14626.710626089656,
          14454.330521559772,
          14363.026988331516,
          14353.85458076268,
          14372.496478320954,
          14469.967704297303,
          14619.82840442737,
          14779.715681076581,
          14904.787016551054,
          15035.197854784037,
          15127.878647981026,
          15147.885895529018,
          15274.963969415181,
          15344.239325964289,
          15500.316126163694,
          15605.937313275797,
          15681.681516142198,
          15733.7844222198,
          15831.542804917368,
          15865.568575674079,
          15910.84226659522,
          15934.564766271815,
          15943.703333764544,
          15965.945451676365,
          15973.163504242577,
          15964.73237522422,
          15975.68160952448,
          15930.344380307986,
          15912.799573851158,
          15871.216317463273,
          15921.64095643385,
          15975.990780851735,
          16057.904010151156,
          16156.686006767439,
          16291.913718053293,
          16373.885838077196,
          16457.073631634797,
          16547.98268150653,
          16635.938324129354,
          16608.678934836236,
          16658.256008640827,
          16697.97080263555,
          16758.134180923702,
          16807.689714365803,
          16837.9500439522,
          16833.943258468134,
          16737.27532335376,
          16614.34696036084,
          16503.567895448894,
          16437.705419882597,
          16508.426660130066,
          16565.184179670046,
          16641.139713530032,
          16701.059939228355,
          16745.013266777238,
          16773.57915701816,
          16761.145870303775,
          16834.86026770252,
          16994.573511801682,
          17106.509294326122,
          17205.743175384083,
          17303.595710672722,
          17374.727218573484,
          17390.154734257325,
          17458.859666588218,
          17464.81009022548,
          17355.62013827532,
          17351.983738016883,
          17448.899314927923,
          17503.612564118615,
          17526.65186566241,
          17602.79134794161,
          17662.91753925274,
          17762.748411585162,
          17802.718993140108,
          17735.285969385073,
          17759.40093271505,
          17788.174189518366,
          17754.10961592891,
          17684.77294707761,
          17616.15201680174,
          17745.667750784494,
          17809.648292189664,
          17850.87555416811,
          17890.933963195406,
          17885.455975463607,
          17938.25385343407,
          18059.805954372714,
          18115.36412583181,
          18042.865797429542,
          18034.433969119695,
          18122.28605753813,
          18087.673777942087,
          18042.345669669725,
          18101.26690477982,
          18090.334837561546,
          18065.160073999366,
          17979.523382666244,
          17981.35217698583,
          17998.301190907223,
          18005.463814771483
         ],
         "yaxis": "y2"
        },
        {
         "line": {
          "color": "rgba(255, 153, 255, 1.0)",
          "dash": "solid",
          "shape": "linear",
          "width": 1.3
         },
         "mode": "lines",
         "name": " EMA(12)",
         "text": "",
         "type": "scatter",
         "x": [
          "2023-09-20",
          "2023-09-21",
          "2023-09-22",
          "2023-09-25",
          "2023-09-26",
          "2023-09-27",
          "2023-09-28",
          "2023-09-29",
          "2023-10-02",
          "2023-10-03",
          "2023-10-04",
          "2023-10-05",
          "2023-10-06",
          "2023-10-09",
          "2023-10-10",
          "2023-10-11",
          "2023-10-12",
          "2023-10-13",
          "2023-10-16",
          "2023-10-17",
          "2023-10-18",
          "2023-10-19",
          "2023-10-20",
          "2023-10-23",
          "2023-10-24",
          "2023-10-25",
          "2023-10-26",
          "2023-10-27",
          "2023-10-30",
          "2023-10-31",
          "2023-11-01",
          "2023-11-02",
          "2023-11-03",
          "2023-11-06",
          "2023-11-07",
          "2023-11-08",
          "2023-11-09",
          "2023-11-10",
          "2023-11-13",
          "2023-11-14",
          "2023-11-15",
          "2023-11-16",
          "2023-11-17",
          "2023-11-20",
          "2023-11-21",
          "2023-11-22",
          "2023-11-24",
          "2023-11-27",
          "2023-11-28",
          "2023-11-29",
          "2023-11-30",
          "2023-12-01",
          "2023-12-04",
          "2023-12-05",
          "2023-12-06",
          "2023-12-07",
          "2023-12-08",
          "2023-12-11",
          "2023-12-12",
          "2023-12-13",
          "2023-12-14",
          "2023-12-15",
          "2023-12-18",
          "2023-12-19",
          "2023-12-20",
          "2023-12-21",
          "2023-12-22",
          "2023-12-26",
          "2023-12-27",
          "2023-12-28",
          "2023-12-29",
          "2024-01-02",
          "2024-01-03",
          "2024-01-04",
          "2024-01-05",
          "2024-01-08",
          "2024-01-09",
          "2024-01-10",
          "2024-01-11",
          "2024-01-12",
          "2024-01-16",
          "2024-01-17",
          "2024-01-18",
          "2024-01-19",
          "2024-01-22",
          "2024-01-23",
          "2024-01-24",
          "2024-01-25",
          "2024-01-26",
          "2024-01-29",
          "2024-01-30",
          "2024-01-31",
          "2024-02-01",
          "2024-02-02",
          "2024-02-05",
          "2024-02-06",
          "2024-02-07",
          "2024-02-08",
          "2024-02-09",
          "2024-02-12",
          "2024-02-13",
          "2024-02-14",
          "2024-02-15",
          "2024-02-16",
          "2024-02-20",
          "2024-02-21",
          "2024-02-22",
          "2024-02-23",
          "2024-02-26",
          "2024-02-27",
          "2024-02-28",
          "2024-02-29",
          "2024-03-01",
          "2024-03-04",
          "2024-03-05",
          "2024-03-06",
          "2024-03-07",
          "2024-03-08",
          "2024-03-11",
          "2024-03-12",
          "2024-03-13",
          "2024-03-14",
          "2024-03-15",
          "2024-03-18",
          "2024-03-19",
          "2024-03-20"
         ],
         "y": [
          "",
          "",
          "",
          "",
          "",
          "",
          "",
          "",
          "",
          "",
          "",
          14744.39997244178,
          14779.606166585352,
          14820.766816437605,
          14868.574926408743,
          14925.889571143936,
          14965.614192410254,
          14970.153565452907,
          15001.31924288323,
          15019.887015612732,
          15002.867438691543,
          14969.061660863998,
          14906.26446424069,
          14859.892948107507,
          14842.349471715967,
          14771.471037365434,
          14669.640156616906,
          14594.37550511815,
          14554.55000673459,
          14532.2777400735,
          14552.682727177576,
          14609.123816025258,
          14684.56480346368,
          14756.92863177696,
          14839.865693234351,
          14912.692545717528,
          14955.032214164832,
          15043.353430014473,
          15110.959062175709,
          15218.883779773676,
          15310.929304039264,
          15391.27401447553,
          15459.999586767757,
          15547.239584236178,
          15606.682743151767,
          15667.406882426496,
          15715.807325995498,
          15753.680117188498,
          15793.180051082576,
          15823.090752358334,
          15842.287577716666,
          15866.178731625641,
          15862.100453202467,
          15864.501915930934,
          15852.740052662713,
          15878.855465233835,
          15910.522382842093,
          15958.400549904849,
          16019.300465304103,
          16102.849492276548,
          16169.76958240708,
          16239.56644953676,
          16314.98711595418,
          16391.427499557383,
          16416.46329289471,
          16468.916656487832,
          16516.375692508936,
          16572.081114815253,
          16623.576448112908,
          16665.867871960923,
          16690.49276665924,
          16667.94610303859,
          16621.87596939804,
          16569.588861125263,
          16529.03372383676,
          16547.62378795803,
          16567.789238849102,
          16602.444860756932,
          16636.05340381356,
          16666.340560438395,
          16691.628310755565,
          16698.497693235477,
          16742.15790389156,
          16830.133610985165,
          16907.094726122064,
          16983.57414325713,
          17062.91670294834,
          17132.774169321674,
          17177.118107214494,
          17241.602941681496,
          17277.77340257665,
          17256.152915161012,
          17269.777226290087,
          17327.154648206997,
          17371.136865790537,
          17402.151266245837,
          17456.446504131094,
          17506.711645322463,
          17576.819108542084,
          17623.871577420225,
          17620.26363041327,
          17649.089357945842,
          17679.340334127253,
          17680.36189329998,
          17659.706157311524,
          17631.891387917443,
          17689.24643881476,
          17727.456121304796,
          17759.129037738672,
          17791.73238289426,
          17804.46586244899,
          17841.294131206836,
          17912.311981213476,
          17960.645594680635,
          17950.987678672074,
          17961.23116079945,
          18013.040249041842,
          18013.87239822771,
          18004.305791288833,
          18037.352496475167,
          18042.139912882834,
          18037.935395035474,
          18002.599180414632,
          17999.893116600844,
          18004.863286162254,
          18007.159559444983
         ],
         "yaxis": "y2"
        },
        {
         "line": {
          "color": "rgba(255, 0, 255, 1.0)",
          "dash": "solid",
          "shape": "linear",
          "width": 1.3
         },
         "mode": "lines",
         "name": " EMA(26)",
         "text": "",
         "type": "scatter",
         "x": [
          "2023-09-20",
          "2023-09-21",
          "2023-09-22",
          "2023-09-25",
          "2023-09-26",
          "2023-09-27",
          "2023-09-28",
          "2023-09-29",
          "2023-10-02",
          "2023-10-03",
          "2023-10-04",
          "2023-10-05",
          "2023-10-06",
          "2023-10-09",
          "2023-10-10",
          "2023-10-11",
          "2023-10-12",
          "2023-10-13",
          "2023-10-16",
          "2023-10-17",
          "2023-10-18",
          "2023-10-19",
          "2023-10-20",
          "2023-10-23",
          "2023-10-24",
          "2023-10-25",
          "2023-10-26",
          "2023-10-27",
          "2023-10-30",
          "2023-10-31",
          "2023-11-01",
          "2023-11-02",
          "2023-11-03",
          "2023-11-06",
          "2023-11-07",
          "2023-11-08",
          "2023-11-09",
          "2023-11-10",
          "2023-11-13",
          "2023-11-14",
          "2023-11-15",
          "2023-11-16",
          "2023-11-17",
          "2023-11-20",
          "2023-11-21",
          "2023-11-22",
          "2023-11-24",
          "2023-11-27",
          "2023-11-28",
          "2023-11-29",
          "2023-11-30",
          "2023-12-01",
          "2023-12-04",
          "2023-12-05",
          "2023-12-06",
          "2023-12-07",
          "2023-12-08",
          "2023-12-11",
          "2023-12-12",
          "2023-12-13",
          "2023-12-14",
          "2023-12-15",
          "2023-12-18",
          "2023-12-19",
          "2023-12-20",
          "2023-12-21",
          "2023-12-22",
          "2023-12-26",
          "2023-12-27",
          "2023-12-28",
          "2023-12-29",
          "2024-01-02",
          "2024-01-03",
          "2024-01-04",
          "2024-01-05",
          "2024-01-08",
          "2024-01-09",
          "2024-01-10",
          "2024-01-11",
          "2024-01-12",
          "2024-01-16",
          "2024-01-17",
          "2024-01-18",
          "2024-01-19",
          "2024-01-22",
          "2024-01-23",
          "2024-01-24",
          "2024-01-25",
          "2024-01-26",
          "2024-01-29",
          "2024-01-30",
          "2024-01-31",
          "2024-02-01",
          "2024-02-02",
          "2024-02-05",
          "2024-02-06",
          "2024-02-07",
          "2024-02-08",
          "2024-02-09",
          "2024-02-12",
          "2024-02-13",
          "2024-02-14",
          "2024-02-15",
          "2024-02-16",
          "2024-02-20",
          "2024-02-21",
          "2024-02-22",
          "2024-02-23",
          "2024-02-26",
          "2024-02-27",
          "2024-02-28",
          "2024-02-29",
          "2024-03-01",
          "2024-03-04",
          "2024-03-05",
          "2024-03-06",
          "2024-03-07",
          "2024-03-08",
          "2024-03-11",
          "2024-03-12",
          "2024-03-13",
          "2024-03-14",
          "2024-03-15",
          "2024-03-18",
          "2024-03-19",
          "2024-03-20"
         ],
         "y": [
          "",
          "",
          "",
          "",
          "",
          "",
          "",
          "",
          "",
          "",
          "",
          "",
          "",
          "",
          "",
          "",
          "",
          "",
          "",
          "",
          "",
          "",
          "",
          "",
          "",
          14838.895246542941,
          14784.871177354575,
          14740.097010282014,
          14710.127584751865,
          14687.879635765616,
          14686.178192838534,
          14703.46497890142,
          14732.800183010575,
          14764.069035194976,
          14803.472775643495,
          14841.233328142123,
          14866.91236980752,
          14915.96479553937,
          14957.951850615158,
          15021.2494710557,
          15080.207264866389,
          15135.982276496656,
          15187.982865969125,
          15250.136695920486,
          15300.765097495821,
          15352.66321238039,
          15399.281475583695,
          15440.962882484904,
          15483.145608782319,
          15520.512571789184,
          15552.168686263134,
          15585.162122697348,
          15604.014552266062,
          15624.288286241725,
          15636.41876908956,
          15665.016655407,
          15696.10360165,
          15735.03892513889,
          15780.906412165637,
          15838.792540199665,
          15890.573098564506,
          15944.860218578246,
          16003.003963961339,
          16062.918456214202,
          16099.306730290928,
          16148.055132213822,
          16194.673299503538,
          16245.324235651424,
          16294.322498288355,
          16339.074217165144,
          16375.137585338096,
          16387.641427396386,
          16386.22282050591,
          16378.503334959178,
          16373.131270795535,
          16393.630372264386,
          16414.746583115175,
          16442.769116310345,
          16470.778840333653,
          16497.60410563301,
          16522.278685771307,
          16538.1305828901,
          16571.03121100935,
          16626.06593611977,
          16678.237411916452,
          16732.013228626343,
          16788.849343635502,
          16842.7857059125,
          16885.61711774306,
          16938.25803726209,
          16978.143437279712,
          16989.928385212697,
          17016.208574271015,
          17062.61760349168,
          17103.389563418223,
          17138.155556405763,
          17183.85294574608,
          17228.246795829702,
          17282.629266971948,
          17327.075999511064,
          17347.323697463948,
          17381.420524272173,
          17415.813130113125,
          17435.825525567707,
          17443.9939762201,
          17446.580359926018,
          17487.922497616684,
          17521.232636682114,
          17551.75837308529,
          17582.817069986377,
          17604.42321295035,
          17636.973316389212,
          17686.301971193716,
          17726.31519323492,
          17739.022893041594,
          17759.6560352237,
          17799.53264256824,
          17815.74868524837,
          17825.81837175775,
          17854.951038664585,
          17870.767310106097,
          17881.437179496388,
          17876.015906941102,
          17884.08952610287,
          17895.060614447106,
          17904.29975874732
         ],
         "yaxis": "y2"
        },
        {
         "close": [
          14969.919921875,
          14694.240234375,
          14701.099609375,
          14768.900390625,
          14545.830078125,
          14580.16015625,
          14702.76953125,
          14715.240234375,
          14837.5703125,
          14565.6201171875,
          14776.25,
          14723.2197265625,
          14973.240234375,
          15047.150390625,
          15131.51953125,
          15241.1201171875,
          15184.099609375,
          14995.1201171875,
          15172.73046875,
          15122.009765625,
          14909.259765625,
          14783.1298828125,
          14560.8798828125,
          14604.849609375,
          14745.8603515625,
          14381.6396484375,
          14109.5703125,
          14180.419921875,
          14335.509765625,
          14409.7802734375,
          14664.91015625,
          14919.5498046875,
          15099.490234375,
          15154.9296875,
          15296.01953125,
          15313.240234375,
          15187.900390625,
          15529.1201171875,
          15482.7900390625,
          15812.4697265625,
          15817.1796875,
          15833.169921875,
          15837.990234375,
          16027.0595703125,
          15933.6201171875,
          16001.3896484375,
          15982.009765625,
          15961.98046875,
          16010.4296875,
          15987.599609375,
          15947.8701171875,
          15997.580078125,
          15839.669921875,
          15877.7099609375,
          15788.0498046875,
          16022.490234375,
          16084.6904296875,
          16221.73046875,
          16354.25,
          16562.369140625,
          16537.830078125,
          16623.44921875,
          16729.80078125,
          16811.849609375,
          16554.16015625,
          16757.41015625,
          16777.400390625,
          16878.4609375,
          16906.80078125,
          16898.470703125,
          16825.9296875,
          16543.939453125,
          16368.490234375,
          16282.009765625,
          16305.98046875,
          16649.869140625,
          16678.69921875,
          16793.05078125,
          16820.900390625,
          16832.919921875,
          16830.7109375,
          16736.279296875,
          16982.2890625,
          17314,
          17330.380859375,
          17404.2109375,
          17499.30078125,
          17516.990234375,
          17421.009765625,
          17596.26953125,
          17476.7109375,
          17137.240234375,
          17344.7109375,
          17642.73046875,
          17613.0390625,
          17572.73046875,
          17755.0703125,
          17783.169921875,
          17962.41015625,
          17882.66015625,
          17600.419921875,
          17807.630859375,
          17845.720703125,
          17685.98046875,
          17546.099609375,
          17478.91015625,
          18004.69921875,
          17937.609375,
          17933.330078125,
          17971.05078125,
          17874.5,
          18043.849609375,
          18302.91015625,
          18226.48046875,
          17897.869140625,
          18017.5703125,
          18297.990234375,
          18018.44921875,
          17951.689453125,
          18219.109375,
          18068.470703125,
          18014.810546875,
          17808.25,
          17985.009765625,
          18032.19921875,
          18019.7890625
         ],
         "decreasing": {
          "line": {
           "color": "#000000"
          }
         },
         "high": [
          15245.1904296875,
          14849.25,
          14855.919921875,
          14771.1201171875,
          14678.48046875,
          14657.2099609375,
          14787.580078125,
          14901.849609375,
          14892.1796875,
          14819.8701171875,
          14803.0400390625,
          14784.6904296875,
          15021.3798828125,
          15070.6396484375,
          15241.9404296875,
          15248.2197265625,
          15333.98046875,
          15232.3701171875,
          15209.5,
          15187.0595703125,
          15103.8701171875,
          15023.91015625,
          14781.2197265625,
          14746.3701171875,
          14774.16015625,
          14643.6904296875,
          14372.509765625,
          14321.0400390625,
          14388.2001953125,
          14420.4404296875,
          14677.8603515625,
          14930.759765625,
          15149.7802734375,
          15180.1904296875,
          15335.4404296875,
          15343.1904296875,
          15382.1103515625,
          15535.2001953125,
          15524.66015625,
          15850.33984375,
          15904.6298828125,
          15842.6298828125,
          15876.8701171875,
          16056.759765625,
          15968.08984375,
          16119.3095703125,
          16007.4296875,
          16045.2998046875,
          16031.51953125,
          16166.509765625,
          16013.48046875,
          16013.75,
          15852.4501953125,
          15931.83984375,
          15990.9404296875,
          16042.509765625,
          16100.8603515625,
          16232.259765625,
          16354.25,
          16581.0390625,
          16660.7109375,
          16669.76953125,
          16764.3203125,
          16813.009765625,
          16860.6796875,
          16768.01953125,
          16839.25,
          16907.509765625,
          16922.009765625,
          16969.169921875,
          16919.509765625,
          16686.599609375,
          16471.080078125,
          16419.439453125,
          16415.390625,
          16655.23046875,
          16710.880859375,
          16827.369140625,
          16898.16015625,
          16900.369140625,
          16895.330078125,
          16749.109375,
          16996.98046875,
          17317.2109375,
          17450.30078125,
          17410.859375,
          17665.259765625,
          17631.33984375,
          17514.759765625,
          17603.94921875,
          17578.4609375,
          17375.3203125,
          17356.759765625,
          17682.2890625,
          17655.76953125,
          17680.619140625,
          17784.169921875,
          17814.119140625,
          17987.900390625,
          18041.44921875,
          17717.669921875,
          17815.1796875,
          17864.58984375,
          17864.16015625,
          17657.080078125,
          17482.130859375,
          18034.80078125,
          18091.619140625,
          18014.109375,
          17987.5390625,
          17931.009765625,
          18068.51953125,
          18333.259765625,
          18313.4296875,
          18097.5,
          18142.880859375,
          18337.94921875,
          18416.73046875,
          18003.05078125,
          18228.369140625,
          18163.740234375,
          18142.900390625,
          17930.470703125,
          18124.3203125,
          18039.8203125,
          18087.099609375
         ],
         "increasing": {
          "line": {
           "color": "#ff0000"
          }
         },
         "low": [
          14967.599609375,
          14691.6904296875,
          14686.83984375,
          14615.4501953125,
          14505.6796875,
          14432.599609375,
          14510.169921875,
          14664.7802734375,
          14701.51953125,
          14504.1396484375,
          14592.5595703125,
          14584.3896484375,
          14575.9501953125,
          14816.3203125,
          15050.5400390625,
          15119.6201171875,
          15090.6904296875,
          14943.419921875,
          15047.26953125,
          14932.76953125,
          14865.8095703125,
          14749.2998046875,
          14552.1201171875,
          14419.0595703125,
          14610.330078125,
          14362.240234375,
          14058.330078125,
          14130.3701171875,
          14225.8603515625,
          14232.400390625,
          14441.8896484375,
          14792.8095703125,
          14965.2900390625,
          15064.91015625,
          15153.3095703125,
          15220.8798828125,
          15171.3203125,
          15237.169921875,
          15404.7099609375,
          15726.1201171875,
          15765.3095703125,
          15738.2197265625,
          15766.9404296875,
          15844.830078125,
          15866.8203125,
          15964.0400390625,
          15940.6201171875,
          15932.1904296875,
          15921.0703125,
          15976.6904296875,
          15825.669921875,
          15834.9296875,
          15695.580078125,
          15760.58984375,
          15776.9501953125,
          15875.48046875,
          15937.580078125,
          16061.8701171875,
          16175.4599609375,
          16357.2099609375,
          16419.259765625,
          16557.009765625,
          16629.2890625,
          16733.380859375,
          16552.060546875,
          16621.51953125,
          16703.5703125,
          16813.5703125,
          16859.55078125,
          16891.3203125,
          16757.890625,
          16453.150390625,
          16352.1396484375,
          16276.4296875,
          16249.1904296875,
          16349.3896484375,
          16513.73046875,
          16654.740234375,
          16618.859375,
          16776.919921875,
          16726.58984375,
          16561.490234375,
          16818.130859375,
          17041.849609375,
          17309.869140625,
          17286.01953125,
          17481.970703125,
          17430.369140625,
          17395.5390625,
          17414.619140625,
          17443.76953125,
          17128.740234375,
          17175.830078125,
          17378.369140625,
          17469.619140625,
          17475.4296875,
          17637.73046875,
          17728.55078125,
          17798.810546875,
          17859.66015625,
          17478.23046875,
          17619.919921875,
          17722.310546875,
          17663.400390625,
          17399.41015625,
          17319.439453125,
          17808.259765625,
          17902.779296875,
          17926.66015625,
          17871.060546875,
          17840.359375,
          17866.259765625,
          18064.439453125,
          18218.25,
          17804.5,
          17941.640625,
          18101.4296875,
          17995.380859375,
          17873.330078125,
          17919.330078125,
          18030.400390625,
          17913.630859375,
          17764.990234375,
          17973.08984375,
          17809.150390625,
          18005
         ],
         "name": "日K線圖",
         "open": [
          15225.33984375,
          14813.490234375,
          14756.6201171875,
          14662.6904296875,
          14668.4501953125,
          14600.1396484375,
          14530.9599609375,
          14853.349609375,
          14717.900390625,
          14744.0498046875,
          14613.23046875,
          14769.5498046875,
          14622.23046875,
          14871.5703125,
          15074.0400390625,
          15194.5302734375,
          15264.1103515625,
          15225.73046875,
          15054.48046875,
          15009.259765625,
          15022.2802734375,
          14981.1298828125,
          14752.58984375,
          14514.1103515625,
          14678.41015625,
          14642.080078125,
          14314.009765625,
          14245.75,
          14283.98046875,
          14340.8603515625,
          14453.6796875,
          14856.9501953125,
          14985.1201171875,
          15137.16015625,
          15201.76953125,
          15313.900390625,
          15351.1201171875,
          15252.3603515625,
          15469.2099609375,
          15744.3603515625,
          15881.7197265625,
          15765.2001953125,
          15803.98046875,
          15845.2001953125,
          15951.5498046875,
          16025.740234375,
          15974.849609375,
          15969.7197265625,
          15940.2900390625,
          16111.3603515625,
          15987.66015625,
          15892.58984375,
          15837.1201171875,
          15763.650390625,
          15990.2001953125,
          15888.23046875,
          15952.849609375,
          16069.6201171875,
          16209.6103515625,
          16392.1796875,
          16603.5390625,
          16587,
          16631.109375,
          16734.25,
          16763.640625,
          16719.609375,
          16799.01953125,
          16816.779296875,
          16896.140625,
          16963.51953125,
          16902.439453125,
          16667.30078125,
          16413.259765625,
          16290.7802734375,
          16281.740234375,
          16354.2197265625,
          16531.9609375,
          16702.55078125,
          16852.189453125,
          16855,
          16775.099609375,
          16705.509765625,
          16894.330078125,
          17060.140625,
          17403.619140625,
          17346.94921875,
          17562.3203125,
          17589.26953125,
          17432.869140625,
          17438.029296875,
          17556.490234375,
          17269.98046875,
          17216.990234375,
          17415.939453125,
          17634.689453125,
          17664.439453125,
          17674.58984375,
          17757.599609375,
          17820.98046875,
          17942.279296875,
          17519.80078125,
          17728.900390625,
          17815.3203125,
          17853.58984375,
          17591.169921875,
          17412.7890625,
          17857.759765625,
          18052.58984375,
          17970.2109375,
          17962.580078125,
          17895.029296875,
          17991.669921875,
          18069.2890625,
          18290.099609375,
          18088.7109375,
          18083.509765625,
          18161.73046875,
          18312.7890625,
          17959.6796875,
          18063.01953125,
          18151.759765625,
          18114.689453125,
          17926.919921875,
          18024.240234375,
          17902.51953125,
          18067.69921875
         ],
         "showlegend": true,
         "type": "candlestick",
         "x": [
          "2023-09-20",
          "2023-09-21",
          "2023-09-22",
          "2023-09-25",
          "2023-09-26",
          "2023-09-27",
          "2023-09-28",
          "2023-09-29",
          "2023-10-02",
          "2023-10-03",
          "2023-10-04",
          "2023-10-05",
          "2023-10-06",
          "2023-10-09",
          "2023-10-10",
          "2023-10-11",
          "2023-10-12",
          "2023-10-13",
          "2023-10-16",
          "2023-10-17",
          "2023-10-18",
          "2023-10-19",
          "2023-10-20",
          "2023-10-23",
          "2023-10-24",
          "2023-10-25",
          "2023-10-26",
          "2023-10-27",
          "2023-10-30",
          "2023-10-31",
          "2023-11-01",
          "2023-11-02",
          "2023-11-03",
          "2023-11-06",
          "2023-11-07",
          "2023-11-08",
          "2023-11-09",
          "2023-11-10",
          "2023-11-13",
          "2023-11-14",
          "2023-11-15",
          "2023-11-16",
          "2023-11-17",
          "2023-11-20",
          "2023-11-21",
          "2023-11-22",
          "2023-11-24",
          "2023-11-27",
          "2023-11-28",
          "2023-11-29",
          "2023-11-30",
          "2023-12-01",
          "2023-12-04",
          "2023-12-05",
          "2023-12-06",
          "2023-12-07",
          "2023-12-08",
          "2023-12-11",
          "2023-12-12",
          "2023-12-13",
          "2023-12-14",
          "2023-12-15",
          "2023-12-18",
          "2023-12-19",
          "2023-12-20",
          "2023-12-21",
          "2023-12-22",
          "2023-12-26",
          "2023-12-27",
          "2023-12-28",
          "2023-12-29",
          "2024-01-02",
          "2024-01-03",
          "2024-01-04",
          "2024-01-05",
          "2024-01-08",
          "2024-01-09",
          "2024-01-10",
          "2024-01-11",
          "2024-01-12",
          "2024-01-16",
          "2024-01-17",
          "2024-01-18",
          "2024-01-19",
          "2024-01-22",
          "2024-01-23",
          "2024-01-24",
          "2024-01-25",
          "2024-01-26",
          "2024-01-29",
          "2024-01-30",
          "2024-01-31",
          "2024-02-01",
          "2024-02-02",
          "2024-02-05",
          "2024-02-06",
          "2024-02-07",
          "2024-02-08",
          "2024-02-09",
          "2024-02-12",
          "2024-02-13",
          "2024-02-14",
          "2024-02-15",
          "2024-02-16",
          "2024-02-20",
          "2024-02-21",
          "2024-02-22",
          "2024-02-23",
          "2024-02-26",
          "2024-02-27",
          "2024-02-28",
          "2024-02-29",
          "2024-03-01",
          "2024-03-04",
          "2024-03-05",
          "2024-03-06",
          "2024-03-07",
          "2024-03-08",
          "2024-03-11",
          "2024-03-12",
          "2024-03-13",
          "2024-03-14",
          "2024-03-15",
          "2024-03-18",
          "2024-03-19",
          "2024-03-20"
         ],
         "yaxis": "y2"
        }
       ],
       "layout": {
        "legend": {
         "bgcolor": "#F5F6F9",
         "font": {
          "color": "#4D5663"
         },
         "orientation": "h",
         "x": 0.3,
         "y": 0.95,
         "yanchor": "bottom"
        },
        "margin": {
         "b": 30,
         "l": 30,
         "r": 30,
         "t": 30
        },
        "paper_bgcolor": "#F5F6F9",
        "plot_bgcolor": "#F5F6F9",
        "showlegend": true,
        "template": {
         "data": {
          "bar": [
           {
            "error_x": {
             "color": "#2a3f5f"
            },
            "error_y": {
             "color": "#2a3f5f"
            },
            "marker": {
             "line": {
              "color": "#E5ECF6",
              "width": 0.5
             },
             "pattern": {
              "fillmode": "overlay",
              "size": 10,
              "solidity": 0.2
             }
            },
            "type": "bar"
           }
          ],
          "barpolar": [
           {
            "marker": {
             "line": {
              "color": "#E5ECF6",
              "width": 0.5
             },
             "pattern": {
              "fillmode": "overlay",
              "size": 10,
              "solidity": 0.2
             }
            },
            "type": "barpolar"
           }
          ],
          "carpet": [
           {
            "aaxis": {
             "endlinecolor": "#2a3f5f",
             "gridcolor": "white",
             "linecolor": "white",
             "minorgridcolor": "white",
             "startlinecolor": "#2a3f5f"
            },
            "baxis": {
             "endlinecolor": "#2a3f5f",
             "gridcolor": "white",
             "linecolor": "white",
             "minorgridcolor": "white",
             "startlinecolor": "#2a3f5f"
            },
            "type": "carpet"
           }
          ],
          "choropleth": [
           {
            "colorbar": {
             "outlinewidth": 0,
             "ticks": ""
            },
            "type": "choropleth"
           }
          ],
          "contour": [
           {
            "colorbar": {
             "outlinewidth": 0,
             "ticks": ""
            },
            "colorscale": [
             [
              0,
              "#0d0887"
             ],
             [
              0.1111111111111111,
              "#46039f"
             ],
             [
              0.2222222222222222,
              "#7201a8"
             ],
             [
              0.3333333333333333,
              "#9c179e"
             ],
             [
              0.4444444444444444,
              "#bd3786"
             ],
             [
              0.5555555555555556,
              "#d8576b"
             ],
             [
              0.6666666666666666,
              "#ed7953"
             ],
             [
              0.7777777777777778,
              "#fb9f3a"
             ],
             [
              0.8888888888888888,
              "#fdca26"
             ],
             [
              1,
              "#f0f921"
             ]
            ],
            "type": "contour"
           }
          ],
          "contourcarpet": [
           {
            "colorbar": {
             "outlinewidth": 0,
             "ticks": ""
            },
            "type": "contourcarpet"
           }
          ],
          "heatmap": [
           {
            "colorbar": {
             "outlinewidth": 0,
             "ticks": ""
            },
            "colorscale": [
             [
              0,
              "#0d0887"
             ],
             [
              0.1111111111111111,
              "#46039f"
             ],
             [
              0.2222222222222222,
              "#7201a8"
             ],
             [
              0.3333333333333333,
              "#9c179e"
             ],
             [
              0.4444444444444444,
              "#bd3786"
             ],
             [
              0.5555555555555556,
              "#d8576b"
             ],
             [
              0.6666666666666666,
              "#ed7953"
             ],
             [
              0.7777777777777778,
              "#fb9f3a"
             ],
             [
              0.8888888888888888,
              "#fdca26"
             ],
             [
              1,
              "#f0f921"
             ]
            ],
            "type": "heatmap"
           }
          ],
          "heatmapgl": [
           {
            "colorbar": {
             "outlinewidth": 0,
             "ticks": ""
            },
            "colorscale": [
             [
              0,
              "#0d0887"
             ],
             [
              0.1111111111111111,
              "#46039f"
             ],
             [
              0.2222222222222222,
              "#7201a8"
             ],
             [
              0.3333333333333333,
              "#9c179e"
             ],
             [
              0.4444444444444444,
              "#bd3786"
             ],
             [
              0.5555555555555556,
              "#d8576b"
             ],
             [
              0.6666666666666666,
              "#ed7953"
             ],
             [
              0.7777777777777778,
              "#fb9f3a"
             ],
             [
              0.8888888888888888,
              "#fdca26"
             ],
             [
              1,
              "#f0f921"
             ]
            ],
            "type": "heatmapgl"
           }
          ],
          "histogram": [
           {
            "marker": {
             "pattern": {
              "fillmode": "overlay",
              "size": 10,
              "solidity": 0.2
             }
            },
            "type": "histogram"
           }
          ],
          "histogram2d": [
           {
            "colorbar": {
             "outlinewidth": 0,
             "ticks": ""
            },
            "colorscale": [
             [
              0,
              "#0d0887"
             ],
             [
              0.1111111111111111,
              "#46039f"
             ],
             [
              0.2222222222222222,
              "#7201a8"
             ],
             [
              0.3333333333333333,
              "#9c179e"
             ],
             [
              0.4444444444444444,
              "#bd3786"
             ],
             [
              0.5555555555555556,
              "#d8576b"
             ],
             [
              0.6666666666666666,
              "#ed7953"
             ],
             [
              0.7777777777777778,
              "#fb9f3a"
             ],
             [
              0.8888888888888888,
              "#fdca26"
             ],
             [
              1,
              "#f0f921"
             ]
            ],
            "type": "histogram2d"
           }
          ],
          "histogram2dcontour": [
           {
            "colorbar": {
             "outlinewidth": 0,
             "ticks": ""
            },
            "colorscale": [
             [
              0,
              "#0d0887"
             ],
             [
              0.1111111111111111,
              "#46039f"
             ],
             [
              0.2222222222222222,
              "#7201a8"
             ],
             [
              0.3333333333333333,
              "#9c179e"
             ],
             [
              0.4444444444444444,
              "#bd3786"
             ],
             [
              0.5555555555555556,
              "#d8576b"
             ],
             [
              0.6666666666666666,
              "#ed7953"
             ],
             [
              0.7777777777777778,
              "#fb9f3a"
             ],
             [
              0.8888888888888888,
              "#fdca26"
             ],
             [
              1,
              "#f0f921"
             ]
            ],
            "type": "histogram2dcontour"
           }
          ],
          "mesh3d": [
           {
            "colorbar": {
             "outlinewidth": 0,
             "ticks": ""
            },
            "type": "mesh3d"
           }
          ],
          "parcoords": [
           {
            "line": {
             "colorbar": {
              "outlinewidth": 0,
              "ticks": ""
             }
            },
            "type": "parcoords"
           }
          ],
          "pie": [
           {
            "automargin": true,
            "type": "pie"
           }
          ],
          "scatter": [
           {
            "fillpattern": {
             "fillmode": "overlay",
             "size": 10,
             "solidity": 0.2
            },
            "type": "scatter"
           }
          ],
          "scatter3d": [
           {
            "line": {
             "colorbar": {
              "outlinewidth": 0,
              "ticks": ""
             }
            },
            "marker": {
             "colorbar": {
              "outlinewidth": 0,
              "ticks": ""
             }
            },
            "type": "scatter3d"
           }
          ],
          "scattercarpet": [
           {
            "marker": {
             "colorbar": {
              "outlinewidth": 0,
              "ticks": ""
             }
            },
            "type": "scattercarpet"
           }
          ],
          "scattergeo": [
           {
            "marker": {
             "colorbar": {
              "outlinewidth": 0,
              "ticks": ""
             }
            },
            "type": "scattergeo"
           }
          ],
          "scattergl": [
           {
            "marker": {
             "colorbar": {
              "outlinewidth": 0,
              "ticks": ""
             }
            },
            "type": "scattergl"
           }
          ],
          "scattermapbox": [
           {
            "marker": {
             "colorbar": {
              "outlinewidth": 0,
              "ticks": ""
             }
            },
            "type": "scattermapbox"
           }
          ],
          "scatterpolar": [
           {
            "marker": {
             "colorbar": {
              "outlinewidth": 0,
              "ticks": ""
             }
            },
            "type": "scatterpolar"
           }
          ],
          "scatterpolargl": [
           {
            "marker": {
             "colorbar": {
              "outlinewidth": 0,
              "ticks": ""
             }
            },
            "type": "scatterpolargl"
           }
          ],
          "scatterternary": [
           {
            "marker": {
             "colorbar": {
              "outlinewidth": 0,
              "ticks": ""
             }
            },
            "type": "scatterternary"
           }
          ],
          "surface": [
           {
            "colorbar": {
             "outlinewidth": 0,
             "ticks": ""
            },
            "colorscale": [
             [
              0,
              "#0d0887"
             ],
             [
              0.1111111111111111,
              "#46039f"
             ],
             [
              0.2222222222222222,
              "#7201a8"
             ],
             [
              0.3333333333333333,
              "#9c179e"
             ],
             [
              0.4444444444444444,
              "#bd3786"
             ],
             [
              0.5555555555555556,
              "#d8576b"
             ],
             [
              0.6666666666666666,
              "#ed7953"
             ],
             [
              0.7777777777777778,
              "#fb9f3a"
             ],
             [
              0.8888888888888888,
              "#fdca26"
             ],
             [
              1,
              "#f0f921"
             ]
            ],
            "type": "surface"
           }
          ],
          "table": [
           {
            "cells": {
             "fill": {
              "color": "#EBF0F8"
             },
             "line": {
              "color": "white"
             }
            },
            "header": {
             "fill": {
              "color": "#C8D4E3"
             },
             "line": {
              "color": "white"
             }
            },
            "type": "table"
           }
          ]
         },
         "layout": {
          "annotationdefaults": {
           "arrowcolor": "#2a3f5f",
           "arrowhead": 0,
           "arrowwidth": 1
          },
          "autotypenumbers": "strict",
          "coloraxis": {
           "colorbar": {
            "outlinewidth": 0,
            "ticks": ""
           }
          },
          "colorscale": {
           "diverging": [
            [
             0,
             "#8e0152"
            ],
            [
             0.1,
             "#c51b7d"
            ],
            [
             0.2,
             "#de77ae"
            ],
            [
             0.3,
             "#f1b6da"
            ],
            [
             0.4,
             "#fde0ef"
            ],
            [
             0.5,
             "#f7f7f7"
            ],
            [
             0.6,
             "#e6f5d0"
            ],
            [
             0.7,
             "#b8e186"
            ],
            [
             0.8,
             "#7fbc41"
            ],
            [
             0.9,
             "#4d9221"
            ],
            [
             1,
             "#276419"
            ]
           ],
           "sequential": [
            [
             0,
             "#0d0887"
            ],
            [
             0.1111111111111111,
             "#46039f"
            ],
            [
             0.2222222222222222,
             "#7201a8"
            ],
            [
             0.3333333333333333,
             "#9c179e"
            ],
            [
             0.4444444444444444,
             "#bd3786"
            ],
            [
             0.5555555555555556,
             "#d8576b"
            ],
            [
             0.6666666666666666,
             "#ed7953"
            ],
            [
             0.7777777777777778,
             "#fb9f3a"
            ],
            [
             0.8888888888888888,
             "#fdca26"
            ],
            [
             1,
             "#f0f921"
            ]
           ],
           "sequentialminus": [
            [
             0,
             "#0d0887"
            ],
            [
             0.1111111111111111,
             "#46039f"
            ],
            [
             0.2222222222222222,
             "#7201a8"
            ],
            [
             0.3333333333333333,
             "#9c179e"
            ],
            [
             0.4444444444444444,
             "#bd3786"
            ],
            [
             0.5555555555555556,
             "#d8576b"
            ],
            [
             0.6666666666666666,
             "#ed7953"
            ],
            [
             0.7777777777777778,
             "#fb9f3a"
            ],
            [
             0.8888888888888888,
             "#fdca26"
            ],
            [
             1,
             "#f0f921"
            ]
           ]
          },
          "colorway": [
           "#636efa",
           "#EF553B",
           "#00cc96",
           "#ab63fa",
           "#FFA15A",
           "#19d3f3",
           "#FF6692",
           "#B6E880",
           "#FF97FF",
           "#FECB52"
          ],
          "font": {
           "color": "#2a3f5f"
          },
          "geo": {
           "bgcolor": "white",
           "lakecolor": "white",
           "landcolor": "#E5ECF6",
           "showlakes": true,
           "showland": true,
           "subunitcolor": "white"
          },
          "hoverlabel": {
           "align": "left"
          },
          "hovermode": "closest",
          "mapbox": {
           "style": "light"
          },
          "paper_bgcolor": "white",
          "plot_bgcolor": "#E5ECF6",
          "polar": {
           "angularaxis": {
            "gridcolor": "white",
            "linecolor": "white",
            "ticks": ""
           },
           "bgcolor": "#E5ECF6",
           "radialaxis": {
            "gridcolor": "white",
            "linecolor": "white",
            "ticks": ""
           }
          },
          "scene": {
           "xaxis": {
            "backgroundcolor": "#E5ECF6",
            "gridcolor": "white",
            "gridwidth": 2,
            "linecolor": "white",
            "showbackground": true,
            "ticks": "",
            "zerolinecolor": "white"
           },
           "yaxis": {
            "backgroundcolor": "#E5ECF6",
            "gridcolor": "white",
            "gridwidth": 2,
            "linecolor": "white",
            "showbackground": true,
            "ticks": "",
            "zerolinecolor": "white"
           },
           "zaxis": {
            "backgroundcolor": "#E5ECF6",
            "gridcolor": "white",
            "gridwidth": 2,
            "linecolor": "white",
            "showbackground": true,
            "ticks": "",
            "zerolinecolor": "white"
           }
          },
          "shapedefaults": {
           "line": {
            "color": "#2a3f5f"
           }
          },
          "ternary": {
           "aaxis": {
            "gridcolor": "white",
            "linecolor": "white",
            "ticks": ""
           },
           "baxis": {
            "gridcolor": "white",
            "linecolor": "white",
            "ticks": ""
           },
           "bgcolor": "#E5ECF6",
           "caxis": {
            "gridcolor": "white",
            "linecolor": "white",
            "ticks": ""
           }
          },
          "title": {
           "x": 0.05
          },
          "xaxis": {
           "automargin": true,
           "gridcolor": "white",
           "linecolor": "white",
           "ticks": "",
           "title": {
            "standoff": 15
           },
           "zerolinecolor": "white",
           "zerolinewidth": 2
          },
          "yaxis": {
           "automargin": true,
           "gridcolor": "white",
           "linecolor": "white",
           "ticks": "",
           "title": {
            "standoff": 15
           },
           "zerolinecolor": "white",
           "zerolinewidth": 2
          }
         }
        },
        "title": {
         "font": {
          "color": "#4D5663"
         },
         "text": "^NDX"
        },
        "xaxis": {
         "anchor": "y2",
         "gridcolor": "#E1E5ED",
         "rangeselector": {
          "bgcolor": "rgba(150, 200, 250, 1)",
          "buttons": [
           {
            "count": 1,
            "label": "1m",
            "step": "month",
            "stepmode": "backward"
           },
           {
            "count": 1,
            "label": "1y",
            "step": "year",
            "stepmode": "backward"
           }
          ],
          "font": {
           "size": 13
          },
          "visible": false,
          "x": 0,
          "y": 0.9
         },
         "rangeslider": {
          "visible": false
         },
         "showgrid": true,
         "tickfont": {
          "color": "#4D5663"
         },
         "title": {
          "font": {
           "color": "#4D5663"
          },
          "text": ""
         },
         "zerolinecolor": "#E1E5ED"
        },
        "yaxis": {
         "gridcolor": "#E1E5ED",
         "showgrid": true,
         "showticklabels": false,
         "tickfont": {
          "color": "#4D5663"
         },
         "title": {
          "font": {
           "color": "#4D5663"
          },
          "text": ""
         },
         "zerolinecolor": "#E1E5ED"
        },
        "yaxis2": {
         "domain": [
          0.23,
          0.9
         ],
         "gridcolor": "#E1E5ED",
         "showgrid": true,
         "tickfont": {
          "color": "#4D5663"
         },
         "title": {
          "font": {
           "color": "#4D5663"
          },
          "text": ""
         },
         "zerolinecolor": "#E1E5ED"
        },
        "yaxis3": {
         "domain": [
          0,
          0.15
         ],
         "gridcolor": "#E1E5ED",
         "showgrid": true,
         "tickfont": {
          "color": "#4D5663"
         },
         "title": {
          "font": {
           "color": "#4D5663"
          },
          "text": ""
         },
         "zerolinecolor": "#E1E5ED"
        }
       }
      },
      "text/html": [
       "<div>                            <div id=\"9ccf677c-c686-426f-a2df-559f029ae575\" class=\"plotly-graph-div\" style=\"height:525px; width:100%;\"></div>            <script type=\"text/javascript\">                require([\"plotly\"], function(Plotly) {                    window.PLOTLYENV=window.PLOTLYENV || {};\n",
       "                    window.PLOTLYENV.BASE_URL='https://plot.ly';                                    if (document.getElementById(\"9ccf677c-c686-426f-a2df-559f029ae575\")) {                    Plotly.newPlot(                        \"9ccf677c-c686-426f-a2df-559f029ae575\",                        [{\"line\":{\"color\":\"rgba(219, 64, 82, 1.0)\",\"dash\":\"solid\",\"shape\":\"linear\",\"width\":1.3},\"mode\":\"lines\",\"name\":\" MACD([12,26])\",\"text\":\"\",\"x\":[\"2023-09-20\",\"2023-09-21\",\"2023-09-22\",\"2023-09-25\",\"2023-09-26\",\"2023-09-27\",\"2023-09-28\",\"2023-09-29\",\"2023-10-02\",\"2023-10-03\",\"2023-10-04\",\"2023-10-05\",\"2023-10-06\",\"2023-10-09\",\"2023-10-10\",\"2023-10-11\",\"2023-10-12\",\"2023-10-13\",\"2023-10-16\",\"2023-10-17\",\"2023-10-18\",\"2023-10-19\",\"2023-10-20\",\"2023-10-23\",\"2023-10-24\",\"2023-10-25\",\"2023-10-26\",\"2023-10-27\",\"2023-10-30\",\"2023-10-31\",\"2023-11-01\",\"2023-11-02\",\"2023-11-03\",\"2023-11-06\",\"2023-11-07\",\"2023-11-08\",\"2023-11-09\",\"2023-11-10\",\"2023-11-13\",\"2023-11-14\",\"2023-11-15\",\"2023-11-16\",\"2023-11-17\",\"2023-11-20\",\"2023-11-21\",\"2023-11-22\",\"2023-11-24\",\"2023-11-27\",\"2023-11-28\",\"2023-11-29\",\"2023-11-30\",\"2023-12-01\",\"2023-12-04\",\"2023-12-05\",\"2023-12-06\",\"2023-12-07\",\"2023-12-08\",\"2023-12-11\",\"2023-12-12\",\"2023-12-13\",\"2023-12-14\",\"2023-12-15\",\"2023-12-18\",\"2023-12-19\",\"2023-12-20\",\"2023-12-21\",\"2023-12-22\",\"2023-12-26\",\"2023-12-27\",\"2023-12-28\",\"2023-12-29\",\"2024-01-02\",\"2024-01-03\",\"2024-01-04\",\"2024-01-05\",\"2024-01-08\",\"2024-01-09\",\"2024-01-10\",\"2024-01-11\",\"2024-01-12\",\"2024-01-16\",\"2024-01-17\",\"2024-01-18\",\"2024-01-19\",\"2024-01-22\",\"2024-01-23\",\"2024-01-24\",\"2024-01-25\",\"2024-01-26\",\"2024-01-29\",\"2024-01-30\",\"2024-01-31\",\"2024-02-01\",\"2024-02-02\",\"2024-02-05\",\"2024-02-06\",\"2024-02-07\",\"2024-02-08\",\"2024-02-09\",\"2024-02-12\",\"2024-02-13\",\"2024-02-14\",\"2024-02-15\",\"2024-02-16\",\"2024-02-20\",\"2024-02-21\",\"2024-02-22\",\"2024-02-23\",\"2024-02-26\",\"2024-02-27\",\"2024-02-28\",\"2024-02-29\",\"2024-03-01\",\"2024-03-04\",\"2024-03-05\",\"2024-03-06\",\"2024-03-07\",\"2024-03-08\",\"2024-03-11\",\"2024-03-12\",\"2024-03-13\",\"2024-03-14\",\"2024-03-15\",\"2024-03-18\",\"2024-03-19\",\"2024-03-20\"],\"y\":[0.0,-21.99154202279351,-38.4235801657469,-45.45119923597122,-68.23398897206243,-82.56757596361967,-83.0758483819227,-81.53252027367671,-69.63568979401134,-81.2152747731161,-72.55968517599831,-69.1816845387857,-45.80205168369139,-21.066747931879945,5.283142270331155,34.6105030759627,52.64471387509184,51.09885442497762,63.47373498699926,68.39971084770514,54.508099788739855,32.941540930845804,-2.060082572412284,-25.951973710180027,-33.126222675409736,-67.42420917750678,-115.23102073766859,-145.72150516386318,-155.5775780172753,-155.60189569211616,-133.49546566095705,-94.34116287616234,-48.235379546895274,-7.1404034180159215,36.39291759085609,71.45921757540418,88.1198443573121,127.38863447510266,153.0072115605508,197.63430871797573,230.72203917287516,255.29173797887415,272.0167207986324,297.1028883156923,305.9176456559453,314.74367004610576,316.5258504118028,312.71723470359393,310.03444230025707,302.5781805691495,290.11889145353234,281.01660892829386,258.08590093640487,240.21362968920948,216.32128357315378,213.83880982683513,214.41878119209287,223.36162476595928,238.3940531384651,264.0569520768822,279.1964838425738,294.7062309585144,311.98315199284116,328.5090433431815,317.15656260378273,320.86152427401066,321.70239300539833,326.7568791638296,329.2539498245533,326.79365479577973,315.3551813211452,280.30467564220453,235.65314889212823,191.0855261660854,155.90245304122618,153.99341569364333,153.04265573392695,159.6757444465875,165.27456347990665,168.7364548053847,169.3496249842574,160.36711034537802,171.12669288220786,204.06767486539684,228.85731420561206,251.560914630787,274.06735931283765,289.98846340917225,291.5009894714349,303.3449044194058,299.6299652969392,266.22452994831474,253.56865201907203,264.5370447153182,267.74730237231415,263.9957098400737,272.59355838501506,278.46484949276055,294.1898415701362,296.7955779091608,272.9399329493208,267.6688336736697,263.5272040141281,244.5363677322748,215.712181091425,185.31102799142536,201.32394119807577,206.223484622682,207.37066465338285,208.91531290788407,200.04264949863864,204.3208148176236,226.01001001975965,234.3304014457135,211.96478563048004,201.57512557574955,213.5076064736022,198.12371297934078,178.48741953108402,182.40145781058163,171.37260277673704,156.49821553908623,126.58327347353043,115.80359049797335,109.80267171514788,102.85980069766447],\"yaxis\":\"y3\",\"type\":\"scatter\"},{\"line\":{\"color\":\"rgba(55, 128, 191, 1.0)\",\"dash\":\"solid\",\"shape\":\"linear\",\"width\":1.3},\"mode\":\"lines\",\"name\":\"MACD SIGNAL(9)\",\"text\":\"\",\"x\":[\"2023-09-20\",\"2023-09-21\",\"2023-09-22\",\"2023-09-25\",\"2023-09-26\",\"2023-09-27\",\"2023-09-28\",\"2023-09-29\",\"2023-10-02\",\"2023-10-03\",\"2023-10-04\",\"2023-10-05\",\"2023-10-06\",\"2023-10-09\",\"2023-10-10\",\"2023-10-11\",\"2023-10-12\",\"2023-10-13\",\"2023-10-16\",\"2023-10-17\",\"2023-10-18\",\"2023-10-19\",\"2023-10-20\",\"2023-10-23\",\"2023-10-24\",\"2023-10-25\",\"2023-10-26\",\"2023-10-27\",\"2023-10-30\",\"2023-10-31\",\"2023-11-01\",\"2023-11-02\",\"2023-11-03\",\"2023-11-06\",\"2023-11-07\",\"2023-11-08\",\"2023-11-09\",\"2023-11-10\",\"2023-11-13\",\"2023-11-14\",\"2023-11-15\",\"2023-11-16\",\"2023-11-17\",\"2023-11-20\",\"2023-11-21\",\"2023-11-22\",\"2023-11-24\",\"2023-11-27\",\"2023-11-28\",\"2023-11-29\",\"2023-11-30\",\"2023-12-01\",\"2023-12-04\",\"2023-12-05\",\"2023-12-06\",\"2023-12-07\",\"2023-12-08\",\"2023-12-11\",\"2023-12-12\",\"2023-12-13\",\"2023-12-14\",\"2023-12-15\",\"2023-12-18\",\"2023-12-19\",\"2023-12-20\",\"2023-12-21\",\"2023-12-22\",\"2023-12-26\",\"2023-12-27\",\"2023-12-28\",\"2023-12-29\",\"2024-01-02\",\"2024-01-03\",\"2024-01-04\",\"2024-01-05\",\"2024-01-08\",\"2024-01-09\",\"2024-01-10\",\"2024-01-11\",\"2024-01-12\",\"2024-01-16\",\"2024-01-17\",\"2024-01-18\",\"2024-01-19\",\"2024-01-22\",\"2024-01-23\",\"2024-01-24\",\"2024-01-25\",\"2024-01-26\",\"2024-01-29\",\"2024-01-30\",\"2024-01-31\",\"2024-02-01\",\"2024-02-02\",\"2024-02-05\",\"2024-02-06\",\"2024-02-07\",\"2024-02-08\",\"2024-02-09\",\"2024-02-12\",\"2024-02-13\",\"2024-02-14\",\"2024-02-15\",\"2024-02-16\",\"2024-02-20\",\"2024-02-21\",\"2024-02-22\",\"2024-02-23\",\"2024-02-26\",\"2024-02-27\",\"2024-02-28\",\"2024-02-29\",\"2024-03-01\",\"2024-03-04\",\"2024-03-05\",\"2024-03-06\",\"2024-03-07\",\"2024-03-08\",\"2024-03-11\",\"2024-03-12\",\"2024-03-13\",\"2024-03-14\",\"2024-03-15\",\"2024-03-18\",\"2024-03-19\",\"2024-03-20\"],\"y\":[0.0,-4.398308404558702,-11.203362756796341,-18.052930052631318,-28.08914183651754,-38.98482866193797,-47.803032605934916,-54.548930139483275,-57.566282070388894,-62.29608061093434,-64.34880152394713,-65.31537812691485,-61.41271283827017,-53.343519856992124,-41.618187431527474,-26.37244933002944,-10.569016689005185,1.7645575337913755,14.106393024432954,24.965056589087393,30.873665229017888,31.287240369383472,24.617775781024324,14.503825882783456,4.977816171144818,-9.502588898585502,-30.64827526640212,-53.66292124589434,-74.04585260017053,-90.35706121855966,-98.98474210703914,-98.05602626086379,-88.09189691807009,-71.90159821805926,-50.2426950562762,-25.902312529940126,-3.0978811524896805,22.999421973028788,49.00097989053319,78.7276456560217,109.1265243593924,138.35956708328877,165.0909978263575,191.49337592422447,214.37822987056865,234.4513179056761,250.86622440690147,263.23642646624,272.59602963304343,278.59245982026465,280.89774614691817,280.9215187031933,276.3543951498357,269.12624205771044,258.56525036079915,249.61996225400634,242.57972604162367,238.7361057864908,238.66769525688568,243.745546620885,250.83573406522277,259.6098334438811,270.0844971536731,281.7694063915748,288.8468376340164,295.2497749620153,300.5402985706919,305.78361468931945,310.4776817163662,313.7408763322489,314.0637373300282,307.31192499246345,292.98016977239644,272.60124105113425,249.26148344915265,230.2078698980508,214.77482706522605,203.75501054149836,196.05892112918002,190.59442786442096,186.34546728838825,181.1497958997862,179.14517529627054,184.1296752100958,193.07520300919907,204.77234533351668,218.63134812938088,232.90277118533916,244.62241484255833,256.3669127579278,265.01952326573013,265.2605246022471,262.9221500856121,263.24512901155333,264.1455636837055,264.1155929149792,265.8111860089864,268.34191870574125,273.51150327862024,278.1683182047284,277.1226411536469,275.23187965765146,272.89094452894676,267.22002916961236,256.9184595539749,242.59697324146504,234.3423668327872,228.7185903907662,224.44900524328955,221.34226677620848,217.08234332069452,214.53003762008035,216.82603210001622,220.3269059691557,218.65448190142058,215.2386106362864,214.8924098037496,211.53867043886783,204.92842025731107,200.42302776796518,194.61294276971955,186.9899973235929,174.9086525535804,163.087640142459,152.43064645699678,142.51647730513034],\"yaxis\":\"y3\",\"type\":\"scatter\"},{\"line\":{\"color\":\"rgba(0, 0, 255, 1.0)\",\"dash\":\"solid\",\"shape\":\"linear\",\"width\":1.3},\"mode\":\"lines\",\"name\":\"EMA 5\\u65e5\\u5747\\u7dda\",\"text\":\"\",\"x\":[\"2023-09-20\",\"2023-09-21\",\"2023-09-22\",\"2023-09-25\",\"2023-09-26\",\"2023-09-27\",\"2023-09-28\",\"2023-09-29\",\"2023-10-02\",\"2023-10-03\",\"2023-10-04\",\"2023-10-05\",\"2023-10-06\",\"2023-10-09\",\"2023-10-10\",\"2023-10-11\",\"2023-10-12\",\"2023-10-13\",\"2023-10-16\",\"2023-10-17\",\"2023-10-18\",\"2023-10-19\",\"2023-10-20\",\"2023-10-23\",\"2023-10-24\",\"2023-10-25\",\"2023-10-26\",\"2023-10-27\",\"2023-10-30\",\"2023-10-31\",\"2023-11-01\",\"2023-11-02\",\"2023-11-03\",\"2023-11-06\",\"2023-11-07\",\"2023-11-08\",\"2023-11-09\",\"2023-11-10\",\"2023-11-13\",\"2023-11-14\",\"2023-11-15\",\"2023-11-16\",\"2023-11-17\",\"2023-11-20\",\"2023-11-21\",\"2023-11-22\",\"2023-11-24\",\"2023-11-27\",\"2023-11-28\",\"2023-11-29\",\"2023-11-30\",\"2023-12-01\",\"2023-12-04\",\"2023-12-05\",\"2023-12-06\",\"2023-12-07\",\"2023-12-08\",\"2023-12-11\",\"2023-12-12\",\"2023-12-13\",\"2023-12-14\",\"2023-12-15\",\"2023-12-18\",\"2023-12-19\",\"2023-12-20\",\"2023-12-21\",\"2023-12-22\",\"2023-12-26\",\"2023-12-27\",\"2023-12-28\",\"2023-12-29\",\"2024-01-02\",\"2024-01-03\",\"2024-01-04\",\"2024-01-05\",\"2024-01-08\",\"2024-01-09\",\"2024-01-10\",\"2024-01-11\",\"2024-01-12\",\"2024-01-16\",\"2024-01-17\",\"2024-01-18\",\"2024-01-19\",\"2024-01-22\",\"2024-01-23\",\"2024-01-24\",\"2024-01-25\",\"2024-01-26\",\"2024-01-29\",\"2024-01-30\",\"2024-01-31\",\"2024-02-01\",\"2024-02-02\",\"2024-02-05\",\"2024-02-06\",\"2024-02-07\",\"2024-02-08\",\"2024-02-09\",\"2024-02-12\",\"2024-02-13\",\"2024-02-14\",\"2024-02-15\",\"2024-02-16\",\"2024-02-20\",\"2024-02-21\",\"2024-02-22\",\"2024-02-23\",\"2024-02-26\",\"2024-02-27\",\"2024-02-28\",\"2024-02-29\",\"2024-03-01\",\"2024-03-04\",\"2024-03-05\",\"2024-03-06\",\"2024-03-07\",\"2024-03-08\",\"2024-03-11\",\"2024-03-12\",\"2024-03-13\",\"2024-03-14\",\"2024-03-15\",\"2024-03-18\",\"2024-03-19\",\"2024-03-20\"],\"y\":[\"\",\"\",\"\",\"\",14716.832778742286,14671.275237911525,14681.773335691018,14692.92896858568,14741.142749890456,14682.635205656137,14713.840137104093,14716.966666923563,14802.391189407377,14883.977589813252,14966.49157029217,15058.034419257281,15100.05614929652,15065.077471926848,15100.961804201233,15107.97779134249,15041.73844943666,14955.535593895274,14823.983690201017,14750.938996592346,14749.246114915732,14626.710626089656,14454.330521559772,14363.026988331516,14353.85458076268,14372.496478320954,14469.967704297303,14619.82840442737,14779.715681076581,14904.787016551054,15035.197854784037,15127.878647981026,15147.885895529018,15274.963969415181,15344.239325964289,15500.316126163694,15605.937313275797,15681.681516142198,15733.7844222198,15831.542804917368,15865.568575674079,15910.84226659522,15934.564766271815,15943.703333764544,15965.945451676365,15973.163504242577,15964.73237522422,15975.68160952448,15930.344380307986,15912.799573851158,15871.216317463273,15921.64095643385,15975.990780851735,16057.904010151156,16156.686006767439,16291.913718053293,16373.885838077196,16457.073631634797,16547.98268150653,16635.938324129354,16608.678934836236,16658.256008640827,16697.97080263555,16758.134180923702,16807.689714365803,16837.9500439522,16833.943258468134,16737.27532335376,16614.34696036084,16503.567895448894,16437.705419882597,16508.426660130066,16565.184179670046,16641.139713530032,16701.059939228355,16745.013266777238,16773.57915701816,16761.145870303775,16834.86026770252,16994.573511801682,17106.509294326122,17205.743175384083,17303.595710672722,17374.727218573484,17390.154734257325,17458.859666588218,17464.81009022548,17355.62013827532,17351.983738016883,17448.899314927923,17503.612564118615,17526.65186566241,17602.79134794161,17662.91753925274,17762.748411585162,17802.718993140108,17735.285969385073,17759.40093271505,17788.174189518366,17754.10961592891,17684.77294707761,17616.15201680174,17745.667750784494,17809.648292189664,17850.87555416811,17890.933963195406,17885.455975463607,17938.25385343407,18059.805954372714,18115.36412583181,18042.865797429542,18034.433969119695,18122.28605753813,18087.673777942087,18042.345669669725,18101.26690477982,18090.334837561546,18065.160073999366,17979.523382666244,17981.35217698583,17998.301190907223,18005.463814771483],\"yaxis\":\"y2\",\"type\":\"scatter\"},{\"line\":{\"color\":\"rgba(255, 153, 255, 1.0)\",\"dash\":\"solid\",\"shape\":\"linear\",\"width\":1.3},\"mode\":\"lines\",\"name\":\" EMA(12)\",\"text\":\"\",\"x\":[\"2023-09-20\",\"2023-09-21\",\"2023-09-22\",\"2023-09-25\",\"2023-09-26\",\"2023-09-27\",\"2023-09-28\",\"2023-09-29\",\"2023-10-02\",\"2023-10-03\",\"2023-10-04\",\"2023-10-05\",\"2023-10-06\",\"2023-10-09\",\"2023-10-10\",\"2023-10-11\",\"2023-10-12\",\"2023-10-13\",\"2023-10-16\",\"2023-10-17\",\"2023-10-18\",\"2023-10-19\",\"2023-10-20\",\"2023-10-23\",\"2023-10-24\",\"2023-10-25\",\"2023-10-26\",\"2023-10-27\",\"2023-10-30\",\"2023-10-31\",\"2023-11-01\",\"2023-11-02\",\"2023-11-03\",\"2023-11-06\",\"2023-11-07\",\"2023-11-08\",\"2023-11-09\",\"2023-11-10\",\"2023-11-13\",\"2023-11-14\",\"2023-11-15\",\"2023-11-16\",\"2023-11-17\",\"2023-11-20\",\"2023-11-21\",\"2023-11-22\",\"2023-11-24\",\"2023-11-27\",\"2023-11-28\",\"2023-11-29\",\"2023-11-30\",\"2023-12-01\",\"2023-12-04\",\"2023-12-05\",\"2023-12-06\",\"2023-12-07\",\"2023-12-08\",\"2023-12-11\",\"2023-12-12\",\"2023-12-13\",\"2023-12-14\",\"2023-12-15\",\"2023-12-18\",\"2023-12-19\",\"2023-12-20\",\"2023-12-21\",\"2023-12-22\",\"2023-12-26\",\"2023-12-27\",\"2023-12-28\",\"2023-12-29\",\"2024-01-02\",\"2024-01-03\",\"2024-01-04\",\"2024-01-05\",\"2024-01-08\",\"2024-01-09\",\"2024-01-10\",\"2024-01-11\",\"2024-01-12\",\"2024-01-16\",\"2024-01-17\",\"2024-01-18\",\"2024-01-19\",\"2024-01-22\",\"2024-01-23\",\"2024-01-24\",\"2024-01-25\",\"2024-01-26\",\"2024-01-29\",\"2024-01-30\",\"2024-01-31\",\"2024-02-01\",\"2024-02-02\",\"2024-02-05\",\"2024-02-06\",\"2024-02-07\",\"2024-02-08\",\"2024-02-09\",\"2024-02-12\",\"2024-02-13\",\"2024-02-14\",\"2024-02-15\",\"2024-02-16\",\"2024-02-20\",\"2024-02-21\",\"2024-02-22\",\"2024-02-23\",\"2024-02-26\",\"2024-02-27\",\"2024-02-28\",\"2024-02-29\",\"2024-03-01\",\"2024-03-04\",\"2024-03-05\",\"2024-03-06\",\"2024-03-07\",\"2024-03-08\",\"2024-03-11\",\"2024-03-12\",\"2024-03-13\",\"2024-03-14\",\"2024-03-15\",\"2024-03-18\",\"2024-03-19\",\"2024-03-20\"],\"y\":[\"\",\"\",\"\",\"\",\"\",\"\",\"\",\"\",\"\",\"\",\"\",14744.39997244178,14779.606166585352,14820.766816437605,14868.574926408743,14925.889571143936,14965.614192410254,14970.153565452907,15001.31924288323,15019.887015612732,15002.867438691543,14969.061660863998,14906.26446424069,14859.892948107507,14842.349471715967,14771.471037365434,14669.640156616906,14594.37550511815,14554.55000673459,14532.2777400735,14552.682727177576,14609.123816025258,14684.56480346368,14756.92863177696,14839.865693234351,14912.692545717528,14955.032214164832,15043.353430014473,15110.959062175709,15218.883779773676,15310.929304039264,15391.27401447553,15459.999586767757,15547.239584236178,15606.682743151767,15667.406882426496,15715.807325995498,15753.680117188498,15793.180051082576,15823.090752358334,15842.287577716666,15866.178731625641,15862.100453202467,15864.501915930934,15852.740052662713,15878.855465233835,15910.522382842093,15958.400549904849,16019.300465304103,16102.849492276548,16169.76958240708,16239.56644953676,16314.98711595418,16391.427499557383,16416.46329289471,16468.916656487832,16516.375692508936,16572.081114815253,16623.576448112908,16665.867871960923,16690.49276665924,16667.94610303859,16621.87596939804,16569.588861125263,16529.03372383676,16547.62378795803,16567.789238849102,16602.444860756932,16636.05340381356,16666.340560438395,16691.628310755565,16698.497693235477,16742.15790389156,16830.133610985165,16907.094726122064,16983.57414325713,17062.91670294834,17132.774169321674,17177.118107214494,17241.602941681496,17277.77340257665,17256.152915161012,17269.777226290087,17327.154648206997,17371.136865790537,17402.151266245837,17456.446504131094,17506.711645322463,17576.819108542084,17623.871577420225,17620.26363041327,17649.089357945842,17679.340334127253,17680.36189329998,17659.706157311524,17631.891387917443,17689.24643881476,17727.456121304796,17759.129037738672,17791.73238289426,17804.46586244899,17841.294131206836,17912.311981213476,17960.645594680635,17950.987678672074,17961.23116079945,18013.040249041842,18013.87239822771,18004.305791288833,18037.352496475167,18042.139912882834,18037.935395035474,18002.599180414632,17999.893116600844,18004.863286162254,18007.159559444983],\"yaxis\":\"y2\",\"type\":\"scatter\"},{\"line\":{\"color\":\"rgba(255, 0, 255, 1.0)\",\"dash\":\"solid\",\"shape\":\"linear\",\"width\":1.3},\"mode\":\"lines\",\"name\":\" EMA(26)\",\"text\":\"\",\"x\":[\"2023-09-20\",\"2023-09-21\",\"2023-09-22\",\"2023-09-25\",\"2023-09-26\",\"2023-09-27\",\"2023-09-28\",\"2023-09-29\",\"2023-10-02\",\"2023-10-03\",\"2023-10-04\",\"2023-10-05\",\"2023-10-06\",\"2023-10-09\",\"2023-10-10\",\"2023-10-11\",\"2023-10-12\",\"2023-10-13\",\"2023-10-16\",\"2023-10-17\",\"2023-10-18\",\"2023-10-19\",\"2023-10-20\",\"2023-10-23\",\"2023-10-24\",\"2023-10-25\",\"2023-10-26\",\"2023-10-27\",\"2023-10-30\",\"2023-10-31\",\"2023-11-01\",\"2023-11-02\",\"2023-11-03\",\"2023-11-06\",\"2023-11-07\",\"2023-11-08\",\"2023-11-09\",\"2023-11-10\",\"2023-11-13\",\"2023-11-14\",\"2023-11-15\",\"2023-11-16\",\"2023-11-17\",\"2023-11-20\",\"2023-11-21\",\"2023-11-22\",\"2023-11-24\",\"2023-11-27\",\"2023-11-28\",\"2023-11-29\",\"2023-11-30\",\"2023-12-01\",\"2023-12-04\",\"2023-12-05\",\"2023-12-06\",\"2023-12-07\",\"2023-12-08\",\"2023-12-11\",\"2023-12-12\",\"2023-12-13\",\"2023-12-14\",\"2023-12-15\",\"2023-12-18\",\"2023-12-19\",\"2023-12-20\",\"2023-12-21\",\"2023-12-22\",\"2023-12-26\",\"2023-12-27\",\"2023-12-28\",\"2023-12-29\",\"2024-01-02\",\"2024-01-03\",\"2024-01-04\",\"2024-01-05\",\"2024-01-08\",\"2024-01-09\",\"2024-01-10\",\"2024-01-11\",\"2024-01-12\",\"2024-01-16\",\"2024-01-17\",\"2024-01-18\",\"2024-01-19\",\"2024-01-22\",\"2024-01-23\",\"2024-01-24\",\"2024-01-25\",\"2024-01-26\",\"2024-01-29\",\"2024-01-30\",\"2024-01-31\",\"2024-02-01\",\"2024-02-02\",\"2024-02-05\",\"2024-02-06\",\"2024-02-07\",\"2024-02-08\",\"2024-02-09\",\"2024-02-12\",\"2024-02-13\",\"2024-02-14\",\"2024-02-15\",\"2024-02-16\",\"2024-02-20\",\"2024-02-21\",\"2024-02-22\",\"2024-02-23\",\"2024-02-26\",\"2024-02-27\",\"2024-02-28\",\"2024-02-29\",\"2024-03-01\",\"2024-03-04\",\"2024-03-05\",\"2024-03-06\",\"2024-03-07\",\"2024-03-08\",\"2024-03-11\",\"2024-03-12\",\"2024-03-13\",\"2024-03-14\",\"2024-03-15\",\"2024-03-18\",\"2024-03-19\",\"2024-03-20\"],\"y\":[\"\",\"\",\"\",\"\",\"\",\"\",\"\",\"\",\"\",\"\",\"\",\"\",\"\",\"\",\"\",\"\",\"\",\"\",\"\",\"\",\"\",\"\",\"\",\"\",\"\",14838.895246542941,14784.871177354575,14740.097010282014,14710.127584751865,14687.879635765616,14686.178192838534,14703.46497890142,14732.800183010575,14764.069035194976,14803.472775643495,14841.233328142123,14866.91236980752,14915.96479553937,14957.951850615158,15021.2494710557,15080.207264866389,15135.982276496656,15187.982865969125,15250.136695920486,15300.765097495821,15352.66321238039,15399.281475583695,15440.962882484904,15483.145608782319,15520.512571789184,15552.168686263134,15585.162122697348,15604.014552266062,15624.288286241725,15636.41876908956,15665.016655407,15696.10360165,15735.03892513889,15780.906412165637,15838.792540199665,15890.573098564506,15944.860218578246,16003.003963961339,16062.918456214202,16099.306730290928,16148.055132213822,16194.673299503538,16245.324235651424,16294.322498288355,16339.074217165144,16375.137585338096,16387.641427396386,16386.22282050591,16378.503334959178,16373.131270795535,16393.630372264386,16414.746583115175,16442.769116310345,16470.778840333653,16497.60410563301,16522.278685771307,16538.1305828901,16571.03121100935,16626.06593611977,16678.237411916452,16732.013228626343,16788.849343635502,16842.7857059125,16885.61711774306,16938.25803726209,16978.143437279712,16989.928385212697,17016.208574271015,17062.61760349168,17103.389563418223,17138.155556405763,17183.85294574608,17228.246795829702,17282.629266971948,17327.075999511064,17347.323697463948,17381.420524272173,17415.813130113125,17435.825525567707,17443.9939762201,17446.580359926018,17487.922497616684,17521.232636682114,17551.75837308529,17582.817069986377,17604.42321295035,17636.973316389212,17686.301971193716,17726.31519323492,17739.022893041594,17759.6560352237,17799.53264256824,17815.74868524837,17825.81837175775,17854.951038664585,17870.767310106097,17881.437179496388,17876.015906941102,17884.08952610287,17895.060614447106,17904.29975874732],\"yaxis\":\"y2\",\"type\":\"scatter\"},{\"close\":[14969.919921875,14694.240234375,14701.099609375,14768.900390625,14545.830078125,14580.16015625,14702.76953125,14715.240234375,14837.5703125,14565.6201171875,14776.25,14723.2197265625,14973.240234375,15047.150390625,15131.51953125,15241.1201171875,15184.099609375,14995.1201171875,15172.73046875,15122.009765625,14909.259765625,14783.1298828125,14560.8798828125,14604.849609375,14745.8603515625,14381.6396484375,14109.5703125,14180.419921875,14335.509765625,14409.7802734375,14664.91015625,14919.5498046875,15099.490234375,15154.9296875,15296.01953125,15313.240234375,15187.900390625,15529.1201171875,15482.7900390625,15812.4697265625,15817.1796875,15833.169921875,15837.990234375,16027.0595703125,15933.6201171875,16001.3896484375,15982.009765625,15961.98046875,16010.4296875,15987.599609375,15947.8701171875,15997.580078125,15839.669921875,15877.7099609375,15788.0498046875,16022.490234375,16084.6904296875,16221.73046875,16354.25,16562.369140625,16537.830078125,16623.44921875,16729.80078125,16811.849609375,16554.16015625,16757.41015625,16777.400390625,16878.4609375,16906.80078125,16898.470703125,16825.9296875,16543.939453125,16368.490234375,16282.009765625,16305.98046875,16649.869140625,16678.69921875,16793.05078125,16820.900390625,16832.919921875,16830.7109375,16736.279296875,16982.2890625,17314.0,17330.380859375,17404.2109375,17499.30078125,17516.990234375,17421.009765625,17596.26953125,17476.7109375,17137.240234375,17344.7109375,17642.73046875,17613.0390625,17572.73046875,17755.0703125,17783.169921875,17962.41015625,17882.66015625,17600.419921875,17807.630859375,17845.720703125,17685.98046875,17546.099609375,17478.91015625,18004.69921875,17937.609375,17933.330078125,17971.05078125,17874.5,18043.849609375,18302.91015625,18226.48046875,17897.869140625,18017.5703125,18297.990234375,18018.44921875,17951.689453125,18219.109375,18068.470703125,18014.810546875,17808.25,17985.009765625,18032.19921875,18019.7890625],\"decreasing\":{\"line\":{\"color\":\"#000000\"}},\"high\":[15245.1904296875,14849.25,14855.919921875,14771.1201171875,14678.48046875,14657.2099609375,14787.580078125,14901.849609375,14892.1796875,14819.8701171875,14803.0400390625,14784.6904296875,15021.3798828125,15070.6396484375,15241.9404296875,15248.2197265625,15333.98046875,15232.3701171875,15209.5,15187.0595703125,15103.8701171875,15023.91015625,14781.2197265625,14746.3701171875,14774.16015625,14643.6904296875,14372.509765625,14321.0400390625,14388.2001953125,14420.4404296875,14677.8603515625,14930.759765625,15149.7802734375,15180.1904296875,15335.4404296875,15343.1904296875,15382.1103515625,15535.2001953125,15524.66015625,15850.33984375,15904.6298828125,15842.6298828125,15876.8701171875,16056.759765625,15968.08984375,16119.3095703125,16007.4296875,16045.2998046875,16031.51953125,16166.509765625,16013.48046875,16013.75,15852.4501953125,15931.83984375,15990.9404296875,16042.509765625,16100.8603515625,16232.259765625,16354.25,16581.0390625,16660.7109375,16669.76953125,16764.3203125,16813.009765625,16860.6796875,16768.01953125,16839.25,16907.509765625,16922.009765625,16969.169921875,16919.509765625,16686.599609375,16471.080078125,16419.439453125,16415.390625,16655.23046875,16710.880859375,16827.369140625,16898.16015625,16900.369140625,16895.330078125,16749.109375,16996.98046875,17317.2109375,17450.30078125,17410.859375,17665.259765625,17631.33984375,17514.759765625,17603.94921875,17578.4609375,17375.3203125,17356.759765625,17682.2890625,17655.76953125,17680.619140625,17784.169921875,17814.119140625,17987.900390625,18041.44921875,17717.669921875,17815.1796875,17864.58984375,17864.16015625,17657.080078125,17482.130859375,18034.80078125,18091.619140625,18014.109375,17987.5390625,17931.009765625,18068.51953125,18333.259765625,18313.4296875,18097.5,18142.880859375,18337.94921875,18416.73046875,18003.05078125,18228.369140625,18163.740234375,18142.900390625,17930.470703125,18124.3203125,18039.8203125,18087.099609375],\"increasing\":{\"line\":{\"color\":\"#ff0000\"}},\"low\":[14967.599609375,14691.6904296875,14686.83984375,14615.4501953125,14505.6796875,14432.599609375,14510.169921875,14664.7802734375,14701.51953125,14504.1396484375,14592.5595703125,14584.3896484375,14575.9501953125,14816.3203125,15050.5400390625,15119.6201171875,15090.6904296875,14943.419921875,15047.26953125,14932.76953125,14865.8095703125,14749.2998046875,14552.1201171875,14419.0595703125,14610.330078125,14362.240234375,14058.330078125,14130.3701171875,14225.8603515625,14232.400390625,14441.8896484375,14792.8095703125,14965.2900390625,15064.91015625,15153.3095703125,15220.8798828125,15171.3203125,15237.169921875,15404.7099609375,15726.1201171875,15765.3095703125,15738.2197265625,15766.9404296875,15844.830078125,15866.8203125,15964.0400390625,15940.6201171875,15932.1904296875,15921.0703125,15976.6904296875,15825.669921875,15834.9296875,15695.580078125,15760.58984375,15776.9501953125,15875.48046875,15937.580078125,16061.8701171875,16175.4599609375,16357.2099609375,16419.259765625,16557.009765625,16629.2890625,16733.380859375,16552.060546875,16621.51953125,16703.5703125,16813.5703125,16859.55078125,16891.3203125,16757.890625,16453.150390625,16352.1396484375,16276.4296875,16249.1904296875,16349.3896484375,16513.73046875,16654.740234375,16618.859375,16776.919921875,16726.58984375,16561.490234375,16818.130859375,17041.849609375,17309.869140625,17286.01953125,17481.970703125,17430.369140625,17395.5390625,17414.619140625,17443.76953125,17128.740234375,17175.830078125,17378.369140625,17469.619140625,17475.4296875,17637.73046875,17728.55078125,17798.810546875,17859.66015625,17478.23046875,17619.919921875,17722.310546875,17663.400390625,17399.41015625,17319.439453125,17808.259765625,17902.779296875,17926.66015625,17871.060546875,17840.359375,17866.259765625,18064.439453125,18218.25,17804.5,17941.640625,18101.4296875,17995.380859375,17873.330078125,17919.330078125,18030.400390625,17913.630859375,17764.990234375,17973.08984375,17809.150390625,18005.0],\"name\":\"\\u65e5K\\u7dda\\u5716\",\"open\":[15225.33984375,14813.490234375,14756.6201171875,14662.6904296875,14668.4501953125,14600.1396484375,14530.9599609375,14853.349609375,14717.900390625,14744.0498046875,14613.23046875,14769.5498046875,14622.23046875,14871.5703125,15074.0400390625,15194.5302734375,15264.1103515625,15225.73046875,15054.48046875,15009.259765625,15022.2802734375,14981.1298828125,14752.58984375,14514.1103515625,14678.41015625,14642.080078125,14314.009765625,14245.75,14283.98046875,14340.8603515625,14453.6796875,14856.9501953125,14985.1201171875,15137.16015625,15201.76953125,15313.900390625,15351.1201171875,15252.3603515625,15469.2099609375,15744.3603515625,15881.7197265625,15765.2001953125,15803.98046875,15845.2001953125,15951.5498046875,16025.740234375,15974.849609375,15969.7197265625,15940.2900390625,16111.3603515625,15987.66015625,15892.58984375,15837.1201171875,15763.650390625,15990.2001953125,15888.23046875,15952.849609375,16069.6201171875,16209.6103515625,16392.1796875,16603.5390625,16587.0,16631.109375,16734.25,16763.640625,16719.609375,16799.01953125,16816.779296875,16896.140625,16963.51953125,16902.439453125,16667.30078125,16413.259765625,16290.7802734375,16281.740234375,16354.2197265625,16531.9609375,16702.55078125,16852.189453125,16855.0,16775.099609375,16705.509765625,16894.330078125,17060.140625,17403.619140625,17346.94921875,17562.3203125,17589.26953125,17432.869140625,17438.029296875,17556.490234375,17269.98046875,17216.990234375,17415.939453125,17634.689453125,17664.439453125,17674.58984375,17757.599609375,17820.98046875,17942.279296875,17519.80078125,17728.900390625,17815.3203125,17853.58984375,17591.169921875,17412.7890625,17857.759765625,18052.58984375,17970.2109375,17962.580078125,17895.029296875,17991.669921875,18069.2890625,18290.099609375,18088.7109375,18083.509765625,18161.73046875,18312.7890625,17959.6796875,18063.01953125,18151.759765625,18114.689453125,17926.919921875,18024.240234375,17902.51953125,18067.69921875],\"showlegend\":true,\"x\":[\"2023-09-20\",\"2023-09-21\",\"2023-09-22\",\"2023-09-25\",\"2023-09-26\",\"2023-09-27\",\"2023-09-28\",\"2023-09-29\",\"2023-10-02\",\"2023-10-03\",\"2023-10-04\",\"2023-10-05\",\"2023-10-06\",\"2023-10-09\",\"2023-10-10\",\"2023-10-11\",\"2023-10-12\",\"2023-10-13\",\"2023-10-16\",\"2023-10-17\",\"2023-10-18\",\"2023-10-19\",\"2023-10-20\",\"2023-10-23\",\"2023-10-24\",\"2023-10-25\",\"2023-10-26\",\"2023-10-27\",\"2023-10-30\",\"2023-10-31\",\"2023-11-01\",\"2023-11-02\",\"2023-11-03\",\"2023-11-06\",\"2023-11-07\",\"2023-11-08\",\"2023-11-09\",\"2023-11-10\",\"2023-11-13\",\"2023-11-14\",\"2023-11-15\",\"2023-11-16\",\"2023-11-17\",\"2023-11-20\",\"2023-11-21\",\"2023-11-22\",\"2023-11-24\",\"2023-11-27\",\"2023-11-28\",\"2023-11-29\",\"2023-11-30\",\"2023-12-01\",\"2023-12-04\",\"2023-12-05\",\"2023-12-06\",\"2023-12-07\",\"2023-12-08\",\"2023-12-11\",\"2023-12-12\",\"2023-12-13\",\"2023-12-14\",\"2023-12-15\",\"2023-12-18\",\"2023-12-19\",\"2023-12-20\",\"2023-12-21\",\"2023-12-22\",\"2023-12-26\",\"2023-12-27\",\"2023-12-28\",\"2023-12-29\",\"2024-01-02\",\"2024-01-03\",\"2024-01-04\",\"2024-01-05\",\"2024-01-08\",\"2024-01-09\",\"2024-01-10\",\"2024-01-11\",\"2024-01-12\",\"2024-01-16\",\"2024-01-17\",\"2024-01-18\",\"2024-01-19\",\"2024-01-22\",\"2024-01-23\",\"2024-01-24\",\"2024-01-25\",\"2024-01-26\",\"2024-01-29\",\"2024-01-30\",\"2024-01-31\",\"2024-02-01\",\"2024-02-02\",\"2024-02-05\",\"2024-02-06\",\"2024-02-07\",\"2024-02-08\",\"2024-02-09\",\"2024-02-12\",\"2024-02-13\",\"2024-02-14\",\"2024-02-15\",\"2024-02-16\",\"2024-02-20\",\"2024-02-21\",\"2024-02-22\",\"2024-02-23\",\"2024-02-26\",\"2024-02-27\",\"2024-02-28\",\"2024-02-29\",\"2024-03-01\",\"2024-03-04\",\"2024-03-05\",\"2024-03-06\",\"2024-03-07\",\"2024-03-08\",\"2024-03-11\",\"2024-03-12\",\"2024-03-13\",\"2024-03-14\",\"2024-03-15\",\"2024-03-18\",\"2024-03-19\",\"2024-03-20\"],\"yaxis\":\"y2\",\"type\":\"candlestick\"}],                        {\"legend\":{\"bgcolor\":\"#F5F6F9\",\"font\":{\"color\":\"#4D5663\"},\"orientation\":\"h\",\"x\":0.3,\"y\":0.95,\"yanchor\":\"bottom\"},\"margin\":{\"b\":30,\"l\":30,\"r\":30,\"t\":30},\"paper_bgcolor\":\"#F5F6F9\",\"plot_bgcolor\":\"#F5F6F9\",\"showlegend\":true,\"template\":{\"data\":{\"barpolar\":[{\"marker\":{\"line\":{\"color\":\"#E5ECF6\",\"width\":0.5},\"pattern\":{\"fillmode\":\"overlay\",\"size\":10,\"solidity\":0.2}},\"type\":\"barpolar\"}],\"bar\":[{\"error_x\":{\"color\":\"#2a3f5f\"},\"error_y\":{\"color\":\"#2a3f5f\"},\"marker\":{\"line\":{\"color\":\"#E5ECF6\",\"width\":0.5},\"pattern\":{\"fillmode\":\"overlay\",\"size\":10,\"solidity\":0.2}},\"type\":\"bar\"}],\"carpet\":[{\"aaxis\":{\"endlinecolor\":\"#2a3f5f\",\"gridcolor\":\"white\",\"linecolor\":\"white\",\"minorgridcolor\":\"white\",\"startlinecolor\":\"#2a3f5f\"},\"baxis\":{\"endlinecolor\":\"#2a3f5f\",\"gridcolor\":\"white\",\"linecolor\":\"white\",\"minorgridcolor\":\"white\",\"startlinecolor\":\"#2a3f5f\"},\"type\":\"carpet\"}],\"choropleth\":[{\"colorbar\":{\"outlinewidth\":0,\"ticks\":\"\"},\"type\":\"choropleth\"}],\"contourcarpet\":[{\"colorbar\":{\"outlinewidth\":0,\"ticks\":\"\"},\"type\":\"contourcarpet\"}],\"contour\":[{\"colorbar\":{\"outlinewidth\":0,\"ticks\":\"\"},\"colorscale\":[[0.0,\"#0d0887\"],[0.1111111111111111,\"#46039f\"],[0.2222222222222222,\"#7201a8\"],[0.3333333333333333,\"#9c179e\"],[0.4444444444444444,\"#bd3786\"],[0.5555555555555556,\"#d8576b\"],[0.6666666666666666,\"#ed7953\"],[0.7777777777777778,\"#fb9f3a\"],[0.8888888888888888,\"#fdca26\"],[1.0,\"#f0f921\"]],\"type\":\"contour\"}],\"heatmapgl\":[{\"colorbar\":{\"outlinewidth\":0,\"ticks\":\"\"},\"colorscale\":[[0.0,\"#0d0887\"],[0.1111111111111111,\"#46039f\"],[0.2222222222222222,\"#7201a8\"],[0.3333333333333333,\"#9c179e\"],[0.4444444444444444,\"#bd3786\"],[0.5555555555555556,\"#d8576b\"],[0.6666666666666666,\"#ed7953\"],[0.7777777777777778,\"#fb9f3a\"],[0.8888888888888888,\"#fdca26\"],[1.0,\"#f0f921\"]],\"type\":\"heatmapgl\"}],\"heatmap\":[{\"colorbar\":{\"outlinewidth\":0,\"ticks\":\"\"},\"colorscale\":[[0.0,\"#0d0887\"],[0.1111111111111111,\"#46039f\"],[0.2222222222222222,\"#7201a8\"],[0.3333333333333333,\"#9c179e\"],[0.4444444444444444,\"#bd3786\"],[0.5555555555555556,\"#d8576b\"],[0.6666666666666666,\"#ed7953\"],[0.7777777777777778,\"#fb9f3a\"],[0.8888888888888888,\"#fdca26\"],[1.0,\"#f0f921\"]],\"type\":\"heatmap\"}],\"histogram2dcontour\":[{\"colorbar\":{\"outlinewidth\":0,\"ticks\":\"\"},\"colorscale\":[[0.0,\"#0d0887\"],[0.1111111111111111,\"#46039f\"],[0.2222222222222222,\"#7201a8\"],[0.3333333333333333,\"#9c179e\"],[0.4444444444444444,\"#bd3786\"],[0.5555555555555556,\"#d8576b\"],[0.6666666666666666,\"#ed7953\"],[0.7777777777777778,\"#fb9f3a\"],[0.8888888888888888,\"#fdca26\"],[1.0,\"#f0f921\"]],\"type\":\"histogram2dcontour\"}],\"histogram2d\":[{\"colorbar\":{\"outlinewidth\":0,\"ticks\":\"\"},\"colorscale\":[[0.0,\"#0d0887\"],[0.1111111111111111,\"#46039f\"],[0.2222222222222222,\"#7201a8\"],[0.3333333333333333,\"#9c179e\"],[0.4444444444444444,\"#bd3786\"],[0.5555555555555556,\"#d8576b\"],[0.6666666666666666,\"#ed7953\"],[0.7777777777777778,\"#fb9f3a\"],[0.8888888888888888,\"#fdca26\"],[1.0,\"#f0f921\"]],\"type\":\"histogram2d\"}],\"histogram\":[{\"marker\":{\"pattern\":{\"fillmode\":\"overlay\",\"size\":10,\"solidity\":0.2}},\"type\":\"histogram\"}],\"mesh3d\":[{\"colorbar\":{\"outlinewidth\":0,\"ticks\":\"\"},\"type\":\"mesh3d\"}],\"parcoords\":[{\"line\":{\"colorbar\":{\"outlinewidth\":0,\"ticks\":\"\"}},\"type\":\"parcoords\"}],\"pie\":[{\"automargin\":true,\"type\":\"pie\"}],\"scatter3d\":[{\"line\":{\"colorbar\":{\"outlinewidth\":0,\"ticks\":\"\"}},\"marker\":{\"colorbar\":{\"outlinewidth\":0,\"ticks\":\"\"}},\"type\":\"scatter3d\"}],\"scattercarpet\":[{\"marker\":{\"colorbar\":{\"outlinewidth\":0,\"ticks\":\"\"}},\"type\":\"scattercarpet\"}],\"scattergeo\":[{\"marker\":{\"colorbar\":{\"outlinewidth\":0,\"ticks\":\"\"}},\"type\":\"scattergeo\"}],\"scattergl\":[{\"marker\":{\"colorbar\":{\"outlinewidth\":0,\"ticks\":\"\"}},\"type\":\"scattergl\"}],\"scattermapbox\":[{\"marker\":{\"colorbar\":{\"outlinewidth\":0,\"ticks\":\"\"}},\"type\":\"scattermapbox\"}],\"scatterpolargl\":[{\"marker\":{\"colorbar\":{\"outlinewidth\":0,\"ticks\":\"\"}},\"type\":\"scatterpolargl\"}],\"scatterpolar\":[{\"marker\":{\"colorbar\":{\"outlinewidth\":0,\"ticks\":\"\"}},\"type\":\"scatterpolar\"}],\"scatter\":[{\"fillpattern\":{\"fillmode\":\"overlay\",\"size\":10,\"solidity\":0.2},\"type\":\"scatter\"}],\"scatterternary\":[{\"marker\":{\"colorbar\":{\"outlinewidth\":0,\"ticks\":\"\"}},\"type\":\"scatterternary\"}],\"surface\":[{\"colorbar\":{\"outlinewidth\":0,\"ticks\":\"\"},\"colorscale\":[[0.0,\"#0d0887\"],[0.1111111111111111,\"#46039f\"],[0.2222222222222222,\"#7201a8\"],[0.3333333333333333,\"#9c179e\"],[0.4444444444444444,\"#bd3786\"],[0.5555555555555556,\"#d8576b\"],[0.6666666666666666,\"#ed7953\"],[0.7777777777777778,\"#fb9f3a\"],[0.8888888888888888,\"#fdca26\"],[1.0,\"#f0f921\"]],\"type\":\"surface\"}],\"table\":[{\"cells\":{\"fill\":{\"color\":\"#EBF0F8\"},\"line\":{\"color\":\"white\"}},\"header\":{\"fill\":{\"color\":\"#C8D4E3\"},\"line\":{\"color\":\"white\"}},\"type\":\"table\"}]},\"layout\":{\"annotationdefaults\":{\"arrowcolor\":\"#2a3f5f\",\"arrowhead\":0,\"arrowwidth\":1},\"autotypenumbers\":\"strict\",\"coloraxis\":{\"colorbar\":{\"outlinewidth\":0,\"ticks\":\"\"}},\"colorscale\":{\"diverging\":[[0,\"#8e0152\"],[0.1,\"#c51b7d\"],[0.2,\"#de77ae\"],[0.3,\"#f1b6da\"],[0.4,\"#fde0ef\"],[0.5,\"#f7f7f7\"],[0.6,\"#e6f5d0\"],[0.7,\"#b8e186\"],[0.8,\"#7fbc41\"],[0.9,\"#4d9221\"],[1,\"#276419\"]],\"sequential\":[[0.0,\"#0d0887\"],[0.1111111111111111,\"#46039f\"],[0.2222222222222222,\"#7201a8\"],[0.3333333333333333,\"#9c179e\"],[0.4444444444444444,\"#bd3786\"],[0.5555555555555556,\"#d8576b\"],[0.6666666666666666,\"#ed7953\"],[0.7777777777777778,\"#fb9f3a\"],[0.8888888888888888,\"#fdca26\"],[1.0,\"#f0f921\"]],\"sequentialminus\":[[0.0,\"#0d0887\"],[0.1111111111111111,\"#46039f\"],[0.2222222222222222,\"#7201a8\"],[0.3333333333333333,\"#9c179e\"],[0.4444444444444444,\"#bd3786\"],[0.5555555555555556,\"#d8576b\"],[0.6666666666666666,\"#ed7953\"],[0.7777777777777778,\"#fb9f3a\"],[0.8888888888888888,\"#fdca26\"],[1.0,\"#f0f921\"]]},\"colorway\":[\"#636efa\",\"#EF553B\",\"#00cc96\",\"#ab63fa\",\"#FFA15A\",\"#19d3f3\",\"#FF6692\",\"#B6E880\",\"#FF97FF\",\"#FECB52\"],\"font\":{\"color\":\"#2a3f5f\"},\"geo\":{\"bgcolor\":\"white\",\"lakecolor\":\"white\",\"landcolor\":\"#E5ECF6\",\"showlakes\":true,\"showland\":true,\"subunitcolor\":\"white\"},\"hoverlabel\":{\"align\":\"left\"},\"hovermode\":\"closest\",\"mapbox\":{\"style\":\"light\"},\"paper_bgcolor\":\"white\",\"plot_bgcolor\":\"#E5ECF6\",\"polar\":{\"angularaxis\":{\"gridcolor\":\"white\",\"linecolor\":\"white\",\"ticks\":\"\"},\"bgcolor\":\"#E5ECF6\",\"radialaxis\":{\"gridcolor\":\"white\",\"linecolor\":\"white\",\"ticks\":\"\"}},\"scene\":{\"xaxis\":{\"backgroundcolor\":\"#E5ECF6\",\"gridcolor\":\"white\",\"gridwidth\":2,\"linecolor\":\"white\",\"showbackground\":true,\"ticks\":\"\",\"zerolinecolor\":\"white\"},\"yaxis\":{\"backgroundcolor\":\"#E5ECF6\",\"gridcolor\":\"white\",\"gridwidth\":2,\"linecolor\":\"white\",\"showbackground\":true,\"ticks\":\"\",\"zerolinecolor\":\"white\"},\"zaxis\":{\"backgroundcolor\":\"#E5ECF6\",\"gridcolor\":\"white\",\"gridwidth\":2,\"linecolor\":\"white\",\"showbackground\":true,\"ticks\":\"\",\"zerolinecolor\":\"white\"}},\"shapedefaults\":{\"line\":{\"color\":\"#2a3f5f\"}},\"ternary\":{\"aaxis\":{\"gridcolor\":\"white\",\"linecolor\":\"white\",\"ticks\":\"\"},\"baxis\":{\"gridcolor\":\"white\",\"linecolor\":\"white\",\"ticks\":\"\"},\"bgcolor\":\"#E5ECF6\",\"caxis\":{\"gridcolor\":\"white\",\"linecolor\":\"white\",\"ticks\":\"\"}},\"title\":{\"x\":0.05},\"xaxis\":{\"automargin\":true,\"gridcolor\":\"white\",\"linecolor\":\"white\",\"ticks\":\"\",\"title\":{\"standoff\":15},\"zerolinecolor\":\"white\",\"zerolinewidth\":2},\"yaxis\":{\"automargin\":true,\"gridcolor\":\"white\",\"linecolor\":\"white\",\"ticks\":\"\",\"title\":{\"standoff\":15},\"zerolinecolor\":\"white\",\"zerolinewidth\":2}}},\"title\":{\"font\":{\"color\":\"#4D5663\"},\"text\":\"^NDX\"},\"xaxis\":{\"anchor\":\"y2\",\"gridcolor\":\"#E1E5ED\",\"rangeselector\":{\"bgcolor\":\"rgba(150, 200, 250, 1)\",\"buttons\":[{\"count\":1,\"label\":\"1m\",\"step\":\"month\",\"stepmode\":\"backward\"},{\"count\":1,\"label\":\"1y\",\"step\":\"year\",\"stepmode\":\"backward\"}],\"font\":{\"size\":13},\"visible\":false,\"x\":0,\"y\":0.9},\"rangeslider\":{\"visible\":false},\"showgrid\":true,\"tickfont\":{\"color\":\"#4D5663\"},\"title\":{\"font\":{\"color\":\"#4D5663\"},\"text\":\"\"},\"zerolinecolor\":\"#E1E5ED\"},\"yaxis\":{\"gridcolor\":\"#E1E5ED\",\"showgrid\":true,\"showticklabels\":false,\"tickfont\":{\"color\":\"#4D5663\"},\"title\":{\"font\":{\"color\":\"#4D5663\"},\"text\":\"\"},\"zerolinecolor\":\"#E1E5ED\"},\"yaxis3\":{\"domain\":[0.0,0.15],\"gridcolor\":\"#E1E5ED\",\"showgrid\":true,\"tickfont\":{\"color\":\"#4D5663\"},\"title\":{\"font\":{\"color\":\"#4D5663\"},\"text\":\"\"},\"zerolinecolor\":\"#E1E5ED\"},\"yaxis2\":{\"domain\":[0.23,0.9],\"gridcolor\":\"#E1E5ED\",\"showgrid\":true,\"tickfont\":{\"color\":\"#4D5663\"},\"title\":{\"font\":{\"color\":\"#4D5663\"},\"text\":\"\"},\"zerolinecolor\":\"#E1E5ED\"}},                        {\"showLink\": true, \"linkText\": \"Export to plot.ly\", \"plotlyServerURL\": \"https://plot.ly\", \"responsive\": true}                    ).then(function(){\n",
       "                            \n",
       "var gd = document.getElementById('9ccf677c-c686-426f-a2df-559f029ae575');\n",
       "var x = new MutationObserver(function (mutations, observer) {{\n",
       "        var display = window.getComputedStyle(gd).display;\n",
       "        if (!display || display === 'none') {{\n",
       "            console.log([gd, 'removed!']);\n",
       "            Plotly.purge(gd);\n",
       "            observer.disconnect();\n",
       "        }}\n",
       "}});\n",
       "\n",
       "// Listen for the removal of the full notebook cells\n",
       "var notebookContainer = gd.closest('#notebook-container');\n",
       "if (notebookContainer) {{\n",
       "    x.observe(notebookContainer, {childList: true});\n",
       "}}\n",
       "\n",
       "// Listen for the clearing of the current output cell\n",
       "var outputEl = gd.closest('.output');\n",
       "if (outputEl) {{\n",
       "    x.observe(outputEl, {childList: true});\n",
       "}}\n",
       "\n",
       "                        })                };                });            </script>        </div>"
      ]
     },
     "metadata": {},
     "output_type": "display_data"
    }
   ],
   "source": [
    "qf.add_ema(periods=5, column='Close', color='#0000ff',str='EMA 5日均線')\n",
    "qf.add_ema(periods=12, column='Close', color='#ff99ff')\n",
    "qf.add_ema(periods=26, column='Close', color='#ff00ff')\n",
    "qf.figure(up_color='#ff0000',down_color='#000000').iplot()\n",
    "#短線往上交叉長線買進"
   ]
  }
 ],
 "metadata": {
  "kernelspec": {
   "display_name": "base",
   "language": "python",
   "name": "python3"
  },
  "language_info": {
   "codemirror_mode": {
    "name": "ipython",
    "version": 3
   },
   "file_extension": ".py",
   "mimetype": "text/x-python",
   "name": "python",
   "nbconvert_exporter": "python",
   "pygments_lexer": "ipython3",
   "version": "undefined.undefined.undefined"
  }
 },
 "nbformat": 4,
 "nbformat_minor": 2
}
