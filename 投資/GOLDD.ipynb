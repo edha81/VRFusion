{
 "cells": [
  {
   "cell_type": "code",
   "execution_count": 1,
   "metadata": {},
   "outputs": [
    {
     "name": "stdout",
     "output_type": "stream",
     "text": [
      "Collecting automl\n",
      "  Downloading automl-2.9.9-py2.py3-none-any.whl (71 kB)\n",
      "     -------------------------------------- 71.8/71.8 kB 976.5 kB/s eta 0:00:00\n",
      "Collecting pathos<0.3.0,>=0.2.1\n",
      "  Downloading pathos-0.2.9-py3-none-any.whl (76 kB)\n",
      "     ---------------------------------------- 76.9/76.9 kB 4.4 MB/s eta 0:00:00\n",
      "Requirement already satisfied: python-dateutil<3.0,>=2.6.1 in c:\\users\\81\\anaconda3\\lib\\site-packages (from automl) (2.8.2)\n",
      "Requirement already satisfied: numpy<2.0,>=1.11.0 in c:\\users\\81\\anaconda3\\lib\\site-packages (from automl) (1.23.5)\n",
      "Collecting scikit-learn<1.0,>=0.18.1\n",
      "  Downloading scikit-learn-0.24.2.tar.gz (7.5 MB)\n",
      "     ---------------------------------------- 7.5/7.5 MB 20.0 MB/s eta 0:00:00\n",
      "  Installing build dependencies: started\n",
      "  Installing build dependencies: finished with status 'done'\n",
      "  Getting requirements to build wheel: started\n",
      "  Getting requirements to build wheel: finished with status 'done'\n",
      "  Preparing metadata (pyproject.toml): started\n",
      "  Preparing metadata (pyproject.toml): finished with status 'error'\n"
     ]
    },
    {
     "name": "stderr",
     "output_type": "stream",
     "text": [
      "  error: subprocess-exited-with-error\n",
      "  \n",
      "  × Preparing metadata (pyproject.toml) did not run successfully.\n",
      "  │ exit code: 1\n",
      "  ╰─> [54 lines of output]\n",
      "      <string>:17: DeprecationWarning: pkg_resources is deprecated as an API. See https://setuptools.pypa.io/en/latest/pkg_resources.html\n",
      "      Partial import of sklearn during the build process.\n",
      "      <string>:116: DeprecationWarning:\n",
      "      \n",
      "        `numpy.distutils` is deprecated since NumPy 1.23.0, as a result\n",
      "        of the deprecation of `distutils` itself. It will be removed for\n",
      "        Python >= 3.12. For older Python versions it will remain present.\n",
      "        It is recommended to use `setuptools < 60.0` for those Python versions.\n",
      "        For more details, see:\n",
      "          https://numpy.org/devdocs/reference/distutils_status_migration.html\n",
      "      \n",
      "      \n",
      "      INFO: No module named 'numpy.distutils._msvccompiler' in numpy.distutils; trying from distutils\n",
      "      Traceback (most recent call last):\n",
      "        File \"C:\\Users\\81\\anaconda3\\lib\\site-packages\\pip\\_vendor\\pep517\\in_process\\_in_process.py\", line 351, in <module>\n",
      "          main()\n",
      "        File \"C:\\Users\\81\\anaconda3\\lib\\site-packages\\pip\\_vendor\\pep517\\in_process\\_in_process.py\", line 333, in main\n",
      "          json_out['return_val'] = hook(**hook_input['kwargs'])\n",
      "        File \"C:\\Users\\81\\anaconda3\\lib\\site-packages\\pip\\_vendor\\pep517\\in_process\\_in_process.py\", line 152, in prepare_metadata_for_build_wheel\n",
      "          return hook(metadata_directory, config_settings)\n",
      "        File \"C:\\Users\\81\\AppData\\Local\\Temp\\pip-build-env-0pv4lwk7\\overlay\\Lib\\site-packages\\setuptools\\build_meta.py\", line 366, in prepare_metadata_for_build_wheel\n",
      "          self.run_setup()\n",
      "        File \"C:\\Users\\81\\AppData\\Local\\Temp\\pip-build-env-0pv4lwk7\\overlay\\Lib\\site-packages\\setuptools\\build_meta.py\", line 487, in run_setup\n",
      "          super().run_setup(setup_script=setup_script)\n",
      "        File \"C:\\Users\\81\\AppData\\Local\\Temp\\pip-build-env-0pv4lwk7\\overlay\\Lib\\site-packages\\setuptools\\build_meta.py\", line 311, in run_setup\n",
      "          exec(code, locals())\n",
      "        File \"<string>\", line 301, in <module>\n",
      "        File \"<string>\", line 297, in setup_package\n",
      "        File \"C:\\Users\\81\\AppData\\Local\\Temp\\pip-build-env-0pv4lwk7\\overlay\\Lib\\site-packages\\numpy\\distutils\\core.py\", line 136, in setup\n",
      "          config = configuration()\n",
      "        File \"<string>\", line 188, in configuration\n",
      "        File \"C:\\Users\\81\\AppData\\Local\\Temp\\pip-build-env-0pv4lwk7\\overlay\\Lib\\site-packages\\numpy\\distutils\\misc_util.py\", line 1050, in add_subpackage\n",
      "          config_list = self.get_subpackage(subpackage_name, subpackage_path,\n",
      "        File \"C:\\Users\\81\\AppData\\Local\\Temp\\pip-build-env-0pv4lwk7\\overlay\\Lib\\site-packages\\numpy\\distutils\\misc_util.py\", line 1016, in get_subpackage\n",
      "          config = self._get_configuration_from_setup_py(\n",
      "        File \"C:\\Users\\81\\AppData\\Local\\Temp\\pip-build-env-0pv4lwk7\\overlay\\Lib\\site-packages\\numpy\\distutils\\misc_util.py\", line 958, in _get_configuration_from_setup_py\n",
      "          config = setup_module.configuration(*args)\n",
      "        File \"C:\\Users\\81\\AppData\\Local\\Temp\\pip-install-q3cakfvb\\scikit-learn_33fdb78d564644e2a8bac0f7ea0a334a\\sklearn\\setup.py\", line 83, in configuration\n",
      "          cythonize_extensions(top_path, config)\n",
      "        File \"C:\\Users\\81\\AppData\\Local\\Temp\\pip-install-q3cakfvb\\scikit-learn_33fdb78d564644e2a8bac0f7ea0a334a\\sklearn\\_build_utils\\__init__.py\", line 45, in cythonize_extensions\n",
      "          basic_check_build()\n",
      "        File \"C:\\Users\\81\\AppData\\Local\\Temp\\pip-install-q3cakfvb\\scikit-learn_33fdb78d564644e2a8bac0f7ea0a334a\\sklearn\\_build_utils\\pre_build_helpers.py\", line 106, in basic_check_build\n",
      "          compile_test_program(code)\n",
      "        File \"C:\\Users\\81\\AppData\\Local\\Temp\\pip-install-q3cakfvb\\scikit-learn_33fdb78d564644e2a8bac0f7ea0a334a\\sklearn\\_build_utils\\pre_build_helpers.py\", line 66, in compile_test_program\n",
      "          ccompiler.compile(['test_program.c'], output_dir='objects',\n",
      "        File \"C:\\Users\\81\\AppData\\Local\\Temp\\pip-build-env-0pv4lwk7\\overlay\\Lib\\site-packages\\setuptools\\_distutils\\_msvccompiler.py\", line 343, in compile\n",
      "          self.initialize()\n",
      "        File \"C:\\Users\\81\\AppData\\Local\\Temp\\pip-build-env-0pv4lwk7\\overlay\\Lib\\site-packages\\setuptools\\_distutils\\_msvccompiler.py\", line 253, in initialize\n",
      "          vc_env = _get_vc_env(plat_spec)\n",
      "        File \"C:\\Users\\81\\AppData\\Local\\Temp\\pip-build-env-0pv4lwk7\\overlay\\Lib\\site-packages\\setuptools\\msvc.py\", line 230, in msvc14_get_vc_env\n",
      "          return _msvc14_get_vc_env(plat_spec)\n",
      "        File \"C:\\Users\\81\\AppData\\Local\\Temp\\pip-build-env-0pv4lwk7\\overlay\\Lib\\site-packages\\setuptools\\msvc.py\", line 187, in _msvc14_get_vc_env\n",
      "          raise distutils.errors.DistutilsPlatformError(\"Unable to find vcvarsall.bat\")\n",
      "      distutils.errors.DistutilsPlatformError: Microsoft Visual C++ 14.0 or greater is required. Get it with \"Microsoft C++ Build Tools\": https://visualstudio.microsoft.com/visual-cpp-build-tools/\n",
      "      [end of output]\n",
      "  \n",
      "  note: This error originates from a subprocess, and is likely not a problem with pip.\n",
      "error: metadata-generation-failed\n",
      "\n",
      "× Encountered error while generating package metadata.\n",
      "╰─> See above for output.\n",
      "\n",
      "note: This is an issue with the package mentioned above, not pip.\n",
      "hint: See above for details.\n"
     ]
    }
   ],
   "source": [
    "\n",
    "!pip install automl\n"
   ]
  },
  {
   "cell_type": "code",
   "execution_count": 3,
   "metadata": {},
   "outputs": [
    {
     "ename": "ModuleNotFoundError",
     "evalue": "No module named 'auto_m1'",
     "output_type": "error",
     "traceback": [
      "\u001b[1;31m---------------------------------------------------------------------------\u001b[0m",
      "\u001b[1;31mModuleNotFoundError\u001b[0m                       Traceback (most recent call last)",
      "Cell \u001b[1;32mIn[3], line 1\u001b[0m\n\u001b[1;32m----> 1\u001b[0m \u001b[38;5;28;01mfrom\u001b[39;00m \u001b[38;5;21;01mauto_m1\u001b[39;00m \u001b[38;5;28;01mimport\u001b[39;00m Predictor\n\u001b[0;32m      2\u001b[0m \u001b[38;5;28;01mfrom\u001b[39;00m \u001b[38;5;21;01mauto_m1\u001b[39;00m\u001b[38;5;21;01m.\u001b[39;00m\u001b[38;5;21;01mutils\u001b[39;00m \u001b[38;5;28;01mimport\u001b[39;00m get_boston_dataset\n\u001b[0;32m      4\u001b[0m df_train,df_test \u001b[38;5;241m=\u001b[39m get_boston_dataset()\n",
      "\u001b[1;31mModuleNotFoundError\u001b[0m: No module named 'auto_m1'"
     ]
    }
   ],
   "source": [
    "\n",
    "from auto_m1 import Predictor\n",
    "from auto_m1.utils import get_boston_dataset\n",
    "\n",
    "df_train,df_test = get_boston_dataset()\n",
    "\n",
    "column_descriptions ={\n",
    "    'MEDV' : 'output',\n",
    "    'CHAS' :'categorical'\n",
    "}\n",
    "\n",
    "ml_predictor = Predictor(type_of_estimator='regressor')"
   ]
  }
 ],
 "metadata": {
  "kernelspec": {
   "display_name": "Python 3",
   "language": "python",
   "name": "python3"
  },
  "language_info": {
   "codemirror_mode": {
    "name": "ipython",
    "version": 3
   },
   "file_extension": ".py",
   "mimetype": "text/x-python",
   "name": "python",
   "nbconvert_exporter": "python",
   "pygments_lexer": "ipython3",
   "version": "3.9.13"
  }
 },
 "nbformat": 4,
 "nbformat_minor": 2
}
